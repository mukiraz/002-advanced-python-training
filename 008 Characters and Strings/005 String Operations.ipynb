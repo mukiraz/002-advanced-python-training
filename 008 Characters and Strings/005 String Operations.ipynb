{
 "cells": [
  {
   "cell_type": "markdown",
   "id": "438fb521-d276-44ce-be9c-d3d34bbcd9d5",
   "metadata": {},
   "source": [
    "# String Operations"
   ]
  },
  {
   "cell_type": "markdown",
   "id": "d63f07c8-7ec0-440e-8e50-0da01c15182d",
   "metadata": {},
   "source": [
    "**Comparing Strings**\n",
    "Python allows you to compare strings using the same set of operators that are used to compare numbers.\n",
    "\n",
    "Here are the operators that can be used to compare strings:\n",
    "\n",
    "- `==`\n",
    "- `!=`\n",
    "- `>`\n",
    "- `>=`\n",
    "- `<`\n",
    "- `<=`\n",
    "\n",
    "However, there's an important caveat - the results of these comparisons might sometimes be unexpected. Python compares strings based on their code point values, character by character, and does not consider any linguistic subtleties.\n",
    "\n",
    "The results of such comparisons can sometimes be surprising. Let's start with the simplest cases.\n",
    "\n",
    "Two strings are equal if they consist of the same characters in the same order. Similarly, two strings are not equal if they do not consist of the same characters in the same order.\n",
    "\n",
    "Both of the following comparisons return `True`:"
   ]
  },
  {
   "cell_type": "code",
   "execution_count": 1,
   "id": "41fe907d-13a2-48db-8b8d-ff81d0f0afdc",
   "metadata": {},
   "outputs": [
    {
     "data": {
      "text/plain": [
       "True"
      ]
     },
     "execution_count": 1,
     "metadata": {},
     "output_type": "execute_result"
    }
   ],
   "source": [
    "'alpha' == 'alpha'\n",
    "'alpha' != 'Alpha'"
   ]
  },
  {
   "cell_type": "markdown",
   "id": "31c031d8-8d6c-42be-ad3d-a8646b969749",
   "metadata": {},
   "source": [
    "The final relation between strings is determined by comparing the first differing character in both strings (always keep ASCII/UNICODE code points in mind).\n",
    "\n",
    "When comparing two strings of different lengths where the shorter string is identical to the beginning of the longer string, the longer string is considered greater. For example:"
   ]
  },
  {
   "cell_type": "code",
   "execution_count": 2,
   "id": "4a610e5d-d61d-45a0-9327-8bdadac40265",
   "metadata": {},
   "outputs": [
    {
     "data": {
      "text/plain": [
       "True"
      ]
     },
     "execution_count": 2,
     "metadata": {},
     "output_type": "execute_result"
    }
   ],
   "source": [
    "'alpha' < 'alphabet'"
   ]
  },
  {
   "cell_type": "markdown",
   "id": "eec1241a-d2aa-43a1-a744-5811596eae15",
   "metadata": {},
   "source": [
    "This comparison returns True.\n",
    "\n",
    "String comparison is case-sensitive, meaning uppercase letters are considered less than lowercase letters. The following expression is True:"
   ]
  },
  {
   "cell_type": "code",
   "execution_count": 3,
   "id": "acdf6323-bf8c-48b5-bbae-fe9a4d57337f",
   "metadata": {},
   "outputs": [
    {
     "data": {
      "text/plain": [
       "True"
      ]
     },
     "execution_count": 3,
     "metadata": {},
     "output_type": "execute_result"
    }
   ],
   "source": [
    "'beta' > 'Beta'"
   ]
  },
  {
   "cell_type": "markdown",
   "id": "43955f42-32c9-45c9-872b-402ea02808e9",
   "metadata": {},
   "source": [
    "Even if a string contains only digits, it's still not considered a number. It is interpreted just like any other regular string, and its numerical aspect is not considered.\n",
    "\n",
    "Consider the following examples:"
   ]
  },
  {
   "cell_type": "code",
   "execution_count": 4,
   "id": "420288b6-aabf-4d86-b582-10abcc5258ce",
   "metadata": {},
   "outputs": [
    {
     "data": {
      "text/plain": [
       "True"
      ]
     },
     "execution_count": 4,
     "metadata": {},
     "output_type": "execute_result"
    }
   ],
   "source": [
    "'10' == '010'   # False\n",
    "'10' > '010'    # True\n",
    "'10' > '8'      # False\n",
    "'20' < '8'      # True\n",
    "'20' < '80'     # True"
   ]
  },
  {
   "cell_type": "markdown",
   "id": "7fe130a3-2cbd-45bb-92d0-82519d34398d",
   "metadata": {},
   "source": [
    "Comparing strings against numbers is generally a bad idea.\n",
    "\n",
    "The only comparisons you can perform safely are those using the == and != operators. The == operator always returns False, while the != operator always returns True.\n",
    "\n",
    "Using any of the remaining comparison operators will raise a TypeError exception.\n",
    "\n",
    "Let's check it:"
   ]
  },
  {
   "cell_type": "code",
   "execution_count": 5,
   "id": "b7f7ef41-a653-430b-950e-08b2699d0583",
   "metadata": {},
   "outputs": [
    {
     "ename": "TypeError",
     "evalue": "'>' not supported between instances of 'str' and 'int'",
     "output_type": "error",
     "traceback": [
      "\u001b[1;31m---------------------------------------------------------------------------\u001b[0m",
      "\u001b[1;31mTypeError\u001b[0m                                 Traceback (most recent call last)",
      "Cell \u001b[1;32mIn[5], line 5\u001b[0m\n\u001b[0;32m      3\u001b[0m \u001b[38;5;124m'\u001b[39m\u001b[38;5;124m10\u001b[39m\u001b[38;5;124m'\u001b[39m \u001b[38;5;241m==\u001b[39m \u001b[38;5;241m1\u001b[39m       \u001b[38;5;66;03m# False\u001b[39;00m\n\u001b[0;32m      4\u001b[0m \u001b[38;5;124m'\u001b[39m\u001b[38;5;124m10\u001b[39m\u001b[38;5;124m'\u001b[39m \u001b[38;5;241m!=\u001b[39m \u001b[38;5;241m1\u001b[39m       \u001b[38;5;66;03m# True\u001b[39;00m\n\u001b[1;32m----> 5\u001b[0m \u001b[38;5;124m'\u001b[39m\u001b[38;5;124m10\u001b[39m\u001b[38;5;124m'\u001b[39m \u001b[38;5;241m>\u001b[39m \u001b[38;5;241m10\u001b[39m\n",
      "\u001b[1;31mTypeError\u001b[0m: '>' not supported between instances of 'str' and 'int'"
     ]
    }
   ],
   "source": [
    "'10' == 10      # False\n",
    "'10' != 10      # True\n",
    "'10' == 1       # False\n",
    "'10' != 1       # True\n",
    "'10' > 10       # TypeError exception"
   ]
  },
  {
   "cell_type": "markdown",
   "id": "cd2c7294-2fb7-4131-919c-70606eebc9f9",
   "metadata": {},
   "source": [
    "## Sorting\r\n",
    "Comparing is closely related to sorting (or rather, sorting is in fact a very sophisticated case of comparing).\r\n",
    "\r\n",
    "This is a good opportunity to show you two possible ways **to sort lists containing strin**gs. Such an operation is very common in the real world - any time you see a list of names, goods, titles, or cities, you expect them to be sorted.\r\n",
    "\r\n",
    "Let's assume that you want to sort the following list:"
   ]
  },
  {
   "cell_type": "code",
   "execution_count": 8,
   "id": "761dbfea-d25b-4e92-b9b0-ac61515fbf1d",
   "metadata": {},
   "outputs": [
    {
     "name": "stdout",
     "output_type": "stream",
     "text": [
      "['omega', 'alpha', 'pi', 'gamma']\n",
      "['alpha', 'gamma', 'omega', 'pi']\n"
     ]
    }
   ],
   "source": [
    "# Demonstrating the sorted() function:\n",
    "first_greek = ['omega', 'alpha', 'pi', 'gamma']\n",
    "first_greek_2 = sorted(first_greek)\n",
    "\n",
    "print(first_greek)\n",
    "print(first_greek_2)"
   ]
  },
  {
   "cell_type": "markdown",
   "id": "f83ebcf0-f23d-41b3-b049-deee34e89b2c",
   "metadata": {},
   "source": [
    "In general, Python offers two different ways to sort lists.\n",
    "\n",
    "The first is implemented as a **function named** `sorted()`.\n",
    "\n",
    "The function takes one argument (a list) and returns a new list, filled with the sorted argument's elements. (Note: this description is a bit simplified compared to the actual implementation - we'll discuss it later.)\n",
    "\n",
    "The original list remains untouched.\n",
    "\n",
    "Look at the code in the editor, and run it. The snippet produces the following output:\n",
    "\n",
    "The second method affects the list itself - no new list is created. Ordering is performed in situ by the method named sort().\n",
    "\n",
    "The output hasn't changed:"
   ]
  },
  {
   "cell_type": "code",
   "execution_count": 9,
   "id": "df1a6354-9483-4c52-8edb-c911af338bb7",
   "metadata": {},
   "outputs": [
    {
     "name": "stdout",
     "output_type": "stream",
     "text": [
      "['omega', 'alpha', 'pi', 'gamma']\n",
      "['alpha', 'gamma', 'omega', 'pi']\n"
     ]
    }
   ],
   "source": [
    "# Demonstrating the sort() method:\n",
    "second_greek = ['omega', 'alpha', 'pi', 'gamma']\n",
    "print(second_greek)\n",
    "\n",
    "second_greek.sort()\n",
    "print(second_greek)\n"
   ]
  },
  {
   "cell_type": "markdown",
   "id": "a5ed6b03-cca0-41d7-8b49-a6086e412fe6",
   "metadata": {},
   "source": [
    "If you need an order other than non-descending, you have to convince the function/method to change its default behaviors. We'll discuss it soon."
   ]
  },
  {
   "cell_type": "markdown",
   "id": "624909c3-484a-49fa-b07f-1b3714085c23",
   "metadata": {},
   "source": [
    "## Strings vs. Numbers\n",
    "There are two additional topics to cover: converting a number (an integer or a float) into a string, and converting a string into a number. This may be necessary for processing input/output data.\n",
    "\n",
    "Converting a number to a string is simple and always possible. This is done using the `str()` function.\n",
    "\n",
    "For example:"
   ]
  },
  {
   "cell_type": "code",
   "execution_count": 10,
   "id": "29e0f819-c3ec-4c9e-8786-b84ddb98cd52",
   "metadata": {},
   "outputs": [
    {
     "name": "stdout",
     "output_type": "stream",
     "text": [
      "13 1.3\n"
     ]
    }
   ],
   "source": [
    "itg = 13\n",
    "flt = 1.3\n",
    "si = str(itg)\n",
    "sf = str(flt)\n",
    "\n",
    "print(si + ' ' + sf)"
   ]
  },
  {
   "cell_type": "markdown",
   "id": "7a27ecb4-68d8-4b42-a5ca-56781811e010",
   "metadata": {},
   "source": [
    "Converting a string to a number is possible only if the string represents a valid number. If the condition is not met, a `ValueError` exception will occur.\n",
    "\n",
    "Use the `int()` function to convert a string to an integer, and `float()` to convert a string to a floating-point number.\n",
    "\n",
    "For example:"
   ]
  },
  {
   "cell_type": "code",
   "execution_count": 11,
   "id": "5b1b10ba-c677-4429-bb8c-fc3461ebcc2e",
   "metadata": {},
   "outputs": [
    {
     "name": "stdout",
     "output_type": "stream",
     "text": [
      "14.3\n"
     ]
    }
   ],
   "source": [
    "si = '13'\n",
    "sf = '1.3'\n",
    "itg = int(si)\n",
    "flt = float(sf)\n",
    "\n",
    "print(itg + flt)"
   ]
  },
  {
   "cell_type": "code",
   "execution_count": null,
   "id": "c5856d46-04c6-45d9-849d-8c7b5aa8d9ba",
   "metadata": {},
   "outputs": [],
   "source": []
  }
 ],
 "metadata": {
  "kernelspec": {
   "display_name": "Python 3 (ipykernel)",
   "language": "python",
   "name": "python3"
  },
  "language_info": {
   "codemirror_mode": {
    "name": "ipython",
    "version": 3
   },
   "file_extension": ".py",
   "mimetype": "text/x-python",
   "name": "python",
   "nbconvert_exporter": "python",
   "pygments_lexer": "ipython3",
   "version": "3.11.7"
  }
 },
 "nbformat": 4,
 "nbformat_minor": 5
}
