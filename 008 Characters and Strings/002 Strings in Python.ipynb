{
 "cells": [
  {
   "cell_type": "markdown",
   "id": "add97191-b52b-4691-a674-5645f64fd2e4",
   "metadata": {},
   "source": [
    "# Strings\n",
    "\n",
    "Let's briefly review the nature of Python's strings.\n",
    "\n",
    "Firstly, Python's strings (or simply strings, since we won't be discussing strings from any other languages) are immutable sequences.\n",
    "\n",
    "This is crucial to understand, as it implies that certain familiar behaviors should be expected from them.\n",
    "\n",
    "Let's analyze the code in the editor to illustrate what we're discussing:\n",
    "\n",
    "Take a look at Example 1. The `len()` function, when used on strings, returns the number of characters contained within the argument. The snippet outputs 2.\n",
    "Any string can be empty. Its length would then be 0, as demonstrated in Example 2.\n",
    "Don't forget that a backslash (`\\`) used as an escape character is not counted in the string's total length. Consequently, the code in Example 3 outputs 3.\n",
    "Run the three example codes to verify this."
   ]
  },
  {
   "cell_type": "code",
   "execution_count": 1,
   "id": "50419564-07b6-4298-a6dc-40ea939c9ee2",
   "metadata": {},
   "outputs": [
    {
     "name": "stdout",
     "output_type": "stream",
     "text": [
      "2\n",
      "0\n",
      "3\n"
     ]
    }
   ],
   "source": [
    "# Example 1\n",
    "word = 'by'\n",
    "print(len(word))\n",
    "\n",
    "# Example 2\n",
    "empty = ''\n",
    "print(len(empty))\n",
    "\n",
    "# Example 3\n",
    "i_am = 'I\\'m'\n",
    "print(len(i_am))"
   ]
  },
  {
   "cell_type": "markdown",
   "id": "03996576-b981-4d17-b6e6-58977c2b6911",
   "metadata": {},
   "source": [
    "## Multiline Strings\r\n",
    "\r\n",
    "Now is an excellent time to introduce another way of specifying strings in Python source code. The syntax you are already familiar with does not allow a string to span more than one line.\r\n",
    "\r\n",
    "For instance, the following code is erroneous:\r\n",
    "\r\n",
    "```python\r\n",
    "multiline = 'Line #1\r\n",
    "Line #2'\r\n",
    "\r\n",
    "print(len(multiline))\r\n",
    "```\r\n",
    "\r\n",
    "Fortunately, Python provides a convenient and simple syntax for these types of strings.\r\n",
    "\r\n",
    "Look at the code in the editor. It starts and ends with three apostrophes.\r\n",
    "\r\n",
    "```python\r\n",
    "multiline = '''Line #1\r\n",
    "Line #2'''\r\n",
    "\r\n",
    "print(len(multiline))\r\n",
    "```\r\n",
    "\r\n",
    "As you can see, the string begins with three apostrophes instead of one. The same triple apostrophe is used to terminate it.\r\n",
    "\r\n",
    "You can include any number of text lines within such a string.\r\n",
    "\r\n",
    "The snippet outputs 15.\r\n",
    "\r\n",
    "Count the characters carefully. Is this result correct or not? Initially, it seems okay, but upon counting the characters, it doesn't add up.\r\n",
    "\r\n",
    "Line #1 contains seven characters. Two such lines make up 14 characters. Did we miss a character? Where? How?\r\n",
    "\r\n",
    "No, we didn't.\r\n",
    "\r\n",
    "The missing character is simply invisible - it's a whitespace. It's located between the two text lines.\r\n",
    "\r\n",
    "It's denoted as: `\\n`.\r\n",
    "\r\n",
    "Remember? It's a special (control) character used to force a line feed (hence its name: LF). You can't see it, but it counts.\r\n",
    "\r\n",
    "Multiline strings can also be delimited by triple quotes, like this:\r\n",
    "\r\n",
    "```python\r\n",
    "multiline = \"\"\"Line #1\r\n",
    "Line #2\"\"\"\r\n",
    "\r\n",
    "print(len(multiline))\r\n",
    "```\r\n",
    "\r\n",
    "Choose the method that is more comfortable for you. Both work the same way."
   ]
  },
  {
   "cell_type": "code",
   "execution_count": 3,
   "id": "e7b1387b-fdb9-41fe-9d82-9dff2f06097c",
   "metadata": {},
   "outputs": [
    {
     "name": "stdout",
     "output_type": "stream",
     "text": [
      "15\n"
     ]
    }
   ],
   "source": [
    "multiline = '''Line #1\n",
    "Line #2'''\n",
    "\n",
    "print(len(multiline))\n"
   ]
  },
  {
   "cell_type": "markdown",
   "id": "c56c2119-42ba-4d27-911e-f361f8ecb353",
   "metadata": {},
   "source": [
    "## Operations on Strings\r\n",
    "\r\n",
    "Like other types of data, strings have their own set of permissible operations, though they are somewhat limited compared to numbers.\r\n",
    "\r\n",
    "Generally, strings can be:\r\n",
    "\r\n",
    "- Concatenated (joined)\r\n",
    "- Replicated\r\n",
    "\r\n",
    "The first operation is performed by the `+` operator (note: it's not an addition) and the second by the `*` operator (note again: it's not a multiplication).\r\n",
    "\r\n",
    "The ability to use the same operator for completely different kinds of data (like numbers vs. strings) is called overloading (since the operator is overloaded with different duties).\r\n",
    "\r\n",
    "Consider the example:\r\n",
    "\r\n",
    "- The `+` operator used with two or more strings produces a new string containing all the characters from its arguments (note: the order matters - this overloaded `+` is not commutative, unlike its numerical counterpart).\r\n",
    "- The `*` operator requires a string and a number as arguments; in this case, the order doesn't matter - you can place the number before the string or vice versa, and the result will be the same: a new string created by replicating the argument's strb\r\n",
    "ba\r\n",
    "aaaaa\r\n",
    "bbbb\r\n",
    "```\r\n",
    "\r\n",
    "Note: Shortcut variants of these operators are also applicable to strings (`+=` and `*=`)."
   ]
  },
  {
   "cell_type": "code",
   "execution_count": 4,
   "id": "ecea16f1-4a51-4a5c-90f8-a292e0ff18ea",
   "metadata": {},
   "outputs": [
    {
     "name": "stdout",
     "output_type": "stream",
     "text": [
      "ab\n",
      "ba\n",
      "aaaaa\n",
      "bbbb\n"
     ]
    }
   ],
   "source": [
    "str1 = 'a'\n",
    "str2 = 'b'\n",
    "\n",
    "print(str1 + str2)\n",
    "print(str2 + str1)\n",
    "print(5 * 'a')\n",
    "print('b' * 4)"
   ]
  },
  {
   "cell_type": "markdown",
   "id": "55b0be68-df71-43b8-ab18-10d0a8ea8425",
   "metadata": {},
   "source": [
    "## Operations on Strings: ord()\r\n",
    "\r\n",
    "To find the ASCII/UNICODE code point value of a specific character, you can use the `ord()` function (short for \"ordinal\").\r\n",
    "\r\n",
    "This function requires a single-character string as its argument. If this requirement is not met, it raises a `TypeError` exception. The function returns a number representing the character's code point.\r\n",
    "\r\n",
    "Examine the code in the editor and run it. The snippet produces the following output:\r\n",
    "\r\n",
    "```python\r\n",
    "97\r\n",
    "32\r\n",
    "```\r\n",
    "\r\n",
    "Now, assign different values to `char_1` and `char_2`, such as `α` (Greek alpha) and `ę` (a letter in the Polish alphabet). Then, run the code again and observe the results. Feel free to conduct your own experiments."
   ]
  },
  {
   "cell_type": "code",
   "execution_count": 6,
   "id": "a07f1f8f-dc8b-4dde-a93b-91fe8980fd03",
   "metadata": {},
   "outputs": [
    {
     "name": "stdout",
     "output_type": "stream",
     "text": [
      "97\n",
      "32\n"
     ]
    }
   ],
   "source": [
    "# Demonstrating the ord() function.\n",
    "\n",
    "char_1 = 'a'\n",
    "char_2 = ' '  # space\n",
    "\n",
    "print(ord(char_1))\n",
    "print(ord(char_2))\n"
   ]
  },
  {
   "cell_type": "markdown",
   "id": "107153d9-6cc6-4e48-b5a7-d335288be85a",
   "metadata": {},
   "source": [
    "## Operations on Strings: chr()\n",
    "\n",
    "If you know the code point (number) and want to obtain the corresponding character, you can use the `chr()` function.\n",
    "\n",
    "This function takes a code point as its argument and returns the associated character.\n",
    "\n",
    "Using an invalid argument (such as a negative number or an invalid code point) will result in a `ValueError` or `TypeError` exception.\n",
    "\n",
    "Run the code in the editor. The example snippet produces the following output:\n",
    "\n",
    "```python\n",
    "a\n",
    "α\n",
    "```\n",
    "\n",
    "Note:\n",
    "\n",
    "```python\n",
    "chr(ord(x)) == x\n",
    "ord(chr(x)) == x\n",
    "```\n",
    "\n",
    "Feel free to conduct your own experiments."
   ]
  },
  {
   "cell_type": "code",
   "execution_count": 7,
   "id": "be080eea-45c5-4fcf-a004-9b8d416b4147",
   "metadata": {},
   "outputs": [
    {
     "name": "stdout",
     "output_type": "stream",
     "text": [
      "a\n",
      "α\n"
     ]
    }
   ],
   "source": [
    "# Demonstrating the chr() function.\n",
    "\n",
    "print(chr(97))\n",
    "print(chr(945))"
   ]
  },
  {
   "cell_type": "markdown",
   "id": "d425978a-f757-4412-83ea-fd953e965757",
   "metadata": {},
   "source": [
    "## Strings as Sequences: Indexing\n",
    "\n",
    "Earlier, we mentioned that Python strings are sequences. Now, let's explore what that actually means.\n",
    "\n",
    "Although strings are not lists, you can treat them similarly in many cases.\n",
    "\n",
    "For instance, if you want to access any character in a string, you can do so using indexing, as demonstrated in the example below. Run the program:\n",
    "\n",
    "Be careful not to exceed the string's boundaries, as this will cause an exception."
   ]
  },
  {
   "cell_type": "code",
   "execution_count": 8,
   "id": "f737e786-b6d9-4e41-ab52-9b40f9ea8210",
   "metadata": {},
   "outputs": [
    {
     "name": "stdout",
     "output_type": "stream",
     "text": [
      "s i l l y   w a l k s \n"
     ]
    }
   ],
   "source": [
    "# Indexing strings.\n",
    "\n",
    "the_string = 'silly walks'\n",
    "\n",
    "for ix in range(len(the_string)):\n",
    "    print(the_string[ix], end=' ')\n",
    "\n",
    "print()"
   ]
  },
  {
   "cell_type": "markdown",
   "id": "f01c52d9-fe19-4a06-8f0a-14c0e9ddbd00",
   "metadata": {},
   "source": [
    "By the way, negative indices work as expected too. Try it yourself.\n",
    "\n",
    "Strings as Sequences: Iterating\n",
    "\n",
    "You can also iterate through strings. Look at the example below:"
   ]
  },
  {
   "cell_type": "code",
   "execution_count": 9,
   "id": "e7062c67-e9eb-4d7a-95dd-83a6c652b302",
   "metadata": {},
   "outputs": [
    {
     "name": "stdout",
     "output_type": "stream",
     "text": [
      "s i l l y   w a l k s \n"
     ]
    }
   ],
   "source": [
    "# Iterating through a string.\n",
    "\n",
    "the_string = 'silly walks'\n",
    "\n",
    "for character in the_string:\n",
    "    print(character, end=' ')\n",
    "\n",
    "print()\n"
   ]
  },
  {
   "cell_type": "markdown",
   "id": "e2ae1755-0e59-4648-9e43-207e58d77dcc",
   "metadata": {},
   "source": [
    "## Slices\n",
    "\n",
    "Additionally, everything you know about slices can still be applied.\n",
    "\n",
    "We've provided some examples to demonstrate how slices work with strings. Examine the code in the editor, analyze it, and run it.\n",
    "\n",
    "You may not see anything new in the example, but it's important that you can explain each line of the code."
   ]
  },
  {
   "cell_type": "code",
   "execution_count": 10,
   "id": "35f782b1-3563-4cbd-bfab-b67d6d75e582",
   "metadata": {},
   "outputs": [
    {
     "name": "stdout",
     "output_type": "stream",
     "text": [
      "bd\n",
      "efg\n",
      "abd\n",
      "e\n",
      "e\n",
      "adf\n",
      "beg\n"
     ]
    }
   ],
   "source": [
    "# Slices\n",
    "\n",
    "alpha = \"abdefg\"\n",
    "\n",
    "print(alpha[1:3])\n",
    "print(alpha[3:])\n",
    "print(alpha[:3])\n",
    "print(alpha[3:-2])\n",
    "print(alpha[-3:4])\n",
    "print(alpha[::2])\n",
    "print(alpha[1::2])"
   ]
  },
  {
   "cell_type": "markdown",
   "id": "bda934e9-7d63-4abf-ae77-19183e666abe",
   "metadata": {},
   "source": [
    "## The `in` and `not in` Operators\r\n",
    "\r\n",
    "**The `in` Operator**\r\n",
    "\r\n",
    "The `in` operator is straightforward when used with strings—it simply checks if the left operand (a string) appears anywhere within the right operand (another string).\r\n",
    "\r\n",
    "The result of this check is either `True` or `False`.\r\n",
    "\r\n",
    "Consider the example program below. This demonstrates how the `in` operator fuxample is:\r\n",
    "\r\n",
    "```\r\n",
    "False\r\n",
    "True\r\n",
    "True\r\n",
    "False\r\n",
    "True\r\n",
    "```"
   ]
  },
  {
   "cell_type": "code",
   "execution_count": 11,
   "id": "a005394e-5dc2-4393-acb6-8fb38b0b7027",
   "metadata": {},
   "outputs": [
    {
     "name": "stdout",
     "output_type": "stream",
     "text": [
      "True\n",
      "False\n",
      "False\n",
      "True\n",
      "False\n"
     ]
    }
   ],
   "source": [
    "alphabet = \"abcdefghijklmnopqrstuvwxyz\"\n",
    "\n",
    "print(\"f\" in alphabet)\n",
    "print(\"F\" in alphabet)\n",
    "print(\"1\" in alphabet)\n",
    "print(\"ghi\" in alphabet)\n",
    "print(\"Xyz\" in alphabet)"
   ]
  },
  {
   "cell_type": "markdown",
   "id": "27d8ad72-9279-4177-bcfe-38225d6c5474",
   "metadata": {},
   "source": [
    "**The `not in` Operator**\n",
    "\n",
    "As you might guess, the `not in` operator is also applicable here.\n",
    "\n",
    "Here’s how it works:"
   ]
  },
  {
   "cell_type": "code",
   "execution_count": 13,
   "id": "d23dba7c-cb3b-4b50-90f6-4a2288843a66",
   "metadata": {},
   "outputs": [
    {
     "name": "stdout",
     "output_type": "stream",
     "text": [
      "False\n",
      "True\n",
      "True\n",
      "False\n",
      "True\n"
     ]
    }
   ],
   "source": [
    "alphabet = \"abcdefghijklmnopqrstuvwxyz\"\n",
    "\n",
    "print(\"f\" not in alphabet)\n",
    "print(\"F\" not in alphabet)\n",
    "print(\"1\" not in alphabet)\n",
    "print(\"ghi\" not in alphabet)\n",
    "print(\"Xyz\" not in alphabet)"
   ]
  },
  {
   "cell_type": "markdown",
   "id": "1cb339bf-1086-4618-bcc2-08190b7b649b",
   "metadata": {},
   "source": [
    "## Python Strings are Immutable\r\n",
    "\r\n",
    "As mentioned before, Python's strings are immutable. This is a crucial feature. But what does it mean?\r\n",
    "\r\n",
    "Primarily, it means that the similarity between strings and lists has limitations. Not everything you can do with a list can be done with a string.\r\n",
    "\r\n",
    "The first significant difference is that you cannot use the `del` instruction to remove anything from a string.\r\n",
    "\r\n",
    "For example, this code will n\"\r\n",
    "alphabet.insert(0, \"A\")\r\n",
    "```"
   ]
  },
  {
   "cell_type": "code",
   "execution_count": 14,
   "id": "43ebcd98-acf6-4d8a-8612-82a61c367613",
   "metadata": {},
   "outputs": [
    {
     "ename": "TypeError",
     "evalue": "'str' object doesn't support item deletion",
     "output_type": "error",
     "traceback": [
      "\u001b[1;31m---------------------------------------------------------------------------\u001b[0m",
      "\u001b[1;31mTypeError\u001b[0m                                 Traceback (most recent call last)",
      "Cell \u001b[1;32mIn[14], line 2\u001b[0m\n\u001b[0;32m      1\u001b[0m alphabet \u001b[38;5;241m=\u001b[39m \u001b[38;5;124m\"\u001b[39m\u001b[38;5;124mabcdefghijklmnopqrstuvwxyz\u001b[39m\u001b[38;5;124m\"\u001b[39m\n\u001b[1;32m----> 2\u001b[0m \u001b[38;5;28;01mdel\u001b[39;00m alphabet[\u001b[38;5;241m0\u001b[39m]\n",
      "\u001b[1;31mTypeError\u001b[0m: 'str' object doesn't support item deletion"
     ]
    }
   ],
   "source": [
    "alphabet = \"abcdefghijklmnopqrstuvwxyz\"\n",
    "del alphabet[0]"
   ]
  },
  {
   "cell_type": "markdown",
   "id": "a0b8b619-06eb-49b7-be0a-41731068a476",
   "metadata": {},
   "source": [
    "The only thing you can do with del and a string is to remove the string entirely. Try doing it.\n",
    "\n",
    "Python strings do not have an append() method—you cannot expand them in any way.\n",
    "\n",
    "The following example is incorrect:"
   ]
  },
  {
   "cell_type": "code",
   "execution_count": 15,
   "id": "c7ebf263-2f0f-4e28-97e5-a0aa6fd2e5b7",
   "metadata": {},
   "outputs": [
    {
     "ename": "AttributeError",
     "evalue": "'str' object has no attribute 'append'",
     "output_type": "error",
     "traceback": [
      "\u001b[1;31m---------------------------------------------------------------------------\u001b[0m",
      "\u001b[1;31mAttributeError\u001b[0m                            Traceback (most recent call last)",
      "Cell \u001b[1;32mIn[15], line 2\u001b[0m\n\u001b[0;32m      1\u001b[0m alphabet \u001b[38;5;241m=\u001b[39m \u001b[38;5;124m\"\u001b[39m\u001b[38;5;124mabcdefghijklmnopqrstuvwxyz\u001b[39m\u001b[38;5;124m\"\u001b[39m\n\u001b[1;32m----> 2\u001b[0m alphabet\u001b[38;5;241m.\u001b[39mappend(\u001b[38;5;124m\"\u001b[39m\u001b[38;5;124mA\u001b[39m\u001b[38;5;124m\"\u001b[39m)\n",
      "\u001b[1;31mAttributeError\u001b[0m: 'str' object has no attribute 'append'"
     ]
    }
   ],
   "source": [
    "alphabet = \"abcdefghijklmnopqrstuvwxyz\"\n",
    "alphabet.append(\"A\")"
   ]
  },
  {
   "cell_type": "markdown",
   "id": "b89c9b2c-bba6-4724-9648-e37d1e219140",
   "metadata": {},
   "source": [
    "Similarly, due to the absence of the append() method, the insert() method is also illegal:"
   ]
  },
  {
   "cell_type": "code",
   "execution_count": 16,
   "id": "c812298d-ed60-4416-b23e-5b1b1a911a1e",
   "metadata": {},
   "outputs": [
    {
     "ename": "AttributeError",
     "evalue": "'str' object has no attribute 'insert'",
     "output_type": "error",
     "traceback": [
      "\u001b[1;31m---------------------------------------------------------------------------\u001b[0m",
      "\u001b[1;31mAttributeError\u001b[0m                            Traceback (most recent call last)",
      "Cell \u001b[1;32mIn[16], line 2\u001b[0m\n\u001b[0;32m      1\u001b[0m alphabet \u001b[38;5;241m=\u001b[39m \u001b[38;5;124m\"\u001b[39m\u001b[38;5;124mabcdefghijklmnopqrstuvwxyz\u001b[39m\u001b[38;5;124m\"\u001b[39m\n\u001b[1;32m----> 2\u001b[0m alphabet\u001b[38;5;241m.\u001b[39minsert(\u001b[38;5;241m0\u001b[39m, \u001b[38;5;124m\"\u001b[39m\u001b[38;5;124mA\u001b[39m\u001b[38;5;124m\"\u001b[39m)\n",
      "\u001b[1;31mAttributeError\u001b[0m: 'str' object has no attribute 'insert'"
     ]
    }
   ],
   "source": [
    "alphabet = \"abcdefghijklmnopqrstuvwxyz\"\n",
    "alphabet.insert(0, \"A\")"
   ]
  },
  {
   "cell_type": "markdown",
   "id": "d30a2069-3f2f-431d-8aa7-316c2a93de4d",
   "metadata": {},
   "source": [
    "Don't think that a string's immutability limits your ability to operate with strings.\r\n",
    "\r\n",
    "The only consequence is that you have to remember about it, and implement your code in a slightly different way - look at the example code in the editor.\r\n",
    "\r\n",
    "This form of code is fully acceptable, will work without bending Python's rules, and will bring the full Latin alphabet to your screoutput\r\n",
    "\r\n",
    "You may want to ask if creating a new copy of a string each time you modify its contents worsens the effectiveness of the code.\r\n",
    "\r\n",
    "Yes, it does. A bit. It's not a problem at all, though.orun değil."
   ]
  },
  {
   "cell_type": "code",
   "execution_count": 17,
   "id": "406b69c8-7ac6-4c2f-862a-781e74e6624e",
   "metadata": {},
   "outputs": [
    {
     "name": "stdout",
     "output_type": "stream",
     "text": [
      "abcdefghijklmnopqrstuvwxyz\n"
     ]
    }
   ],
   "source": [
    "alphabet = \"bcdefghijklmnopqrstuvwxy\"\n",
    "\n",
    "alphabet = \"a\" + alphabet\n",
    "alphabet = alphabet + \"z\"\n",
    "\n",
    "print(alphabet)"
   ]
  },
  {
   "cell_type": "markdown",
   "id": "7ba06d9d-510e-4b07-8005-6b32d3ffc7f8",
   "metadata": {},
   "source": [
    "## Operations on Strings: `min()`\r\n",
    "\r\n",
    "Now that you understand that strings are sequences, we can explore some less obvious sequence capabilities. We'll demonstrate these using strings, but remember that lists can use the same techniques as well.\r\n",
    "\r\n",
    "Let's start with a function called `min()`.\r\n",
    "\r\n",
    "The `min()` function finds the smallest element in the sequence passed as an argument. There is one condition—the sequence (whether it’s a string, list, etc.) cannot be empty, or else you'll encounter a `ValueError` exception.\r\n",
    "\r\n",
    "The program in Example 1 s visible on your screen."
   ]
  },
  {
   "cell_type": "code",
   "execution_count": 18,
   "id": "32c8def3-ed45-409a-aea4-61256f853c7e",
   "metadata": {},
   "outputs": [
    {
     "name": "stdout",
     "output_type": "stream",
     "text": [
      "A\n",
      "[ ]\n",
      "0\n"
     ]
    }
   ],
   "source": [
    "# Demonstrating min() - Example 1:\n",
    "print(min(\"aAbByYzZ\"))\n",
    "\n",
    "\n",
    "# Demonstrating min() - Examples 2 & 3:\n",
    "t = 'The Knights Who Say \"Ni!\"'\n",
    "print('[' + min(t) + ']')\n",
    "\n",
    "t = [0, 1, 2]\n",
    "print(min(t))"
   ]
  },
  {
   "cell_type": "markdown",
   "id": "9908fc5e-12e4-428a-9ed7-78c40790a8db",
   "metadata": {},
   "source": [
    "Note: It’s an uppercase 'A'. Why? Recall the ASCII table—which letters come first, uppercase or lowercase?\n",
    "\n",
    "We've prepared two more examples to analyze: Examples 2 and 3.\n",
    "\n",
    "As you can see, they illustrate more than just strings. The expected output is:\n",
    "\n",
    "Note: We've used square brackets to ensure the space is visible on your screen."
   ]
  },
  {
   "cell_type": "markdown",
   "id": "0b6b7c07-bbb5-494b-a58f-d342687cf9b9",
   "metadata": {},
   "source": [
    "# Operations on strings: max()\n",
    "Similarly, a function named max() finds the maximum element of the sequence.\n",
    "\n",
    "Look at Example 1 in the editor. The example program outputs:"
   ]
  },
  {
   "cell_type": "code",
   "execution_count": 19,
   "id": "8bed9c87-6ad9-4f54-9742-2110dad5cb9f",
   "metadata": {},
   "outputs": [
    {
     "name": "stdout",
     "output_type": "stream",
     "text": [
      "z\n",
      "[y]\n",
      "2\n"
     ]
    }
   ],
   "source": [
    "# Demonstrating max() - Example 1:\n",
    "print(max(\"aAbByYzZ\"))\n",
    "\n",
    "\n",
    "# Demonstrating max() - Examples 2 & 3:\n",
    "t = 'The Knights Who Say \"Ni!\"'\n",
    "print('[' + max(t) + ']')\n",
    "\n",
    "t = [0, 1, 2]\n",
    "print(max(t))"
   ]
  },
  {
   "cell_type": "markdown",
   "id": "a37fa35c-f543-4b91-8821-4f7e6ad736a2",
   "metadata": {},
   "source": [
    "Note: It's a lower-case z.\n",
    "\n",
    "Now let's see the max() function applied to the same data as previously. Look at Examples 2 & 3 in the editor."
   ]
  },
  {
   "cell_type": "markdown",
   "id": "fb3ce75b-dfda-4092-876b-89c8f1ca90c1",
   "metadata": {},
   "source": [
    "## Operations on strings: the index() method\r\n",
    "The index() method (it's a method, not a function) searches the sequence from the beginning, in order to find the first element of the value specified in its argument.\r\n",
    "\r\n",
    "Note: the element searched for must occur in the sequence - its absence will cause a ValueError exception.\r\n",
    "\r\n",
    "The method returns the index of the first occurrence of the argument (which means that the lowest possible result is 0, while the highest is the length of argument decremented by 1).\r\n",
    "\r\n",
    "Therefore, the example in the editor outputs:"
   ]
  },
  {
   "cell_type": "code",
   "execution_count": 20,
   "id": "3d957c15-be0b-4508-8618-ec61cf8647cb",
   "metadata": {},
   "outputs": [
    {
     "name": "stdout",
     "output_type": "stream",
     "text": [
      "2\n",
      "7\n",
      "1\n"
     ]
    }
   ],
   "source": [
    "# Demonstrating the index() method:\n",
    "print(\"aAbByYzZaA\".index(\"b\"))\n",
    "print(\"aAbByYzZaA\".index(\"Z\"))\n",
    "print(\"aAbByYzZaA\".index(\"A\"))"
   ]
  },
  {
   "cell_type": "markdown",
   "id": "b6f0d9f8-de6d-4ed0-9fa6-8fd092d41051",
   "metadata": {},
   "source": [
    "## Operations on strings: the list() function\n",
    "The list() function takes its argument (a string) and creates a new list containing all the string's characters, one per list element.\n",
    "\n",
    "Note: it's not strictly a string function - list() is able to create a new list from many other entities (e.g., from tuples and dictionaries).\n",
    "\n",
    "Take a look at the code example in the editor."
   ]
  },
  {
   "cell_type": "code",
   "execution_count": 21,
   "id": "54137127-66fd-493c-9ef4-9ac72c3104f8",
   "metadata": {},
   "outputs": [
    {
     "name": "stdout",
     "output_type": "stream",
     "text": [
      "['a', 'b', 'c', 'a', 'b', 'c']\n"
     ]
    }
   ],
   "source": [
    "# Demonstrating the list() function:\n",
    "print(list(\"abcabc\"))"
   ]
  },
  {
   "cell_type": "markdown",
   "id": "01c602e7-5642-4a66-b72d-071f4f9ae574",
   "metadata": {},
   "source": [
    "## Operations on strings: the count() method\n",
    "The count() method counts all occurrences of the element inside the sequence. The absence of such elements doesn't cause any problems.\n",
    "\n",
    "Look at the second example in the editor. Can you guess its output?"
   ]
  },
  {
   "cell_type": "code",
   "execution_count": 22,
   "id": "6526a98e-d737-45a5-863f-78cf62ce1545",
   "metadata": {},
   "outputs": [
    {
     "name": "stdout",
     "output_type": "stream",
     "text": [
      "2\n",
      "0\n"
     ]
    }
   ],
   "source": [
    "# Demonstrating the count() method:\n",
    "print(\"abcabc\".count(\"b\"))\n",
    "print('abcabc'.count(\"d\"))"
   ]
  },
  {
   "cell_type": "markdown",
   "id": "6bdba534-20c7-4520-8881-ea5a666f7b77",
   "metadata": {},
   "source": [
    "Moreover, Python strings have a significant number of methods intended exclusively for processing characters. Don't expect them to work with any other collections. The complete list of is presented here: https://docs.python.org/3.4/library/stdtypes.html#string-methods.\n",
    "\n",
    "We're going to show you the ones we consider the most useful."
   ]
  },
  {
   "cell_type": "code",
   "execution_count": null,
   "id": "c26587ff-de22-4d04-a029-445afe65ee30",
   "metadata": {},
   "outputs": [],
   "source": []
  }
 ],
 "metadata": {
  "kernelspec": {
   "display_name": "Python 3 (ipykernel)",
   "language": "python",
   "name": "python3"
  },
  "language_info": {
   "codemirror_mode": {
    "name": "ipython",
    "version": 3
   },
   "file_extension": ".py",
   "mimetype": "text/x-python",
   "name": "python",
   "nbconvert_exporter": "python",
   "pygments_lexer": "ipython3",
   "version": "3.11.7"
  }
 },
 "nbformat": 4,
 "nbformat_minor": 5
}
