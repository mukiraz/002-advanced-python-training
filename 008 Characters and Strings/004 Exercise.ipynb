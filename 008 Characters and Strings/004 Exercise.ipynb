{
 "cells": [
  {
   "cell_type": "markdown",
   "id": "5a47c8a0-4f88-4ec0-9876-931c7347fa71",
   "metadata": {},
   "source": [
    "## Estimated time\n",
    "20-25 minutes\n",
    "\n",
    "## Level of difficulty\n",
    "Medium\n",
    "\n",
    "## Objectives\n",
    "improving the student's skills in operating with strings;\n",
    "using built-in Python string methods.\n",
    "\n",
    "## Scenario\n",
    "You already know how split() works. Now we want you to prove it.\n",
    "\n",
    "Your task is to write your own function, which behaves almost exactly like the original split() met- hod, i.e.:\n",
    "\n",
    "- it should accept exactly one argument - a string;\n",
    "- it should return a list of words created from the string, divided in the places where the string contains whitespaces;\n",
    "- if the string is empty, the function should return an empty list;\n",
    "- its name sho- uld be mysplit()\n",
    "- Use the template in the editor. Test your code carefully.\n",
    "\n",
    "Expected output:"
   ]
  },
  {
   "cell_type": "raw",
   "id": "6b527624-bdce-42ac-85f1-1d7ee53cf170",
   "metadata": {},
   "source": [
    "['To', 'be', 'or', 'not', 'to', 'be,', 'that', 'is', 'the', 'question']\n",
    "['To', 'be', 'or', 'not', 'to', 'be,that', 'is', 'the', 'question']\n",
    "[]\n",
    "['abc']\n",
    "[]"
   ]
  },
  {
   "cell_type": "code",
   "execution_count": null,
   "id": "66bcd175-60e3-488b-81fe-6d47824fc073",
   "metadata": {},
   "outputs": [],
   "source": [
    "def mysplit(strng):\n",
    "    #\n",
    "    # put your code here\n",
    "    #\n",
    "\n",
    "\n",
    "print(mysplit(\"To be or not to be, that is the question\"))\n",
    "print(mysplit(\"To be or not to be,that is the question\"))\n",
    "print(mysplit(\"   \"))\n",
    "print(mysplit(\" abc \"))\n",
    "print(mysplit(\"\"))"
   ]
  }
 ],
 "metadata": {
  "kernelspec": {
   "display_name": "Python 3 (ipykernel)",
   "language": "python",
   "name": "python3"
  },
  "language_info": {
   "codemirror_mode": {
    "name": "ipython",
    "version": 3
   },
   "file_extension": ".py",
   "mimetype": "text/x-python",
   "name": "python",
   "nbconvert_exporter": "python",
   "pygments_lexer": "ipython3",
   "version": "3.11.7"
  }
 },
 "nbformat": 4,
 "nbformat_minor": 5
}
