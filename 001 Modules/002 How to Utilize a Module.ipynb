{
 "cells": [
  {
   "cell_type": "markdown",
   "id": "3e1dfb13-e366-47fc-9089-dd100e6a46af",
   "metadata": {},
   "source": [
    "### How to Utilize a Module\r\n",
    "\r\n",
    "#### What is a Module?\r\n",
    "\r\n",
    "According to the Python Tutorial, a module is a file containing Python definitions and statements that can be imported and used as needed.\r\n",
    "\r\n",
    "#### Handling Modules: Two Perspectives\r\n",
    "\r\n",
    "1. **User vs. Supplier Concept**:\r\n",
    "   - **User Perspective**: This is the most common scenario, where you use an existing module written by someone else or created by yourself as part of a larger project. In this case, you are the user of the module.\r\n",
    "   - **Supplier Perspective**: This occurs when you create a new module, either for your own use or to assist other programmers. Here, you are the supplier of the module.\r\n",
    "\r\n",
    "Let's explore these perspectives separately.\r\n",
    "\r\n",
    "#### Using Modules\r\n",
    "\r\n",
    "A module is identified by its name. To use any module, you need to know its name. Python comes with a large number of pre-installed modules, which you can think of as \"extra equipment\" for Python.\r\n",
    "\r\n",
    "These modules, along with built-in functions, make up the Python standard library—a special library where modules function like books, and folders act as shelves. To see the complete list of these \"volumes\" in the library, visit: [Python Standard Library](https://docs.python.org/3/library/index.html).\r\n",
    "\r\n",
    "Each module contains entities (similar to chapters in a book), which can be functions, variables, constants, classes, or objects. Once you know how to access a specific module, you can utilize any of its entities.\r\n",
    "\r\n",
    "#### Accessing the Math Module\r\n",
    "\r\n",
    "Let's start with one of the most frequently used modules, called `math`. As the name suggests, this module includes a comprehensive collection of entities (not just functions) that allow a programmer to efficiently perform calculations requiring mathematical functions like `sin()` or `log()`."
   ]
  }
 ],
 "metadata": {
  "kernelspec": {
   "display_name": "Python 3 (ipykernel)",
   "language": "python",
   "name": "python3"
  },
  "language_info": {
   "codemirror_mode": {
    "name": "ipython",
    "version": 3
   },
   "file_extension": ".py",
   "mimetype": "text/x-python",
   "name": "python",
   "nbconvert_exporter": "python",
   "pygments_lexer": "ipython3",
   "version": "3.11.7"
  }
 },
 "nbformat": 4,
 "nbformat_minor": 5
}
