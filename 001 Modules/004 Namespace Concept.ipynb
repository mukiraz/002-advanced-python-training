{
 "cells": [
  {
   "cell_type": "markdown",
   "id": "be56b16f-fcf2-439c-88dc-44512abfb77c",
   "metadata": {},
   "source": [
    "## Namespace Concept"
   ]
  },
  {
   "cell_type": "markdown",
   "id": "a50559ac-9371-45e0-a4f5-569e1f41a7c2",
   "metadata": {},
   "source": [
    "#### Understanding Namespace\n",
    "\n",
    "To proceed, it's essential to understand the concept of a namespace. Don’t worry; this will be a brief explanation.\n",
    "\n",
    "A namespace is a context in which names are defined and kept distinct from each other. This ensures that there are no conflicts between names, meaning that two different objects cannot have the same name within the same namespace. Think of a namespace like a social group where each member has a unique name (e.g., parents do not give their children the same first name).\n",
    "\n",
    "#### The Concept of Namespace\n",
    "\n",
    "Uniqueness within a namespace can be achieved in various ways, such as using nicknames along with first names in a small group or assigning special identifiers to each member (like the US Social Security Number).\n",
    "\n",
    "Within a specific namespace, each name must be unique. If a new entity with an existing name enters the namespace, it can cause conflicts or overwrite the existing name. We'll explain how this works and how to manage it, but first, let's go back to importing modules.\n",
    "\n",
    "#### How Import Works\n",
    "\n",
    "When you import a module, Python checks if a module with that name exists and is accessible. If it does, Python imports the module's content, making all the names defined in the module known to your program. However, these names do not enter your program’s namespace directly.\n",
    "\n",
    "This means you can have your own variables named `sin` or `pi`, and they will not conflict with the imported module’s names.\n",
    "\n",
    "#### Accessing `pi` from the `math` Module\n",
    "\n",
    "To access the `pi` value from the `math` module, you need to prefix `pi` with the module name. This way, the namespace ensures that you are specifically referring to the `pi` defined in the `math` module.\n",
    "\n",
    "For example:\n",
    "\n",
    "```python\n",
    "import math\n",
    "print(math.pi)\n",
    "```\n",
    "\n",
    "This tells Python to use the `pi` from the `math` module, keeping it distinct from any other `pi` you might define in your code."
   ]
  }
 ],
 "metadata": {
  "kernelspec": {
   "display_name": "Python 3 (ipykernel)",
   "language": "python",
   "name": "python3"
  },
  "language_info": {
   "codemirror_mode": {
    "name": "ipython",
    "version": 3
   },
   "file_extension": ".py",
   "mimetype": "text/x-python",
   "name": "python",
   "nbconvert_exporter": "python",
   "pygments_lexer": "ipython3",
   "version": "3.11.7"
  }
 },
 "nbformat": 4,
 "nbformat_minor": 5
}
