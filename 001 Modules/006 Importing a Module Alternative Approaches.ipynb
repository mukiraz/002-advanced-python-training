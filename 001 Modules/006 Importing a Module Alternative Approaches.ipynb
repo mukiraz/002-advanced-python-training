{
 "cells": [
  {
   "cell_type": "markdown",
   "id": "44f19549-1ecd-4362-a975-e6d821edefa1",
   "metadata": {},
   "source": [
    "### Importing a module: Alternative Approaches\n",
    "\n",
    "In the third method, the syntax of the import statement takes a more aggressive stance compared to the previously presented ones:\n",
    "\n",
    "```python\n",
    "from module import *\n",
    "```\n",
    "\n",
    "Notice that the individual entity names are replaced with a single asterisk (*).\n",
    "\n",
    "This instruction imports all entities from the specified module.\n",
    "\n",
    "Is it convenient? Yes, indeed. It relieves you from the burden of listing all the names you require.\n",
    "\n",
    "Is it unsafe? Yes, it can be. Without knowing all the names provided by the module, you might encounter name conflicts. Consider this as a temporary workaround, and try to avoid using it in regular code."
   ]
  }
 ],
 "metadata": {
  "kernelspec": {
   "display_name": "Python 3 (ipykernel)",
   "language": "python",
   "name": "python3"
  },
  "language_info": {
   "codemirror_mode": {
    "name": "ipython",
    "version": 3
   },
   "file_extension": ".py",
   "mimetype": "text/x-python",
   "name": "python",
   "nbconvert_exporter": "python",
   "pygments_lexer": "ipython3",
   "version": "3.11.7"
  }
 },
 "nbformat": 4,
 "nbformat_minor": 5
}
