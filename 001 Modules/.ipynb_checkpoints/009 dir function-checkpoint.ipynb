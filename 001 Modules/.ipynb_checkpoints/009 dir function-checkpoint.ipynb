{
 "cells": [
  {
   "cell_type": "markdown",
   "id": "b7659210-2771-40ac-8211-68d1ec8b55fb",
   "metadata": {},
   "source": [
    "### dir Function\n",
    "\n",
    "Before we start exploring some standard Python modules, we want to introduce the `dir()` function to you. It is not related to the `dir` command you might know from Windows and Unix consoles, as `dir()` doesn't display the contents of a disk directory/folder. However, it does something quite similar - it reveals all the names provided by a particular module.\n",
    "\n",
    "There is one condition: the module must have been previously imported as a whole (i.e., using the `import module` instruction - `from module` is not enough).\n",
    "\n",
    "The function returns an alphabetically sorted list containing all entity names available in the module identified by a name passed to the function as an argument:\n",
    "\n",
    "```python\n",
    "dir(module)\n",
    "```\n",
    "\n",
    "Note: if the module's name has been aliased, you must use the alias, not the original name.\n",
    "\n",
    "Using the function inside a regular script doesn't make much sense, but it is still possible.\n",
    "\n",
    "For example, you can run the following code to print the names of all entities within the `math` module:"
   ]
  },
  {
   "cell_type": "code",
   "execution_count": 1,
   "id": "a29867da-cd67-4f1a-a776-9bfa0473d050",
   "metadata": {},
   "outputs": [
    {
     "name": "stdout",
     "output_type": "stream",
     "text": [
      "__doc__\t__loader__\t__name__\t__package__\t__spec__\tacos\tacosh\tasin\tasinh\tatan\tatan2\tatanh\tcbrt\tceil\tcomb\tcopysign\tcos\tcosh\tdegrees\tdist\te\terf\terfc\texp\texp2\texpm1\tfabs\tfactorial\tfloor\tfmod\tfrexp\tfsum\tgamma\tgcd\thypot\tinf\tisclose\tisfinite\tisinf\tisnan\tisqrt\tlcm\tldexp\tlgamma\tlog\tlog10\tlog1p\tlog2\tmodf\tnan\tnextafter\tperm\tpi\tpow\tprod\tradians\tremainder\tsin\tsinh\tsqrt\ttan\ttanh\ttau\ttrunc\tulp\t"
     ]
    }
   ],
   "source": [
    "import math\n",
    "\n",
    "for name in dir(math):\n",
    "    print(name, end=\"\\t\")\n"
   ]
  },
  {
   "cell_type": "markdown",
   "id": "a3071cdb-5f4f-419c-9288-cb12c20c9971",
   "metadata": {},
   "source": [
    "Have you noticed these strange names beginning with `__` at the top of the list? We'll tell you more about them when we discuss the issues related to writing your own modules.\n",
    "\n",
    "Some of the names might bring back memories from math lessons, and you probably won't have any problems guessing their meanings.\n",
    "\n",
    "Using the `dir()` function inside a code may not seem very useful - usually, you want to know a particular module's contents before you write and run the code.\n",
    "\n",
    "Fortunately, you can execute the function directly in Jupyter, without needing to write and run a separate script.\n",
    "\n",
    "This is how it can be done:"
   ]
  },
  {
   "cell_type": "code",
   "execution_count": 3,
   "id": "957fbf12-b832-4a26-82e8-c064e23092b4",
   "metadata": {},
   "outputs": [
    {
     "data": {
      "text/plain": [
       "['__doc__',\n",
       " '__loader__',\n",
       " '__name__',\n",
       " '__package__',\n",
       " '__spec__',\n",
       " 'acos',\n",
       " 'acosh',\n",
       " 'asin',\n",
       " 'asinh',\n",
       " 'atan',\n",
       " 'atan2',\n",
       " 'atanh',\n",
       " 'cbrt',\n",
       " 'ceil',\n",
       " 'comb',\n",
       " 'copysign',\n",
       " 'cos',\n",
       " 'cosh',\n",
       " 'degrees',\n",
       " 'dist',\n",
       " 'e',\n",
       " 'erf',\n",
       " 'erfc',\n",
       " 'exp',\n",
       " 'exp2',\n",
       " 'expm1',\n",
       " 'fabs',\n",
       " 'factorial',\n",
       " 'floor',\n",
       " 'fmod',\n",
       " 'frexp',\n",
       " 'fsum',\n",
       " 'gamma',\n",
       " 'gcd',\n",
       " 'hypot',\n",
       " 'inf',\n",
       " 'isclose',\n",
       " 'isfinite',\n",
       " 'isinf',\n",
       " 'isnan',\n",
       " 'isqrt',\n",
       " 'lcm',\n",
       " 'ldexp',\n",
       " 'lgamma',\n",
       " 'log',\n",
       " 'log10',\n",
       " 'log1p',\n",
       " 'log2',\n",
       " 'modf',\n",
       " 'nan',\n",
       " 'nextafter',\n",
       " 'perm',\n",
       " 'pi',\n",
       " 'pow',\n",
       " 'prod',\n",
       " 'radians',\n",
       " 'remainder',\n",
       " 'sin',\n",
       " 'sinh',\n",
       " 'sqrt',\n",
       " 'tan',\n",
       " 'tanh',\n",
       " 'tau',\n",
       " 'trunc',\n",
       " 'ulp']"
      ]
     },
     "execution_count": 3,
     "metadata": {},
     "output_type": "execute_result"
    }
   ],
   "source": [
    "dir(math)"
   ]
  },
  {
   "cell_type": "code",
   "execution_count": null,
   "id": "6e885756-bc12-430e-b6e7-0fe50eef90ed",
   "metadata": {},
   "outputs": [],
   "source": []
  }
 ],
 "metadata": {
  "kernelspec": {
   "display_name": "Python 3 (ipykernel)",
   "language": "python",
   "name": "python3"
  },
  "language_info": {
   "codemirror_mode": {
    "name": "ipython",
    "version": 3
   },
   "file_extension": ".py",
   "mimetype": "text/x-python",
   "name": "python",
   "nbconvert_exporter": "python",
   "pygments_lexer": "ipython3",
   "version": "3.11.7"
  }
 },
 "nbformat": 4,
 "nbformat_minor": 5
}
