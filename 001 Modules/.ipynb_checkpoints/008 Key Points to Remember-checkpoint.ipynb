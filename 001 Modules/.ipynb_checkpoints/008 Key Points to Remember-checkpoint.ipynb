{
 "cells": [
  {
   "cell_type": "markdown",
   "id": "2e9692df-7b5f-4f3a-a449-16f51c180971",
   "metadata": {},
   "source": [
    "### Importing a Module: Further Explanation\n",
    "\n",
    "If you find the need to change the name \"math,\" you have the flexibility to introduce your own name, just like in the following example:\n",
    "\n",
    "```python\n",
    "import math as m\n",
    "\n",
    "print(m.sin(m.pi/2))\n",
    "```\n",
    "\n",
    "Note: Once an aliased import is successfully executed, the original module name becomes inaccessible and should not be used.\n",
    "\n",
    "On the other hand, when utilizing the `from module import name` variant and there's a necessity to alter the name of the entity, you can create an alias for that entity. This will replace the original name with the alias of your choice.\n",
    "\n",
    "Here's how it's done:\n",
    "\n",
    "```python\n",
    "from module import name as alias\n",
    "```\n",
    "\n",
    "Similar to before, the original (unaliased) name becomes inaccessible.\n",
    "\n",
    "The syntax `name as alias` can be repeated - use commas to separate the multiple phrases, as demonstrated below:\n",
    "\n",
    "```python\n",
    "from module import n as a, m as b, o as c\n",
    "```\n",
    "\n",
    "While the example might appear a bit unusual, it functions properly:\n",
    "\n",
    "```python\n",
    "from math import pi as PI, sin as sine\n",
    "\n",
    "print(sine(PI/2))\n",
    "```\n",
    "\n",
    "Now that you're acquainted with the fundamentals of utilizing modules, allow us to showcase some modules and their useful entities."
   ]
  },
  {
   "cell_type": "code",
   "execution_count": 8,
   "id": "96b8e25b-48cc-44b2-847f-e27eff5b1bde",
   "metadata": {},
   "outputs": [
    {
     "name": "stdout",
     "output_type": "stream",
     "text": [
      "1.0\n"
     ]
    }
   ],
   "source": [
    "from math import pi as PI, sin as sine\n",
    "\n",
    "print(sine(PI/2))"
   ]
  },
  {
   "cell_type": "markdown",
   "id": "4eab6008-e57d-4854-acd0-0e99b4bcd324",
   "metadata": {},
   "source": [
    "### Key Points to Remember\n",
    "\n",
    "1. To import an entire module, you can use the statement `import module_name`. You can import multiple modules at once by separating them with commas. For instance:\n",
    "\n",
    "```python\n",
    "import mod1\n",
    "import mod2, mod3, mod4\n",
    "```\n",
    "\n",
    "Although the latter form is not recommended for stylistic reasons, it's preferable to express the same intention more explicitly, like this:\n",
    "\n",
    "```python\n",
    "import mod2\n",
    "import mod3\n",
    "import mod4\n",
    "```\n",
    "\n",
    "2. When a module is imported using the above method, you need to prefix its entities with dot notation to access them. For instance:\n",
    "\n",
    "```python\n",
    "import my_module\n",
    "\n",
    "result = my_module.my_function(my_module.my_data)\n",
    "```\n",
    "\n",
    "Here, we use two entities from the `my_module` module: a function named `my_function()` and a variable named `my_data`. Both must be prefixed with `my_module`. This avoids conflicts with names in your code's namespace.\n",
    "\n",
    "3. You can import individual entities from a module without prefixing them when used. For example:\n",
    "\n",
    "```python\n",
    "from module import my_function, my_data\n",
    "\n",
    "result = my_function(my_data)\n",
    "```\n",
    "\n",
    "Despite its appeal, this method is not recommended due to the risk of naming conflicts with your code's namespace.\n",
    "\n",
    "4. The most general form of importing allows you to import all entities from a module:\n",
    "\n",
    "```python\n",
    "from my_module import *\n",
    "\n",
    "result = my_function(my_data)\n",
    "```\n",
    "\n",
    "Note: This form of import is discouraged for the same reasons as before (the risk of naming conflicts is even higher here).\n",
    "\n",
    "5. You can rename imported entities on the fly using the `as` keyword. For example:\n",
    "\n",
    "```python\n",
    "from module import my_function as fun, my_data as dat\n",
    "\n",
    "result = fun(dat)\n",
    "```"
   ]
  },
  {
   "cell_type": "code",
   "execution_count": null,
   "id": "41f0429d-54e0-43c7-8ffa-f645858a2ffe",
   "metadata": {},
   "outputs": [],
   "source": []
  }
 ],
 "metadata": {
  "kernelspec": {
   "display_name": "Python 3 (ipykernel)",
   "language": "python",
   "name": "python3"
  },
  "language_info": {
   "codemirror_mode": {
    "name": "ipython",
    "version": 3
   },
   "file_extension": ".py",
   "mimetype": "text/x-python",
   "name": "python",
   "nbconvert_exporter": "python",
   "pygments_lexer": "ipython3",
   "version": "3.11.7"
  }
 },
 "nbformat": 4,
 "nbformat_minor": 5
}
