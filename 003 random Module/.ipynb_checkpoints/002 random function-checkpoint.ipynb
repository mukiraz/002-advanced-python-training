{
 "cells": [
  {
   "cell_type": "markdown",
   "id": "359b6bb2-dfb4-49da-8be1-201b41fb52f3",
   "metadata": {},
   "source": [
    "### Functions from the Random Module\n",
    "\n",
    "**The random function**\n",
    "\n",
    "The primary function `random()` in the random module generates a floating-point number `x` within the range (0.0, 1.0). In other words, `x` satisfies the condition: 0.0 <= x < 1.0.\n",
    "\n",
    "Below is an example program that produces five pseudorandom values. These values are determined by the current seed value, which is somewhat unpredictable:"
   ]
  },
  {
   "cell_type": "code",
   "execution_count": 1,
   "id": "3bb09774-9ede-4921-9c3a-3e082df45630",
   "metadata": {},
   "outputs": [
    {
     "name": "stdout",
     "output_type": "stream",
     "text": [
      "0.47555594513937294\n",
      "0.6887541162609319\n",
      "0.22090039273671702\n",
      "0.48556308114133684\n",
      "0.5525066236929962\n"
     ]
    }
   ],
   "source": [
    "from random import random\n",
    "\n",
    "for i in range(5):\n",
    "    print(random())"
   ]
  },
  {
   "cell_type": "markdown",
   "id": "d650ec9f-4cc7-4555-ad25-c0ca0101527b",
   "metadata": {},
   "source": [
    "Let's run the code again. The output will always be different:"
   ]
  },
  {
   "cell_type": "code",
   "execution_count": 3,
   "id": "4a8898c3-d3e5-4837-a0bc-829d49f44fbc",
   "metadata": {},
   "outputs": [
    {
     "name": "stdout",
     "output_type": "stream",
     "text": [
      "0.4049341374504143\n",
      "0.7837985890347726\n",
      "0.30331272607892745\n",
      "0.4765969541523558\n",
      "0.5833820394550312\n"
     ]
    }
   ],
   "source": [
    "from random import random\n",
    "\n",
    "for i in range(5):\n",
    "    print(random())"
   ]
  },
  {
   "cell_type": "markdown",
   "id": "4b0ca0ca-d766-4537-bb5c-fbc18731000f",
   "metadata": {},
   "source": [
    "### The seed function\n",
    "\n",
    "The `seed()` function allows direct manipulation of the random number generator's seed. Here are two variants of its usage:\n",
    "\n",
    "- `seed()` - sets the seed based on the current system time.\n",
    "- `seed(int_value)` - sets the seed to the integer value `int_value`.\n",
    "\n",
    "We've modified the previous program to demonstrate deterministic behavior by setting the seed to a specific value (in this case, 0):"
   ]
  },
  {
   "cell_type": "code",
   "execution_count": 1,
   "id": "3ec93208-b8cc-4000-8bb7-b6320c340c28",
   "metadata": {},
   "outputs": [
    {
     "name": "stdout",
     "output_type": "stream",
     "text": [
      "0.8444218515250481\n",
      "0.7579544029403025\n",
      "0.420571580830845\n",
      "0.25891675029296335\n",
      "0.5112747213686085\n"
     ]
    }
   ],
   "source": [
    "from random import random, seed\n",
    "\n",
    "seed(0)\n",
    "\n",
    "for i in range(5):\n",
    "    print(random())\n"
   ]
  },
  {
   "cell_type": "markdown",
   "id": "28b6dec9-a146-4500-86c6-215d686e1588",
   "metadata": {},
   "source": [
    "Due to the consistent seed value (0 in this case), running the program repeatedly will produce the same sequence of pseudorandom values:"
   ]
  },
  {
   "cell_type": "code",
   "execution_count": 2,
   "id": "5867ffdb-f7eb-42dd-bbbc-f8c73602b1b1",
   "metadata": {},
   "outputs": [
    {
     "name": "stdout",
     "output_type": "stream",
     "text": [
      "0.8444218515250481\n",
      "0.7579544029403025\n",
      "0.420571580830845\n",
      "0.25891675029296335\n",
      "0.5112747213686085\n"
     ]
    }
   ],
   "source": [
    "from random import random, seed\n",
    "\n",
    "seed(0)\n",
    "\n",
    "for i in range(5):\n",
    "    print(random())"
   ]
  },
  {
   "cell_type": "markdown",
   "id": "a2aa1028-e410-41c5-b95b-0eda036941b3",
   "metadata": {},
   "source": [
    "Your results may vary slightly depending on the precision of floating-point arithmetic used by your system, but any differences should be minimal and located far from the decimal point."
   ]
  }
 ],
 "metadata": {
  "kernelspec": {
   "display_name": "Python 3 (ipykernel)",
   "language": "python",
   "name": "python3"
  },
  "language_info": {
   "codemirror_mode": {
    "name": "ipython",
    "version": 3
   },
   "file_extension": ".py",
   "mimetype": "text/x-python",
   "name": "python",
   "nbconvert_exporter": "python",
   "pygments_lexer": "ipython3",
   "version": "3.11.7"
  }
 },
 "nbformat": 4,
 "nbformat_minor": 5
}
