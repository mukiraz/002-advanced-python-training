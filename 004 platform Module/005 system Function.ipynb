{
 "cells": [
  {
   "cell_type": "markdown",
   "id": "06a59eb6-fc6c-4af2-bedb-0e981dbfed60",
   "metadata": {},
   "source": [
    "### The system Function\r\n",
    "\r\n",
    "The `system()` function provides the generic name of the operating system as a string.\r\n",
    "\r\n",
    "In our test cases on various platforms, the results were as follows:\r\n",
    "\r\n",
    "**Intel x86 + Windows ® Vista (32 bit):**\r\n",
    "```\r\n",
    "Windows\r\n",
    "```\r\n",
    "\r\n",
    "**Intel x86 + Gentoo Linux (64 bit):**\r\n",
    "```\r\n",
    "Linux\r\n",
    "```\r\n",
    "\r\n",
    "**Raspberry PI2 + Raspbian Linux (32 bit):**\r\n",
    "```\r\n",
    "Linux\r\n",
    "```\r\n",
    "\r\n",
    "Each platform's identity was accurately represented by the `system()` function's output."
   ]
  },
  {
   "cell_type": "code",
   "execution_count": 1,
   "id": "744104e0-b7e1-45db-8c95-92f6bdcfbbf3",
   "metadata": {},
   "outputs": [
    {
     "name": "stdout",
     "output_type": "stream",
     "text": [
      "Windows\n"
     ]
    }
   ],
   "source": [
    "from platform import system\n",
    "\n",
    "print(system())"
   ]
  }
 ],
 "metadata": {
  "kernelspec": {
   "display_name": "Python 3 (ipykernel)",
   "language": "python",
   "name": "python3"
  },
  "language_info": {
   "codemirror_mode": {
    "name": "ipython",
    "version": 3
   },
   "file_extension": ".py",
   "mimetype": "text/x-python",
   "name": "python",
   "nbconvert_exporter": "python",
   "pygments_lexer": "ipython3",
   "version": "3.11.7"
  }
 },
 "nbformat": 4,
 "nbformat_minor": 5
}
