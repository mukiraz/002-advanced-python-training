{
 "cells": [
  {
   "cell_type": "markdown",
   "id": "f921e7be-21b2-4ab8-81d7-ab9e41976b5e",
   "metadata": {},
   "source": [
    "### The processor Function\n",
    "\n",
    "The `processor()` function provides a string containing the actual processor name, if retrievable.\n",
    "\n",
    "Once again, we executed the sample program on three distinct platforms:\n",
    "\n",
    "**Intel x86 + Windows ® Vista (32 bit):**\n",
    "```\n",
    "x86\n",
    "```\n",
    "\n",
    "**Intel x86 + Gentoo Linux (64 bit):**\n",
    "```\n",
    "Intel(R) Core(TM) i3-2330M CPU @ 2.20GHz\n",
    "```\n",
    "\n",
    "**Raspberry PI2 + Raspbian Linux (32 bit):**\n",
    "```\n",
    "armv7l\n",
    "```\n",
    "\n",
    "Test this on your local machine."
   ]
  },
  {
   "cell_type": "code",
   "execution_count": 1,
   "id": "b59605e5-8925-470c-8aff-64eb8e31ab3d",
   "metadata": {},
   "outputs": [
    {
     "name": "stdout",
     "output_type": "stream",
     "text": [
      "Intel64 Family 6 Model 142 Stepping 12, GenuineIntel\n"
     ]
    }
   ],
   "source": [
    "from platform import processor\n",
    "\n",
    "print(processor())"
   ]
  }
 ],
 "metadata": {
  "kernelspec": {
   "display_name": "Python 3 (ipykernel)",
   "language": "python",
   "name": "python3"
  },
  "language_info": {
   "codemirror_mode": {
    "name": "ipython",
    "version": 3
   },
   "file_extension": ".py",
   "mimetype": "text/x-python",
   "name": "python",
   "nbconvert_exporter": "python",
   "pygments_lexer": "ipython3",
   "version": "3.11.7"
  }
 },
 "nbformat": 4,
 "nbformat_minor": 5
}
