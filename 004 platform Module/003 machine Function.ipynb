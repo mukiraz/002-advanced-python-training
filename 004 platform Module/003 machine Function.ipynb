{
 "cells": [
  {
   "cell_type": "markdown",
   "id": "f79f07e8-64b9-4793-82f7-935d0c74e6ed",
   "metadata": {},
   "source": [
    "### The machine Function\r\n",
    "\r\n",
    "At times, you might simply need to identify the generic name of the processor that runs your operating system alongside Python and your code. The function named `machine()` provides exactly that information. Similar to other functions mentioned earlier, `machine()` also returns a string.\r\n",
    "\r\n",
    "Once again, we executed the sample program on three distinct platforms:\r\n",
    "\r\n",
    "**Intel x86 + Windows ® Vista (32 bit):**\r\n",
    "```\r\n",
    "x86\r\n",
    "```\r\n",
    "\r\n",
    "**Intel x86 + Gentoo Linux (64 bit):**\r\n",
    "```\r\n",
    "x86_64\r\n",
    "```\r\n",
    "\r\n",
    "**Raspberry PI2 + Raspbian Linux (32 bit):**\r\n",
    "```\r\n",
    "armv7l\r\n",
    "```\r\n",
    "\r\n",
    "These outputs demonstrate the processor architecture types for each platform, revealing how `machine()` function effectively provides processor information across different environments."
   ]
  },
  {
   "cell_type": "code",
   "execution_count": 3,
   "id": "fb8a6f10-3cfb-422e-9933-35b9fbdd2a35",
   "metadata": {},
   "outputs": [
    {
     "name": "stdout",
     "output_type": "stream",
     "text": [
      "AMD64\n"
     ]
    }
   ],
   "source": [
    "from platform import machine\n",
    "\n",
    "print(machine())"
   ]
  },
  {
   "cell_type": "code",
   "execution_count": null,
   "id": "17b86870-1f85-4bf2-bb7c-2fb89f6f9e09",
   "metadata": {},
   "outputs": [],
   "source": []
  }
 ],
 "metadata": {
  "kernelspec": {
   "display_name": "Python 3 (ipykernel)",
   "language": "python",
   "name": "python3"
  },
  "language_info": {
   "codemirror_mode": {
    "name": "ipython",
    "version": 3
   },
   "file_extension": ".py",
   "mimetype": "text/x-python",
   "name": "python",
   "nbconvert_exporter": "python",
   "pygments_lexer": "ipython3",
   "version": "3.11.7"
  }
 },
 "nbformat": 4,
 "nbformat_minor": 5
}
