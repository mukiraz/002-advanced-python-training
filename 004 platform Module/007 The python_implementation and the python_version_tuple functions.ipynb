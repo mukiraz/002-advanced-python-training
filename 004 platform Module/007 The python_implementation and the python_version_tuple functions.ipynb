{
 "cells": [
  {
   "cell_type": "markdown",
   "id": "8f39e063-2388-4cb6-bc87-e9598ae2d174",
   "metadata": {},
   "source": [
    "### The python_implementation and the python_version_tuple functions\n",
    "\n",
    "To determine the version of Python running your code, you can utilize specific functions designed for this purpose. Two such functions are highlighted below:\n",
    "\n",
    "python_implementation(): This function returns a string indicating the Python implementation being used (typically CPython, unless an alternative Python variant is specified).\n",
    "\n",
    "python_version_tuple(): This function returns a tuple containing three elements:\n",
    "\n",
    "The major version number of Python.\n",
    "The minor version number.\n",
    "The patch level number.\n",
    "When executed, our sample program generated the following output:"
   ]
  },
  {
   "cell_type": "code",
   "execution_count": 3,
   "id": "2a795291-2010-4b3a-a944-f6292e789f8a",
   "metadata": {},
   "outputs": [
    {
     "name": "stdout",
     "output_type": "stream",
     "text": [
      "CPython\n",
      "3\n",
      "11\n",
      "7\n"
     ]
    }
   ],
   "source": [
    "from platform import python_implementation, python_version_tuple\n",
    "\n",
    "print(python_implementation())\n",
    "\n",
    "for atr in python_version_tuple():\n",
    "    print(atr)"
   ]
  }
 ],
 "metadata": {
  "kernelspec": {
   "display_name": "Python 3 (ipykernel)",
   "language": "python",
   "name": "python3"
  },
  "language_info": {
   "codemirror_mode": {
    "name": "ipython",
    "version": 3
   },
   "file_extension": ".py",
   "mimetype": "text/x-python",
   "name": "python",
   "nbconvert_exporter": "python",
   "pygments_lexer": "ipython3",
   "version": "3.11.7"
  }
 },
 "nbformat": 4,
 "nbformat_minor": 5
}
