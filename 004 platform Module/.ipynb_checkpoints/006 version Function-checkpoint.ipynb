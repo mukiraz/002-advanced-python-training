{
 "cells": [
  {
   "cell_type": "markdown",
   "id": "6456d1b4-e3a0-4db5-b5a3-243f0ea8d103",
   "metadata": {},
   "source": [
    "### version Fonksiyonu\r\n",
    "\r\n",
    "`version()` fonksiyonu, işletim sistemi sürümünü bir dize olarak sağlar.\r\n",
    "\r\n",
    "Kodu çalıştırın ve çıktısını kontrol edin. İşte elde ettiğimiz sonuçlar:\r\n",
    "\r\n",
    "Intel x86 + Windows ® Vista (32 bit):\r\n",
    "\r\n",
    "```\r\n",
    "6.0.6002\r\n",
    "```\r\n",
    "\r\n",
    "Intel x86 + Gentoo Linux (64 bit):\r\n",
    "\r\n",
    "```\r\n",
    "#1 SMP PREEMPT Fri Jul 21 22:44:37 CEST 2017\r\n",
    "```\r\n",
    "\r\n",
    "Raspberry PI2 + Raspbian Linux (32 bit):\r\n",
    "\r\n",
    "```\r\n",
    "#1 SMP Debian 4.4.6-1+rpi14 (2016-05-05)\r\n",
    "```\r\n",
    "\r\n",
    "Bu platformlarda `version()` fonksiyonunun çıktıları gösterilmiştir.kilde temsil edilmiştir."
   ]
  },
  {
   "cell_type": "code",
   "execution_count": 1,
   "id": "96083da5-0327-4e84-ba6f-aa7fe4e11152",
   "metadata": {},
   "outputs": [
    {
     "name": "stdout",
     "output_type": "stream",
     "text": [
      "10.0.22631\n"
     ]
    }
   ],
   "source": [
    "from platform import version\n",
    "\n",
    "print(version())"
   ]
  }
 ],
 "metadata": {
  "kernelspec": {
   "display_name": "Python 3 (ipykernel)",
   "language": "python",
   "name": "python3"
  },
  "language_info": {
   "codemirror_mode": {
    "name": "ipython",
    "version": 3
   },
   "file_extension": ".py",
   "mimetype": "text/x-python",
   "name": "python",
   "nbconvert_exporter": "python",
   "pygments_lexer": "ipython3",
   "version": "3.11.7"
  }
 },
 "nbformat": 4,
 "nbformat_minor": 5
}
