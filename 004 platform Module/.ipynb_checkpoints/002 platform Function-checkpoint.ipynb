{
 "cells": [
  {
   "cell_type": "markdown",
   "id": "c0d6c59c-b4b3-4157-9794-d5b87311ac35",
   "metadata": {},
   "source": [
    "## The platform Function\n",
    "\n",
    "The platform module provides access to essential data about the underlying platform, including hardware details, operating system specifics, and interpreter version information.\n",
    "\n",
    "Additionally, there exists a function named platform within the module itself. This function offers a comprehensive view of all underlying layers in a single string. Its output is primarily intended for human readability rather than automated processing (details will follow shortly).\n",
    "\n",
    "To invoke this function, use the following syntax:\n",
    "\n",
    "```python\n",
    "platform(aliased=False, terse=False)\n",
    "```\n",
    "\n",
    "Here's what each parameter controls:\n",
    "\n",
    "- **aliased**: When set to True (or any non-zero value), this parameter may display alternative names for the underlying layers instead of the standard ones.\n",
    "  \n",
    "- **terse**: When set to True (or any non-zero value), this parameter instructs the function to provide a more concise form of the result, if possible.\n",
    "\n",
    "We executed our sample program on three different platforms, yielding the following outputs:\n",
    "\n",
    "**Intel x86 + Windows® Vista (32 bit):**\n",
    "```\n",
    "Windows-Vista-6.0.6002-SP2\n",
    "Windows-Vista-6.0.6002-SP2\n",
    "Windows-Vista\n",
    "```\n",
    "\n",
    "**Intel x86 + Gentoo Linux (64 bit):**\n",
    "```\n",
    "Linux-3.18.62-g6-x86_64-Intel-R-_Core-TM-_i3-2330M_CPU_@_2.20GHz-with-gentoo-2.3\n",
    "Linux-3.18.62-g6-x86_64-Intel-R-_Core-TM-_i3-2330M_CPU_@_2.20GHz-with-gentoo-2.3\n",
    "Linux-3.18.62-g6-x86_64-Intel-R-_Core-TM-_i3-2330M_CPU_@_2.20GHz-with-glibc2.3.4\n",
    "```\n",
    "\n",
    "**Raspberry PI2 + Raspbian Linux (32 bit):**\n",
    "```\n",
    "Linux-4.4.0-1-rpi2-armv7l-with-debian-9.0\n",
    "Linux-4.4.0-1-rpi2-armv7l-with-debian-9.0\n",
    "Linux-4.4.0-1-rpi2-armv7l-with-glibc2.9\n",
    "```\n",
    "\n",
    "You can replicate this sample program within IDLE on your local machine to observe the output specific to your environment."
   ]
  },
  {
   "cell_type": "code",
   "execution_count": 1,
   "id": "91ad85d8-ead6-4254-b7cd-0bb5dc58302a",
   "metadata": {},
   "outputs": [
    {
     "name": "stdout",
     "output_type": "stream",
     "text": [
      "Windows-10-10.0.22631-SP0\n",
      "Windows-10-10.0.22631-SP0\n",
      "Windows-10\n"
     ]
    }
   ],
   "source": [
    "from platform import platform\n",
    "\n",
    "print(platform())\n",
    "print(platform(1))\n",
    "print(platform(0, 1))"
   ]
  },
  {
   "cell_type": "code",
   "execution_count": null,
   "id": "5a910101-bfcd-4f64-b5bb-7a93f06f1949",
   "metadata": {},
   "outputs": [],
   "source": []
  }
 ],
 "metadata": {
  "kernelspec": {
   "display_name": "Python 3 (ipykernel)",
   "language": "python",
   "name": "python3"
  },
  "language_info": {
   "codemirror_mode": {
    "name": "ipython",
    "version": 3
   },
   "file_extension": ".py",
   "mimetype": "text/x-python",
   "name": "python",
   "nbconvert_exporter": "python",
   "pygments_lexer": "ipython3",
   "version": "3.11.7"
  }
 },
 "nbformat": 4,
 "nbformat_minor": 5
}
