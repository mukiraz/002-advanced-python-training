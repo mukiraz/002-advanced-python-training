{
 "cells": [
  {
   "cell_type": "markdown",
   "metadata": {},
   "source": [
    "### Exercise 1\n",
    "\n",
    "What is the output of the following snippet?"
   ]
  },
  {
   "cell_type": "code",
   "execution_count": null,
   "metadata": {},
   "outputs": [],
   "source": [
    "from datetime import time\n",
    "\n",
    "t = time(14, 53)\n",
    "print(t.strftime(\"%H:%M:%S\"))"
   ]
  },
  {
   "cell_type": "markdown",
   "metadata": {},
   "source": [
    "\n",
    "### Exercise 2\n",
    "\n",
    "What is the output of the following snippet?"
   ]
  },
  {
   "cell_type": "code",
   "execution_count": null,
   "metadata": {},
   "outputs": [],
   "source": [
    "\n",
    "from datetime import datetime\n",
    "\n",
    "dt1 = datetime(2020, 9, 29, 14, 41, 0)\n",
    "dt2 = datetime(2020, 9, 28, 14, 41, 0)\n",
    "\n",
    "print(dt1 - dt2)"
   ]
  },
  {
   "cell_type": "markdown",
   "metadata": {},
   "source": [
    "### LAB1\n",
    "\n",
    "#### Estimated Time\n",
    "15-45 minutes\n",
    "\n",
    "#### Level of Difficulty\n",
    "Easy\n",
    "\n",
    "#### Objectives\n",
    "- Improving skills in date and time formatting.\n",
    "- Improving skills in using the `strftime` method.\n",
    "\n",
    "#### Scenario\n",
    "During this course, you learned about the `strftime` method, which requires knowledge of directives to create a format. It's time to put the known directives into practice. Additionally, you'll have the opportunity to practice working with documentation to find directives that you don't yet know.\n",
    "\n",
    "#### Task\n",
    "Write a program that creates a `datetime` object for November 4, 2020, at 14:53:00. The object should call the `strftime` method with the appropriate format to display the following result:\n",
    "\n",
    "```\n",
    "2020/11/04 14:53:00\n",
    "20/November/04 14:53:00 PM\n",
    "Wed, 2020 Nov 04\n",
    "Wednesday, 2020 November 04\n",
    "Weekday: 3\n",
    "Day of the year: 309\n",
    "Week number of the year: 44\n",
    "```\n",
    "\n",
    "**Note**: Each result line should be created by calling the `strftime` method with at least one directive in the format argument."
   ]
  }
 ],
 "metadata": {
  "language_info": {
   "name": "python"
  }
 },
 "nbformat": 4,
 "nbformat_minor": 2
}
