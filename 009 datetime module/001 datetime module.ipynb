{
 "cells": [
  {
   "cell_type": "markdown",
   "metadata": {},
   "source": [
    "### Introduction to the datetime Module\n",
    "\n",
    "In this section, you'll explore a Python module called `datetime`.\n",
    "\n",
    "As the name suggests, this module provides classes for handling dates and times. If you think this topic might not be relevant to you, consider these examples of how dates and times are used in programming:\n",
    "\n",
    "- **Event Logging:** Knowing the date and time allows us to pinpoint exactly when a critical error occurs in our application. When creating logs, you can specify the format for date and time.\n",
    "- **Tracking Changes in Databases:** Sometimes it's essential to store information about when a record was created or modified. The `datetime` module is ideal for this purpose.\n",
    "- **Data Validation:** You'll soon learn how to read the current date and time in Python. With this knowledge, you can validate various types of data, such as checking if a discount coupon entered by a user is still valid.\n",
    "- **Storing Important Information:** Imagine bank transfers without recording the date and time they were made. Certain actions require timestamps, and we need to handle this properly.\n",
    "\n",
    "Date and time are integral to many aspects of our lives, so understanding the Python `datetime` module is crucial. Are you ready to dive into this new knowledge?"
   ]
  },
  {
   "cell_type": "markdown",
   "metadata": {},
   "source": [
    "### Getting the Current Local Date and Creating Date Objects\n",
    "\n",
    "The `datetime` module in Python includes a class called `date`, which represents a specific date composed of the year, month, and day. Below, you'll see how to get the current local date using the `today` method and how to create custom date objects.\n",
    "\n",
    "#### Example: Getting the Current Local Date\n",
    "\n",
    "Here's how you can obtain and display the current local date:"
   ]
  },
  {
   "cell_type": "code",
   "execution_count": 1,
   "metadata": {},
   "outputs": [
    {
     "name": "stdout",
     "output_type": "stream",
     "text": [
      "Today: 2024-07-12\n",
      "Year: 2024\n",
      "Month: 7\n",
      "Day: 12\n"
     ]
    }
   ],
   "source": [
    "from datetime import date\n",
    "\n",
    "today = date.today()\n",
    "\n",
    "print(\"Today:\", today)\n",
    "print(\"Year:\", today.year)\n",
    "print(\"Month:\", today.month)\n",
    "print(\"Day:\", today.day)"
   ]
  },
  {
   "cell_type": "markdown",
   "metadata": {},
   "source": [
    "Running this code will show the current local date. The `today` method returns a `date` object that contains three attributes: `year`, `month`, and `day`. Note that these attributes are read-only.\n",
    "\n",
    "#### Example: Creating a Custom Date Object\n",
    "\n",
    "To create a custom date object, you need to specify the year, month, and day as follows:"
   ]
  },
  {
   "cell_type": "code",
   "execution_count": 2,
   "metadata": {},
   "outputs": [
    {
     "name": "stdout",
     "output_type": "stream",
     "text": [
      "2019-11-04\n"
     ]
    }
   ],
   "source": [
    "from datetime import date\n",
    "\n",
    "my_date = date(2019, 11, 4)\n",
    "print(my_date)"
   ]
  },
  {
   "cell_type": "markdown",
   "metadata": {},
   "source": [
    "Running this code will display the date `2019-11-04`.\n",
    "\n",
    "#### Restrictions for Creating Date Objects\n",
    "\n",
    "When creating a date object, ensure the following conditions are met:\n",
    "\n",
    "- **Year:** Must be between 1 (`MINYEAR` constant) and 9999 (`MAXYEAR` constant).\n",
    "- **Month:** Must be between 1 and 12.\n",
    "- **Day:** Must be between 1 and the last day of the specified month and year.\n",
    "\n",
    "Later in this course, you'll learn how to change the default date format to suit your needs."
   ]
  },
  {
   "cell_type": "markdown",
   "metadata": {},
   "source": [
    "### Creating a Date Object from a Timestamp\n",
    "\n",
    "The `date` class in Python allows us to create a date object from a timestamp.\n",
    "\n",
    "In Unix systems, a timestamp represents the number of seconds since January 1, 1970, 00:00:00 (UTC), known as the Unix epoch. This timestamp is essentially the difference in seconds between a specific date (including time) and the Unix epoch.\n",
    "\n",
    "To create a date object from a timestamp, you can use the `fromtimestamp` method and pass a Unix timestamp to it.\n",
    "\n",
    "The `time` module in Python provides functions related to time. One of these functions is `time()`, which returns the number of seconds from January 1, 1970, to the current moment as a floating-point number. Here’s an example:"
   ]
  },
  {
   "cell_type": "code",
   "execution_count": 3,
   "metadata": {},
   "outputs": [
    {
     "name": "stdout",
     "output_type": "stream",
     "text": [
      "Timestamp: 1720737175.6144009\n",
      "Date: 2024-07-12\n"
     ]
    }
   ],
   "source": [
    "from datetime import date\n",
    "import time\n",
    "\n",
    "timestamp = time.time()\n",
    "print(\"Timestamp:\", timestamp)\n",
    "\n",
    "d = date.fromtimestamp(timestamp)\n",
    "print(\"Date:\", d)"
   ]
  },
  {
   "cell_type": "markdown",
   "metadata": {},
   "source": [
    "Running this code will display the current timestamp and its corresponding date. If you run the code multiple times, you'll notice that the timestamp increments with each execution. It's important to note that the result of the `time()` function may vary slightly depending on the platform, as Unix and Windows systems do not count leap seconds.\n",
    "\n",
    "Note: We'll also cover the `time` module in more detail later in this course."
   ]
  },
  {
   "cell_type": "markdown",
   "metadata": {},
   "source": [
    "### Creating a Date Object Using the ISO Format\n",
    "\n",
    "The `datetime` module provides several methods to create a date object. One of them is the `fromisoformat` method, which takes a date in the YYYY-MM-DD format compliant with the ISO 8601 standard.\n",
    "\n",
    "The ISO 8601 standard defines how dates and times are represented. It is widely used, so it's beneficial to familiarize yourself with it.\n",
    "\n",
    "#### Example: Creating a Date Object with ISO Format\n",
    "\n",
    "Here's an example of using the `fromisoformat` method:"
   ]
  },
  {
   "cell_type": "code",
   "execution_count": 4,
   "metadata": {},
   "outputs": [
    {
     "name": "stdout",
     "output_type": "stream",
     "text": [
      "2019-11-04\n"
     ]
    }
   ],
   "source": [
    "from datetime import date\n",
    "\n",
    "d = date.fromisoformat('2019-11-04')\n",
    "print(d)"
   ]
  },
  {
   "cell_type": "markdown",
   "metadata": {},
   "source": [
    "In this example, YYYY is 2019, MM is 11 (November), and DD is 04 (the fourth day of November).\n",
    "\n",
    "When entering a date, ensure you add a leading zero for any month or day that is less than 10.\n",
    "\n",
    "Note: The `fromisoformat` method has been available in Python since version 3.7."
   ]
  },
  {
   "cell_type": "markdown",
   "metadata": {},
   "source": [
    "### The `replace()` Method\n",
    "\n",
    "Sometimes, you might need to change the year, month, or day of a date object. Since the `year`, `month`, and `day` attributes are read-only, you can use the `replace` method to accomplish this.\n",
    "\n",
    "#### Example: Using the `replace()` Method\n",
    "\n",
    "Here's how you can use the `replace` method:"
   ]
  },
  {
   "cell_type": "code",
   "execution_count": 5,
   "metadata": {},
   "outputs": [
    {
     "name": "stdout",
     "output_type": "stream",
     "text": [
      "1991-02-05\n",
      "1992-01-16\n"
     ]
    }
   ],
   "source": [
    "from datetime import date\n",
    "\n",
    "d = date(1991, 2, 5)\n",
    "print(d)\n",
    "\n",
    "d = d.replace(year=1992, month=1, day=16)\n",
    "print(d)"
   ]
  },
  {
   "cell_type": "markdown",
   "metadata": {},
   "source": [
    "**Output:**\n",
    "```\n",
    "1991-02-05\n",
    "1992-01-16\n",
    "```\n",
    "\n",
    "The `replace` method allows you to modify the year, month, and day parameters. These parameters are optional, so you can choose to pass just one parameter (e.g., `year`), or all three, as shown in the example.\n",
    "\n",
    "The `replace` method returns a new date object with the specified changes. Therefore, you need to assign the result to a variable to keep the updated date.\n",
    "\n"
   ]
  },
  {
   "cell_type": "markdown",
   "metadata": {},
   "source": [
    "### What Day of the Week Is It?\n",
    "\n",
    "The `datetime` module provides methods that make working with dates easier. One such method is `weekday`, which returns the day of the week as an integer, where 0 represents Monday and 6 represents Sunday.\n",
    "\n",
    "#### Example: Using the `weekday()` Method\n",
    "\n",
    "Here's an example:"
   ]
  },
  {
   "cell_type": "code",
   "execution_count": 6,
   "metadata": {},
   "outputs": [
    {
     "name": "stdout",
     "output_type": "stream",
     "text": [
      "0\n"
     ]
    }
   ],
   "source": [
    "from datetime import date\n",
    "\n",
    "d = date(2019, 11, 4)\n",
    "print(d.weekday())"
   ]
  },
  {
   "cell_type": "markdown",
   "metadata": {},
   "source": [
    "**Result:**\n",
    "```\n",
    "0\n",
    "```\n",
    "\n",
    "In this example, `0` corresponds to Monday.\n",
    "\n",
    "#### Example: Using the `isoweekday()` Method\n",
    "\n",
    "The `date` class also includes a method called `isoweekday`, which returns the day of the week as an integer according to the ISO 8601 standard. In this method, 1 represents Monday and 7 represents Sunday:"
   ]
  },
  {
   "cell_type": "code",
   "execution_count": 7,
   "metadata": {},
   "outputs": [
    {
     "name": "stdout",
     "output_type": "stream",
     "text": [
      "1\n"
     ]
    }
   ],
   "source": [
    "from datetime import date\n",
    "\n",
    "d = date(2019, 11, 4)\n",
    "print(d.isoweekday())"
   ]
  },
  {
   "cell_type": "markdown",
   "metadata": {},
   "source": [
    "**Result:**\n",
    "```\n",
    "1\n",
    "```\n",
    "\n",
    "As you can see, for the same date, we get a different integer representing the same day of the week. The `isoweekday` method follows the ISO 8601 specification."
   ]
  },
  {
   "cell_type": "markdown",
   "metadata": {},
   "source": [
    "### Creating Time Objects\n",
    "\n",
    "You already know how to represent a date using the `date` object. The `datetime` module also has a class that allows you to represent time, called `time`.\n",
    "\n",
    "#### Parameters for the `time` Class\n",
    "\n",
    "The `time` class constructor accepts the following optional parameters:\n",
    "\n",
    "| Parameter    | Restrictions                                                                 |\n",
    "|--------------|------------------------------------------------------------------------------|\n",
    "| hour         | Must be greater than or equal to 0 and less than 24.                         |\n",
    "| minute       | Must be greater than or equal to 0 and less than 60.                         |\n",
    "| second       | Must be greater than or equal to 0 and less than 60.                         |\n",
    "| microsecond  | Must be greater than or equal to 0 and less than 1,000,000.                  |\n",
    "| tzinfo       | Must be a `tzinfo` subclass object or `None` (default).                      |\n",
    "| fold         | Must be 0 or 1 (default 0).                                                  |\n",
    "\n",
    "The `tzinfo` parameter is associated with time zones, and `fold` is related to wall times. While we won't use these parameters in this course, you may want to familiarize yourself with them.\n",
    "\n",
    "#### Example: Creating a Time Object\n",
    "\n",
    "Here’s an example of how to create a `time` object:"
   ]
  },
  {
   "cell_type": "code",
   "execution_count": 8,
   "metadata": {},
   "outputs": [
    {
     "name": "stdout",
     "output_type": "stream",
     "text": [
      "Time: 14:53:20.000001\n",
      "Hour: 14\n",
      "Minute: 53\n",
      "Second: 20\n",
      "Microsecond: 1\n"
     ]
    }
   ],
   "source": [
    "from datetime import time\n",
    "\n",
    "t = time(14, 53, 20, 1)\n",
    "\n",
    "print(\"Time:\", t)\n",
    "print(\"Hour:\", t.hour)\n",
    "print(\"Minute:\", t.minute)\n",
    "print(\"Second:\", t.second)\n",
    "print(\"Microsecond:\", t.microsecond)"
   ]
  },
  {
   "cell_type": "markdown",
   "metadata": {},
   "source": [
    "**Result:**\n",
    "```\n",
    "Time: 14:53:20.000001\n",
    "Hour: 14\n",
    "Minute: 53\n",
    "Second: 20\n",
    "Microsecond: 1\n",
    "```\n",
    "\n",
    "In this example, we passed four parameters to the class constructor: `hour`, `minute`, `second`, and `microsecond`. Each of these can be accessed using the class attributes.\n",
    "\n",
    "Note: We'll soon discuss how you can change the default time formatting."
   ]
  },
  {
   "cell_type": "markdown",
   "metadata": {},
   "source": [
    "### The `time` Module\n",
    "\n",
    "In addition to the `time` class, the Python standard library includes a module called `time`, which provides various time-related functions. You may have already encountered the `time` function when discussing the `date` class. Now, let's explore another useful function from this module.\n",
    "\n",
    "#### Example: Simulating a Student's Nap\n",
    "\n",
    "Here's a program that simulates a student's short nap using the `time` module:"
   ]
  },
  {
   "cell_type": "code",
   "execution_count": 9,
   "metadata": {},
   "outputs": [
    {
     "name": "stdout",
     "output_type": "stream",
     "text": [
      "I'm very tired. I have to take a nap. See you later.\n",
      "I slept well! I feel great!\n"
     ]
    }
   ],
   "source": [
    "import time\n",
    "\n",
    "class Student:\n",
    "    def take_nap(self, seconds):\n",
    "        print(\"I'm very tired. I have to take a nap. See you later.\")\n",
    "        time.sleep(seconds)\n",
    "        print(\"I slept well! I feel great!\")\n",
    "\n",
    "student = Student()\n",
    "student.take_nap(5)"
   ]
  },
  {
   "cell_type": "markdown",
   "metadata": {},
   "source": [
    "**Result:**\n",
    "```\n",
    "I'm very tired. I have to take a nap. See you later.\n",
    "I slept well! I feel great!\n",
    "```\n",
    "\n",
    "The key part of this example is the use of the `sleep` function, which pauses the execution of the program for the specified number of seconds. In this case, it pauses for 5 seconds, which is indeed a very short nap.\n",
    "\n",
    "You can extend the student's nap by changing the number of seconds passed to the `sleep` function. Note that the `sleep` function accepts only an integer or a floating-point number."
   ]
  },
  {
   "cell_type": "markdown",
   "metadata": {},
   "source": [
    "### The `ctime()` Method\n",
    "\n",
    "The `time` module provides a function called `ctime`, which converts the time in seconds since January 1, 1970 (Unix epoch) to a string.\n",
    "\n",
    "#### Example: Using the `ctime()` Method\n",
    "\n",
    "Here's an example of using the `ctime` method with a specific timestamp:"
   ]
  },
  {
   "cell_type": "code",
   "execution_count": 10,
   "metadata": {},
   "outputs": [
    {
     "name": "stdout",
     "output_type": "stream",
     "text": [
      "Mon Nov  4 15:53:00 2019\n"
     ]
    }
   ],
   "source": [
    "import time\n",
    "\n",
    "timestamp = 1572879180\n",
    "print(time.ctime(timestamp))"
   ]
  },
  {
   "cell_type": "markdown",
   "metadata": {},
   "source": [
    "**Result:**\n",
    "```\n",
    "Mon Nov  4 14:53:00 2019\n",
    "```\n",
    "\n",
    "In this example, the `ctime` function converts the timestamp into a readable string, representing November 4, 2019, at 14:53:00.\n",
    "\n",
    "You can also call the `ctime` function without specifying the time in seconds. In this case, it will return the current time:\n",
    "\n",
    "```python\n",
    "import time\n",
    "\n",
    "print(time.ctime())\n",
    "```\n",
    "\n",
    "This will output the current date and time in a similar string format.\n",
    "\n"
   ]
  },
  {
   "cell_type": "markdown",
   "metadata": {},
   "source": [
    "### `gmtime()` and `localtime()` Functions\n",
    "\n",
    "Some functions in the `time` module require knowledge of the `struct_time` class. Before diving into these functions, let's look at the `struct_time` class:\n",
    "\n",
    "```python\n",
    "time.struct_time:\n",
    "    tm_year   # specifies the year\n",
    "    tm_mon    # specifies the month (value from 1 to 12)\n",
    "    tm_mday   # specifies the day of the month (value from 1 to 31)\n",
    "    tm_hour   # specifies the hour (value from 0 to 23)\n",
    "    tm_min    # specifies the minute (value from 0 to 59)\n",
    "    tm_sec    # specifies the second (value from 0 to 61)\n",
    "    tm_wday   # specifies the weekday (value from 0 to 6)\n",
    "    tm_yday   # specifies the year day (value from 1 to 366)\n",
    "    tm_isdst  # specifies whether daylight saving time applies (1 – yes, 0 – no, -1 – it isn't known)\n",
    "    tm_zone   # specifies the timezone name (value in an abbreviated form)\n",
    "    tm_gmtoff # specifies the offset east of UTC (value in seconds)\n",
    "```\n",
    "\n",
    "The `struct_time` class also allows access to values using indexes. Index 0 returns the value in `tm_year`, while index 8 returns the value in `tm_isdst`. However, `tm_zone` and `tm_gmtoff` cannot be accessed using indexes.\n",
    "\n",
    "#### Example: Using `gmtime()` and `localtime()` Functions\n",
    "\n",
    "Here's how to use the `struct_time` class in practice:"
   ]
  },
  {
   "cell_type": "code",
   "execution_count": 11,
   "metadata": {},
   "outputs": [
    {
     "name": "stdout",
     "output_type": "stream",
     "text": [
      "time.struct_time(tm_year=2019, tm_mon=11, tm_mday=4, tm_hour=14, tm_min=53, tm_sec=0, tm_wday=0, tm_yday=308, tm_isdst=0)\n",
      "time.struct_time(tm_year=2019, tm_mon=11, tm_mday=4, tm_hour=15, tm_min=53, tm_sec=0, tm_wday=0, tm_yday=308, tm_isdst=0)\n"
     ]
    }
   ],
   "source": [
    "import time\n",
    "\n",
    "timestamp = 1572879180\n",
    "print(time.gmtime(timestamp))\n",
    "print(time.localtime(timestamp))"
   ]
  },
  {
   "cell_type": "markdown",
   "metadata": {},
   "source": [
    "**Result:**\n",
    "```\n",
    "time.struct_time(tm_year=2019, tm_mon=11, tm_mday=4, tm_hour=14, tm_min=53, tm_sec=0, tm_wday=0, tm_yday=308, tm_isdst=0)\n",
    "time.struct_time(tm_year=2019, tm_mon=11, tm_mday=4, tm_hour=14, tm_min=53, tm_sec=0, tm_wday=0, tm_yday=308, tm_isdst=0)\n",
    "```\n",
    "\n",
    "This example shows two functions that convert the elapsed time from the Unix epoch to a `struct_time` object. The difference between them is that the `gmtime` function returns the `struct_time` object in UTC, while the `localtime` function returns the local time. For the `gmtime` function, the `tm_isdst` attribute is always 0."
   ]
  },
  {
   "cell_type": "markdown",
   "metadata": {},
   "source": [
    "### `asctime()` and `mktime()` Functions\n",
    "\n",
    "The `time` module includes functions that expect a `struct_time` object or a tuple with values corresponding to the indexes discussed in the `struct_time` class.\n",
    "\n",
    "#### Example: Using `asctime()` and `mktime()` Functions\n",
    "\n",
    "Here's an example:"
   ]
  },
  {
   "cell_type": "code",
   "execution_count": 12,
   "metadata": {},
   "outputs": [
    {
     "name": "stdout",
     "output_type": "stream",
     "text": [
      "Mon Nov  4 14:53:00 2019\n",
      "1572875580.0\n"
     ]
    }
   ],
   "source": [
    "import time\n",
    "\n",
    "timestamp = 1572879180\n",
    "st = time.gmtime(timestamp)\n",
    "\n",
    "print(time.asctime(st))\n",
    "print(time.mktime((2019, 11, 4, 14, 53, 0, 0, 308, 0)))"
   ]
  },
  {
   "cell_type": "markdown",
   "metadata": {},
   "source": [
    "**Result:**\n",
    "```\n",
    "Mon Nov  4 14:53:00 2019\n",
    "1572879180.0\n",
    "```\n",
    "\n",
    "#### `asctime()` Function\n",
    "\n",
    "The `asctime` function converts a `struct_time` object or a tuple to a string. Note that we use the `gmtime` function to get the `struct_time` object. If you don't provide an argument to the `asctime` function, it will use the current local time returned by the `localtime` function.\n",
    "\n",
    "#### `mktime()` Function\n",
    "\n",
    "The `mktime` function converts a `struct_time` object or a tuple representing local time to the number of seconds since the Unix epoch. In our example, we passed a tuple with the following values:\n",
    "\n",
    "- 2019 => `tm_year`\n",
    "- 11 => `tm_mon`\n",
    "- 4 => `tm_mday`\n",
    "- 14 => `tm_hour`\n",
    "- 53 => `tm_min`\n",
    "- 0 => `tm_sec`\n",
    "- 0 => `tm_wday` (ignored by `mktime`)\n",
    "- 308 => `tm_yday` (ignored by `mktime`)\n",
    "- 0 => `tm_isdst`\n",
    "\n",
    "These values represent November 4, 2019, at 14:53:00. The `mktime` function returns the corresponding timestamp for this local time."
   ]
  },
  {
   "cell_type": "markdown",
   "metadata": {},
   "source": [
    "### Creating `datetime` Objects\n",
    "\n",
    "In the `datetime` module, dates and times can be represented as separate objects or combined into one. The class that combines date and time is called `datetime`.\n",
    "\n",
    "#### `datetime` Constructor Parameters\n",
    "\n",
    "The `datetime` class constructor accepts the following parameters:\n",
    "\n",
    "| Parameter    | Restrictions                                                                 |\n",
    "|--------------|------------------------------------------------------------------------------|\n",
    "| year         | Must be greater than or equal to 1 (`MINYEAR` constant) and less than or equal to 9999 (`MAXYEAR` constant). |\n",
    "| month        | Must be greater than or equal to 1 and less than or equal to 12.             |\n",
    "| day          | Must be greater than or equal to 1 and less than or equal to the last day of the given month and year. |\n",
    "| hour         | Must be greater than or equal to 0 and less than 24.                         |\n",
    "| minute       | Must be greater than or equal to 0 and less than 60.                         |\n",
    "| second       | Must be greater than or equal to 0 and less than 60.                         |\n",
    "| microsecond  | Must be greater than or equal to 0 and less than 1,000,000.                  |\n",
    "| tzinfo       | Must be a `tzinfo` subclass object or `None` (default).                      |\n",
    "| fold         | Must be 0 or 1 (default 0).                                                  |\n",
    "\n",
    "#### Example: Creating a `datetime` Object\n",
    "\n",
    "Here’s an example of how to create a `datetime` object:"
   ]
  },
  {
   "cell_type": "code",
   "execution_count": 13,
   "metadata": {},
   "outputs": [
    {
     "name": "stdout",
     "output_type": "stream",
     "text": [
      "Datetime: 2019-11-04 14:53:00\n",
      "Date: 2019-11-04\n",
      "Time: 14:53:00\n"
     ]
    }
   ],
   "source": [
    "from datetime import datetime\n",
    "\n",
    "dt = datetime(2019, 11, 4, 14, 53)\n",
    "\n",
    "print(\"Datetime:\", dt)\n",
    "print(\"Date:\", dt.date())\n",
    "print(\"Time:\", dt.time())"
   ]
  },
  {
   "cell_type": "markdown",
   "metadata": {},
   "source": [
    "**Result:**\n",
    "```\n",
    "Datetime: 2019-11-04 14:53:00\n",
    "Date: 2019-11-04\n",
    "Time: 14:53:00\n",
    "```\n",
    "\n",
    "This example creates a `datetime` object representing November 4, 2019, at 14:53:00. All parameters passed to the constructor are stored in read-only class attributes: `year`, `month`, `day`, `hour`, `minute`, `second`, `microsecond`, `tzinfo`, and `fold`.\n",
    "\n",
    "The example also demonstrates two methods:\n",
    "- `date()`: Returns a `date` object with the given year, month, and day.\n",
    "- `time()`: Returns a `time` object with the given hour and minute."
   ]
  },
  {
   "cell_type": "markdown",
   "metadata": {},
   "source": [
    "### Methods that Return the Current Date and Time\n",
    "\n",
    "The `datetime` class in Python provides several methods to return the current date and time. These methods are:\n",
    "\n",
    "- **`today()`**: Returns the current local date and time with the `tzinfo` attribute set to `None`.\n",
    "- **`now()`**: Returns the current local date and time, similar to the `today` method, unless an optional argument `tz` is passed to it. This argument must be an object of the `tzinfo` subclass.\n",
    "- **`utcnow()`**: Returns the current UTC date and time with the `tzinfo` attribute set to `None`.\n",
    "\n",
    "#### Example: Using `today()`, `now()`, and `utcnow()`\n",
    "\n",
    "Here's an example to see these methods in practice:"
   ]
  },
  {
   "cell_type": "code",
   "execution_count": 14,
   "metadata": {},
   "outputs": [
    {
     "name": "stdout",
     "output_type": "stream",
     "text": [
      "today: 2024-07-12 00:33:00.712628\n",
      "now: 2024-07-12 00:33:00.712628\n",
      "utcnow: 2024-07-11 22:33:00.712628\n"
     ]
    }
   ],
   "source": [
    "from datetime import datetime\n",
    "\n",
    "print(\"today:\", datetime.today())\n",
    "print(\"now:\", datetime.now())\n",
    "print(\"utcnow:\", datetime.utcnow())"
   ]
  },
  {
   "cell_type": "markdown",
   "metadata": {},
   "source": [
    "\n",
    "**Output:**\n",
    "```\n",
    "today: 2024-07-11 08:56:12.123456\n",
    "now: 2024-07-11 08:56:12.123456\n",
    "utcnow: 2024-07-11 13:56:12.123456\n",
    "```\n",
    "\n",
    "As you can see, the results of all three methods are similar, with small differences caused by the time elapsed between subsequent calls.\n",
    "\n",
    "- `today()`: Returns the current local date and time.\n",
    "- `now()`: Returns the current local date and time, and can optionally take a `tz` argument.\n",
    "- `utcnow()`: Returns the current UTC date and time.\n",
    "\n",
    "Note: For more information about `tzinfo` objects, you can refer to the Python documentation."
   ]
  },
  {
   "cell_type": "markdown",
   "metadata": {},
   "source": [
    "### Getting a Timestamp\n",
    "\n",
    "The `datetime` module provides a way to calculate a timestamp based on a given date and time using the `timestamp` method.\n",
    "\n",
    "#### Example: Using the `timestamp()` Method\n",
    "\n",
    "Here's how you can use the `timestamp` method to get the number of seconds elapsed between a specific date and time and January 1, 1970, 00:00:00 (UTC):"
   ]
  },
  {
   "cell_type": "code",
   "execution_count": 15,
   "metadata": {},
   "outputs": [
    {
     "name": "stdout",
     "output_type": "stream",
     "text": [
      "Timestamp: 1601816100.0\n"
     ]
    }
   ],
   "source": [
    "from datetime import datetime\n",
    "\n",
    "dt = datetime(2020, 10, 4, 14, 55)\n",
    "print(\"Timestamp:\", dt.timestamp())"
   ]
  },
  {
   "cell_type": "markdown",
   "metadata": {},
   "source": [
    "**Result:**\n",
    "```\n",
    "Timestamp: 1601823300.0\n",
    "```\n",
    "\n",
    "In this example, the `timestamp` method returns a float value representing the number of seconds that have passed between the specified date and time (October 4, 2020, at 14:55) and the Unix epoch (January 1, 1970, 00:00:00 UTC).\n",
    "\n",
    "The `timestamp` method is a convenient way to convert a `datetime` object to a Unix timestamp, which is commonly used in various applications and systems."
   ]
  },
  {
   "cell_type": "markdown",
   "metadata": {},
   "source": [
    "### Date and Time Formatting (Part 1)\n",
    "\n",
    "All `datetime` module classes have a method called `strftime`. This method is important because it allows us to return the date and time in a specified format.\n",
    "\n",
    "The `strftime` method takes one argument: a string specifying the format, which can consist of directives.\n",
    "\n",
    "A directive is a string consisting of the character `%` (percent) followed by a lowercase or uppercase letter. For example, the directive `%Y` represents the year with the century as a decimal number. Let's see an example:\n",
    "\n",
    "#### Example: Using `strftime()` Method"
   ]
  },
  {
   "cell_type": "code",
   "execution_count": 16,
   "metadata": {},
   "outputs": [
    {
     "name": "stdout",
     "output_type": "stream",
     "text": [
      "2020/01/04\n"
     ]
    }
   ],
   "source": [
    "from datetime import date\n",
    "\n",
    "d = date(2020, 1, 4)\n",
    "print(d.strftime('%Y/%m/%d'))"
   ]
  },
  {
   "cell_type": "markdown",
   "metadata": {},
   "source": [
    "**Result:**\n",
    "```\n",
    "2020/01/04\n",
    "```\n",
    "\n",
    "In this example, we passed a format string consisting of three directives separated by `/` (slash) to the `strftime` method. The separator can be any character or even a string.\n",
    "\n",
    "You can include any characters in the format string, but only recognizable directives will be replaced with appropriate values. In our format, we used the following directives:\n",
    "\n",
    "- `%Y`: Returns the year with the century as a decimal number. In our example, this is `2020`.\n",
    "- `%m`: Returns the month as a zero-padded decimal number. In our example, it's `01`.\n",
    "- `%d`: Returns the day as a zero-padded decimal number. In our example, it's `04`.\n",
    "\n",
    "You can find all available directives in the [Python documentation](https://docs.python.org/3/library/datetime.html#strftime-and-strptime-format-codes)."
   ]
  },
  {
   "cell_type": "markdown",
   "metadata": {},
   "source": [
    "### Date and Time Formatting (Part 2)\n",
    "\n",
    "Time formatting works in the same way as date formatting but requires the use of appropriate directives. Let's take a closer look at a few of them.\n",
    "\n",
    "#### Example: Using `strftime()` for Time and Datetime Objects"
   ]
  },
  {
   "cell_type": "code",
   "execution_count": 17,
   "metadata": {},
   "outputs": [
    {
     "name": "stdout",
     "output_type": "stream",
     "text": [
      "14:53:00\n",
      "20/November/04 14:53:00\n"
     ]
    }
   ],
   "source": [
    "from datetime import time\n",
    "from datetime import datetime\n",
    "\n",
    "t = time(14, 53)\n",
    "print(t.strftime(\"%H:%M:%S\"))\n",
    "\n",
    "dt = datetime(2020, 11, 4, 14, 53)\n",
    "print(dt.strftime(\"%y/%B/%d %H:%M:%S\"))"
   ]
  },
  {
   "cell_type": "markdown",
   "metadata": {},
   "source": [
    "**Result:**\n",
    "```\n",
    "14:53:00\n",
    "20/November/04 14:53:00\n",
    "```\n",
    "\n",
    "#### First Format: Time Only\n",
    "\n",
    "The first format used concerns only the time. Here’s what the directives mean:\n",
    "- `%H`: Returns the hour as a zero-padded decimal number (e.g., 14).\n",
    "- `%M`: Returns the minute as a zero-padded decimal number (e.g., 53).\n",
    "- `%S`: Returns the second as a zero-padded decimal number (e.g., 00).\n",
    "\n",
    "In our example, `%H` is replaced by 14, `%M` by 53, and `%S` by 00.\n",
    "\n",
    "#### Second Format: Combining Date and Time\n",
    "\n",
    "The second format used combines date and time directives. It includes two new directives:\n",
    "- `%y`: Returns the year without the century as a zero-padded decimal number (e.g., 20 for the year 2020).\n",
    "- `%B`: Returns the month as the locale’s full name (e.g., November).\n",
    "\n",
    "In this format, `%y` is replaced by 20, `%B` by November, and other directives follow the same logic as in the time-only example.\n",
    "\n",
    "In general, you have a lot of freedom in creating formats, but you must remember to use the directives properly. As an exercise, you can check what happens if you try to use the `%Y` directive in the format passed to the `time` object's `strftime` method. Try to find out why you got this result yourself. Good luck!"
   ]
  },
  {
   "cell_type": "markdown",
   "metadata": {},
   "source": [
    "### The `strftime()` Function in the `time` Module\n",
    "\n",
    "You might not be surprised to learn that the `strftime` function is also available in the `time` module. It is slightly different from the `strftime` methods in the classes provided by the `datetime` module because, in addition to the format argument, it can also take an optional tuple or `struct_time` object.\n",
    "\n",
    "If you don't pass a tuple or `struct_time` object, the formatting will use the current local time. Here's an example:"
   ]
  },
  {
   "cell_type": "code",
   "execution_count": 18,
   "metadata": {},
   "outputs": [
    {
     "name": "stdout",
     "output_type": "stream",
     "text": [
      "2019/11/04 14:53:00\n",
      "2024/07/12 00:33:00\n"
     ]
    }
   ],
   "source": [
    "import time\n",
    "\n",
    "timestamp = 1572879180\n",
    "st = time.gmtime(timestamp)\n",
    "\n",
    "print(time.strftime(\"%Y/%m/%d %H:%M:%S\", st))\n",
    "print(time.strftime(\"%Y/%m/%d %H:%M:%S\"))"
   ]
  },
  {
   "cell_type": "markdown",
   "metadata": {},
   "source": [
    "**Output:**\n",
    "```\n",
    "2019/11/04 14:53:00\n",
    "2020/10/12 12:19:40\n",
    "```\n",
    "\n",
    "Creating a format with `strftime` in the `time` module is similar to the `strftime` methods in the `datetime` module. In our example, we use the `%Y`, `%m`, `%d`, `%H`, `%M`, and `%S` directives that you already know.\n",
    "\n",
    "- In the first function call, we format the `struct_time` object.\n",
    "- In the second call (without the optional argument), we format the current local time.\n",
    "\n",
    "You can find all available directives for the `strftime` function in the `time` module [here](https://docs.python.org/3/library/time.html#time.strftime)."
   ]
  },
  {
   "cell_type": "markdown",
   "metadata": {},
   "source": [
    "### The `strptime()` Method\n",
    "\n",
    "Understanding how to create a format is helpful when using the `strptime` method in the `datetime` class. Unlike the `strftime` method, `strptime` creates a `datetime` object from a string representing a date and time.\n",
    "\n",
    "The `strptime` method requires you to specify the format in which the date and time are saved. Let's look at an example:"
   ]
  },
  {
   "cell_type": "code",
   "execution_count": 19,
   "metadata": {},
   "outputs": [
    {
     "name": "stdout",
     "output_type": "stream",
     "text": [
      "2019-11-04 14:53:00\n"
     ]
    }
   ],
   "source": [
    "from datetime import datetime\n",
    "\n",
    "date_str = \"2019/11/04 14:53:00\"\n",
    "date_format = \"%Y/%m/%d %H:%M:%S\"\n",
    "dt = datetime.strptime(date_str, date_format)\n",
    "print(dt)"
   ]
  },
  {
   "cell_type": "markdown",
   "metadata": {},
   "source": [
    "**Result:**\n",
    "```\n",
    "2019-11-04 14:53:00\n",
    "```\n",
    "\n",
    "In this example, we specified two required arguments:\n",
    "1. A date and time as a string: `\"2019/11/04 14:53:00\"`\n",
    "2. A format string that facilitates parsing to a `datetime` object: `\"%Y/%m/%d %H:%M:%S\"`\n",
    "\n",
    "Be careful, because if the format you specify doesn't match the date and time in the string, a `ValueError` will be raised.\n",
    "\n",
    "### `strptime()` in the `time` Module\n",
    "\n",
    "In the `time` module, there's also a `strptime` function, which parses a string representing a time into a `struct_time` object. Its usage is similar to the `strptime` method in the `datetime` class:"
   ]
  },
  {
   "cell_type": "code",
   "execution_count": 20,
   "metadata": {},
   "outputs": [
    {
     "name": "stdout",
     "output_type": "stream",
     "text": [
      "time.struct_time(tm_year=2019, tm_mon=11, tm_mday=4, tm_hour=14, tm_min=53, tm_sec=0, tm_wday=0, tm_yday=308, tm_isdst=-1)\n"
     ]
    }
   ],
   "source": [
    "import time\n",
    "\n",
    "time_str = \"2019/11/04 14:53:00\"\n",
    "time_format = \"%Y/%m/%d %H:%M:%S\"\n",
    "st = time.strptime(time_str, time_format)\n",
    "print(st)"
   ]
  },
  {
   "cell_type": "markdown",
   "metadata": {},
   "source": [
    "**Result:**\n",
    "```\n",
    "time.struct_time(tm_year=2019, tm_mon=11, tm_mday=4, tm_hour=14, tm_min=53, tm_sec=0, tm_wday=0, tm_yday=308, tm_isdst=-1)\n",
    "```\n",
    "\n",
    "Both methods are useful for converting string representations of date and time into their respective objects, allowing further manipulation and formatting."
   ]
  },
  {
   "cell_type": "markdown",
   "metadata": {},
   "source": [
    "### Date and Time Operations\n",
    "\n",
    "At some point, you'll need to perform calculations on date and time values. Fortunately, the `datetime` module includes a class called `timedelta` designed for this purpose.\n",
    "\n",
    "To create a `timedelta` object, you can subtract two `date` or `datetime` objects. Let's see an example:"
   ]
  },
  {
   "cell_type": "code",
   "execution_count": 21,
   "metadata": {},
   "outputs": [
    {
     "name": "stdout",
     "output_type": "stream",
     "text": [
      "366 days, 0:00:00\n",
      "365 days, 9:07:00\n"
     ]
    }
   ],
   "source": [
    "from datetime import date\n",
    "from datetime import datetime\n",
    "\n",
    "d1 = date(2020, 11, 4)\n",
    "d2 = date(2019, 11, 4)\n",
    "\n",
    "print(d1 - d2)\n",
    "\n",
    "dt1 = datetime(2020, 11, 4, 0, 0, 0)\n",
    "dt2 = datetime(2019, 11, 4, 14, 53, 0)\n",
    "\n",
    "print(dt1 - dt2)"
   ]
  },
  {
   "cell_type": "markdown",
   "metadata": {},
   "source": [
    "**Result:**\n",
    "```\n",
    "366 days, 0:00:00\n",
    "365 days, 9:07:00\n",
    "```\n",
    "\n",
    "This example demonstrates subtraction for both `date` and `datetime` objects:\n",
    "- In the first case, subtracting two `date` objects gives the difference in days, which is 366 days.\n",
    "- In the second case, subtracting two `datetime` objects also includes the difference in hours, minutes, and seconds, resulting in 365 days, 9 hours, and 7 minutes.\n",
    "\n",
    "You'll soon learn more about creating `timedelta` objects and the operations you can perform with them."
   ]
  },
  {
   "cell_type": "markdown",
   "metadata": {},
   "source": [
    "### Creating `timedelta` Objects\n",
    "\n",
    "You have learned that a `timedelta` object can be the result of subtracting two `date` or `datetime` objects. You can also create a `timedelta` object directly. The class constructor accepts the following optional arguments: `days`, `seconds`, `microseconds`, `milliseconds`, `minutes`, `hours`, and `weeks`. Each argument defaults to 0 if not specified.\n",
    "\n",
    "These arguments should be integers or floating-point numbers and can be either positive or negative. Let's look at an example:"
   ]
  },
  {
   "cell_type": "code",
   "execution_count": 22,
   "metadata": {},
   "outputs": [
    {
     "name": "stdout",
     "output_type": "stream",
     "text": [
      "Days: 16\n",
      "Seconds: 10800\n",
      "Microseconds: 0\n"
     ]
    }
   ],
   "source": [
    "from datetime import timedelta\n",
    "\n",
    "delta = timedelta(weeks=2, days=2, hours=3)\n",
    "print(\"Days:\", delta.days)\n",
    "print(\"Seconds:\", delta.seconds)\n",
    "print(\"Microseconds:\", delta.microseconds)"
   ]
  },
  {
   "cell_type": "markdown",
   "metadata": {},
   "source": [
    "**Result:**\n",
    "```\n",
    "Days: 16\n",
    "Seconds: 10800\n",
    "Microseconds: 0\n",
    "```\n",
    "\n",
    "In this example, the `timedelta` object is created with:\n",
    "- `weeks=2` (which converts to 14 days),\n",
    "- `days=2`,\n",
    "- `hours=3` (which converts to 10800 seconds).\n",
    "\n",
    "The `timedelta` object stores these arguments internally as days, seconds, and microseconds. The result of `16 days` is obtained by adding 14 days (from 2 weeks) to 2 days, and the result of `10800 seconds` is obtained by converting 3 hours into seconds. \n",
    "\n",
    "This behavior is normal because the `timedelta` object only stores days, seconds, and microseconds internally. Other units like weeks, hours, and minutes are converted to these internal units during object creation.\n",
    "\n",
    "### Summary\n",
    "\n",
    "- `timedelta` objects can be created directly by passing arguments for `days`, `seconds`, `microseconds`, `milliseconds`, `minutes`, `hours`, and `weeks`.\n",
    "- Arguments can be integers or floating-point numbers, and positive or negative.\n",
    "- Internally, `timedelta` stores values as days, seconds, and microseconds.\n",
    "- Units like weeks, hours, and minutes are converted to these internal units.\n",
    "\n",
    "By understanding how to create and use `timedelta` objects, you can perform a wide range of date and time calculations with ease."
   ]
  },
  {
   "cell_type": "markdown",
   "metadata": {},
   "source": [
    "### Using `timedelta` Objects in Practice\n",
    "\n",
    "You already know how the `timedelta` object stores the passed arguments internally. Now, let's see how it can be used in practice.\n",
    "\n",
    "Here's some code demonstrating operations supported by the `datetime` module classes:"
   ]
  },
  {
   "cell_type": "code",
   "execution_count": 23,
   "metadata": {},
   "outputs": [
    {
     "name": "stdout",
     "output_type": "stream",
     "text": [
      "16 days, 2:00:00\n",
      "32 days, 4:00:00\n",
      "2019-11-05\n",
      "2019-11-05 18:53:00\n"
     ]
    }
   ],
   "source": [
    "from datetime import timedelta\n",
    "from datetime import date\n",
    "from datetime import datetime\n",
    "\n",
    "delta = timedelta(weeks=2, days=2, hours=2)\n",
    "print(delta)\n",
    "\n",
    "delta2 = delta * 2\n",
    "print(delta2)\n",
    "\n",
    "d = date(2019, 10, 4) + delta2\n",
    "print(d)\n",
    "\n",
    "dt = datetime(2019, 10, 4, 14, 53) + delta2\n",
    "print(dt)"
   ]
  },
  {
   "cell_type": "markdown",
   "metadata": {},
   "source": [
    "**Result:**\n",
    "```\n",
    "16 days, 2:00:00\n",
    "32 days, 4:00:00\n",
    "2019-11-05\n",
    "2019-11-05 18:53:00\n",
    "```\n",
    "\n",
    "### Explanation\n",
    "\n",
    "#### Multiplication with `timedelta`\n",
    "\n",
    "The `timedelta` object can be multiplied by an integer. In our example, we multiply the `timedelta` object representing 16 days and 2 hours by 2. The result is a `timedelta` object representing 32 days and 4 hours."
   ]
  },
  {
   "cell_type": "code",
   "execution_count": 24,
   "metadata": {},
   "outputs": [
    {
     "name": "stdout",
     "output_type": "stream",
     "text": [
      "32 days, 4:00:00\n"
     ]
    }
   ],
   "source": [
    "delta2 = delta * 2\n",
    "print(delta2)\n",
    "# Output: 32 days, 4:00:00"
   ]
  },
  {
   "cell_type": "markdown",
   "metadata": {},
   "source": [
    "\n",
    "Both the days and hours are multiplied by 2.\n",
    "\n",
    "#### Adding `timedelta` to `date` and `datetime`\n",
    "\n",
    "Another interesting operation is adding a `timedelta` object to `date` and `datetime` objects. In the example, we add the `timedelta` object to a `date` object and a `datetime` object:\n",
    "\n",
    "```python\n",
    "d = date(2019, 10, 4) + delta2\n",
    "print(d)\n",
    "# Output: 2019-11-05\n",
    "\n",
    "dt = datetime(2019, 10, 4, 14, 53) + delta2\n",
    "print(dt)\n",
    "# Output: 2019-11-05 18:53:00\n",
    "```\n",
    "\n",
    "The result of these operations is `date` and `datetime` objects increased by the days and hours stored in the `timedelta` object.\n",
    "\n",
    "### Summary\n",
    "\n",
    "- **Multiplication**: The `timedelta` object can be multiplied by an integer to quickly increase its value. This is useful for getting dates in the future.\n",
    "- **Addition**: You can add a `timedelta` object to `date` and `datetime` objects to get new date and time values.\n",
    "\n",
    "The `timedelta`, `date`, and `datetime` classes support many more operations. To learn more, you can refer to the official Python documentation."
   ]
  },
  {
   "cell_type": "markdown",
   "metadata": {},
   "source": [
    "### Summary\n",
    "\n",
    "1. **Creating a Date Object:**\n",
    "   To create a `date` object, you must pass the year, month, and day arguments:\n",
    "\n",
    "   ```python\n",
    "   from datetime import date\n",
    "\n",
    "   my_date = date(2020, 9, 29)\n",
    "   print(\"Year:\", my_date.year)  # Year: 2020\n",
    "   print(\"Month:\", my_date.month)  # Month: 9\n",
    "   print(\"Day:\", my_date.day)  # Day: 29\n",
    "   ```\n",
    "\n",
    "   The `date` object has three read-only attributes: `year`, `month`, and `day`.\n",
    "\n",
    "2. **Getting the Current Date:**\n",
    "   The `today` method returns a `date` object representing the current local date:\n",
    "\n",
    "   ```python\n",
    "   from datetime import date\n",
    "   print(\"Today:\", date.today())  # Displays: Today: 2020-09-29\n",
    "   ```\n",
    "\n",
    "3. **Creating a Date Object from a Timestamp:**\n",
    "   In Unix, a timestamp expresses the number of seconds since January 1, 1970, 00:00:00 (UTC). To create a `date` object from a timestamp, use the `fromtimestamp` method:\n",
    "\n",
    "   ```python\n",
    "   from datetime import date\n",
    "   import time\n",
    "\n",
    "   timestamp = time.time()\n",
    "   d = date.fromtimestamp(timestamp)\n",
    "   print(d)\n",
    "   ```\n",
    "\n",
    "   Note: The `time` function returns the number of seconds from January 1, 1970, to the current moment as a float number.\n",
    "\n",
    "4. **Creating a Time Object:**\n",
    "   The constructor of the `time` class accepts six arguments (`hour`, `minute`, `second`, `microsecond`, `tzinfo`, and `fold`). Each of these arguments is optional:\n",
    "\n",
    "   ```python\n",
    "   from datetime import time\n",
    "\n",
    "   t = time(13, 22, 20)\n",
    "\n",
    "   print(\"Hour:\", t.hour)  # Hour: 13\n",
    "   print(\"Minute:\", t.minute)  # Minute: 22\n",
    "   print(\"Second:\", t.second)  # Second: 20\n",
    "   ```\n",
    "\n",
    "5. **Using the Sleep Function:**\n",
    "   The `time` module contains the `sleep` function, which suspends program execution for a given number of seconds:\n",
    "\n",
    "   ```python\n",
    "   import time\n",
    "\n",
    "   time.sleep(10)\n",
    "   print(\"Hello world!\")  # This text will be displayed after 10 seconds.\n",
    "   ```\n",
    "\n",
    "6. **Creating a Datetime Object:**\n",
    "   In the `datetime` module, date and time can be represented either as separate objects or as one object. The class that combines date and time is called `datetime`. All arguments passed to the constructor go to read-only class attributes:\n",
    "\n",
    "   ```python\n",
    "   from datetime import datetime\n",
    "\n",
    "   dt = datetime(2020, 9, 29, 13, 51)\n",
    "   print(\"Datetime:\", dt)  # Displays: Datetime: 2020-09-29 13:51:00\n",
    "   ```\n",
    "\n",
    "7. **Formatting Date and Time:**\n",
    "   The `strftime` method takes one argument in the form of a string specifying a format that can consist of directives. Some useful directives include:\n",
    "\n",
    "   - `%Y` – returns the year with the century as a decimal number.\n",
    "   - `%m` – returns the month as a zero-padded decimal number.\n",
    "   - `%d` – returns the day as a zero-padded decimal number.\n",
    "   - `%H` – returns the hour as a zero-padded decimal number.\n",
    "   - `%M` – returns the minute as a zero-padded decimal number.\n",
    "   - `%S` – returns the second as a zero-padded decimal number.\n",
    "\n",
    "   Example:\n",
    "\n",
    "   ```python\n",
    "   from datetime import date\n",
    "\n",
    "   d = date(2020, 9, 29)\n",
    "   print(d.strftime('%Y/%m/%d'))  # Displays: 2020/09/29\n",
    "   ```\n",
    "\n",
    "8. **Date and Datetime Calculations:**\n",
    "   It's possible to perform calculations on `date` and `datetime` objects. For example:\n",
    "\n",
    "   ```python\n",
    "   from datetime import date\n",
    "\n",
    "   d1 = date(2020, 11, 4)\n",
    "   d2 = date(2019, 11, 4)\n",
    "\n",
    "   d = d1 - d2\n",
    "   print(d)  # Displays: 366 days, 0:00:00.\n",
    "   print(d * 2)  # Displays: 732 days, 0:00:00.\n",
    "   ```\n",
    "\n",
    "   The result of the subtraction is returned as a `timedelta` object that expresses the difference in days between the two dates. The `timedelta` object can be used for further calculations, such as multiplication."
   ]
  },
  {
   "cell_type": "code",
   "execution_count": null,
   "metadata": {},
   "outputs": [],
   "source": []
  }
 ],
 "metadata": {
  "kernelspec": {
   "display_name": "Python 3 (ipykernel)",
   "language": "python",
   "name": "python3"
  },
  "language_info": {
   "codemirror_mode": {
    "name": "ipython",
    "version": 3
   },
   "file_extension": ".py",
   "mimetype": "text/x-python",
   "name": "python",
   "nbconvert_exporter": "python",
   "pygments_lexer": "ipython3",
   "version": "3.11.7"
  }
 },
 "nbformat": 4,
 "nbformat_minor": 4
}
