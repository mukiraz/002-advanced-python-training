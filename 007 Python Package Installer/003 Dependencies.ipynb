{
 "cells": [
  {
   "cell_type": "markdown",
   "id": "13b68321-7ec0-445a-981a-d79214c389c9",
   "metadata": {},
   "source": [
    "### Dependencies\r\n",
    "\r\n",
    "Now that pip is confirmed to be ready, we'll focus on MS Windows, although the principles apply universally. Before diving in, let's address dependencies.\r\n",
    "\r\n",
    "Imagine creating a Python app called `redsuspenders`, which predicts stock prices with 99% accuracy. Your app uses the `nyse` package, which in turn depends on `wallstreet`, and `wallstreet` depends on `bull` and `bear` packages.\r\n",
    "\r\n",
    "Dependencies are critical connections between these packages. When someone else uses your code, they must ensure all dependencies are met. This scenario, known as dependency hell, can be avoided because pip can automatically handle all dependencies, identifying and resolving them efficiently."
   ]
  },
  {
   "cell_type": "code",
   "execution_count": null,
   "id": "78075453-f48b-4dab-849a-096ce54e9974",
   "metadata": {},
   "outputs": [],
   "source": []
  }
 ],
 "metadata": {
  "kernelspec": {
   "display_name": "Python 3 (ipykernel)",
   "language": "python",
   "name": "python3"
  },
  "language_info": {
   "codemirror_mode": {
    "name": "ipython",
    "version": 3
   },
   "file_extension": ".py",
   "mimetype": "text/x-python",
   "name": "python",
   "nbconvert_exporter": "python",
   "pygments_lexer": "ipython3",
   "version": "3.11.7"
  }
 },
 "nbformat": 4,
 "nbformat_minor": 5
}
