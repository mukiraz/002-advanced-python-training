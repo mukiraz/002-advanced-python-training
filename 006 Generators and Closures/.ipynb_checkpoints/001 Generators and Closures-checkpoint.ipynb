{
 "cells": [
  {
   "cell_type": "markdown",
   "metadata": {},
   "source": [
    "### Generators - Where to Find Them\n",
    "\n",
    "When you hear the word \"generator,\" what comes to mind? Perhaps an electronic device or a large machine designed to produce power, whether electrical or otherwise.\n",
    "\n",
    "In Python, a generator is a specialized piece of code capable of producing a series of values and controlling the iteration process. Generators are often referred to as iterators. While there may be subtle distinctions between the two, for simplicity, we'll consider them the same.\n",
    "\n",
    "You've likely encountered generators many times before without realizing it. Consider this simple snippet:"
   ]
  },
  {
   "cell_type": "code",
   "execution_count": 1,
   "metadata": {},
   "outputs": [
    {
     "name": "stdout",
     "output_type": "stream",
     "text": [
      "0\n",
      "1\n",
      "2\n",
      "3\n",
      "4\n"
     ]
    }
   ],
   "source": [
    "for i in range(5):\n",
    "    print(i)"
   ]
  },
  {
   "cell_type": "markdown",
   "metadata": {},
   "source": [
    "The `range()` function is a generator, which also makes it an iterator.\n",
    "\n",
    "### What is the Difference?\n",
    "\n",
    "A regular function returns a single, well-defined value, such as the result of evaluating a polynomial. It is invoked only once.\n",
    "\n",
    "In contrast, a generator returns a series of values and is invoked multiple times, implicitly.\n",
    "\n",
    "In the example above, the `range()` generator is invoked six times, providing five values from zero to four, and finally signaling that the series is complete.\n",
    "\n",
    "This process is usually transparent. To better understand it, let's delve into the iterator protocol."
   ]
  },
  {
   "cell_type": "markdown",
   "metadata": {},
   "source": [
    "### Understanding the Iterator Protocol\n",
    "\n",
    "The iterator protocol defines how an object should behave to align with the rules of the `for` and `in` statements. An object adhering to this protocol is called an iterator.\n",
    "\n",
    "An iterator must implement two methods:\n",
    "\n",
    "- `__iter__()`: This method should return the object itself and is called once to initiate the iteration process.\n",
    "- `__next__()`: This method returns the next value in the series and is called repeatedly by the `for/in` statements. When no more values are available, it should raise the `StopIteration` exception.\n",
    "\n",
    "To illustrate, consider this example:"
   ]
  },
  {
   "cell_type": "code",
   "execution_count": 2,
   "metadata": {},
   "outputs": [
    {
     "name": "stdout",
     "output_type": "stream",
     "text": [
      "__init__\n",
      "__iter__\n",
      "__next__\n",
      "1\n",
      "__next__\n",
      "1\n",
      "__next__\n",
      "2\n",
      "__next__\n",
      "3\n",
      "__next__\n",
      "5\n",
      "__next__\n",
      "8\n",
      "__next__\n",
      "13\n",
      "__next__\n",
      "21\n",
      "__next__\n",
      "34\n",
      "__next__\n",
      "55\n",
      "__next__\n"
     ]
    }
   ],
   "source": [
    "class Fib:\n",
    "    def __init__(self, nn):\n",
    "        print(\"__init__\")\n",
    "        self.__n = nn\n",
    "        self.__i = 0\n",
    "        self.__p1 = self.__p2 = 1\n",
    "\n",
    "    def __iter__(self):\n",
    "        print(\"__iter__\")\n",
    "        return self\n",
    "\n",
    "    def __next__(self):\n",
    "        print(\"__next__\")\n",
    "        self.__i += 1\n",
    "        if self.__i > self.__n:\n",
    "            raise StopIteration\n",
    "        if self.__i in [1, 2]:\n",
    "            return 1\n",
    "        ret = self.__p1 + self.__p2\n",
    "        self.__p1, self.__p2 = self.__p2, ret\n",
    "        return ret\n",
    "\n",
    "for i in Fib(10):\n",
    "    print(i)"
   ]
  },
  {
   "cell_type": "markdown",
   "metadata": {},
   "source": [
    "### Explanation\n",
    "\n",
    "This code defines a class that can iterate through the first `n` values of the Fibonacci sequence, where `n` is specified when an instance is created.\n",
    "\n",
    "#### Key Points:\n",
    "\n",
    "1. **Class Initialization (Lines 2-6)**:\n",
    "   - The constructor initializes the series limit (`__n`), the current index (`__i`), and the first two Fibonacci numbers (`__p1` and `__p2`). It also prints a message for tracing.\n",
    "\n",
    "2. **Iterator Method (Lines 8-10)**:\n",
    "   - The `__iter__` method returns the iterator object itself. This method might seem redundant but is crucial for objects that include iterators. It prints a message indicating its invocation.\n",
    "\n",
    "3. **Next Value Method (Lines 12-21)**:\n",
    "   - The `__next__` method generates the next Fibonacci number. It prints a message, updates the current index, and raises `StopIteration` when the series ends. The rest of the code follows the Fibonacci sequence definition.\n",
    "\n",
    "4. **Usage (Lines 24-25)**:\n",
    "   - The iterator is used in a `for` loop to print the Fibonacci numbers.\n",
    "\n",
    "### Output\n",
    "\n",
    "The code produces the following output, illustrating the iteration process:\n",
    "\n",
    "```plaintext\n",
    "__init__\n",
    "__iter__\n",
    "__next__\n",
    "1\n",
    "__next__\n",
    "1\n",
    "__next__\n",
    "2\n",
    "__next__\n",
    "3\n",
    "__next__\n",
    "5\n",
    "__next__\n",
    "8\n",
    "__next__\n",
    "13\n",
    "__next__\n",
    "21\n",
    "__next__\n",
    "34\n",
    "__next__\n",
    "55\n",
    "```\n",
    "\n",
    "### Summary\n",
    "\n",
    "1. The iterator object is instantiated.\n",
    "2. Python calls the `__iter__` method to access the iterator.\n",
    "3. The `__next__` method is called repeatedly to generate the sequence values, ending when `StopIteration` is raised."
   ]
  },
  {
   "cell_type": "markdown",
   "metadata": {},
   "source": [
    "### Understanding Composition with Iterators\n",
    "\n",
    "The previous example demonstrated a solution where the iterator object is part of a more complex class. Although the code is straightforward, it effectively illustrates the concept.\n",
    "\n",
    "Consider the following code:"
   ]
  },
  {
   "cell_type": "code",
   "execution_count": 3,
   "metadata": {},
   "outputs": [
    {
     "name": "stdout",
     "output_type": "stream",
     "text": [
      "Class iter\n",
      "1\n",
      "1\n",
      "2\n",
      "3\n",
      "5\n",
      "8\n",
      "13\n",
      "21\n"
     ]
    }
   ],
   "source": [
    "class Fib:\n",
    "    def __init__(self, nn):\n",
    "        self.__n = nn\n",
    "        self.__i = 0\n",
    "        self.__p1 = self.__p2 = 1\n",
    "\n",
    "    def __iter__(self):\n",
    "        print(\"Fib iter\")\n",
    "        return self\n",
    "\n",
    "    def __next__(self):\n",
    "        self.__i += 1\n",
    "        if self.__i > self.__n:\n",
    "            raise StopIteration\n",
    "        if self.__i in [1, 2]:\n",
    "            return 1\n",
    "        ret = self.__p1 + self.__p2\n",
    "        self.__p1, self.__p2 = self.__p2, ret\n",
    "        return ret\n",
    "\n",
    "class Class:\n",
    "    def __init__(self, n):\n",
    "        self.__iter = Fib(n)\n",
    "\n",
    "    def __iter__(self):\n",
    "        print(\"Class iter\")\n",
    "        return self.__iter\n",
    "\n",
    "object = Class(8)\n",
    "\n",
    "for i in object:\n",
    "    print(i)"
   ]
  },
  {
   "cell_type": "markdown",
   "metadata": {},
   "source": [
    "### Explanation\n",
    "\n",
    "In this example, the `Fib` iterator is integrated into another class (`Class`). The `Fib` instance is created when a `Class` object is instantiated.\n",
    "\n",
    "A `Class` object can be used as an iterator because it correctly responds to the `__iter__` method. When this method is called, it returns an object that follows the iteration protocol.\n",
    "\n",
    "### Key Points\n",
    "\n",
    "- **Class Initialization**:\n",
    "  - The `Fib` class initializes the Fibonacci sequence with a limit (`__n`), a counter (`__i`), and the first two numbers of the sequence (`__p1` and `__p2`).\n",
    "  - The `Class` class initializes a `Fib` iterator instance.\n",
    "\n",
    "- **Iterator Methods**:\n",
    "  - The `Fib` class implements the `__iter__` and `__next__` methods to generate the Fibonacci sequence.\n",
    "  - The `Class` class implements the `__iter__` method, which returns the `Fib` iterator instance.\n",
    "\n",
    "- **Usage**:\n",
    "  - An instance of the `Class` class is created and used in a `for` loop to print the Fibonacci numbers.\n",
    "\n",
    "### Output\n",
    "\n",
    "The code produces the same output as before, demonstrating that the `Class` object can serve as an iterator without directly using the `Fib` object in the `for` loop.\n",
    "\n",
    "This approach shows how composition can be used to integrate an iterator within a more complex class structure while maintaining the functionality and behavior of the iteration process."
   ]
  },
  {
   "cell_type": "markdown",
   "metadata": {},
   "source": [
    "### The `yield` Statement\n",
    "\n",
    "The iterator protocol is not particularly difficult to understand or use, but it does have its inconveniences. The main issue is the need to maintain the state of the iteration between successive `__iter__` invocations.\n",
    "\n",
    "For instance, the `Fib` iterator must precisely remember where the last invocation stopped (i.e., the current number and the values of the two previous elements). This requirement makes the code bulkier and harder to understand.\n",
    "\n",
    "To address this, Python provides a more effective, convenient, and elegant way of writing iterators using the `yield` keyword.\n",
    "\n",
    "You can think of `yield` as a smarter sibling of the `return` statement, with one crucial difference.\n",
    "\n",
    "Consider this function:"
   ]
  },
  {
   "cell_type": "code",
   "execution_count": 4,
   "metadata": {},
   "outputs": [],
   "source": [
    "def fun(n):\n",
    "    for i in range(n):\n",
    "        return i"
   ]
  },
  {
   "cell_type": "markdown",
   "metadata": {},
   "source": [
    "It looks odd, doesn’t it? Clearly, the `for` loop has no chance to complete its first iteration because `return` will terminate it immediately. Invoking the function will not change this behavior; the `for` loop will always start fresh and be broken right away.\n",
    "\n",
    "Such a function cannot save and restore its state between invocations, meaning it cannot be used as a generator.\n",
    "\n",
    "Now, let's make a small change:"
   ]
  },
  {
   "cell_type": "code",
   "execution_count": 5,
   "metadata": {},
   "outputs": [],
   "source": [
    "def fun(n):\n",
    "    for i in range(n):\n",
    "        yield i"
   ]
  },
  {
   "cell_type": "markdown",
   "metadata": {},
   "source": [
    "By replacing `return` with `yield`, we transform the function into a generator. The `yield` statement has some fascinating effects.\n",
    "\n",
    "Firstly, `yield` provides the value of the expression following it, just like `return`, but it does not lose the function's state. All the variables' values are frozen and await the next invocation, resuming execution from where it left off.\n",
    "\n",
    "However, there is an important limitation: such a function should not be invoked explicitly as a regular function; it is now a generator object. Direct invocation returns the object's identifier, not the expected series of values.\n",
    "\n",
    "To illustrate, consider the following code:"
   ]
  },
  {
   "cell_type": "code",
   "execution_count": 6,
   "metadata": {},
   "outputs": [
    {
     "name": "stdout",
     "output_type": "stream",
     "text": [
      "0\n",
      "1\n",
      "2\n",
      "3\n",
      "4\n"
     ]
    }
   ],
   "source": [
    "def fun(n):\n",
    "    for i in range(n):\n",
    "        yield i\n",
    "\n",
    "for v in fun(5):\n",
    "    print(v)"
   ]
  },
  {
   "cell_type": "markdown",
   "metadata": {},
   "source": [
    "### Explanation\n",
    "\n",
    "This example shows how to create and use a generator. The `yield` statement allows the function to produce a series of values over multiple invocations without losing its state, providing a clean and efficient way to implement iterators."
   ]
  },
  {
   "cell_type": "markdown",
   "metadata": {},
   "source": [
    "### Building Your Own Generator\n",
    "\n",
    "Need a generator to produce the first `n` powers of 2? It's simple. Check out the code below:"
   ]
  },
  {
   "cell_type": "code",
   "execution_count": 7,
   "metadata": {},
   "outputs": [
    {
     "name": "stdout",
     "output_type": "stream",
     "text": [
      "1\n",
      "2\n",
      "4\n",
      "8\n",
      "16\n",
      "32\n",
      "64\n",
      "128\n"
     ]
    }
   ],
   "source": [
    "def powers_of_2(n):\n",
    "    power = 1\n",
    "    for i in range(n):\n",
    "        yield power\n",
    "        power *= 2\n",
    "\n",
    "for v in powers_of_2(8):\n",
    "    print(v)"
   ]
  },
  {
   "cell_type": "markdown",
   "metadata": {},
   "source": [
    "\n",
    "Can you guess the output? Copy the code into an editor and run it to verify your guess.\n",
    "\n",
    "### List Comprehensions\n",
    "\n",
    "Generators can also be used within list comprehensions, like this:"
   ]
  },
  {
   "cell_type": "code",
   "execution_count": 8,
   "metadata": {},
   "outputs": [
    {
     "name": "stdout",
     "output_type": "stream",
     "text": [
      "[1, 2, 4, 8, 16]\n"
     ]
    }
   ],
   "source": [
    "def powers_of_2(n):\n",
    "    power = 1\n",
    "    for i in range(n):\n",
    "        yield power\n",
    "        power *= 2\n",
    "\n",
    "t = [x for x in powers_of_2(5)]\n",
    "print(t)"
   ]
  },
  {
   "cell_type": "markdown",
   "metadata": {},
   "source": [
    "Run the example and check the output.\n",
    "\n",
    "### The `list()` Function\n",
    "\n",
    "The `list()` function can convert a series of generator outputs into an actual list:"
   ]
  },
  {
   "cell_type": "code",
   "execution_count": 9,
   "metadata": {},
   "outputs": [
    {
     "name": "stdout",
     "output_type": "stream",
     "text": [
      "[1, 2, 4]\n"
     ]
    }
   ],
   "source": [
    "\n",
    "def powers_of_2(n):\n",
    "    power = 1\n",
    "    for i in range(n):\n",
    "        yield power\n",
    "        power *= 2\n",
    "\n",
    "t = list(powers_of_2(3))\n",
    "print(t)"
   ]
  },
  {
   "cell_type": "markdown",
   "metadata": {},
   "source": [
    "Again, try to predict the output and run the code to check your predictions.\n",
    "\n",
    "### The `in` Operator\n",
    "\n",
    "Additionally, the context created by the `in` operator allows you to use a generator. Here's an example:"
   ]
  },
  {
   "cell_type": "code",
   "execution_count": 10,
   "metadata": {},
   "outputs": [
    {
     "name": "stdout",
     "output_type": "stream",
     "text": [
      "1\n",
      "2\n",
      "4\n",
      "8\n"
     ]
    }
   ],
   "source": [
    "def powers_of_2(n):\n",
    "    power = 1\n",
    "    for i in range(n):\n",
    "        yield power\n",
    "        power *= 2\n",
    "\n",
    "for i in range(20):\n",
    "    if i in powers_of_2(4):\n",
    "        print(i)"
   ]
  },
  {
   "cell_type": "markdown",
   "metadata": {},
   "source": [
    "What's the output of this code? Run the program to find out.\n",
    "\n",
    "### The Fibonacci Number Generator\n",
    "\n",
    "Now, let's look at a Fibonacci number generator. This approach is more elegant than the direct iterator protocol implementation:"
   ]
  },
  {
   "cell_type": "code",
   "execution_count": 11,
   "metadata": {},
   "outputs": [
    {
     "name": "stdout",
     "output_type": "stream",
     "text": [
      "[1, 1, 2, 3, 5, 8, 13, 21, 34, 55]\n"
     ]
    }
   ],
   "source": [
    "def fibonacci(n):\n",
    "    p = pp = 1\n",
    "    for i in range(n):\n",
    "        if i in [0, 1]:\n",
    "            yield 1\n",
    "        else:\n",
    "            n = p + pp\n",
    "            pp, p = p, n\n",
    "            yield n\n",
    "\n",
    "fibs = list(fibonacci(10))\n",
    "print(fibs)"
   ]
  },
  {
   "cell_type": "markdown",
   "metadata": {},
   "source": [
    "Guess the output (a list) produced by the generator and run the code to see if you were right."
   ]
  },
  {
   "cell_type": "markdown",
   "metadata": {},
   "source": [
    "### More About List Comprehensions\n",
    "\n",
    "Recall the rules for creating and using a special Python feature called list comprehension. This is a simple and impressive way to create lists and their contents.\n",
    "\n",
    "Consider the following code:"
   ]
  },
  {
   "cell_type": "code",
   "execution_count": 12,
   "metadata": {},
   "outputs": [
    {
     "name": "stdout",
     "output_type": "stream",
     "text": [
      "[1, 10, 100, 1000, 10000, 100000]\n",
      "[1, 10, 100, 1000, 10000, 100000]\n"
     ]
    }
   ],
   "source": [
    "list_1 = []\n",
    "\n",
    "for ex in range(6):\n",
    "    list_1.append(10 ** ex)\n",
    "\n",
    "list_2 = [10 ** ex for ex in range(6)]\n",
    "\n",
    "print(list_1)\n",
    "print(list_2)"
   ]
  },
  {
   "cell_type": "markdown",
   "metadata": {},
   "source": [
    "In this code, there are two sections, both creating a list containing the first few natural powers of ten.\n",
    "\n",
    "The first part uses a traditional `for` loop to build the list, while the second part uses list comprehension to create the list directly, without needing a loop or any additional code.\n",
    "\n",
    "It may appear as though the list is creating itself. This isn’t true, of course, since Python still performs nearly the same operations as in the first snippet. However, the second approach is undeniably more elegant, allowing the reader to avoid unnecessary details.\n",
    "\n",
    "The example outputs two identical lines:\n",
    "\n",
    "```\n",
    "[1, 10, 100, 1000, 10000, 100000]\n",
    "[1, 10, 100, 1000, 10000, 100000]\n",
    "```\n",
    "\n",
    "Run the code to verify this."
   ]
  },
  {
   "cell_type": "markdown",
   "metadata": {},
   "source": [
    "### More About List Comprehensions: Continued\n",
    "\n",
    "We want to show you a very interesting syntax that is not limited to list comprehensions, but comprehensions are an ideal environment for it.\n",
    "\n",
    "This syntax is the conditional expression, which allows you to choose between two different values based on a Boolean expression.\n",
    "\n",
    "Here's how it looks:\n",
    "\n",
    "```python\n",
    "expression_one if condition else expression_two\n",
    "```\n",
    "\n",
    "At first glance, it may seem surprising, but remember that it is not a conditional statement. In fact, it's not a statement at all; it's an operator.\n",
    "\n",
    "The value it returns is `expression_one;` if the condition is `True`, and `expression_two` otherwise.\n",
    "\n",
    "A good example will make this clearer. Consider the following code:"
   ]
  },
  {
   "cell_type": "code",
   "execution_count": 13,
   "metadata": {},
   "outputs": [
    {
     "name": "stdout",
     "output_type": "stream",
     "text": [
      "[1, 0, 1, 0, 1, 0, 1, 0, 1, 0]\n"
     ]
    }
   ],
   "source": [
    "the_list = []\n",
    "\n",
    "for x in range(10):\n",
    "    the_list.append(1 if x % 2 == 0 else 0)\n",
    "\n",
    "print(the_list)"
   ]
  },
  {
   "cell_type": "markdown",
   "metadata": {},
   "source": [
    "This code fills a list with 1s and 0s: if the index of a particular element is even, the element is set to 1, and to 0 otherwise.\n",
    "\n",
    "Simple? Maybe not at first glance. Elegant? Undoubtedly.\n",
    "\n",
    "Can you use the same trick within a list comprehension? Yes, you can."
   ]
  },
  {
   "cell_type": "markdown",
   "metadata": {},
   "source": [
    "### List Comprehensions and Generators\n",
    "\n",
    "Take a look at the example below:"
   ]
  },
  {
   "cell_type": "code",
   "execution_count": 14,
   "metadata": {},
   "outputs": [
    {
     "name": "stdout",
     "output_type": "stream",
     "text": [
      "[1, 0, 1, 0, 1, 0, 1, 0, 1, 0]\n"
     ]
    }
   ],
   "source": [
    "the_list = [1 if x % 2 == 0 else 0 for x in range(10)]\n",
    "\n",
    "print(the_list)"
   ]
  },
  {
   "cell_type": "markdown",
   "metadata": {},
   "source": [
    "Compactness and elegance—these two words come to mind when looking at this code.\n",
    "\n",
    "### Connection Between Generators and List Comprehensions\n",
    "\n",
    "What do generators and list comprehensions have in common? Is there a connection between them? Yes, there is a rather loose but unmistakable connection. Just one change can turn any list comprehension into a generator.\n",
    "\n",
    "### List Comprehensions vs. Generators\n",
    "\n",
    "Look at the code below and see if you can find the detail that turns a list comprehension into a generator:"
   ]
  },
  {
   "cell_type": "code",
   "execution_count": 15,
   "metadata": {},
   "outputs": [
    {
     "name": "stdout",
     "output_type": "stream",
     "text": [
      "1 0 1 0 1 0 1 0 1 0 \n",
      "1 0 1 0 1 0 1 0 1 0 \n"
     ]
    }
   ],
   "source": [
    "the_list = [1 if x % 2 == 0 else 0 for x in range(10)]\n",
    "the_generator = (1 if x % 2 == 0 else 0 for x in range(10))\n",
    "\n",
    "for v in the_list:\n",
    "    print(v, end=\" \")\n",
    "print()\n",
    "\n",
    "for v in the_generator:\n",
    "    print(v, end=\" \")\n",
    "print()"
   ]
  },
  {
   "cell_type": "markdown",
   "metadata": {},
   "source": [
    "It's the parentheses. Brackets create a comprehension, while parentheses create a generator.\n",
    "\n",
    "When you run this code, it produces two identical lines:\n",
    "\n",
    "```\n",
    "1 0 1 0 1 0 1 0 1 0\n",
    "1 0 1 0 1 0 1 0 1 0\n",
    "```\n",
    "\n",
    "### Identifying a Generator\n",
    "\n",
    "How can you know that the second assignment creates a generator, not a list? Here's a simple proof. Apply the `len()` function to both entities.\n",
    "\n",
    "`len(the_list)` will evaluate to 10, which is clear and predictable. `len(the_generator)` will raise an exception, displaying the following message:\n",
    "\n",
    "```\n",
    "TypeError: object of type 'generator' has no len()\n",
    "```\n",
    "\n",
    "### Creating Generators and Lists In-Place\n",
    "\n",
    "You don't need to save either the list or the generator; you can create them exactly where you need them, as shown here:"
   ]
  },
  {
   "cell_type": "code",
   "execution_count": 16,
   "metadata": {},
   "outputs": [
    {
     "name": "stdout",
     "output_type": "stream",
     "text": [
      "1 0 1 0 1 0 1 0 1 0 \n",
      "1 0 1 0 1 0 1 0 1 0 \n"
     ]
    }
   ],
   "source": [
    "for v in [1 if x % 2 == 0 else 0 for x in range(10)]:\n",
    "    print(v, end=\" \")\n",
    "print()\n",
    "\n",
    "for v in (1 if x % 2 == 0 else 0 for x in range(10)):\n",
    "    print(v, end=\" \")\n",
    "print()"
   ]
  },
  {
   "cell_type": "markdown",
   "metadata": {},
   "source": [
    "### Note on Execution\n",
    "\n",
    "The identical appearance of the output doesn't mean that both loops work in the same way. In the first loop, the list is created (and iterated through) as a whole—it actually exists when the loop is being executed.\n",
    "\n",
    "In the second loop, there is no list at all—there are only subsequent values produced by the generator, one by one.\n",
    "\n",
    "### Experiment for Yourself\n",
    "\n",
    "Feel free to carry out your own experiments to explore these concepts further."
   ]
  },
  {
   "cell_type": "markdown",
   "metadata": {},
   "source": [
    "### The Lambda Function\n",
    "\n",
    "The lambda function is a concept borrowed from mathematics, specifically from a branch called Lambda calculus. However, these two concepts are not the same.\n",
    "\n",
    "Mathematicians use Lambda calculus in various formal systems related to logic, recursion, and theorem provability. Programmers use lambda functions to simplify code, making it clearer and easier to understand.\n",
    "\n",
    "A lambda function is a function without a name (also known as an anonymous function). This might raise the question: how do you use something that cannot be identified?\n",
    "\n",
    "Fortunately, you can name a lambda function if necessary, but in many cases, a lambda function can exist and operate anonymously.\n",
    "\n",
    "The declaration of a lambda function is different from a normal function declaration. Here’s the syntax:\n",
    "\n",
    "```python\n",
    "lambda parameters: expression\n",
    "```\n",
    "\n",
    "This returns the value of the expression based on the current values of the lambda's parameters.\n",
    "\n",
    "### Example\n",
    "\n",
    "Let's use an example with three lambda functions, assigning them names:"
   ]
  },
  {
   "cell_type": "code",
   "execution_count": 17,
   "metadata": {},
   "outputs": [
    {
     "name": "stdout",
     "output_type": "stream",
     "text": [
      "4 4\n",
      "1 1\n",
      "0 0\n",
      "1 1\n",
      "4 4\n"
     ]
    }
   ],
   "source": [
    "two = lambda: 2\n",
    "sqr = lambda x: x * x\n",
    "pwr = lambda x, y: x ** y\n",
    "\n",
    "for a in range(-2, 3):\n",
    "    print(sqr(a), end=\" \")\n",
    "    print(pwr(a, two()))"
   ]
  },
  {
   "cell_type": "markdown",
   "metadata": {},
   "source": [
    "### Analysis\n",
    "\n",
    "- The first lambda is a parameterless anonymous function that always returns 2. Since we assigned it to the variable `two`, the function is no longer anonymous and can be called using the name.\n",
    "  \n",
    "- The second lambda is a one-parameter anonymous function that returns the square of its argument. We named it `sqr`.\n",
    "  \n",
    "- The third lambda takes two parameters and returns the value of the first parameter raised to the power of the second. We named it `pwr`. We avoided using the name `pow` to prevent confusion with Python’s built-in `pow` function.\n",
    "\n",
    "The program produces the following output:\n",
    "\n",
    "```\n",
    "4 4\n",
    "1 1\n",
    "0 0\n",
    "1 1\n",
    "4 4\n",
    "```\n",
    "\n",
    "This example shows how lambda functions are declared and used. However, it does not explain why they are necessary or their benefits since regular Python functions can replace them.\n",
    "\n",
    "### The Benefit of Lambda Functions\n",
    "\n",
    "Lambda functions are particularly useful in scenarios where you need a small, throwaway function for a short period of time. Here are some common uses:\n",
    "\n",
    "1. **Inline Use**: They can be used inline without the need to formally define a function, which makes the code more concise.\n",
    "   \n",
    "2. **Higher-Order Functions**: They are often used as arguments to higher-order functions like `map()`, `filter()`, and `sorted()`.\n",
    "\n",
    "3. **Callbacks**: They are useful in event-driven programming as callbacks, where defining a whole function might be overkill.\n",
    "\n",
    "By using lambda functions, you can write more compact and readable code, especially in simple cases where defining a full function would be unnecessarily verbose."
   ]
  },
  {
   "cell_type": "markdown",
   "metadata": {},
   "source": [
    "### How to Use Lambdas and What For?\n",
    "\n",
    "The most interesting aspect of using lambdas is when you use them in their pure form—as anonymous pieces of code intended to evaluate a result.\n",
    "\n",
    "Imagine we need a function (we'll call it `print_function`) that prints the values of a given function for a set of selected arguments.\n",
    "\n",
    "We want `print_function` to be universal. It should accept a set of arguments in a list and a function to evaluate, both as parameters, without hardcoding anything.\n",
    "\n",
    "Here’s an example of how we’ve implemented this idea:"
   ]
  },
  {
   "cell_type": "code",
   "execution_count": 18,
   "metadata": {},
   "outputs": [
    {
     "name": "stdout",
     "output_type": "stream",
     "text": [
      "f(-2) = 18\n",
      "f(-1) = 8\n",
      "f(0) = 2\n",
      "f(1) = 0\n",
      "f(2) = 2\n"
     ]
    }
   ],
   "source": [
    "def print_function(args, fun):\n",
    "    for x in args:\n",
    "        print('f(', x, ') = ', fun(x), sep='')\n",
    "\n",
    "def poly(x):\n",
    "    return 2 * x**2 - 4 * x + 2\n",
    "\n",
    "print_function([x for x in range(-2, 3)], poly)"
   ]
  },
  {
   "cell_type": "markdown",
   "metadata": {},
   "source": [
    "### Analysis\n",
    "\n",
    "The `print_function()` takes two parameters:\n",
    "1. A list of arguments for which we want to print the results.\n",
    "2. A function that will be invoked as many times as there are values in the list of arguments.\n",
    "\n",
    "Note: We've also defined a function named `poly()`—this is the function whose values we will print. The calculation performed by this function is the polynomial:\n",
    "\n",
    "\\[ f(x) = 2x^2 - 4x + 2 \\]\n",
    "\n",
    "The name of the function is then passed to `print_function()` along with a set of five different arguments, built with a list comprehension.\n",
    "\n",
    "The code prints the following lines:\n",
    "\n",
    "```\n",
    "f(-2) = 18\n",
    "f(-1) = 8\n",
    "f(0) = 2\n",
    "f(1) = 0\n",
    "f(2) = 2\n",
    "```\n",
    "\n",
    "### Using Lambdas\n",
    "\n",
    "Can we avoid defining the `poly()` function since we only use it once? Yes, we can—this is where a lambda can be useful.\n",
    "\n",
    "Consider the following example. Can you spot the difference?"
   ]
  },
  {
   "cell_type": "code",
   "execution_count": 19,
   "metadata": {},
   "outputs": [
    {
     "name": "stdout",
     "output_type": "stream",
     "text": [
      "f(-2) = 18\n",
      "f(-1) = 8\n",
      "f(0) = 2\n",
      "f(1) = 0\n",
      "f(2) = 2\n"
     ]
    }
   ],
   "source": [
    "def print_function(args, fun):\n",
    "    for x in args:\n",
    "        print('f(', x, ') = ', fun(x), sep='')\n",
    "\n",
    "print_function([x for x in range(-2, 3)], lambda x: 2 * x**2 - 4 * x + 2)"
   ]
  },
  {
   "cell_type": "markdown",
   "metadata": {},
   "source": [
    "\n",
    "The `print_function()` remains exactly the same, but there is no `poly()` function. We don’t need it anymore because the polynomial is now directly inside the `print_function()` call as a lambda:\n",
    "\n",
    "```python\n",
    "lambda x: 2 * x**2 - 4 * x + 2\n",
    "```\n",
    "\n",
    "The code is shorter, clearer, and more legible.\n",
    "\n",
    "### Another Use of Lambdas\n",
    "\n",
    "Let’s look at another place where lambdas can be useful. We'll start with the `map()` function, a built-in Python function. Its name might not be very descriptive, but its idea is simple and the function is very useful."
   ]
  },
  {
   "cell_type": "markdown",
   "metadata": {},
   "source": [
    "### Lambdas and the `map()` Function\n",
    "\n",
    "In its simplest form, the `map()` function:\n",
    "\n",
    "```python\n",
    "map(function, list)\n",
    "```\n",
    "\n",
    "takes two arguments:\n",
    "1. A function.\n",
    "2. A list.\n",
    "\n",
    "However, this description is quite simplified because:\n",
    "\n",
    "- The second argument of `map()` can be any iterable entity (e.g., a tuple, or a generator).\n",
    "- `map()` can accept more than two arguments.\n",
    "\n",
    "The `map()` function applies the function given as its first argument to all elements of the second argument, and returns an iterator that delivers all subsequent function results.\n",
    "\n",
    "You can use the resulting iterator in a loop, or convert it into a list using the `list()` function.\n",
    "\n",
    "### Using Lambdas with `map()`\n",
    "\n",
    "Can you see how a lambda function could be useful here?\n",
    "\n",
    "Consider the following code, which uses two lambdas:"
   ]
  },
  {
   "cell_type": "code",
   "execution_count": 20,
   "metadata": {},
   "outputs": [
    {
     "name": "stdout",
     "output_type": "stream",
     "text": [
      "[1, 2, 4, 8, 16]\n",
      "1 4 16 64 256 \n"
     ]
    }
   ],
   "source": [
    "list_1 = [x for x in range(5)]\n",
    "list_2 = list(map(lambda x: 2 ** x, list_1))\n",
    "print(list_2)\n",
    "\n",
    "for x in map(lambda x: x * x, list_2):\n",
    "    print(x, end=' ')\n",
    "print()"
   ]
  },
  {
   "cell_type": "markdown",
   "metadata": {},
   "source": [
    "\n",
    "### Analysis\n",
    "\n",
    "- **Creating `list_1`**: We build `list_1` with values from 0 to 4.\n",
    "- **Using `map()` with the First Lambda**: We use `map()` along with the first lambda to create a new list (`list_2`) where each element is evaluated as 2 raised to the power of the corresponding element in `list_1`.\n",
    "- **Printing `list_2`**: We then print `list_2`.\n",
    "- **Using `map()` with the Second Lambda**: In the next step, we use `map()` again to directly print all the values it returns. Here, we use the second lambda to square each element from `list_2`.\n",
    "\n",
    "### Code Output\n",
    "\n",
    "The output will be:\n",
    "```\n",
    "[1, 2, 4, 8, 16]\n",
    "1 4 16 64 256 \n",
    "```\n",
    "\n",
    "### Conclusion\n",
    "\n",
    "Try to imagine the same code without lambdas. Would it be any better? It's unlikely. Using lambdas makes the code more concise and readable, especially for simple, one-off operations."
   ]
  },
  {
   "cell_type": "markdown",
   "metadata": {},
   "source": [
    "### Lambdas and the `filter()` Function\n",
    "\n",
    "Another Python function that can be significantly enhanced by using lambdas is `filter()`.\n",
    "\n",
    "`filter()` expects the same type of arguments as `map()`, but it performs a different task—it filters its second argument based on the criteria specified by the function provided as the first argument. This function is called for each element in the list, similar to `map()`.\n",
    "\n",
    "Elements for which the function returns `True` pass the filter; the others are excluded.\n",
    "\n",
    "The example below demonstrates the `filter()` function in action:"
   ]
  },
  {
   "cell_type": "code",
   "execution_count": 21,
   "metadata": {},
   "outputs": [
    {
     "name": "stdout",
     "output_type": "stream",
     "text": [
      "[-6, -10, -5, 0, 6]\n",
      "[6]\n"
     ]
    }
   ],
   "source": [
    "from random import seed, randint\n",
    "\n",
    "seed()\n",
    "data = [randint(-10, 10) for x in range(5)]\n",
    "filtered = list(filter(lambda x: x > 0 and x % 2 == 0, data))\n",
    "\n",
    "print(data)\n",
    "print(filtered)"
   ]
  },
  {
   "cell_type": "markdown",
   "metadata": {},
   "source": [
    "### Explanation\n",
    "\n",
    "In this example, we use the `random` module to initialize the random number generator (not to be confused with the generators we've just discussed) with the `seed()` function, and produce five random integer values between -10 and 10 using the `randint()` function.\n",
    "\n",
    "The list is then filtered, accepting only the numbers that are even and greater than zero.\n",
    "\n",
    "### Example Output\n",
    "\n",
    "Your results may vary due to the random nature of the input, but here’s what our output looked like:\n",
    "\n",
    "```\n",
    "[6, 3, 3, 2, -7]\n",
    "[6, 2]\n",
    "```\n",
    "\n",
    "This shows how using lambdas with `filter()` can make your code more concise and readable."
   ]
  },
  {
   "cell_type": "markdown",
   "metadata": {},
   "source": [
    "### A Brief Look at Closures\n",
    "\n",
    "Let's start with a definition: a closure is a technique that allows storing values even after the context in which they were created no longer exists. Intricate? A bit.\n",
    "\n",
    "Let's analyze a simple example:"
   ]
  },
  {
   "cell_type": "code",
   "execution_count": 22,
   "metadata": {},
   "outputs": [
    {
     "ename": "NameError",
     "evalue": "name 'par' is not defined",
     "output_type": "error",
     "traceback": [
      "\u001b[1;31m---------------------------------------------------------------------------\u001b[0m",
      "\u001b[1;31mNameError\u001b[0m                                 Traceback (most recent call last)",
      "Cell \u001b[1;32mIn[22], line 7\u001b[0m\n\u001b[0;32m      4\u001b[0m var \u001b[38;5;241m=\u001b[39m \u001b[38;5;241m1\u001b[39m\n\u001b[0;32m      5\u001b[0m outer(var)\n\u001b[1;32m----> 7\u001b[0m \u001b[38;5;28mprint\u001b[39m(par)\n\u001b[0;32m      8\u001b[0m \u001b[38;5;28mprint\u001b[39m(loc)\n",
      "\u001b[1;31mNameError\u001b[0m: name 'par' is not defined"
     ]
    }
   ],
   "source": [
    "def outer(par):\n",
    "    loc = par\n",
    "\n",
    "var = 1\n",
    "outer(var)\n",
    "\n",
    "print(par)\n",
    "print(loc)"
   ]
  },
  {
   "cell_type": "markdown",
   "metadata": {},
   "source": [
    "The example is obviously erroneous.\n",
    "\n",
    "The last two lines will cause a `NameError` exception – neither `par` nor `loc` is accessible outside the function. Both variables exist only when the `outer()` function is being executed.\n",
    "\n",
    "Now, look at the modified code below:"
   ]
  },
  {
   "cell_type": "code",
   "execution_count": null,
   "metadata": {},
   "outputs": [],
   "source": [
    "def outer(par):\n",
    "    loc = par\n",
    "\n",
    "    def inner():\n",
    "        return loc\n",
    "    return inner\n",
    "\n",
    "var = 1\n",
    "fun = outer(var)\n",
    "print(fun())"
   ]
  },
  {
   "cell_type": "markdown",
   "metadata": {},
   "source": [
    "Here, we have a new element – a function (`inner`) inside another function (`outer`).\n",
    "\n",
    "### How It Works\n",
    "\n",
    "This setup works like any other function, except that `inner()` can only be invoked from within `outer()`. In this context, `inner()` is a private tool of `outer()` – no other part of the code can access it.\n",
    "\n",
    "Consider the following:\n",
    "\n",
    "- The `inner()` function returns the value of the variable `loc`, which is accessible within its scope. `inner()` can use any entities available to `outer()`.\n",
    "- The `outer()` function returns the `inner()` function itself. More precisely, it returns a copy of the `inner()` function, which was frozen at the moment of `outer()`'s invocation. This frozen function contains its entire environment, including the state of all local variables. This means that the value of `loc` is retained successfully, even though `outer()` no longer exists.\n",
    "\n",
    "As a result, the code is fully valid and outputs:\n",
    "\n",
    "```\n",
    "1\n",
    "```\n",
    "\n",
    "The function returned during the `outer()` invocation is a closure."
   ]
  },
  {
   "cell_type": "markdown",
   "metadata": {},
   "source": [
    "### Understanding Closures\n",
    "\n",
    "A closure must be invoked in the same way it was declared.\n",
    "\n",
    "Consider this example:"
   ]
  },
  {
   "cell_type": "code",
   "execution_count": 23,
   "metadata": {},
   "outputs": [
    {
     "name": "stdout",
     "output_type": "stream",
     "text": [
      "1\n"
     ]
    }
   ],
   "source": [
    "def outer(par):\n",
    "    loc = par\n",
    "\n",
    "    def inner():\n",
    "        return loc\n",
    "    return inner\n",
    "\n",
    "var = 1\n",
    "fun = outer(var)\n",
    "print(fun())"
   ]
  },
  {
   "cell_type": "markdown",
   "metadata": {},
   "source": [
    "The `inner()` function is parameterless, so we must invoke it without arguments.\n",
    "\n",
    "Now, look at the code below. It is fully possible to declare a closure with any number of parameters, like the `power()` function:"
   ]
  },
  {
   "cell_type": "code",
   "execution_count": 24,
   "metadata": {},
   "outputs": [
    {
     "name": "stdout",
     "output_type": "stream",
     "text": [
      "0 0 0\n",
      "1 1 1\n",
      "2 4 8\n",
      "3 9 27\n",
      "4 16 64\n"
     ]
    }
   ],
   "source": [
    "def make_closure(par):\n",
    "    loc = par\n",
    "\n",
    "    def power(p):\n",
    "        return p ** loc\n",
    "    return power\n",
    "\n",
    "fsqr = make_closure(2)\n",
    "fcub = make_closure(3)\n",
    "\n",
    "for i in range(5):\n",
    "    print(i, fsqr(i), fcub(i))"
   ]
  },
  {
   "cell_type": "markdown",
   "metadata": {},
   "source": [
    "This demonstrates that a closure can utilize the frozen environment and modify its behavior using values from the outside.\n",
    "\n",
    "### Analysis\n",
    "\n",
    "This example shows an additional interesting aspect: you can create as many closures as you want using the same piece of code. This is accomplished with the `make_closure()` function.\n",
    "\n",
    "- The first closure obtained from `make_closure(2)` defines a function that squares its argument.\n",
    "- The second closure obtained from `make_closure(3)` defines a function that cubes its argument.\n",
    "\n",
    "As a result, the code produces the following output:\n",
    "\n",
    "```\n",
    "0 0 0\n",
    "1 1 1\n",
    "2 4 8\n",
    "3 9 27\n",
    "4 16 64\n",
    "```\n",
    "\n",
    "### Try It Yourself\n",
    "\n",
    "Feel free to carry out your own tests to explore closures further."
   ]
  },
  {
   "cell_type": "markdown",
   "metadata": {},
   "source": [
    "### Summary\n",
    "\n",
    "1. **Iterator**:\n",
    "   - An iterator is an object of a class that provides at least two methods (excluding the constructor):\n",
    "     - `__iter__()`: Called once when the iterator is created and returns the iterator object itself.\n",
    "     - `__next__()`: Called to provide the next value in the iteration and raises the `StopIteration` exception when the iteration ends.\n",
    "\n",
    "2. **The `yield` Statement**:\n",
    "   - The `yield` statement can only be used inside functions. It suspends the function’s execution and returns the `yield` argument as a result. Such a function cannot be invoked in a regular way—it is meant to be used as a generator (e.g., in a context that requires a series of values, like a `for` loop).\n",
    "\n",
    "3. **Conditional Expression**:\n",
    "   - A conditional expression uses the `if-else` operator. For example:"
   ]
  },
  {
   "cell_type": "code",
   "execution_count": 25,
   "metadata": {},
   "outputs": [
    {
     "name": "stdout",
     "output_type": "stream",
     "text": [
      "True\n"
     ]
    }
   ],
   "source": [
    "print(True if 0 >= 0 else False)"
   ]
  },
  {
   "cell_type": "markdown",
   "metadata": {},
   "source": [
    "4. **List Comprehension to Generator**:\n",
    "   - A list comprehension becomes a generator when used inside parentheses (inside brackets, it produces a regular list). For example:"
   ]
  },
  {
   "cell_type": "code",
   "execution_count": 26,
   "metadata": {},
   "outputs": [
    {
     "name": "stdout",
     "output_type": "stream",
     "text": [
      "0\n",
      "2\n",
      "4\n",
      "6\n",
      "8\n"
     ]
    }
   ],
   "source": [
    "for x in (el * 2 for el in range(5)):\n",
    "    print(x)"
   ]
  },
  {
   "cell_type": "markdown",
   "metadata": {},
   "source": [
    "5. **Lambda Function**:\n",
    "   - A lambda function creates anonymous functions. For example:"
   ]
  },
  {
   "cell_type": "code",
   "execution_count": 27,
   "metadata": {},
   "outputs": [
    {
     "name": "stdout",
     "output_type": "stream",
     "text": [
      "3.0\n"
     ]
    }
   ],
   "source": [
    "def foo(x, f):\n",
    "    return f(x)\n",
    "\n",
    "print(foo(9, lambda x: x ** 0.5))"
   ]
  },
  {
   "cell_type": "markdown",
   "metadata": {},
   "source": [
    "6. **`map()` Function**:\n",
    "   - The `map(fun, list)` function applies the `fun` function to all elements of the list, returning a generator that provides the new list content element by element. For example:"
   ]
  },
  {
   "cell_type": "code",
   "execution_count": 28,
   "metadata": {},
   "outputs": [
    {
     "name": "stdout",
     "output_type": "stream",
     "text": [
      "['Mython', 'Python', 'Fell', 'On', 'The', 'Floor']\n"
     ]
    }
   ],
   "source": [
    "short_list = ['mython', 'python', 'fell', 'on', 'the', 'floor']\n",
    "new_list = list(map(lambda s: s.title(), short_list))\n",
    "print(new_list)"
   ]
  },
  {
   "cell_type": "markdown",
   "metadata": {},
   "source": [
    "7. **`filter()` Function**:\n",
    "   - The `filter(fun, list)` function creates a copy of the list elements that make the `fun` function return `True`. The result is a generator providing the new list content element by element. For example:"
   ]
  },
  {
   "cell_type": "code",
   "execution_count": 29,
   "metadata": {},
   "outputs": [
    {
     "name": "stdout",
     "output_type": "stream",
     "text": [
      "['Python', 'Monty']\n"
     ]
    }
   ],
   "source": [
    "short_list = [1, \"Python\", -1, \"Monty\"]\n",
    "new_list = list(filter(lambda s: isinstance(s, str), short_list))\n",
    "print(new_list)"
   ]
  },
  {
   "cell_type": "markdown",
   "metadata": {},
   "source": [
    "8. **Closure**:\n",
    "   - A closure stores values even after the context in which they were created no longer exists. For example:"
   ]
  },
  {
   "cell_type": "code",
   "execution_count": 30,
   "metadata": {},
   "outputs": [
    {
     "name": "stdout",
     "output_type": "stream",
     "text": [
      "<b>Monty Python</b>\n"
     ]
    }
   ],
   "source": [
    "def tag(tg):\n",
    "    tg2 = tg\n",
    "    tg2 = tg[0] + '/' + tg[1:]\n",
    "\n",
    "    def inner(str):\n",
    "        return tg + str + tg2\n",
    "    return inner\n",
    "\n",
    "b_tag = tag('<b>')\n",
    "print(b_tag('Monty Python'))"
   ]
  }
 ],
 "metadata": {
  "kernelspec": {
   "display_name": "Python 3 (ipykernel)",
   "language": "python",
   "name": "python3"
  },
  "language_info": {
   "codemirror_mode": {
    "name": "ipython",
    "version": 3
   },
   "file_extension": ".py",
   "mimetype": "text/x-python",
   "name": "python",
   "nbconvert_exporter": "python",
   "pygments_lexer": "ipython3",
   "version": "3.11.7"
  }
 },
 "nbformat": 4,
 "nbformat_minor": 4
}
