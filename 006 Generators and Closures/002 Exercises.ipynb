{
 "cells": [
  {
   "cell_type": "markdown",
   "metadata": {},
   "source": [
    "### Exercise 1\n",
    "\n",
    "What is the expected output of the following code?"
   ]
  },
  {
   "cell_type": "code",
   "execution_count": null,
   "metadata": {},
   "outputs": [],
   "source": [
    "class Vowels:\n",
    "    def __init__(self):\n",
    "        self.vow = \"aeiouy \"  # Yes, we know that y is not always considered a vowel.\n",
    "        self.pos = 0\n",
    "\n",
    "    def __iter__(self):\n",
    "        return self\n",
    "\n",
    "    def __next__(self):\n",
    "        if self.pos == len(self.vow):\n",
    "            raise StopIteration\n",
    "        self.pos += 1\n",
    "        return self.vow[self.pos - 1]\n",
    "\n",
    "vowels = Vowels()\n",
    "for v in vowels:\n",
    "    print(v, end=' ')"
   ]
  },
  {
   "cell_type": "markdown",
   "metadata": {},
   "source": [
    "### Exercise 2\n",
    "\n",
    "Write a lambda function to set the least significant bit of its integer argument, and apply it to the `map()` function to produce the string \"1 3 3 5\" on the console."
   ]
  },
  {
   "cell_type": "code",
   "execution_count": null,
   "metadata": {},
   "outputs": [],
   "source": [
    "any_list = [1, 2, 3, 4]\n",
    "even_list = list(map(lambda x: x | 1, any_list))\n",
    "print(' '.join(map(str, even_list)))"
   ]
  },
  {
   "cell_type": "markdown",
   "metadata": {},
   "source": [
    "### Exercise 3\n",
    "\n",
    "What is the expected output of the following code?"
   ]
  },
  {
   "cell_type": "code",
   "execution_count": null,
   "metadata": {},
   "outputs": [],
   "source": [
    "def replace_spaces(replacement='*'):\n",
    "    def new_replacement(text):\n",
    "        return text.replace(' ', replacement)\n",
    "    return new_replacement\n",
    "\n",
    "stars = replace_spaces()\n",
    "print(stars(\"And Now for Something Completely Different\"))"
   ]
  },
  {
   "cell_type": "markdown",
   "metadata": {},
   "source": [
    "### Note\n",
    "\n",
    "PEP 8, the Style Guide for Python Code, recommends that lambdas should not be assigned to variables but rather be defined as functions. This means it is better to use a `def` statement and avoid using an assignment statement to bind a lambda expression to an identifier. Analyze the code below:"
   ]
  },
  {
   "cell_type": "code",
   "execution_count": null,
   "metadata": {},
   "outputs": [],
   "source": [
    "# Recommended:\n",
    "def f(x):\n",
    "    return 3 * x\n",
    "\n",
    "# Not recommended:\n",
    "f = lambda x: 3 * x"
   ]
  },
  {
   "cell_type": "markdown",
   "metadata": {},
   "source": [
    "Binding lambdas to identifiers generally duplicates the functionality of the `def` statement. Using `def` statements, on the other hand, generates more lines of code.\n",
    "\n",
    "It is important to understand that reality often creates its own scenarios, which do not necessarily follow conventions or formal recommendations. Whether you decide to follow them or not will depend on many factors: your preferences, other conventions adopted, company internal guidelines, compatibility with existing code, etc. Be aware of this."
   ]
  }
 ],
 "metadata": {
  "language_info": {
   "name": "python"
  }
 },
 "nbformat": 4,
 "nbformat_minor": 2
}
