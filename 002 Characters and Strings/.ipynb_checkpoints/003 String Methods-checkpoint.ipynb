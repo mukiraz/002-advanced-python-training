{
 "cells": [
  {
   "cell_type": "markdown",
   "id": "bc1aae15-a967-4679-a1e7-f685301a251f",
   "metadata": {},
   "source": [
    "## The `capitalize()` Method\r\n",
    "\r\n",
    "Let's explore some standard Python string methods, starting in alphabetical order. This order is chosen arbitrarily as it has both advantages and disadvantages like any other.\r\n",
    "\r\n",
    "The `capitalize()` method does exactly what its name suggests—it creates a new string from the source string, modifying it as follows:\r\n",
    "\r\n",
    "- If the first character of the string is a letter (note: the first character is the one at index 0, not just the first visible character), it will be converted to uppercase.\r\n",
    "- All remaining letters in the string will be converted to lowercase.\r\n",
    "\r\n",
    "Remember that:\r\n",
    "\r\n",
    "- The original string (from which the method is invoked) is not altered in any way (string immutability must be strictly observed).\r\n",
    "- The modified (capitalized) string is returned as a result. If you don't use it (by assigning it to a variable or passing it to a function/method), it will disappear without a trace.\r\n",
    "\r\n",
    "Note: Methods can be invoked directly from string literals, not just variables. We will use this convention regularly to simplify examples, ensuring the most important aspects aren't lost among unnecessary assignments."
   ]
  },
  {
   "cell_type": "code",
   "execution_count": 1,
   "id": "b219051f-a948-48cd-8d7d-8e00cdf40953",
   "metadata": {},
   "outputs": [
    {
     "name": "stdout",
     "output_type": "stream",
     "text": [
      "Alpha\n",
      "Alpha\n",
      " alpha\n",
      "123\n",
      "Αβγδ\n"
     ]
    }
   ],
   "source": [
    "print(\"Alpha\".capitalize())\n",
    "print('ALPHA'.capitalize())\n",
    "print(' Alpha'.capitalize())\n",
    "print('123'.capitalize())\n",
    "print(\"αβγδ\".capitalize())"
   ]
  },
  {
   "cell_type": "markdown",
   "id": "78f29d5f-5599-4264-8df0-b4919b91aa4b",
   "metadata": {},
   "source": [
    "## The `center()` Method\n",
    "\n",
    "The one-parameter variant of the `center()` method creates a copy of the original string, attempting to center it within a field of a specified width.\n",
    "\n",
    "The centering is achieved by adding spaces before and after the string.\n",
    "\n",
    "Don't expect this method to exhibit any advanced features; it's quite straightforward.\n",
    "\n",
    "The example in the editor uses brackets to clearly show where the centered string starts and ends."
   ]
  },
  {
   "cell_type": "code",
   "execution_count": 2,
   "id": "06a5dc12-d9f9-4f7e-b990-4144ba6a738d",
   "metadata": {},
   "outputs": [
    {
     "name": "stdout",
     "output_type": "stream",
     "text": [
      "[  alpha   ]\n"
     ]
    }
   ],
   "source": [
    "# Demonstrating the center() method:\n",
    "print('[' + 'alpha'.center(10) + ']')"
   ]
  },
  {
   "cell_type": "markdown",
   "id": "5a04f86a-1510-45af-bc06-f1d4c8a24db3",
   "metadata": {},
   "source": [
    "If the target field's length is too small to fit the string, the original string is returned."
   ]
  },
  {
   "cell_type": "code",
   "execution_count": 3,
   "id": "f8c3d57d-3c86-4baf-baa6-66c153cb5b8d",
   "metadata": {},
   "outputs": [
    {
     "name": "stdout",
     "output_type": "stream",
     "text": [
      "[Beta]\n",
      "[Beta]\n",
      "[ Beta ]\n"
     ]
    }
   ],
   "source": [
    "print('[' + 'Beta'.center(2) + ']')\r\n",
    "print('[' + 'Beta'.center(4) + ']')\r\n",
    "print('[' + 'Beta'.center(6) + ']')"
   ]
  },
  {
   "cell_type": "markdown",
   "id": "1deb9daa-40a7-42f7-b3bd-8113f7c60daf",
   "metadata": {},
   "source": [
    "Run the snippets above and check their output.\n",
    "\n",
    "The two-parameter variant of `center()` uses the character from the second argument instead of spaces. Consider the example below:"
   ]
  },
  {
   "cell_type": "code",
   "execution_count": 4,
   "id": "52ea32ba-7ccd-434d-a761-090e1d959c63",
   "metadata": {},
   "outputs": [
    {
     "name": "stdout",
     "output_type": "stream",
     "text": [
      "[*******gamma********]\n"
     ]
    }
   ],
   "source": [
    "print('[' + 'gamma'.center(20, '*') + ']')"
   ]
  },
  {
   "cell_type": "markdown",
   "id": "b0777fdf-198b-4eef-aa5b-a688fa6461f0",
   "metadata": {},
   "source": [
    "## The `find()` Method\n",
    "\n",
    "The `find()` method is similar to `index()`, which you may already know—it searches for a substring and returns the index of the first occurrence of this substring. However:\n",
    "\n",
    "- It's safer—it doesn't raise an error if the substring is not found (it returns -1 instead).\n",
    "- It works only with strings—don't try to use it on other types of sequences.\n",
    "\n",
    "Here's how you can use it:"
   ]
  },
  {
   "cell_type": "code",
   "execution_count": 5,
   "id": "e3d7ea37-762d-4e26-9c50-1442555ec2e9",
   "metadata": {},
   "outputs": [
    {
     "name": "stdout",
     "output_type": "stream",
     "text": [
      "1\n",
      "-1\n"
     ]
    }
   ],
   "source": [
    "# Demonstrating the find() method:\n",
    "print(\"Eta\".find(\"ta\"))\n",
    "print(\"Eta\".find(\"mma\"))"
   ]
  },
  {
   "cell_type": "markdown",
   "id": "43eb4281-8f5f-4111-8ae1-9937ba88306e",
   "metadata": {},
   "source": [
    "Note: don't use find() if you only want to check if a single character occurs within a string - the in operator will be significantly faster.\r\n",
    "\r\n",
    "Here is another example:"
   ]
  },
  {
   "cell_type": "code",
   "execution_count": 6,
   "id": "2d65ae17-3137-43e4-8e1a-46d6889c8251",
   "metadata": {},
   "outputs": [
    {
     "name": "stdout",
     "output_type": "stream",
     "text": [
      "2\n",
      "2\n",
      "0\n",
      "-1\n"
     ]
    }
   ],
   "source": [
    "t = 'theta'\n",
    "print(t.find('eta'))\n",
    "print(t.find('et'))\n",
    "print(t.find('the'))\n",
    "print(t.find('ha'))"
   ]
  },
  {
   "cell_type": "markdown",
   "id": "5c503498-af70-44b4-9a21-d5a80b358e10",
   "metadata": {},
   "source": [
    "If you want to perform the find, not **from** the string's beginning, but from **any position**, you can use a **two-parameter variant** of the `find()` method. Look at the example:"
   ]
  },
  {
   "cell_type": "code",
   "execution_count": 7,
   "id": "6f2781a2-9369-4f5c-bf9d-b33d09db5a73",
   "metadata": {},
   "outputs": [
    {
     "name": "stdout",
     "output_type": "stream",
     "text": [
      "4\n"
     ]
    }
   ],
   "source": [
    "print('kappa'.find('a', 2))"
   ]
  },
  {
   "cell_type": "markdown",
   "id": "c4b37e9f-6c8e-4c4d-9ecd-9dddbe4038f5",
   "metadata": {},
   "source": [
    "The second argument **specifies the index at which the search will be started** (it doesn't have to fit inside the string).\n",
    "\n",
    "Among the two a letters, only the second will be found. Run the snippet and check.\n",
    "\n",
    "\n",
    "You can use the `find()` method to search for all the substring's occurrences, like here:"
   ]
  },
  {
   "cell_type": "code",
   "execution_count": 8,
   "id": "bec32366-ddcc-4886-b659-bd08552736aa",
   "metadata": {},
   "outputs": [
    {
     "name": "stdout",
     "output_type": "stream",
     "text": [
      "15\n",
      "80\n",
      "198\n",
      "221\n",
      "238\n"
     ]
    }
   ],
   "source": [
    "the_text = \"\"\"A variation of the ordinary lorem ipsum\n",
    "text has been used in typesetting since the 1960s \n",
    "or earlier, when it was popularized by advertisements \n",
    "for Letraset transfer sheets. It was introduced to \n",
    "the Information Age in the mid-1980s by the Aldus Corporation, \n",
    "which employed it in graphics and word-processing templates\n",
    "for its desktop publishing program PageMaker (from Wikipedia)\"\"\"\n",
    "\n",
    "fnd = the_text.find('the')\n",
    "while fnd != -1:\n",
    "    print(fnd)\n",
    "    fnd = the_text.find('the', fnd + 1)"
   ]
  },
  {
   "cell_type": "markdown",
   "id": "1de32ec8-d187-4879-a392-d89ece42b36f",
   "metadata": {},
   "source": [
    "There is also a **three-parameter mutation of the** `find()` **method** - the third argument **points to the first index which won't be taken into consideration during the search** (it's actually the upper limit of the search).\r\n",
    "\r\n",
    "Look at our example below:"
   ]
  },
  {
   "cell_type": "code",
   "execution_count": 9,
   "id": "d465e96e-09df-4a01-afa5-5cccbbad4d70",
   "metadata": {},
   "outputs": [
    {
     "name": "stdout",
     "output_type": "stream",
     "text": [
      "1\n",
      "-1\n"
     ]
    }
   ],
   "source": [
    "print('kappa'.find('a', 1, 4))\n",
    "print('kappa'.find('a', 2, 4))"
   ]
  },
  {
   "cell_type": "markdown",
   "id": "e60c6941-9324-46e7-9fb8-8932f42224a8",
   "metadata": {},
   "source": [
    "The second argument specifies the index at which the search will be started (it doesn't have to fit inside the string)."
   ]
  },
  {
   "cell_type": "markdown",
   "id": "f8f86e21-a594-4848-b272-3a42dc46dafc",
   "metadata": {},
   "source": [
    "## The `isalnum()` Method\r\n",
    "\r\n",
    "The parameterless method `isalnum()` checks if a string contains only digits or alphabetic characters (letters) and returns `True` or `False` based on the result.\r\n",
    "\r\n",
    "Take a look at the example in the editor and run it.\r\n",
    "\r\n",
    "Note: Any string element that is not a digit or a letter will cause the method to return `False`. An empty string will also return `False`."
   ]
  },
  {
   "cell_type": "code",
   "execution_count": 10,
   "id": "7dc9435b-66d1-4db5-85ee-2466a2d96559",
   "metadata": {},
   "outputs": [
    {
     "name": "stdout",
     "output_type": "stream",
     "text": [
      "True\n",
      "True\n",
      "True\n",
      "False\n",
      "False\n",
      "False\n"
     ]
    }
   ],
   "source": [
    "# Demonstrating the isalnum() method:\n",
    "print('lambda30'.isalnum())\n",
    "print('lambda'.isalnum())\n",
    "print('30'.isalnum())\n",
    "print('@'.isalnum())\n",
    "print('lambda_30'.isalnum())\n",
    "print(''.isalnum())"
   ]
  },
  {
   "cell_type": "markdown",
   "id": "a36afdba-ceb1-45ff-a266-7aa7b7ddc169",
   "metadata": {},
   "source": [
    "Three more intriguing examples are here:"
   ]
  },
  {
   "cell_type": "code",
   "execution_count": 12,
   "id": "17fad1fc-1e7c-4710-8c1b-47475de9226c",
   "metadata": {},
   "outputs": [
    {
     "name": "stdout",
     "output_type": "stream",
     "text": [
      "False\n",
      "True\n",
      "True\n"
     ]
    }
   ],
   "source": [
    "t = 'Six lambdas'\n",
    "print(t.isalnum())\n",
    "\n",
    "t = 'ΑβΓδ'\n",
    "print(t.isalnum())\n",
    "\n",
    "t = '20E1'\n",
    "print(t.isalnum())"
   ]
  },
  {
   "cell_type": "markdown",
   "id": "683263a3-8e4c-4adb-aa75-ffe91ac0a190",
   "metadata": {},
   "source": [
    "## The isalpha() method\n",
    "\r\n",
    "The isalpha() method is more specialized - it's interested in letters only.\r\n",
    "\r\n",
    "Look at Example 1 - its output is:"
   ]
  },
  {
   "cell_type": "code",
   "execution_count": 13,
   "id": "4f70049e-3ab1-4227-8af8-0de4d6400cce",
   "metadata": {},
   "outputs": [
    {
     "name": "stdout",
     "output_type": "stream",
     "text": [
      "True\n",
      "False\n"
     ]
    }
   ],
   "source": [
    "# Example 1: Demonstrating the isapha() method:\n",
    "print(\"Moooo\".isalpha())\n",
    "print('Mu40'.isalpha())"
   ]
  },
  {
   "cell_type": "markdown",
   "id": "f48dee72-edb4-44c5-984c-97a6d0ea6f66",
   "metadata": {},
   "source": [
    "## The isdigit() method\n",
    "In turn, the isdigit() method looks at digits only - anything else produces False as the result.\n",
    "\n",
    "Look at Example 2 - its output is:"
   ]
  },
  {
   "cell_type": "code",
   "execution_count": 14,
   "id": "0187414a-a83f-4e1f-b4a9-6b0360453991",
   "metadata": {},
   "outputs": [
    {
     "name": "stdout",
     "output_type": "stream",
     "text": [
      "True\n",
      "False\n"
     ]
    }
   ],
   "source": [
    "# Example 2: Demonstrating the isdigit() method:\n",
    "print('2018'.isdigit())\n",
    "print(\"Year2019\".isdigit())"
   ]
  },
  {
   "cell_type": "markdown",
   "id": "ae490dd7-da48-449d-b255-fc9265176c10",
   "metadata": {},
   "source": [
    "## The islower() method\n",
    "The islower() method is a fussy variant of isalpha() – it accepts lower-case letters only.\n",
    "\n",
    "Look at Example 1 in the editor – it outputs:"
   ]
  },
  {
   "cell_type": "code",
   "execution_count": 15,
   "id": "b02e8a3c-6afc-4c42-936e-2f0e543af041",
   "metadata": {},
   "outputs": [
    {
     "name": "stdout",
     "output_type": "stream",
     "text": [
      "False\n",
      "True\n"
     ]
    }
   ],
   "source": [
    "# Example 1: Demonstrating the islower() method:\n",
    "print(\"Moooo\".islower())\n",
    "print('moooo'.islower())"
   ]
  },
  {
   "cell_type": "markdown",
   "id": "0790f4f9-2a9b-4551-a3b6-134eed1b3ac1",
   "metadata": {},
   "source": [
    "## The isspace() method\n",
    "The isspace() method identifies whitespaces only – it disregards any other character (the result is False then).\n",
    "\n",
    "Look at Example 2 in the editor – the output is:"
   ]
  },
  {
   "cell_type": "code",
   "execution_count": 16,
   "id": "34d0083a-294a-47df-b1ba-e47b59f81dbc",
   "metadata": {},
   "outputs": [
    {
     "name": "stdout",
     "output_type": "stream",
     "text": [
      "True\n",
      "True\n",
      "False\n"
     ]
    }
   ],
   "source": [
    "# Example 2: Demonstrating the isspace() method:\n",
    "print(' \\n '.isspace())\n",
    "print(\" \".isspace())\n",
    "print(\"mooo mooo mooo\".isspace())"
   ]
  },
  {
   "cell_type": "markdown",
   "id": "00a83de8-5e9b-4c5d-bb7b-a9a23d272aef",
   "metadata": {},
   "source": [
    "## The isupper() method\n",
    "The isupper() method is the upper-case version of islower() – it concentrates on upper-case letters only.\n",
    "\n",
    "Again, Look at the code in the editor – Example 3 produces the following output:"
   ]
  },
  {
   "cell_type": "code",
   "execution_count": 18,
   "id": "5f544406-22e1-4411-a323-f7a22cd6e4be",
   "metadata": {},
   "outputs": [
    {
     "name": "stdout",
     "output_type": "stream",
     "text": [
      "False\n",
      "False\n",
      "True\n"
     ]
    }
   ],
   "source": [
    "# Example 3: Demonstrating the isupper() method:\n",
    "print(\"Moooo\".isupper())\n",
    "print('moooo'.isupper())\n",
    "print('MOOOO'.isupper())"
   ]
  },
  {
   "cell_type": "markdown",
   "id": "684cd5da-8c23-44c3-bc91-5f43b3c24b3b",
   "metadata": {},
   "source": [
    "## The `join()` Method\n",
    "\n",
    "The `join()` method can be a bit complex, so let's break it down step by step:\n",
    "\n",
    "- As the name suggests, the method performs a join operation—it takes one argument, which must be a list. It must be ensured that all elements in the list are strings, otherwise, the method will raise a `TypeError` exception.\n",
    "- All elements of the list will be joined into one string, but...\n",
    "- The string from which the method is invoked is used as a separator, placed between the strings.\n",
    "- The newly created string is returned as a result.\n",
    "\n",
    "Consider the example in the editor. Let's analyze it:\n",
    "\n",
    "- The `join()` method is called on a string containing a comma (the string can be of any length or even empty).\n",
    "- The argument of the `join()` method is a list containing three strings.\n",
    "- The method returns a new string."
   ]
  },
  {
   "cell_type": "code",
   "execution_count": 19,
   "id": "a60ec3c8-1939-4440-8c87-d6eb570005eb",
   "metadata": {},
   "outputs": [
    {
     "name": "stdout",
     "output_type": "stream",
     "text": [
      "omicron,pi,rho\n"
     ]
    }
   ],
   "source": [
    "# Demonstrating the join() method:\n",
    "print(\",\".join([\"omicron\", \"pi\", \"rho\"]))"
   ]
  },
  {
   "cell_type": "markdown",
   "id": "089da2c4-f1f1-4abe-a13a-677415f44c0d",
   "metadata": {},
   "source": [
    "## The lower() method\n",
    "The `lower()` method **makes a copy of a source string, replaces all upper-case letters with their lower-case counterparts**, and returns the string as the result. Again, the source string remains untouched.\n",
    "\n",
    "If the string doesn't contain any upper-case characters, the method returns the original string.\n",
    "\n",
    "Note: The `lower()` method doesn't take any parameters.\n",
    "\n",
    "The example in the editor outputs:"
   ]
  },
  {
   "cell_type": "code",
   "execution_count": 1,
   "id": "88ff09ef-25ee-480b-8299-51ddd735df53",
   "metadata": {},
   "outputs": [
    {
     "name": "stdout",
     "output_type": "stream",
     "text": [
      "sigma=60\n"
     ]
    }
   ],
   "source": [
    "# Demonstrating the lower() method:\n",
    "print(\"SiGmA=60\".lower())"
   ]
  },
  {
   "cell_type": "markdown",
   "id": "9ded9f6c-42d3-497b-93c8-2272d43c5482",
   "metadata": {},
   "source": [
    "## The `lstrip()` Method\r\n",
    "The `lstrip()` method without any parameters returns a new string created from the original one by removing all leading whitespace characters.\r\n",
    "\r\n",
    "Consider the example code in the editor.\r\n",
    "\r\n",
    "The brackets are not part of the result; they only indicate the boundaries of the reiment with your own examples."
   ]
  },
  {
   "cell_type": "code",
   "execution_count": 2,
   "id": "80c73808-efe6-4186-b48a-943662daedd6",
   "metadata": {},
   "outputs": [
    {
     "name": "stdout",
     "output_type": "stream",
     "text": [
      "[tau ]\n"
     ]
    }
   ],
   "source": [
    "# Demonstrating the lstrip() method:\n",
    "print(\"[\" + \" tau \".lstrip() + \"]\")\n"
   ]
  },
  {
   "cell_type": "markdown",
   "id": "28b85f2a-e0d2-4baf-8e64-ba4e59a2ae91",
   "metadata": {},
   "source": [
    "The `lstrip()` method with one parameter works similarly to its parameterless version, but it removes all characters specified in its argument (a string), not just whitespace characters:"
   ]
  },
  {
   "cell_type": "code",
   "execution_count": 4,
   "id": "d8b5b407-f20e-4d2b-8496-e15fd1924917",
   "metadata": {},
   "outputs": [
    {
     "name": "stdout",
     "output_type": "stream",
     "text": [
      "cisco.com\n"
     ]
    }
   ],
   "source": [
    "print(\"www.cisco.com\".lstrip(\"w.\"))"
   ]
  },
  {
   "cell_type": "markdown",
   "id": "46e4d61e-b945-4c36-9447-1dd721c15c44",
   "metadata": {},
   "source": [
    "## The `replace()` Method\r\n",
    "The two-parameter `replace()` method returns a copy of the original string in which all occurrences of the first argument are replaced by the second argument.\r\n",
    "\r\n",
    "Consider the example code in the editor and run de to check your guesses."
   ]
  },
  {
   "cell_type": "code",
   "execution_count": 11,
   "id": "e830d72e-186c-4557-90cc-00f975b99fc2",
   "metadata": {},
   "outputs": [
    {
     "name": "stdout",
     "output_type": "stream",
     "text": [
      "www.pythoninstitute.org\n",
      "Thare are it!\n",
      "Apple \n"
     ]
    }
   ],
   "source": [
    "# Demonstrating the replace() method:\n",
    "print(\"www.netacad.com\".replace(\"netacad.com\", \"pythoninstitute.org\"))\n",
    "print(\"This is it!\".replace(\"is\", \"are\"))\n",
    "print(\"Apple juice\".replace(\"juice\", \"\"))"
   ]
  },
  {
   "cell_type": "markdown",
   "id": "10d12285-e637-4922-8de5-eb6a964c4ff2",
   "metadata": {},
   "source": [
    "If the second argument is an empty string, the method removes all instances of the first argument's string. What happens if the first argument is an empty string?\n",
    "\n",
    "The three-parameter `replace()` variant includes a third argument (a number) to limit the number of replacements.\n",
    "\n",
    "Consider the modified example code below:"
   ]
  },
  {
   "cell_type": "code",
   "execution_count": 7,
   "id": "b78f983a-a821-48af-ba65-7daadc4c5782",
   "metadata": {},
   "outputs": [
    {
     "name": "stdout",
     "output_type": "stream",
     "text": [
      "Thare is it!\n",
      "Thare are it!\n"
     ]
    }
   ],
   "source": [
    "print(\"This is it!\".replace(\"is\", \"are\", 1))\n",
    "print(\"This is it!\".replace(\"is\", \"are\", 2))"
   ]
  },
  {
   "cell_type": "markdown",
   "id": "5fb193fc-f137-47d9-8333-e2271ab566ed",
   "metadata": {},
   "source": [
    "## The `rfind()` method\r\n",
    "The one-, two-, and three-parameter methods named`rfind()`) do nearly the same things as their counterparts (the ones devoid of the r prefix), but** start their searches from the end of the strin**g, not the beginning (hence the prefix r, for right).\r\n",
    "\r\n",
    "Take a look at the example code in the editor and try to predict its output. Run the code to check if you were right."
   ]
  },
  {
   "cell_type": "code",
   "execution_count": 8,
   "id": "21c969a1-2e7b-4893-b528-13f0467c35a1",
   "metadata": {},
   "outputs": [
    {
     "name": "stdout",
     "output_type": "stream",
     "text": [
      "8\n",
      "-1\n",
      "4\n"
     ]
    }
   ],
   "source": [
    "# Demonstrating the rfind() method:\n",
    "print(\"tau tau tau\".rfind(\"ta\"))\n",
    "print(\"tau tau tau\".rfind(\"ta\", 9))\n",
    "print(\"tau tau tau\".rfind(\"ta\", 3, 9))"
   ]
  },
  {
   "cell_type": "markdown",
   "id": "5531b9c1-7cc0-4dc1-b623-6cf5b08b3962",
   "metadata": {},
   "source": [
    "## The rstrip() method\n",
    "Two variants of the `rstrip()` method do nearly the same as `lstrips`, but **affect the opposite side of the string**.\n",
    "\n",
    "Look at the code example in the editor. Can you guess its output? Run the code to check your guesses.\n",
    "\n",
    "As usual, we encourage you to experiment with your own examples."
   ]
  },
  {
   "cell_type": "code",
   "execution_count": 9,
   "id": "205b722d-4aee-4efb-9b39-29914dc3fa86",
   "metadata": {},
   "outputs": [
    {
     "name": "stdout",
     "output_type": "stream",
     "text": [
      "[ upsilon]\n",
      "cis\n"
     ]
    }
   ],
   "source": [
    "# Demonstrating the rstrip() method:\n",
    "print(\"[\" + \" upsilon \".rstrip() + \"]\")\n",
    "print(\"cisco.com\".rstrip(\".com\"))"
   ]
  },
  {
   "cell_type": "code",
   "execution_count": null,
   "id": "dba1baad-e401-484b-8d83-60e251fee86a",
   "metadata": {},
   "outputs": [],
   "source": []
  },
  {
   "cell_type": "code",
   "execution_count": 10,
   "id": "baf503fb-9522-49ae-97be-852196a33944",
   "metadata": {},
   "outputs": [
    {
     "name": "stdout",
     "output_type": "stream",
     "text": [
      "['phi', 'chi', 'psi']\n"
     ]
    }
   ],
   "source": [
    "# Demonstrating the split() method:\n",
    "print(\"phi       chi\\npsi\".split())"
   ]
  },
  {
   "cell_type": "markdown",
   "id": "71a54e9c-49c9-41d0-9980-87bb9c479ff8",
   "metadata": {},
   "source": [
    "## The `split()` method\n",
    "The `split()` method does what it says - it **splits the string and builds a list of all detected substrings.**\n",
    "\n",
    "The method **assumes that the substrings are delimited by whitespaces** - the spaces don't take part in the operation, and aren't copied into the resulting list.\n",
    "\n",
    "If the string is empty, the resulting list is empty too.\n",
    "\n",
    "Look at the code in the editor. The example produces the following output:"
   ]
  },
  {
   "cell_type": "code",
   "execution_count": 12,
   "id": "428ae2eb-8d09-4bab-8570-f3af69daf0e5",
   "metadata": {},
   "outputs": [
    {
     "name": "stdout",
     "output_type": "stream",
     "text": [
      "['phi', 'chi', 'psi']\n"
     ]
    }
   ],
   "source": [
    "# Demonstrating the split() method:\n",
    "print(\"phi       chi\\npsi\".split())"
   ]
  },
  {
   "cell_type": "markdown",
   "id": "e4834a36-a59e-42c9-9369-eee36ff5067d",
   "metadata": {},
   "source": [
    "## The `startswith()` method\n",
    "The `startswith()` method is a mirror reflection of `endswith()` - it **checks if a given string starts with the specified substring.**\n",
    "\n",
    "Look at the example in the editor. This is the result from it:"
   ]
  },
  {
   "cell_type": "code",
   "execution_count": 13,
   "id": "925b1568-08fa-4b01-9911-e3b8b4440b9b",
   "metadata": {},
   "outputs": [
    {
     "name": "stdout",
     "output_type": "stream",
     "text": [
      "False\n",
      "True\n"
     ]
    }
   ],
   "source": [
    "# Demonstrating the startswith() method:\n",
    "print(\"omega\".startswith(\"meg\"))\n",
    "print(\"omega\".startswith(\"om\"))"
   ]
  },
  {
   "cell_type": "markdown",
   "id": "607ec1cf-bd9f-40b5-9a92-ba252b2c32fb",
   "metadata": {},
   "source": [
    "## The `strip()` method\n",
    "The `strip()` method combines the effects caused by `rstrip()` and `lstrip()` - it **makes a new string lacking all the leading and trailing whitespaces.**\n",
    "\n",
    "Look at the example in the editor. This is the result it returns:"
   ]
  },
  {
   "cell_type": "code",
   "execution_count": 18,
   "id": "34459d2f-e406-4df7-b6d0-9ed369a1e176",
   "metadata": {},
   "outputs": [
    {
     "name": "stdout",
     "output_type": "stream",
     "text": [
      "[aleph]\n"
     ]
    }
   ],
   "source": [
    "# Demonstrating the strip() method:\n",
    "print(\"[\" + \"   aleph   \".strip() + \"]\")"
   ]
  },
  {
   "cell_type": "markdown",
   "id": "dcab6da9-a6b8-4e55-b1e3-425858f60c3d",
   "metadata": {},
   "source": [
    "## The `swapcase()` method\n",
    "The `swapcase()` method **makes a new string by swapping the case of all letters within the source string:** lower-case characters become upper-case, and vice versa.\n",
    "\n",
    "All other characters remain untouched.\n",
    "\n",
    "Look at the first example in the editor. Can you guess the output? It won't look good, but you must see it:"
   ]
  },
  {
   "cell_type": "code",
   "execution_count": 19,
   "id": "30535d4d-17e1-4287-b9a2-476c05111b05",
   "metadata": {},
   "outputs": [
    {
     "name": "stdout",
     "output_type": "stream",
     "text": [
      "i KNOW THAT i KNOW NOTHING.\n"
     ]
    }
   ],
   "source": [
    "# Demonstrating the swapcase() method:\n",
    "print(\"I know that I know nothing.\".swapcase())"
   ]
  },
  {
   "cell_type": "markdown",
   "id": "23e0c701-48ed-432d-9b81-dca9cf8b9502",
   "metadata": {},
   "source": [
    "## The `title()` method\n",
    "The `title()` method performs a somewhat similar function - it **changes every word's first letter to upper-case, turning all other ones to lower-case.**\n",
    "\n",
    "Look at the second example in the editor. Can you guess its output? This is the result:"
   ]
  },
  {
   "cell_type": "code",
   "execution_count": 20,
   "id": "9974d0d4-6435-4424-9fa9-0b069bfec385",
   "metadata": {},
   "outputs": [
    {
     "name": "stdout",
     "output_type": "stream",
     "text": [
      "I Know That I Know Nothing. Part 1.\n"
     ]
    }
   ],
   "source": [
    "# Demonstrating the title() method:\n",
    "print(\"I know that I know nothing. Part 1.\".title())"
   ]
  },
  {
   "cell_type": "markdown",
   "id": "9006a90d-8536-4745-b2e2-ce7a946f97d5",
   "metadata": {},
   "source": [
    "## The `upper()` method\n",
    "Last but not least, the `upper()` method **makes a copy of the source string, replaces all lower-case letters with their upper-case counterparts,** and returns the string as the result.\n",
    "\n",
    "Look at the third example in the editor. It outputs:"
   ]
  },
  {
   "cell_type": "code",
   "execution_count": 17,
   "id": "7805f95b-43fb-46a5-a387-55bc220d03d1",
   "metadata": {},
   "outputs": [
    {
     "name": "stdout",
     "output_type": "stream",
     "text": [
      "I KNOW THAT I KNOW NOTHING. PART 2.\n"
     ]
    }
   ],
   "source": [
    "# Demonstrating the upper() method:\n",
    "print(\"I know that I know nothing. Part 2.\".upper())"
   ]
  },
  {
   "cell_type": "markdown",
   "id": "add88a13-ce5d-4078-9507-77c0b610e301",
   "metadata": {},
   "source": [
    "## Summary\n",
    "\n",
    "- `capitalize()` – changes all string letters to capitals;\n",
    "- `center()` – centers the string inside the field of a known length;\n",
    "- `count()` – counts the occurrences of a given character;\n",
    "- `join()` – joins all items of a tuple/list into one string;\n",
    "- `lower()` – converts all the string's letters into lower-case letters;\n",
    "- `lstrip()` – removes the white characters from the beginning of the string;\n",
    "- `replace()` – replaces a given substring with another;\n",
    "- `rfind()` – finds a substring starting from the end of the string;\n",
    "- `rstrip()` – removes the trailing white spaces from the end of the string;\n",
    "- `split()` – splits the string into a substring using a given delimiter;\n",
    "- `strip()` – removes the leading and trailing white spaces;\n",
    "- `swapcase()` – swaps the letters' cases (lower to upper and vice versa)\n",
    "- `title()` – makes the first letter in each word upper-case;\n",
    "- `upper()` – converts all the string's letter into upper-case letters.\n",
    "- `endswith()` – does the string end with a given substring?\n",
    "- `isalnum()` – does the string consist only of letters and digits?\n",
    "- `isalpha()` – does the string consist only of letters?\n",
    "- `islower()` – does the string consists only of lower-case letters?\n",
    "- `isspace()` – does the string consists only of white spaces?\n",
    "- `isupper()` – does the string consists only of upper-case letters?\n",
    "- `startswith()` – does the string begin with a given substring?"
   ]
  }
 ],
 "metadata": {
  "kernelspec": {
   "display_name": "Python 3 (ipykernel)",
   "language": "python",
   "name": "python3"
  },
  "language_info": {
   "codemirror_mode": {
    "name": "ipython",
    "version": 3
   },
   "file_extension": ".py",
   "mimetype": "text/x-python",
   "name": "python",
   "nbconvert_exporter": "python",
   "pygments_lexer": "ipython3",
   "version": "3.11.7"
  }
 },
 "nbformat": 4,
 "nbformat_minor": 5
}
