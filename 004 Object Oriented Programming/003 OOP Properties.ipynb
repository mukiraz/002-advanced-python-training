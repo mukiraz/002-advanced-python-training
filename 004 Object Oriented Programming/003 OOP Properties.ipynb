{
 "cells": [
  {
   "cell_type": "markdown",
   "id": "2f876b05-853d-49ed-991c-863b50d92bda",
   "metadata": {},
   "source": [
    "### Instance Variables\n",
    "\n",
    "In a class, you can define two kinds of data to establish its properties. You've already encountered one of these when we discussed stacks.\n",
    "\n",
    "This type of class property exists only when it is explicitly created and added to an object. This can be done during the object's initialization, typically performed by the constructor.\n",
    "\n",
    "Moreover, it can be added at any point during the object's lifespan. Additionally, any existing property can be removed at any time.\n",
    "\n",
    "This approach has some important implications:\n",
    "\n",
    "1. Different objects of the same class may have different sets of properties.\n",
    "2. There must be a way to safely check if a specific object has the property you want to use (unless you want to risk an exception, which might sometimes be worth considering).\n",
    "3. Each object maintains its own set of properties that do not interfere with each other.\n",
    "\n",
    "These types of variables (properties) are known as instance variables.\n",
    "\n",
    "The term \"instance\" indicates that they are closely associated with the objects (which are instances of the class), not the classes themselves. Let's examine them more closely.\n",
    "\n",
    "Here is an example:"
   ]
  },
  {
   "cell_type": "code",
   "execution_count": 1,
   "id": "539d1585-3c3b-4e7f-a3e9-e76e70c0f11b",
   "metadata": {},
   "outputs": [
    {
     "name": "stdout",
     "output_type": "stream",
     "text": [
      "{'first': 1}\n",
      "{'first': 2, 'second': 3}\n",
      "{'first': 4, 'third': 5}\n"
     ]
    }
   ],
   "source": [
    "class ExampleClass:\n",
    "    def __init__(self, val=1):\n",
    "        self.first = val\n",
    "\n",
    "    def set_second(self, val):\n",
    "        self.second = val\n",
    "\n",
    "example_object_1 = ExampleClass()\n",
    "example_object_2 = ExampleClass(2)\n",
    "\n",
    "example_object_2.set_second(3)\n",
    "\n",
    "example_object_3 = ExampleClass(4)\n",
    "example_object_3.third = 5\n",
    "\n",
    "print(example_object_1.__dict__)\n",
    "print(example_object_2.__dict__)\n",
    "print(example_object_3.__dict__)"
   ]
  },
  {
   "cell_type": "markdown",
   "id": "7ba71982",
   "metadata": {},
   "source": [
    "Before we go further, let's clarify one additional point. Consider the last three lines of the code.\n",
    "\n",
    "When Python objects are created, they come with a small set of predefined properties and methods. Each object has these, regardless of whether you want them or not. One of these is a variable named `__dict__` (a dictionary).\n",
    "\n",
    "This variable contains the names and values of all the properties (variables) the object currently holds. We can use it to safely display an object's contents.\n",
    "\n",
    "Now, let's dive into the code:\n",
    "\n",
    "1. The class named `ExampleClass` has a constructor that unconditionally creates an instance variable named `first` and sets it with the value passed through the first argument (from the class user's perspective) or the second argument (from the constructor's perspective). Note the default value of the parameter—any trick you can do with a regular function parameter can be applied to methods, too.\n",
    "\n",
    "2. The class also has a method that creates another instance variable, named `second`.\n",
    "\n",
    "3. We've created three objects of the class `ExampleClass`, but all these instances differ:\n",
    "   - `example_object_1` only has the property named `first`.\n",
    "   - `example_object_2` has two properties: `first` and `second`.\n",
    "   - `example_object_3` has been given a property named `third` on the fly, outside the class's code—this is both possible and permissible.\n",
    "\n",
    "The program's output clearly shows that our assumptions are correct:\n",
    "\n",
    "```\n",
    "{'first': 1}\n",
    "{'second': 3, 'first': 2}\n",
    "{'third': 5, 'first': 4}\n",
    "```\n",
    "\n",
    "There is one additional conclusion: modifying an instance variable of any object has no impact on all the remaining objects. Instance variables are perfectly isolated from each other."
   ]
  },
  {
   "cell_type": "markdown",
   "id": "2c48adf0",
   "metadata": {},
   "source": [
    "### Instance Variables: Continued\n",
    "\n",
    "Take a look at the modified example below:"
   ]
  },
  {
   "cell_type": "code",
   "execution_count": 2,
   "id": "c81aad59",
   "metadata": {},
   "outputs": [
    {
     "name": "stdout",
     "output_type": "stream",
     "text": [
      "{'_ExampleClass__first': 1}\n",
      "{'_ExampleClass__first': 2, '_ExampleClass__second': 3}\n",
      "{'_ExampleClass__first': 4, '__third': 5}\n"
     ]
    }
   ],
   "source": [
    "class ExampleClass:\n",
    "    def __init__(self, val=1):\n",
    "        self.__first = val\n",
    "\n",
    "    def set_second(self, val=2):\n",
    "        self.__second = val\n",
    "\n",
    "example_object_1 = ExampleClass()\n",
    "example_object_2 = ExampleClass(2)\n",
    "\n",
    "example_object_2.set_second(3)\n",
    "\n",
    "example_object_3 = ExampleClass(4)\n",
    "example_object_3.__third = 5\n",
    "\n",
    "print(example_object_1.__dict__)\n",
    "print(example_object_2.__dict__)\n",
    "print(example_object_3.__dict__)\n"
   ]
  },
  {
   "cell_type": "markdown",
   "id": "48bf1197",
   "metadata": {
    "vscode": {
     "languageId": "plaintext"
    }
   },
   "source": [
    "This example is almost identical to the previous one. The only difference is in the property names, which now have two underscores (__) in front of them.\n",
    "\n",
    "As you know, this addition makes the instance variable private, meaning it becomes inaccessible from outside the class.\n",
    "\n",
    "The actual behavior of these names is a bit more complex, so let's run the program. Here is the output:\n",
    "\n",
    "```\n",
    "{'_ExampleClass__first': 1}\n",
    "{'_ExampleClass__first': 2, '_ExampleClass__second': 3}\n",
    "{'_ExampleClass__first': 4, '__third': 5}\n",
    "```\n",
    "\n",
    "Do you notice these strange names full of underscores? Where did they come from?\n",
    "\n",
    "When Python sees that you want to add an instance variable to an object and you're doing it inside any of the object's methods, it mangles the operation in the following way:\n",
    "\n",
    "1. It adds the class name before your variable name.\n",
    "2. It puts an additional underscore at the beginning.\n",
    "\n",
    "This is why `__first` becomes `_ExampleClass__first`.\n",
    "\n",
    "The name is now fully accessible from outside the class. You can run a code like this:"
   ]
  },
  {
   "cell_type": "code",
   "execution_count": 3,
   "id": "df78877e",
   "metadata": {},
   "outputs": [
    {
     "name": "stdout",
     "output_type": "stream",
     "text": [
      "1\n"
     ]
    }
   ],
   "source": [
    "print(example_object_1._ExampleClass__first)"
   ]
  },
  {
   "cell_type": "markdown",
   "id": "902b0228",
   "metadata": {},
   "source": [
    "And you'll get a valid result with no errors or exceptions.\n",
    "\n",
    "As you can see, making a property private has its limitations.\n",
    "\n",
    "The mangling won't work if you add a private instance variable outside the class code. In this case, it'll behave like any other ordinary property."
   ]
  },
  {
   "cell_type": "markdown",
   "id": "90d69936",
   "metadata": {},
   "source": [
    "### Class Variables\n",
    "\n",
    "A class variable is a property that exists in a single copy and is stored outside any object.\n",
    "\n",
    "Note: No instance variable exists if there is no object in the class; however, a class variable exists in a single copy even if there are no objects in the class.\n",
    "\n",
    "Class variables are created differently from instance variables. The following example will explain more:"
   ]
  },
  {
   "cell_type": "code",
   "execution_count": 4,
   "id": "de68c151",
   "metadata": {},
   "outputs": [
    {
     "name": "stdout",
     "output_type": "stream",
     "text": [
      "{'_ExampleClass__first': 1} 3\n",
      "{'_ExampleClass__first': 2} 3\n",
      "{'_ExampleClass__first': 4} 3\n"
     ]
    }
   ],
   "source": [
    "class ExampleClass:\n",
    "    counter = 0\n",
    "    def __init__(self, val=1):\n",
    "        self.__first = val\n",
    "        ExampleClass.counter += 1\n",
    "\n",
    "example_object_1 = ExampleClass()\n",
    "example_object_2 = ExampleClass(2)\n",
    "example_object_3 = ExampleClass(4)\n",
    "\n",
    "print(example_object_1.__dict__, example_object_1.counter)\n",
    "print(example_object_2.__dict__, example_object_2.counter)\n",
    "print(example_object_3.__dict__, example_object_3.counter)"
   ]
  },
  {
   "cell_type": "markdown",
   "id": "3bd5d147",
   "metadata": {},
   "source": [
    "Observe:\n",
    "\n",
    "- The first line of the class definition assigns the variable named `counter` to 0. Initializing the variable inside the class but outside any of its methods makes it a class variable.\n",
    "- Accessing such a variable looks the same as accessing any instance attribute, as seen in the constructor body. The constructor increments the variable by one, effectively counting all created objects.\n",
    "\n",
    "Running the code will produce the following output:\n",
    "\n",
    "```\n",
    "{'_ExampleClass__first': 1} 3\n",
    "{'_ExampleClass__first': 2} 3\n",
    "{'_ExampleClass__first': 4} 3\n",
    "```\n",
    "\n",
    "Two important conclusions can be drawn from this example:\n",
    "\n",
    "1. Class variables aren't shown in an object's `__dict__` (since class variables aren't part of an object), but you can always check the variable of the same name at the class level—we'll demonstrate this shortly.\n",
    "2. A class variable always shows the same value across all instances (objects) of the class."
   ]
  },
  {
   "cell_type": "markdown",
   "id": "f1503934",
   "metadata": {},
   "source": [
    "Look at the example below:"
   ]
  },
  {
   "cell_type": "code",
   "execution_count": 5,
   "id": "979aa72f",
   "metadata": {},
   "outputs": [
    {
     "name": "stdout",
     "output_type": "stream",
     "text": [
      "{'_ExampleClass__first': 1} 3\n",
      "{'_ExampleClass__first': 2} 3\n",
      "{'_ExampleClass__first': 4} 3\n"
     ]
    }
   ],
   "source": [
    "class ExampleClass:\n",
    "    __counter = 0\n",
    "    def __init__(self, val = 1):\n",
    "        self.__first = val\n",
    "        ExampleClass.__counter += 1\n",
    "\n",
    "\n",
    "example_object_1 = ExampleClass()\n",
    "example_object_2 = ExampleClass(2)\n",
    "example_object_3 = ExampleClass(4)\n",
    "\n",
    "print(example_object_1.__dict__, example_object_1._ExampleClass__counter)\n",
    "print(example_object_2.__dict__, example_object_2._ExampleClass__counter)\n",
    "print(example_object_3.__dict__, example_object_3._ExampleClass__counter)\n"
   ]
  },
  {
   "cell_type": "markdown",
   "id": "9f2ae0b5",
   "metadata": {},
   "source": [
    "### Class Variables: Continued\n",
    "\n",
    "We previously mentioned that class variables exist even when no instance (object) of the class has been created.\n",
    "\n",
    "Now we'll show you the difference between the two `__dict__` variables: the one from the class and the one from the object.\n",
    "\n",
    "Consider the following code:"
   ]
  },
  {
   "cell_type": "code",
   "execution_count": 6,
   "id": "452cab75",
   "metadata": {},
   "outputs": [
    {
     "name": "stdout",
     "output_type": "stream",
     "text": [
      "{'__module__': '__main__', 'varia': 1, '__init__': <function ExampleClass.__init__ at 0x0000017B7C036F20>, '__dict__': <attribute '__dict__' of 'ExampleClass' objects>, '__weakref__': <attribute '__weakref__' of 'ExampleClass' objects>, '__doc__': None}\n",
      "{'__module__': '__main__', 'varia': 2, '__init__': <function ExampleClass.__init__ at 0x0000017B7C036F20>, '__dict__': <attribute '__dict__' of 'ExampleClass' objects>, '__weakref__': <attribute '__weakref__' of 'ExampleClass' objects>, '__doc__': None}\n",
      "{}\n"
     ]
    }
   ],
   "source": [
    "class ExampleClass:\n",
    "    varia = 1\n",
    "    def __init__(self, val):\n",
    "        ExampleClass.varia = val\n",
    "\n",
    "print(ExampleClass.__dict__)\n",
    "example_object = ExampleClass(2)\n",
    "\n",
    "print(ExampleClass.__dict__)\n",
    "print(example_object.__dict__)\n"
   ]
  },
  {
   "cell_type": "markdown",
   "id": "cb5f7466",
   "metadata": {},
   "source": [
    "Let's break it down:\n",
    "\n",
    "- We define a class named `ExampleClass`.\n",
    "- The class defines a class variable named `varia`.\n",
    "- The class constructor sets the class variable with the value passed as a parameter.\n",
    "\n",
    "Naming the variable is crucial in this example because:\n",
    "- Changing the assignment to `self.varia = val` would create an instance variable with the same name as the class variable.\n",
    "- Changing the assignment to `varia = val` would operate on a method's local variable. (We encourage you to test both of these cases to help remember the difference.)\n",
    "\n",
    "The first line of code outside the class prints the value of the `ExampleClass.varia` attribute. Note that this uses the value before any object of the class is instantiated.\n",
    "\n",
    "As you can see, the class's `__dict__` contains much more data than the object's `__dict__`. Most of it is not relevant now, but the key point is to check the current value of `varia`.\n",
    "\n",
    "Notice that the object's `__dict__` is empty because the object has no instance variables."
   ]
  },
  {
   "cell_type": "code",
   "execution_count": 7,
   "id": "83b3a730-7e55-40ae-9258-ee32cb79ae68",
   "metadata": {},
   "outputs": [
    {
     "name": "stdout",
     "output_type": "stream",
     "text": [
      "{'__module__': '__main__', 'varia': 1, '__init__': <function ExampleClass.__init__ at 0x0000017B7C036DE0>, '__dict__': <attribute '__dict__' of 'ExampleClass' objects>, '__weakref__': <attribute '__weakref__' of 'ExampleClass' objects>, '__doc__': None}\n",
      "\n",
      "{'__module__': '__main__', 'varia': 1, '__init__': <function ExampleClass.__init__ at 0x0000017B7C036DE0>, '__dict__': <attribute '__dict__' of 'ExampleClass' objects>, '__weakref__': <attribute '__weakref__' of 'ExampleClass' objects>, '__doc__': None}\n",
      "\n",
      "{'varia': 2}\n"
     ]
    }
   ],
   "source": [
    "class ExampleClass:\n",
    "    varia = 1\n",
    "    def __init__(self, val):\n",
    "        self.varia = val\n",
    "\n",
    "print(ExampleClass.__dict__)\n",
    "print()\n",
    "example_object = ExampleClass(2)\n",
    "\n",
    "print(ExampleClass.__dict__)\n",
    "print()\n",
    "print(example_object.__dict__)"
   ]
  },
  {
   "cell_type": "markdown",
   "id": "c1ff3d0f-9e68-4c54-a399-ffa1803f5900",
   "metadata": {},
   "source": [
    "However, when we use the variable named varia with the self keyword that characterizes the object, we can access the variable named varia created inside the example_object object."
   ]
  },
  {
   "cell_type": "markdown",
   "id": "1837134a-fa55-42d9-a4c8-037634f4eb7d",
   "metadata": {},
   "source": [
    "### Checking an Attribute's Existence\n",
    "\n",
    "Python's approach to object instantiation introduces an important consideration: unlike other programming languages, you cannot assume that all objects of the same class will have the same set of properties.\n",
    "\n",
    "Consider the following example:"
   ]
  },
  {
   "cell_type": "code",
   "execution_count": 8,
   "id": "8160c794",
   "metadata": {},
   "outputs": [
    {
     "name": "stdout",
     "output_type": "stream",
     "text": [
      "1\n"
     ]
    },
    {
     "ename": "AttributeError",
     "evalue": "'ExampleClass' object has no attribute 'b'",
     "output_type": "error",
     "traceback": [
      "\u001b[1;31m---------------------------------------------------------------------------\u001b[0m",
      "\u001b[1;31mAttributeError\u001b[0m                            Traceback (most recent call last)",
      "Cell \u001b[1;32mIn[8], line 11\u001b[0m\n\u001b[0;32m      8\u001b[0m example_object \u001b[38;5;241m=\u001b[39m ExampleClass(\u001b[38;5;241m1\u001b[39m)\n\u001b[0;32m     10\u001b[0m \u001b[38;5;28mprint\u001b[39m(example_object\u001b[38;5;241m.\u001b[39ma)\n\u001b[1;32m---> 11\u001b[0m \u001b[38;5;28mprint\u001b[39m(example_object\u001b[38;5;241m.\u001b[39mb)\n",
      "\u001b[1;31mAttributeError\u001b[0m: 'ExampleClass' object has no attribute 'b'"
     ]
    }
   ],
   "source": [
    "class ExampleClass:\n",
    "    def __init__(self, val):\n",
    "        if val % 2 != 0:\n",
    "            self.a = 1\n",
    "        else:\n",
    "            self.b = 1\n",
    "\n",
    "example_object = ExampleClass(1)\n",
    "\n",
    "print(example_object.a)\n",
    "print(example_object.b)"
   ]
  },
  {
   "cell_type": "markdown",
   "id": "ee123c6e",
   "metadata": {},
   "source": [
    "The object created by the constructor can have only one of two possible attributes: `a` or `b`.\n",
    "\n",
    "Executing the code will produce the following output:\n",
    "\n",
    "```\n",
    "1\n",
    "Traceback (most recent call last):\n",
    "  File \".main.py\", line 11, in \n",
    "    print(example_object.b)\n",
    "AttributeError: 'ExampleClass' object has no attribute 'b'\n",
    "```\n",
    "\n",
    "As shown, trying to access a non-existing attribute of an object (or class) results in an `AttributeError` exception."
   ]
  },
  {
   "cell_type": "markdown",
   "id": "ca58eeeb",
   "metadata": {},
   "source": [
    "### Checking an Attribute's Existence: Continued\n",
    "\n",
    "The try-except statement allows you to handle issues with non-existent properties.\n",
    "\n",
    "It's simple—look at the code below:"
   ]
  },
  {
   "cell_type": "code",
   "execution_count": 9,
   "id": "4aefb4f5",
   "metadata": {},
   "outputs": [
    {
     "name": "stdout",
     "output_type": "stream",
     "text": [
      "1\n",
      "'ExampleClass' object has no attribute 'b'\n"
     ]
    }
   ],
   "source": [
    "class ExampleClass:\n",
    "    def __init__(self, val):\n",
    "        if val % 2 != 0:\n",
    "            self.a = 1\n",
    "        else:\n",
    "            self.b = 1\n",
    "\n",
    "example_object = ExampleClass(1)\n",
    "\n",
    "try:\n",
    "    print(example_object.a)\n",
    "    print(example_object.b)\n",
    "except AttributeError as e:\n",
    "    print(e)"
   ]
  },
  {
   "cell_type": "markdown",
   "id": "aa74f168",
   "metadata": {},
   "source": [
    "As you can see, this method is not very sophisticated. Essentially, we've just hidden the problem.\n",
    "\n",
    "Fortunately, there is another way to handle this issue.\n",
    "\n",
    "Python provides a function that can safely check if any object/class contains a specified property. The function is named `hasattr`, and it expects two arguments:\n",
    "\n",
    "1. The class or object being checked.\n",
    "2. The name of the property whose existence needs to be verified (note: it has to be a string containing the attribute name, not just the name itself).\n",
    "\n",
    "The function returns `True` or `False`.\n",
    "\n",
    "Here is how you can use it:"
   ]
  },
  {
   "cell_type": "code",
   "execution_count": 10,
   "id": "1b114f3b",
   "metadata": {},
   "outputs": [
    {
     "name": "stdout",
     "output_type": "stream",
     "text": [
      "1\n"
     ]
    }
   ],
   "source": [
    "class ExampleClass:\n",
    "    def __init__(self, val):\n",
    "        if val % 2 != 0:\n",
    "            self.a = 1\n",
    "        else:\n",
    "            self.b = 1\n",
    "\n",
    "example_object = ExampleClass(1)\n",
    "print(example_object.a)\n",
    "\n",
    "if hasattr(example_object, 'b'):\n",
    "    print(example_object.b)\n"
   ]
  },
  {
   "cell_type": "markdown",
   "id": "9b21a8da",
   "metadata": {},
   "source": [
    "This way, you can safely check for the existence of an attribute before attempting to access it."
   ]
  },
  {
   "cell_type": "markdown",
   "id": "b86ae04f",
   "metadata": {},
   "source": [
    "Checking for an attribute's existence: continued\n",
    "\n",
    "Remember, the `hasattr()` function can also be used on classes. This allows you to check if a class variable is present, as demonstrated in the editor's example.\n",
    "\n",
    "The function returns `True` if the specified class contains the given attribute, and `False` otherwise.\n",
    "\n",
    "Can you guess the output of the code? Run it to verify your guesses.\n",
    "\n",
    "Here's another example - examine the code below and try to predict its output:"
   ]
  },
  {
   "cell_type": "code",
   "execution_count": 11,
   "id": "2d29a019",
   "metadata": {},
   "outputs": [
    {
     "name": "stdout",
     "output_type": "stream",
     "text": [
      "True\n",
      "True\n",
      "False\n",
      "True\n"
     ]
    }
   ],
   "source": [
    "class ExampleClass:\n",
    "    a = 1\n",
    "    def __init__(self):\n",
    "        self.b = 2\n",
    "\n",
    "example_object = ExampleClass()\n",
    "\n",
    "print(hasattr(example_object, 'b'))\n",
    "print(hasattr(example_object, 'a'))\n",
    "print(hasattr(ExampleClass, 'b'))\n",
    "print(hasattr(ExampleClass, 'a'))"
   ]
  },
  {
   "cell_type": "markdown",
   "id": "176f64e9",
   "metadata": {},
   "source": [
    "Were your predictions correct? Run the code to find out.\n",
    "\n",
    "We've reached the end of this section. In the next section, we'll discuss methods, which drive objects and make them functional."
   ]
  },
  {
   "cell_type": "code",
   "execution_count": 12,
   "id": "83c90205",
   "metadata": {},
   "outputs": [
    {
     "name": "stdout",
     "output_type": "stream",
     "text": [
      "True\n",
      "False\n"
     ]
    }
   ],
   "source": [
    "class ExampleClass:\n",
    "    attr = 1\n",
    "\n",
    "\n",
    "print(hasattr(ExampleClass, 'attr'))\n",
    "print(hasattr(ExampleClass, 'prop'))\n"
   ]
  },
  {
   "cell_type": "markdown",
   "id": "c33122ea",
   "metadata": {},
   "source": [
    "### Summary\n",
    "\n",
    "1. **Instance Variables**\n",
    "   - An instance variable is a property whose existence depends on the creation of an object. Each object can have a unique set of instance variables.\n",
    "   - Instance variables can be added to and removed from objects during their lifetime. They are stored in a dedicated dictionary named `__dict__` within each object.\n",
    "\n",
    "2. **Private Instance Variables**\n",
    "   - An instance variable can be made private by starting its name with double underscores (`__`). However, this property can still be accessed from outside the class using a mangled name, formatted as `_ClassName__PrivatePropertyName`.\n",
    "\n",
    "3. **Class Variables**\n",
    "   - A class variable is a property that exists in a single copy and is accessible without creating an object. These variables are not shown in the `__dict__` content of instances.\n",
    "   - All class variables are stored in a dedicated dictionary named `__dict__`, contained separately within each class.\n",
    "\n",
    "4. **Using `hasattr()` Function**\n",
    "   - The `hasattr()` function can be used to check if an object or class contains a specified property.\n",
    "\n",
    "#### Example:\n",
    "\n",
    "```python\n",
    "class Sample:\n",
    "    gamma = 0  # Class variable.\n",
    "    def __init__(self):\n",
    "        self.alpha = 1  # Instance variable.\n",
    "        self.__delta = 3  # Private instance variable.\n",
    "\n",
    "obj = Sample()\n",
    "obj.beta = 2  # Another instance variable (exists only in the \"obj\" instance).\n",
    "print(obj.__dict__)\n",
    "```\n",
    "\n",
    "The code outputs:\n",
    "\n",
    "```python\n",
    "{'alpha': 1, '_Sample__delta': 3, 'beta': 2}\n",
    "```"
   ]
  }
 ],
 "metadata": {
  "kernelspec": {
   "display_name": "Python 3 (ipykernel)",
   "language": "python",
   "name": "python3"
  },
  "language_info": {
   "codemirror_mode": {
    "name": "ipython",
    "version": 3
   },
   "file_extension": ".py",
   "mimetype": "text/x-python",
   "name": "python",
   "nbconvert_exporter": "python",
   "pygments_lexer": "ipython3",
   "version": "3.11.7"
  }
 },
 "nbformat": 4,
 "nbformat_minor": 5
}
