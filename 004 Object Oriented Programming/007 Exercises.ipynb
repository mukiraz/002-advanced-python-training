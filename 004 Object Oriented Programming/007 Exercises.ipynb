{
 "cells": [
  {
   "cell_type": "markdown",
   "metadata": {},
   "source": [
    "# Exercises\n",
    "## Scenario\n",
    "Assume the following code has been successfully executed:"
   ]
  },
  {
   "cell_type": "code",
   "execution_count": null,
   "metadata": {},
   "outputs": [],
   "source": [
    "class Dog:\n",
    "    kennel = 0\n",
    "    def __init__(self, breed):\n",
    "        self.breed = breed\n",
    "        Dog.kennel += 1\n",
    "    def __str__(self):\n",
    "        return self.breed + \" says: Woof!\"\n",
    "\n",
    "class SheepDog(Dog):\n",
    "    def __str__(self):\n",
    "        return super().__str__() + \" Don't run away, Little Lamb!\"\n",
    "\n",
    "class GuardDog(Dog):\n",
    "    def __str__(self):\n",
    "        return super().__str__() + \" Stay where you are, Mister Intruder!\"\n",
    "\n",
    "rocky = SheepDog(\"Collie\")\n",
    "luna = GuardDog(\"Dobermann\")\n"
   ]
  },
  {
   "cell_type": "markdown",
   "metadata": {
    "vscode": {
     "languageId": "plaintext"
    }
   },
   "source": [
    "Now answer the questions for exercises 1-4.\n",
    "\n",
    "### Exercise 1\n",
    "What is the expected output of the following code?\n",
    "\n"
   ]
  },
  {
   "cell_type": "code",
   "execution_count": null,
   "metadata": {},
   "outputs": [],
   "source": [
    "print(rocky)\n",
    "print(luna)\n"
   ]
  },
  {
   "cell_type": "markdown",
   "metadata": {},
   "source": [
    "### Exercise 2\n",
    "What is the expected output of the following code?"
   ]
  },
  {
   "cell_type": "code",
   "execution_count": null,
   "metadata": {},
   "outputs": [],
   "source": [
    "print(issubclass(SheepDog, Dog), issubclass(SheepDog, GuardDog))\n",
    "print(isinstance(rocky, GuardDog), isinstance(luna, GuardDog))"
   ]
  },
  {
   "cell_type": "markdown",
   "metadata": {},
   "source": [
    "### Exercise 3\n",
    "What is the expected output of the following code?"
   ]
  },
  {
   "cell_type": "code",
   "execution_count": null,
   "metadata": {},
   "outputs": [],
   "source": [
    "print(luna is luna, rocky is luna)\n",
    "print(rocky.kennel)"
   ]
  },
  {
   "cell_type": "markdown",
   "metadata": {},
   "source": [
    "### Exercise 4\n",
    "Define a subclass of SheepDog named LowlandDog, and provide it with an __str__() method that overrides the inherited method. The new dog's __str__() method should return the string \"Woof! I don't like mountains!\"."
   ]
  },
  {
   "cell_type": "code",
   "execution_count": null,
   "metadata": {},
   "outputs": [],
   "source": [
    "class LowlandDog(SheepDog):\n",
    "    def __str__(self):\n",
    "        return \"Woof! I don't like mountains!\""
   ]
  },
  {
   "cell_type": "markdown",
   "metadata": {},
   "source": []
  }
 ],
 "metadata": {
  "language_info": {
   "name": "python"
  }
 },
 "nbformat": 4,
 "nbformat_minor": 2
}
