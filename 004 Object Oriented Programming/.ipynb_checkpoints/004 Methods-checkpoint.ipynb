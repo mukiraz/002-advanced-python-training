{
 "cells": [
  {
   "cell_type": "markdown",
   "id": "74c679fb",
   "metadata": {},
   "source": [
    "### Methods in Detail\n",
    "\n",
    "Let's summarize the key points about using methods in Python classes.\n",
    "\n",
    "As you know, a method is a function embedded inside a class.\n",
    "\n",
    "There is one fundamental requirement: a method must have at least one parameter. Methods cannot be parameterless—they may be invoked without an argument, but they cannot be declared without parameters.\n",
    "\n",
    "The first (or only) parameter is usually named `self`. It's a good practice to follow this convention as it is widely used, and deviating from it may cause confusion.\n",
    "\n",
    "The name `self` indicates the parameter's purpose: it identifies the object for which the method is invoked.\n",
    "\n",
    "When invoking a method, you do not need to pass an argument for the `self` parameter—Python handles this automatically.\n",
    "\n",
    "The example in the editor illustrates this difference."
   ]
  },
  {
   "cell_type": "code",
   "execution_count": 1,
   "id": "260edb6c",
   "metadata": {},
   "outputs": [
    {
     "name": "stdout",
     "output_type": "stream",
     "text": [
      "method: 1\n",
      "method: 2\n",
      "method: 3\n"
     ]
    }
   ],
   "source": [
    "class Classy:\n",
    "    def method(self, par):\n",
    "        print(\"method:\", par)\n",
    "\n",
    "obj = Classy()\n",
    "obj.method(1)\n",
    "obj.method(2)\n",
    "obj.method(3)"
   ]
  },
  {
   "cell_type": "markdown",
   "id": "ee4d063d",
   "metadata": {},
   "source": [
    "The code outputs:\n",
    "\n",
    "```\n",
    "method\n",
    "output\n",
    "```\n",
    "\n",
    "Notice how we've created the object by treating the class name like a function, which returns a newly instantiated object of the class.\n",
    "\n",
    "If you want the method to accept parameters other than `self`, you should:\n",
    "\n",
    "1. Place them after `self` in the method's definition.\n",
    "2. Provide them during invocation without specifying `self` (as Python handles it automatically)."
   ]
  },
  {
   "cell_type": "markdown",
   "id": "67a745fc",
   "metadata": {},
   "source": [
    "### Methods in Detail: Continued\n",
    "\n",
    "The `self` parameter is used to access an object's instance and class variables.\n",
    "\n",
    "The example below demonstrates both uses of `self`:"
   ]
  },
  {
   "cell_type": "code",
   "execution_count": 2,
   "id": "2c3bc115",
   "metadata": {},
   "outputs": [
    {
     "name": "stdout",
     "output_type": "stream",
     "text": [
      "2 3\n"
     ]
    }
   ],
   "source": [
    "class Classy:\n",
    "    varia = 2\n",
    "    def method(self):\n",
    "        print(self.varia, self.var)\n",
    "\n",
    "obj = Classy()\n",
    "obj.var = 3\n",
    "obj.method()\n"
   ]
  },
  {
   "cell_type": "markdown",
   "id": "8d1946cd",
   "metadata": {},
   "source": [
    "The self parameter is also used to call other object/class methods from within the class.\n",
    "\n",
    "For example:"
   ]
  },
  {
   "cell_type": "code",
   "execution_count": 3,
   "id": "add26854",
   "metadata": {},
   "outputs": [
    {
     "name": "stdout",
     "output_type": "stream",
     "text": [
      "method\n",
      "other\n"
     ]
    }
   ],
   "source": [
    "class Classy:\n",
    "    def other(self):\n",
    "        print(\"other\")\n",
    "\n",
    "    def method(self):\n",
    "        print(\"method\")\n",
    "        self.other()\n",
    "\n",
    "obj = Classy()\n",
    "obj.method()\n"
   ]
  },
  {
   "cell_type": "markdown",
   "id": "0fee1ad0",
   "metadata": {},
   "source": [
    "### Methods in Detail: Continued\n",
    "\n",
    "If you name a method `__init__`, it won't be a regular method; it will be a constructor.\n",
    "\n",
    "When a class has a constructor, it is automatically and implicitly invoked when an object of the class is instantiated.\n",
    "\n",
    "The constructor:\n",
    "\n",
    "- Must have the `self` parameter (which is set automatically, as usual).\n",
    "- May (but doesn't need to) have more parameters than just `self`; if it does, the way the class name is used to create the object must reflect the `__init__` definition.\n",
    "- Can be used to set up the object, i.e., properly initialize its internal state, create instance variables, instantiate any other objects if their existence is needed, etc.\n",
    "\n",
    "Look at the code below. The example shows a very simple constructor in action."
   ]
  },
  {
   "cell_type": "code",
   "execution_count": 4,
   "id": "8bf98825",
   "metadata": {},
   "outputs": [
    {
     "name": "stdout",
     "output_type": "stream",
     "text": [
      "object\n"
     ]
    }
   ],
   "source": [
    "class Classy:\n",
    "    def __init__(self, value):\n",
    "        self.var = value\n",
    "\n",
    "obj_1 = Classy(\"object\")\n",
    "print(obj_1.var)"
   ]
  },
  {
   "cell_type": "markdown",
   "id": "7d7298e5",
   "metadata": {},
   "source": [
    "Note that the constructor:\n",
    "\n",
    "- Cannot return a value, as it is designed to return a newly created object and nothing else.\n",
    "- Cannot be invoked directly either from the object or from inside the class (you can invoke a constructor from any of the object's subclasses, but we'll discuss this issue later)."
   ]
  },
  {
   "cell_type": "markdown",
   "id": "54f1e6ef",
   "metadata": {},
   "source": [
    "### Methods in Detail: Continued\n",
    "\n",
    "Since `__init__` is a method, and a method is a function, you can use the same techniques with constructors/methods as you do with ordinary functions.\n",
    "\n",
    "The example below shows how to define a constructor with a default argument value. Test it out."
   ]
  },
  {
   "cell_type": "code",
   "execution_count": 5,
   "id": "067d16cb",
   "metadata": {},
   "outputs": [
    {
     "name": "stdout",
     "output_type": "stream",
     "text": [
      "object\n",
      "None\n"
     ]
    }
   ],
   "source": [
    "class Classy:\n",
    "    def __init__(self, value=None):\n",
    "        self.var = value\n",
    "\n",
    "obj_1 = Classy(\"object\")\n",
    "obj_2 = Classy()\n",
    "\n",
    "print(obj_1.var)\n",
    "print(obj_2.var)\n"
   ]
  },
  {
   "cell_type": "markdown",
   "id": "f82d3584",
   "metadata": {},
   "source": [
    "Everything we've said about property name mangling also applies to method names—a method whose name starts with `__` is (partially) hidden.\n",
    "\n",
    "The example below demonstrates this effect:"
   ]
  },
  {
   "cell_type": "code",
   "execution_count": 6,
   "id": "83448e38",
   "metadata": {},
   "outputs": [
    {
     "name": "stdout",
     "output_type": "stream",
     "text": [
      "visible\n",
      "failed\n",
      "hidden\n"
     ]
    }
   ],
   "source": [
    "class Classy:\n",
    "    def visible(self):\n",
    "        print(\"visible\")\n",
    "    \n",
    "    def __hidden(self):\n",
    "        print(\"hidden\")\n",
    "\n",
    "obj = Classy()\n",
    "obj.visible()\n",
    "\n",
    "try:\n",
    "    obj.__hidden()\n",
    "except:\n",
    "    print(\"failed\")\n",
    "\n",
    "obj._Classy__hidden()\n"
   ]
  },
  {
   "cell_type": "markdown",
   "id": "980a7ff5",
   "metadata": {},
   "source": [
    "## The inner life of classes and objects\n",
    "\n",
    "Each Python class and each Python object is pre-equipped with a set of useful attributes which can be used to examine its capabilities.\n",
    "\n",
    "You already know one of these - it's the __dict__ property.\n",
    "\n",
    "Let's observe how it deals with methods - look at the code in the editor.\n",
    "\n",
    "Run it to see what it outputs. Check the output carefully.\n",
    "\n",
    "Find all the defined methods and attributes. Locate the context in which they exist: inside the object or inside the class.\n",
    "\n"
   ]
  },
  {
   "cell_type": "markdown",
   "id": "28c08dcb",
   "metadata": {},
   "source": [
    "### The Inner Life of Classes and Objects: Continued\n",
    "\n",
    "`__dict__` is a dictionary. Another built-in property worth mentioning is `__name__`, which is a string.\n",
    "\n",
    "This property contains the name of the class. It's simply a string and not particularly exciting.\n",
    "\n",
    "Note: the `__name__` attribute is not present in objects—it exists only within classes.\n",
    "\n",
    "If you want to find the class of a particular object, you can use the `type()` function. This function can find the class that was used to instantiate any object.\n",
    "\n",
    "Take a look at the code below to see it in action."
   ]
  },
  {
   "cell_type": "code",
   "execution_count": 7,
   "id": "317e6c34",
   "metadata": {},
   "outputs": [
    {
     "name": "stdout",
     "output_type": "stream",
     "text": [
      "Classy\n",
      "Classy\n"
     ]
    }
   ],
   "source": [
    "class Classy:\n",
    "    pass\n",
    "\n",
    "print(Classy.__name__)\n",
    "obj = Classy()\n",
    "print(type(obj).__name__)\n"
   ]
  },
  {
   "cell_type": "markdown",
   "id": "e91df8c0",
   "metadata": {},
   "source": [
    "Note that a statement like this will cause an error."
   ]
  },
  {
   "cell_type": "code",
   "execution_count": 8,
   "id": "5032c7bb",
   "metadata": {},
   "outputs": [
    {
     "ename": "AttributeError",
     "evalue": "'Classy' object has no attribute '__name__'",
     "output_type": "error",
     "traceback": [
      "\u001b[1;31m---------------------------------------------------------------------------\u001b[0m",
      "\u001b[1;31mAttributeError\u001b[0m                            Traceback (most recent call last)",
      "Cell \u001b[1;32mIn[8], line 1\u001b[0m\n\u001b[1;32m----> 1\u001b[0m \u001b[38;5;28mprint\u001b[39m(obj\u001b[38;5;241m.\u001b[39m\u001b[38;5;18m__name__\u001b[39m)\n",
      "\u001b[1;31mAttributeError\u001b[0m: 'Classy' object has no attribute '__name__'"
     ]
    }
   ],
   "source": [
    "print(obj.__name__)"
   ]
  },
  {
   "cell_type": "markdown",
   "id": "700fc605",
   "metadata": {},
   "source": [
    "### The Inner Life of Classes and Objects: Continued\n",
    "\n",
    "`__module__` is also a string - it stores the name of the module that contains the definition of the class.\n",
    "\n",
    "Let's check it out - run the code below:"
   ]
  },
  {
   "cell_type": "code",
   "execution_count": null,
   "id": "5419e1b2",
   "metadata": {},
   "outputs": [],
   "source": [
    "class Classy:\n",
    "    pass\n",
    "\n",
    "print(Classy.__module__)\n",
    "obj = Classy()\n",
    "print(obj.__module__)"
   ]
  },
  {
   "cell_type": "markdown",
   "id": "dbf4e0d3",
   "metadata": {},
   "source": [
    "As you know, any module named `__main__` is not actually a module, but the file currently being executed."
   ]
  },
  {
   "cell_type": "markdown",
   "id": "b1496727",
   "metadata": {},
   "source": [
    "### The Inner Life of Classes and Objects: Continued\n",
    "\n",
    "`__bases__` is a tuple that contains the direct superclasses (not class names) for a given class.\n",
    "\n",
    "The order in the tuple matches the order used in the class definition.\n",
    "\n",
    "We'll provide a very basic example to highlight how inheritance works.\n",
    "\n",
    "Additionally, we will show you how to use this attribute when discussing the objective aspects of exceptions.\n",
    "\n",
    "Note: Only classes have this attribute, not objects.\n",
    "\n",
    "We've defined a function named `printBases()` to clearly present the contents of the tuple.\n",
    "\n",
    "Look at the code below, analyze it, and run it. It will output:"
   ]
  },
  {
   "cell_type": "code",
   "execution_count": 9,
   "id": "6ecad2a6",
   "metadata": {},
   "outputs": [
    {
     "name": "stdout",
     "output_type": "stream",
     "text": [
      "( object )\n",
      "( object )\n",
      "( SuperOne SuperTwo )\n"
     ]
    }
   ],
   "source": [
    "class SuperOne:\n",
    "    pass\n",
    "\n",
    "class SuperTwo:\n",
    "    pass\n",
    "\n",
    "class Sub(SuperOne, SuperTwo):\n",
    "    pass\n",
    "\n",
    "def printBases(cls):\n",
    "    print('( ', end='')\n",
    "    for x in cls.__bases__:\n",
    "        print(x.__name__, end=' ')\n",
    "    print(')')\n",
    "\n",
    "printBases(SuperOne)\n",
    "printBases(SuperTwo)\n",
    "printBases(Sub)\n"
   ]
  },
  {
   "cell_type": "markdown",
   "id": "d9f1b442",
   "metadata": {},
   "source": [
    "Note: A class without explicit superclasses points to `object` (a predefined Python class) as its direct ancestor."
   ]
  },
  {
   "cell_type": "markdown",
   "id": "fb6e34b1",
   "metadata": {},
   "source": [
    "### Reflection and Introspection\n",
    "\n",
    "These capabilities enable Python programmers to perform two crucial activities common to many object-oriented languages:\n",
    "\n",
    "1. **Introspection**: The ability of a program to examine the type or properties of an object at runtime.\n",
    "2. **Reflection**: The ability of a program to manipulate the values, properties, and/or functions of an object at runtime, going a step beyond introspection.\n",
    "\n",
    "In other words, you don't need to know the complete definition of a class or object to manipulate it. The object and/or its class contain metadata that allows you to recognize its features during program execution."
   ]
  },
  {
   "cell_type": "markdown",
   "id": "d7eee8a0",
   "metadata": {},
   "source": [
    "### Investigating Classes\n",
    "\n",
    "What can you find out about classes in Python? The answer is simple: everything.\n",
    "\n",
    "Both reflection and introspection enable a programmer to do anything with any object, no matter where it comes from.\n",
    "\n",
    "Analyze the code below:"
   ]
  },
  {
   "cell_type": "code",
   "execution_count": 10,
   "id": "4e48e078",
   "metadata": {},
   "outputs": [
    {
     "name": "stdout",
     "output_type": "stream",
     "text": [
      "{'a': 1, 'b': 2, 'i': 3, 'ireal': 3.5, 'integer': 4, 'z': 5}\n",
      "{'a': 1, 'b': 2, 'i': 4, 'ireal': 3.5, 'integer': 5, 'z': 5}\n"
     ]
    }
   ],
   "source": [
    "class MyClass:\n",
    "    pass\n",
    "\n",
    "\n",
    "obj = MyClass()\n",
    "obj.a = 1\n",
    "obj.b = 2\n",
    "obj.i = 3\n",
    "obj.ireal = 3.5\n",
    "obj.integer = 4\n",
    "obj.z = 5\n",
    "\n",
    "\n",
    "def incIntsI(obj):\n",
    "    for name in obj.__dict__.keys():\n",
    "        if name.startswith('i'):\n",
    "            val = getattr(obj, name)\n",
    "            if isinstance(val, int):\n",
    "                setattr(obj, name, val + 1)\n",
    "\n",
    "\n",
    "print(obj.__dict__)\n",
    "incIntsI(obj)\n",
    "print(obj.__dict__)\n"
   ]
  },
  {
   "cell_type": "markdown",
   "id": "ed21d37b",
   "metadata": {},
   "source": [
    "The function named `incIntsI()` takes an object of any class, scans its contents to find all integer attributes with names starting with `i`, and increments them by one.\n",
    "\n",
    "Impossible? Not at all!\n",
    "\n",
    "Here’s how it works:\n",
    "\n",
    "1. Define a very simple class (line 1)...\n",
    "2. Fill it with some attributes (lines 5 through 11).\n",
    "3. This is our function! (line 14).\n",
    "4. Scan the `__dict__` attribute, looking for all attribute names (line 15).\n",
    "5. If a name starts with `i`... (line 16).\n",
    "6. Use the `getattr()` function to get its current value (line 17). Note: `getattr()` takes two arguments: an object and its property name (as a string), and returns the current attribute's value.\n",
    "7. Check if the value is of type integer using the `isinstance()` function (line 18).\n",
    "8. If the check is successful, increment the property's value using the `setattr()` function (line 19). The function takes three arguments: an object, the property name (as a string), and the property's new value.\n",
    "\n",
    "The code outputs:\n",
    "\n",
    "```\n",
    "{'a': 1, 'integer': 4, 'b': 2, 'i': 3, 'z': 5, 'ireal': 3.5}\n",
    "{'a': 1, 'integer': 5, 'b': 2, 'i': 4, 'z': 5, 'ireal': 3.5}\n",
    "```"
   ]
  },
  {
   "cell_type": "markdown",
   "id": "9f7c23cc",
   "metadata": {},
   "source": [
    "### Key Takeaways\n",
    "\n",
    "1. A method is a function embedded inside a class. The first (or only) parameter of each method is usually named `self`, which is used to identify the object for which the method is invoked, allowing access to the object's properties and methods.\n",
    "\n",
    "2. If a class contains a constructor (a method named `__init__`), it cannot return any value and cannot be invoked directly.\n",
    "\n",
    "3. All classes (but not objects) have a property named `__name__`, which stores the name of the class. Additionally, a property named `__module__` stores the name of the module in which the class is declared, while the property named `__bases__` is a tuple containing the class's superclasses.\n",
    "\n",
    "For example:"
   ]
  },
  {
   "cell_type": "code",
   "execution_count": 11,
   "id": "287c930d",
   "metadata": {},
   "outputs": [
    {
     "name": "stdout",
     "output_type": "stream",
     "text": [
      "My name is Sample living in __main__\n"
     ]
    }
   ],
   "source": [
    "class Sample:\n",
    "    def __init__(self):\n",
    "        self.name = Sample.__name__\n",
    "\n",
    "    def myself(self):\n",
    "        print(\"My name is \" + self.name + \" living in \" + Sample.__module__)\n",
    "\n",
    "obj = Sample()\n",
    "obj.myself()\n"
   ]
  }
 ],
 "metadata": {
  "kernelspec": {
   "display_name": "Python 3 (ipykernel)",
   "language": "python",
   "name": "python3"
  },
  "language_info": {
   "codemirror_mode": {
    "name": "ipython",
    "version": 3
   },
   "file_extension": ".py",
   "mimetype": "text/x-python",
   "name": "python",
   "nbconvert_exporter": "python",
   "pygments_lexer": "ipython3",
   "version": "3.11.7"
  }
 },
 "nbformat": 4,
 "nbformat_minor": 5
}
