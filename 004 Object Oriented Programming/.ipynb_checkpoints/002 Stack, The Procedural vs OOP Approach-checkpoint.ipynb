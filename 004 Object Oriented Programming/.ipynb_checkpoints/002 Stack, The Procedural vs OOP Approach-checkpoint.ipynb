{
 "cells": [
  {
   "cell_type": "markdown",
   "id": "cb5ca004-b6dd-4df4-928d-9f848b62142c",
   "metadata": {},
   "source": [
    "### What is a Stack?\r\n",
    "\r\n",
    "A stack is a data structure designed to store data in a specific manner. Imagine a stack of coins: you can only place a coin on the top of the stack, and you can only remove a coin from the top. To access the coin at the bottom, you must first remove all the coins above it.\r\n",
    "\r\n",
    "In IT terminology, a stack is also known as LIFO, which stands for Last In, First Out. This means the most recently added item is the first to be removed.\r\n",
    "\r\n",
    "A stack supports two primary operations:\r\n",
    "- **Push**: Adding a new element to the top of the stack.\r\n",
    "- **Pop**: Removing the top element from the stack.\r\n",
    "\r\n",
    "Stacks are frequently used in many classical algorithms and are essential in the implementation of various tools.\r\n",
    "\r\n",
    "### The Concept of a Stack\r\n",
    "\r\n",
    "Let's implement a simple stack in Python using both procedural and object-oriented approaches. We'll start with the procedural approach."
   ]
  },
  {
   "attachments": {
    "b892a65e-465a-4ddc-b366-a8baeac13064.png": {
     "image/png": "[encoded data removed]"
    }
   },
   "cell_type": "markdown",
   "id": "87b2712c-ca33-45b8-b178-9b0c6db93bf3",
   "metadata": {},
   "source": [
    "![image.png](attachment:b892a65e-465a-4ddc-b366-a8baeac13064.png)"
   ]
  },
  {
   "cell_type": "markdown",
   "id": "6cbf6173-9bc1-4dd5-8711-e14b2366223f",
   "metadata": {},
   "source": [
    "### The Stack - Procedural Approach\r\n",
    "\r\n",
    "First, decide how to store the values that will be added to the stack. The simplest method is to use a list. We'll assume the stack has no size limit and the top element of the stack is the last element of the list.\r\n",
    "\r\n",
    "To create the stack, use:"
   ]
  },
  {
   "cell_type": "code",
   "execution_count": 1,
   "id": "53049698-3591-4b8f-8c76-4e5f3a379f43",
   "metadata": {},
   "outputs": [],
   "source": [
    "stack = []"
   ]
  },
  {
   "cell_type": "markdown",
   "id": "9c01b024-0d37-41bf-86ac-1ff896f64caf",
   "metadata": {},
   "source": [
    "Now, let's define a function to add a value to the stack:\r\n",
    "\r\n",
    "- The function is named `push`.\r\n",
    "- It takes one parameter (the value to be added to the stack).\r\n",
    "- It returns nothing.\r\n",
    "- It appends the parameter's value to the end of the stack.\r\n",
    "\r\n",
    "Here's the implementation:"
   ]
  },
  {
   "cell_type": "code",
   "execution_count": 2,
   "id": "e034407c-b8fc-4ff5-9ad6-3f122ba58c4f",
   "metadata": {},
   "outputs": [],
   "source": [
    "def push(val):\n",
    "    stack.append(val)\n"
   ]
  },
  {
   "cell_type": "markdown",
   "id": "50302a08-d77b-487c-9a7f-ccad64dde65a",
   "metadata": {},
   "source": [
    "Next, we'll define a function to remove a value from the stack:\n",
    "\n",
    "- The function is named `pop`.\n",
    "- It takes no parameters.\n",
    "- It returns the value removed from the stack.\n",
    "- It reads and removes the value from the top of the stack.\n",
    "\n",
    "Here's the implementation:\n"
   ]
  },
  {
   "cell_type": "code",
   "execution_count": 3,
   "id": "f1e6422c-89cd-4b18-88b7-3f4504ebfc1a",
   "metadata": {},
   "outputs": [],
   "source": [
    "def pop():\n",
    "    val = stack[-1]\n",
    "    del stack[-1]\n",
    "    return val\n"
   ]
  },
  {
   "cell_type": "markdown",
   "id": "a398ba6c-c852-422b-b545-121db4304f34",
   "metadata": {},
   "source": [
    "**Note:** The function doesn't check if the stack is empty.\r\n",
    "\r\n",
    "Finally, let's combine everything to demonstrate the stack in action. The complete program pushes three numbers onto the stack, pops them off, and prints their values:\r\n"
   ]
  },
  {
   "cell_type": "code",
   "execution_count": 4,
   "id": "d71fc976-f736-489c-811f-25b8354125f1",
   "metadata": {},
   "outputs": [
    {
     "name": "stdout",
     "output_type": "stream",
     "text": [
      "3\n",
      "2\n",
      "1\n"
     ]
    }
   ],
   "source": [
    "stack = []\n",
    "\n",
    "def push(val):\n",
    "    stack.append(val)\n",
    "\n",
    "def pop():\n",
    "    val = stack[-1]\n",
    "    del stack[-1]\n",
    "    return val\n",
    "\n",
    "# Example usage:\n",
    "push(1)\n",
    "push(2)\n",
    "push(3)\n",
    "\n",
    "print(pop())\n",
    "print(pop())\n",
    "print(pop())\n"
   ]
  },
  {
   "cell_type": "markdown",
   "id": "81c62367-4af7-4451-a9cb-df79b8a440ae",
   "metadata": {},
   "source": [
    "### The Stack: Procedural Approach vs. Object-Oriented Approach\n",
    "\n",
    "The procedural stack is now ready. While there are some weaknesses and room for improvement (such as using exceptions for better error handling), the stack is fully implemented and can be used as needed.\n",
    "\n",
    "However, the more you use it, the more you'll notice its disadvantages:\n",
    "\n",
    "1. **Vulnerability**: The stack list is highly vulnerable. Anyone can modify it unintentionally, potentially disrupting the stack. For example, a simple mistake like this can cause issues:\n",
    "    ```python\n",
    "    stack[0] = 0\n",
    "    ```\n",
    "\n",
    "2. **Multiple Stacks**: If you need more than one stack, you'll have to create additional lists and corresponding push and pop functions for each.\n",
    "\n",
    "3. **Additional Functions**: If you require additional stack functionalities, you'll have to implement them separately, which can become cumbersome if you have multiple stacks.\n",
    "\n",
    "The object-oriented approach addresses these issues:\n",
    "\n",
    "1. **Encapsulation**: This allows you to hide and protect certain values from unauthorized access, ensuring they can only be modified in controlled ways.\n",
    "\n",
    "2. **Multiple Instances**: With a class that implements stack behaviors, you can create as many stack instances as needed without duplicating code.\n",
    "\n",
    "3. **Inheritance**: You can extend the stack's functionality by creating a subclass that inherits existing traits from the superclass and adds new features.\n",
    "\n",
    "### Implementing the Stack: Procedural vs. Object-Oriented Approach\n",
    "\n",
    "Let's now implement a new stack using the object-oriented approach, guiding you step by step into the world of object-oriented programming."
   ]
  },
  {
   "cell_type": "markdown",
   "id": "2c54f869-2f08-437a-bf2e-2ec168dd683b",
   "metadata": {},
   "source": [
    "### The Stack - The Object-Oriented Approach\r\n",
    "\r\n",
    "The main idea remains the same: we'll use a list to store the stack's elements. The challenge is to encapsulate this list within a class.\r\n",
    "\r\n",
    "Let's start from scratch. Here’s how to define the stack class:\r\n",
    "\r\n",
    "```python\r\n",
    "class Stack:\r\n",
    "    pass\r\n",
    "```\r\n",
    "\r\n",
    "We expect two things from this class:\r\n",
    "\r\n",
    "1. **Property for Storage**: The class should have a list to store the stack's elements. Each object of the class should have its own list; the list should not be shared among different stack instances.\r\n",
    "2. **Encapsulation**: The list should be hidden from users of the class.\r\n",
    "\r\n",
    "In Python, you can’t directly declare such a property like in other programming languages. Instead, you need to add a specific statement or instruction to manually add properties to the class.\r\n",
    "\r\n",
    "To ensure the list is created every time a new stack object is instantiated, we need to use a special function known as a constructor. The constructor has a dual purpose:\r\n",
    "\r\n",
    "1. It must be named in a specific way.\r\n",
    "2. It is called automatically when a new object is created.\r\n",
    "\r\n",
    "The constructor’s job is to set up the new object, initializing all necessary properties.\r\n",
    "\r\n",
    "Here’s how to add a simple constructor to the class:"
   ]
  },
  {
   "cell_type": "code",
   "execution_count": 5,
   "id": "381c574b-50cf-4987-8dd6-0fed1acee192",
   "metadata": {},
   "outputs": [
    {
     "name": "stdout",
     "output_type": "stream",
     "text": [
      "Hi!\n"
     ]
    }
   ],
   "source": [
    "class Stack:  # Defining the Stack class.\n",
    "    def __init__(self):  # Defining the constructor function.\n",
    "        print(\"Hi!\")\n",
    "\n",
    "\n",
    "stack_object = Stack()  # Instantiating the object."
   ]
  },
  {
   "cell_type": "markdown",
   "id": "ae7cd37b-be73-428e-8127-c6a8b84f7d37",
   "metadata": {},
   "source": [
    "A few important points:\n",
    "\n",
    "- The constructor is always named `__init__`.\n",
    "- It must have at least one parameter, typically named `self`. This parameter represents the new object being created and allows you to manipulate it and add necessary properties.\n",
    "\n",
    "Running the code above will output:\n",
    "\n",
    "```\n",
    "Hi!\n",
    "```\n",
    "\n",
    "Notice that there’s no explicit call to the constructor in the code; it’s called automatically. Now, let's use this knowledge to further develop our stack implementation."
   ]
  },
  {
   "cell_type": "markdown",
   "id": "b2243d1c-5707-4da1-a2ab-58ce30ba1937",
   "metadata": {},
   "source": [
    "### The Stack – The Object-Oriented Approach: Continued\r\n",
    "\r\n",
    "Any changes made inside the constructor that modify the state of the `self` parameter will be reflected in the newly created object.\r\n",
    "\r\n",
    "This means you can add properties to the object, and these properties will remain until the object is destroyed or the property is explicitly removed.\r\n",
    "\r\n",
    "Let's add a property to the new object: a list to act as the stack. We'll name it `stack_list`.\r\n",
    "\r\n",
    "Here’s how to do it:"
   ]
  },
  {
   "cell_type": "code",
   "execution_count": 6,
   "id": "2a2252a1-e093-44c0-ba82-da416252e800",
   "metadata": {},
   "outputs": [
    {
     "name": "stdout",
     "output_type": "stream",
     "text": [
      "0\n"
     ]
    }
   ],
   "source": [
    "class Stack:\n",
    "    def __init__(self):\n",
    "        self.stack_list = []\n",
    "\n",
    "\n",
    "stack_object = Stack()\n",
    "print(len(stack_object.stack_list))"
   ]
  },
  {
   "cell_type": "markdown",
   "id": "a1d0a83a-f85d-4635-a0b0-d30b16327c0b",
   "metadata": {},
   "source": [
    "**Notes:**\n",
    "\n",
    "- We use dot notation, similar to invoking methods. This is the standard way to access an object's properties: name the object, add a dot (.), and specify the property's name. Do not use parentheses, as you're accessing a property, not invoking a method.\n",
    "- When you set a property's value for the first time (like in the constructor), you create the property. From that point on, the object has the property and can use its value.\n",
    "- In the code, we also accessed the `stack_list` property from outside the class right after creating the object to check the stack's current length.\n",
    "\n",
    "This indicates that the stack is initially empty. However, we want `stack_list` to be hidden from the outside world. Is this possible?\n",
    "\n",
    "Yes, it is possible and straightforward, though not very intuitive."
   ]
  },
  {
   "cell_type": "markdown",
   "id": "3fcad7e7-d240-49a3-ad6a-467aad36bace",
   "metadata": {},
   "source": [
    "### The Stack – The Object-Oriented Approach: Continued\n",
    "\n",
    "Take a look at this change: we’ve added two underscores before `stack_list` - nothing more:\n"
   ]
  },
  {
   "cell_type": "code",
   "execution_count": 7,
   "id": "b4d55bb3-8654-43cc-b3dc-9a0d28700820",
   "metadata": {},
   "outputs": [
    {
     "ename": "AttributeError",
     "evalue": "'Stack' object has no attribute '__stack_list'",
     "output_type": "error",
     "traceback": [
      "\u001b[1;31m---------------------------------------------------------------------------\u001b[0m",
      "\u001b[1;31mAttributeError\u001b[0m                            Traceback (most recent call last)",
      "Cell \u001b[1;32mIn[7], line 7\u001b[0m\n\u001b[0;32m      3\u001b[0m         \u001b[38;5;28mself\u001b[39m\u001b[38;5;241m.\u001b[39m__stack_list \u001b[38;5;241m=\u001b[39m []\n\u001b[0;32m      6\u001b[0m stack_object \u001b[38;5;241m=\u001b[39m Stack()\n\u001b[1;32m----> 7\u001b[0m \u001b[38;5;28mprint\u001b[39m(\u001b[38;5;28mlen\u001b[39m(stack_object\u001b[38;5;241m.\u001b[39m__stack_list))\n",
      "\u001b[1;31mAttributeError\u001b[0m: 'Stack' object has no attribute '__stack_list'"
     ]
    }
   ],
   "source": [
    "class Stack:\n",
    "    def __init__(self):\n",
    "        self.__stack_list = []\n",
    "\n",
    "\n",
    "stack_object = Stack()\n",
    "print(len(stack_object.__stack_list))"
   ]
  },
  {
   "cell_type": "markdown",
   "id": "38fe6c2c-e7cf-46cb-aa41-250aa47d3956",
   "metadata": {},
   "source": [
    "This change invalidates the program.\r\n",
    "\r\n",
    "**Why?**\r\n",
    "\r\n",
    "When any class component has a name starting with two underscores (__), it becomes private. This means it can only be accessed from within the class.\r\n",
    "\r\n",
    "You cannot access it from the outside world. This is how Python implements the concept of encapsulation.\r\n",
    "\r\n",
    "Run the program to test this assumption - an `AttributeError` exception should be\n",
    "\r\n",
    "This confirms that `__stack_list` is indeed private and cannot be accessed directly from outside the class. This is a fundamental part of Python's approach to encapsulation. raised."
   ]
  },
  {
   "cell_type": "markdown",
   "id": "85e93756-15d7-49f2-aa15-bd0a49439741",
   "metadata": {},
   "source": [
    "### The Object-Oriented Approach: Building a Stack from Scratch\r\n",
    "\r\n",
    "Now it's time to implement the `push` and `pop` methods for our stack class. In Python, such methods (class activities) should be defined within the class body, just like the constructor.\r\n",
    "\r\n",
    "We want these methods to be accessible to users of the class, unlike the list, which is hidden. Therefore, these methods should be public, meaning their names should not start with two or more underscores. Additionally, method names should have no more than one trailing underscore.\r\n",
    "\r\n",
    "Here's the implementation of the stack class with the `push` and `pop` methods:"
   ]
  },
  {
   "cell_type": "code",
   "execution_count": null,
   "id": "48516b5b-3fd1-49d7-bddd-ae2651ca0a6d",
   "metadata": {},
   "outputs": [],
   "source": [
    "class Stack:\n",
    "    def __init__(self):\n",
    "        self.__stack_list = []\n",
    "\n",
    "\n",
    "    def push(self, val):\n",
    "        self.__stack_list.append(val)\n",
    "\n",
    "\n",
    "    def pop(self):\n",
    "        val = self.__stack_list[-1]\n",
    "        del self.__stack_list[-1]\n",
    "        return val\n",
    "\n",
    "\n",
    "stack_object = Stack()\n",
    "\n",
    "stack_object.push(3)\n",
    "stack_object.push(2)\n",
    "stack_object.push(1)\n",
    "\n",
    "print(stack_object.pop())\n",
    "print(stack_object.pop())\n",
    "print(stack_object.pop())"
   ]
  },
  {
   "cell_type": "markdown",
   "id": "2e414bfe-42a8-47bf-bfbb-9c0ab269d9fa",
   "metadata": {},
   "source": [
    "#### Explanation\n",
    "\n",
    "- **Public Methods**: `push` and `pop` are public methods, meaning their names do not start with underscores. This makes them accessible to users of the class.\n",
    "- **Self Parameter**: Both methods include `self` as their first parameter. This is necessary because `self` allows the methods to access the properties and other methods of the instance they belong to. When a method is called, Python automatically passes the current instance as the first argument.\n",
    "- **Accessing Private Properties**: The methods access the private `__stack_list` property using `self.__stack_list`. This pattern (`self.property_name`) allows methods to manipulate the object's properties.\n",
    "\n",
    "### Summary\n",
    "\n",
    "- **Class Definition**: The stack class is defined with a constructor that initializes the private `__stack_list` property.\n",
    "- **Push Method**: Adds a value to the top of the stack.\n",
    "- **Pop Method**: Removes and returns the top value from the stack.\n",
    "- **Encapsulation**: The `__stack_list` is private, ensuring it is only modified through the `push` and `pop` methods, providing encapsulation.\n",
    "\n",
    "With this structure, our stack class is now fully functional and ready for use, demonstrating the benefits of the object-oriented approach, such as encapsulation and reusability."
   ]
  },
  {
   "cell_type": "markdown",
   "id": "2e05531c-7773-4c60-b469-cbec0a946bd8",
   "metadata": {},
   "source": [
    "### The Object-Oriented Approach: Building a Stack from Scratch\r\n",
    "\r\n",
    "Having a class like this opens up new possibilities. For example, you can now have multiple stacks that behave in the same way. Each stack will have its own copy of private data but will utilize the same set of methods.\r\n",
    "\r\n",
    "This is exactly what we want for this example.\r\n",
    "\r\n",
    "Analyze the code:"
   ]
  },
  {
   "cell_type": "code",
   "execution_count": 8,
   "id": "6801e44d-38cb-4ab3-a6ec-61b4c69694ed",
   "metadata": {},
   "outputs": [
    {
     "name": "stdout",
     "output_type": "stream",
     "text": [
      "3\n"
     ]
    }
   ],
   "source": [
    "class Stack:\n",
    "    def __init__(self):\n",
    "        self.__stack_list = []\n",
    "\n",
    "    def push(self, val):\n",
    "        self.__stack_list.append(val)\n",
    "\n",
    "    def pop(self):\n",
    "        val = self.__stack_list[-1]\n",
    "        del self.__stack_list[-1]\n",
    "        return val\n",
    "\n",
    "\n",
    "stack_object_1 = Stack()\n",
    "stack_object_2 = Stack()\n",
    "\n",
    "stack_object_1.push(3)\n",
    "stack_object_2.push(stack_object_1.pop())\n",
    "\n",
    "print(stack_object_2.pop())\n"
   ]
  },
  {
   "cell_type": "markdown",
   "id": "dbe2fff7-c768-49eb-ab56-2ad9f30a01f6",
   "metadata": {},
   "source": [
    "Here’s what’s happening:\r\n",
    "\r\n",
    "- **Class Definition**: The `Stack` class is defined with a constructor (`__init__`) that initializes a private list (`__stack_list`). The class also has two methods, `push` and `pop`, for adding and removing elements from the stack.\r\n",
    "\r\n",
    "- **Creating Objects**: Two stack objects are created from the `Stack` class: `stack_object_1` and `stack_object_2`.\r\n",
    "\r\n",
    "- **Using Methods**: \r\n",
    "  - `stack_object_1.push(3)` adds the value 3 to the first stack.\r\n",
    "  - `stack_object_2.push(stack_object_1.pop())` removes the top value from the first stack (which is 3) and pushes it onto the second stack.\r\n",
    "\r\n",
    "- **Printing the Result**: `print(stack_object_2.pop())` removes and prints the top value from the second stack, which is 3.\r\n",
    "\r\n",
    "This demonstrates that two stacks can operate independently. You can create as many stacks as needed, each with its own private data, while sharing the same set of methods.\r\n",
    "\r\n",
    "Run the code in the editor and observe what happens. Feel free to carry out your own experiments to further explore the behavior of multiple stack instances."
   ]
  },
  {
   "cell_type": "markdown",
   "id": "cc241e66-0190-485b-9d14-4255b8e46884",
   "metadata": {},
   "source": [
    "### The object approach: a stack from scratch (continued)\n",
    "\r\n",
    "Analyze the snippet below - we've created three objects of the class` Stac`k. Next, we've juggled them up. Try to predict the value outputted to the screen."
   ]
  },
  {
   "cell_type": "code",
   "execution_count": 9,
   "id": "62a76a2b-a31f-4b5c-9fe4-7aec174d5b5e",
   "metadata": {},
   "outputs": [
    {
     "name": "stdout",
     "output_type": "stream",
     "text": [
      "0\n"
     ]
    }
   ],
   "source": [
    "class Stack:\n",
    "    def __init__(self):\n",
    "        self.__stack_list = []\n",
    "\n",
    "    def push(self, val):\n",
    "        self.__stack_list.append(val)\n",
    "\n",
    "    def pop(self):\n",
    "        val = self.__stack_list[-1]\n",
    "        del self.__stack_list[-1]\n",
    "        return val\n",
    "\n",
    "\n",
    "little_stack = Stack()\n",
    "another_stack = Stack()\n",
    "funny_stack = Stack()\n",
    "\n",
    "little_stack.push(1)\n",
    "another_stack.push(little_stack.pop() + 1)\n",
    "funny_stack.push(another_stack.pop() - 2)\n",
    "\n",
    "print(funny_stack.pop())\n",
    "\n"
   ]
  },
  {
   "cell_type": "markdown",
   "id": "6c9b52db-8ba1-4706-bfba-7cff80a0d3e6",
   "metadata": {},
   "source": [
    "### The Object-Oriented Approach: A Stack from Scratch (Continued)\r\n",
    "\r\n",
    "Now, let's enhance our stack by creating a new class to handle stacks with additional functionality. Specifically, we want this new class to be able to evaluate the sum of all elements currently stored in the stack.\r\n",
    "\r\n",
    "We don't want to modify the existing `Stack` class because it is already functional for its intended applications. Instead, we will create a subclass with new capabilities.\r\n",
    "\r\n",
    "The first step is simple: define a new subclass that inherits from the `Stack` class.\r\n",
    "\r\n",
    "Here’s how it looks:"
   ]
  },
  {
   "cell_type": "code",
   "execution_count": 10,
   "id": "d4f6bd07-a1dd-456e-b2f8-42b5def898fe",
   "metadata": {},
   "outputs": [],
   "source": [
    "class AddingStack(Stack):\n",
    "    pass"
   ]
  },
  {
   "cell_type": "markdown",
   "id": "1fff50c9-70d0-4e42-aa32-3d84094ec49e",
   "metadata": {},
   "source": [
    "The new class doesn't define any new components yet, but it inherits all components from its superclass (`Stack`). The name of the superclass is placed after the colon following the new class name.\r\n",
    "\r\n",
    "### Desired Functionality for the New Stack\r\n",
    "\r\n",
    "1. **Enhanced Push Method**: The `push` method should not only add the value to the stack but also to a `sum` variable.\r\n",
    "2. **Enhanced Pop Method**: The `pop` method should not only remove the value from the stack but also subtract it from the `sum` variable.\r\n",
    "\r\n",
    "### Adding the Sum Variable\r\n",
    "\r\n",
    "We'll add a new private variable to the class to store the sum. Like the stack list, this variable should be private to prevent external manipulation.\r\n",
    "\r\n",
    "As you know, new properties are added via the constructor. Here's how we do it:"
   ]
  },
  {
   "cell_type": "code",
   "execution_count": 11,
   "id": "ace4e297-73cd-4d9a-b7b1-e32ce67b0b24",
   "metadata": {},
   "outputs": [],
   "source": [
    "class AddingStack(Stack):\n",
    "    def __init__(self):\n",
    "        Stack.__init__(self)\n",
    "        self.__sum = 0"
   ]
  },
  {
   "cell_type": "markdown",
   "id": "94ff342b-a33e-4bf0-a4f1-2612d58c6d31",
   "metadata": {},
   "source": [
    "### Explanation\n",
    "\n",
    "- **Calling the Superclass Constructor**: The line `Stack.__init__(self)` explicitly calls the constructor of the superclass. This is necessary in Python because it ensures the `__stack_list` is properly initialized. Without this call, the new stack object would lack the `__stack_list` list, causing it to malfunction.\n",
    "  \n",
    "  The syntax:\n",
    "  - Specify the superclass name (`Stack`).\n",
    "  - Put a dot (`.`) after it.\n",
    "  - Specify the constructor name (`__init__`).\n",
    "  - Pass the object instance (`self`) as an argument to the constructor.\n",
    "\n",
    "- **Adding the Sum Property**: `self.__sum = 0` initializes the sum variable, which will store the total of all values in the stack.\n",
    "\n",
    "### Recommended Practice\n",
    "\n",
    "It is generally recommended to call the superclass constructor before performing any other initializations in the subclass. This ensures that the base class is correctly set up before adding subclass-specific properties or methods.\n",
    "\n",
    "Here is the updated class definition with enhanced `push` and `pop` methods:\n"
   ]
  },
  {
   "cell_type": "code",
   "execution_count": 12,
   "id": "992357ec-c161-4b16-8489-ed96dc465546",
   "metadata": {},
   "outputs": [],
   "source": [
    "class Stack:\n",
    "    def __init__(self):\n",
    "        self.__stack_list = []\n",
    "\n",
    "    def push(self, val):\n",
    "        self.__stack_list.append(val)\n",
    "\n",
    "    def pop(self):\n",
    "        val = self.__stack_list[-1]\n",
    "        del self.__stack_list[-1]\n",
    "        return val\n",
    "\n",
    "\n",
    "class AddingStack(Stack):\n",
    "    def __init__(self):\n",
    "        Stack.__init__(self)\n",
    "        self.__sum = 0"
   ]
  },
  {
   "cell_type": "markdown",
   "id": "30fe3b13-d99e-4fa0-9eba-54f5a09e27ec",
   "metadata": {},
   "source": [
    "This is the only time you can explicitly invoke any of the available constructors, and it must be done inside the subclass's constructor.\r\n",
    "\r\n",
    "Note the syntax:\r\n",
    "\r\n",
    "- Specify the superclass's name (the class whose constructor you want to call).\r\n",
    "- Add a dot (`.`) after it.\r\n",
    "- Specify the name of the constructor.\r\n",
    "- Pass the object (the class instance) to be initialized by the constructor. This requires specifying the argument and using the `self` variable. Note: invoking any method (including constructors) from outside the class never requires including the `self` argument in the argument list. However, invoking a method from within the class demands explicit usage of the `self` argument, which must be placed first on the list.\r\n",
    "\r\n",
    "**Note:** It is generally recommended to invoke the superclass's constructor before performing any other initializations within the subclass. This practice ensures proper setup and is the rule followed in the provided example."
   ]
  },
  {
   "cell_type": "markdown",
   "id": "f2380b42-20af-455a-b80d-ebf1afe77cf0",
   "metadata": {},
   "source": [
    "### The Object-Oriented Approach: A Stack from Scratch (Continued)\r\n",
    "\r\n",
    "Next, let's add two methods. But is it really adding if we already have these methods in the superclass? Yes, it is. We are going to change the functionality of the methods while keeping their names the same. This process is known as overriding. The interface (how the methods are called) remains unchanged, but their implementation does.\r\n",
    "\r\n",
    "Let's start with the implementation of the `push` method. Here’s what we expect from it:\r\n",
    "\r\n",
    "- Add the value to the `__sum` variable.\r\n",
    "- Push the value onto the stack.\r\n",
    "\r\n",
    "Note: The second action has already been implemented in the superclass, so we can and should use it, as there is no other way to access the `__stack_list` variable.\r\n",
    "\r\n",
    "Here's how the `push` method looks in th the sum of its elements while using the inherited stack functionalities."
   ]
  },
  {
   "cell_type": "code",
   "execution_count": 13,
   "id": "a60ce10f-4a76-4852-b380-3817c6d7a15b",
   "metadata": {},
   "outputs": [],
   "source": [
    "class AddingStack(Stack):\n",
    "    def __init__(self):\n",
    "        Stack.__init__(self)\n",
    "        self.__sum = 0\n",
    "\n",
    "    def push(self, val):\n",
    "        self.__sum += val\n",
    "        Stack.push(self, val)\n"
   ]
  },
  {
   "cell_type": "markdown",
   "id": "4a40724c-04a1-4794-9788-f5c327966680",
   "metadata": {},
   "source": [
    "**Explanation:**\r\n",
    "\r\n",
    "- **Invoking the Superclass Method**: We explicitly call the superclass's `push` method to handle the actual pushing of the value onto the stack.\r\n",
    "  - Specify the superclass's name (`Stack`).\r\n",
    "  - Pass the current object (`self`) as the first argument. This is necessary because the target object is not implicitly added to the method call in this context.\r\n",
    "\r\n",
    "By doing this, we override the `push` method. The method name remains the same, but its functionality has changed to include updating the `__sum` variable.\r\n",
    "\r\n",
    "### Overriding Methods\r\n",
    "\r\n",
    "When we override a method, we provide a new implementation for a method that already exists in the superclass. The method name stays the same, but the new implementation modifies its behavior.\r\n",
    "\r\n",
    "Here is the complete code including the overridden `push` method and the `pop` method:"
   ]
  },
  {
   "cell_type": "code",
   "execution_count": 14,
   "id": "88b2981e-795c-4110-ae31-c9be5153f6f1",
   "metadata": {},
   "outputs": [],
   "source": [
    "class AddingStack(Stack):\n",
    "    def __init__(self):\n",
    "        Stack.__init__(self)\n",
    "        self.__sum = 0\n",
    "\n",
    "    def push(self, val):\n",
    "        self.__sum += val\n",
    "        Stack.push(self, val)\n",
    "\n",
    "    def pop(self):\n",
    "        val = Stack.pop(self)\n",
    "        self.__sum -= val\n",
    "        return val\n",
    "\n",
    "    def get_sum(self):\n",
    "        return self.__sum\n"
   ]
  },
  {
   "cell_type": "markdown",
   "id": "fa61f43b-bdec-447f-86df-ee3e1927502e",
   "metadata": {},
   "source": [
    "\n",
    "This subclass allows you to push and pop values while keeping track of the sum of the elements in the stack.\r\n",
    "\r\n",
    "### Testing the Enhanced Stack\r\n"
   ]
  },
  {
   "cell_type": "code",
   "execution_count": 15,
   "id": "f78cc699-5bb5-414a-8383-603e6cfd0e46",
   "metadata": {},
   "outputs": [
    {
     "name": "stdout",
     "output_type": "stream",
     "text": [
      "1\n",
      "2\n",
      "3\n",
      "0\n"
     ]
    }
   ],
   "source": [
    "stack_object = AddingStack()\n",
    "stack_object.push(3)\n",
    "stack_object.push(2)\n",
    "stack_object.push(1)\n",
    "\n",
    "print(stack_object.pop())  # Outputs: 1\n",
    "print(stack_object.pop())  # Outputs: 2\n",
    "print(stack_object.pop())  # Outputs: 3\n",
    "print(stack_object.get_sum())  # Outputs: 0\n"
   ]
  },
  {
   "cell_type": "markdown",
   "id": "8dfdb6dd-4377-4803-b11c-facc563fd4bf",
   "metadata": {},
   "source": [
    "This code demonstrates how the new AddingStack class maintains the sum of its elements while using the inherited stack functionalities."
   ]
  }
 ],
 "metadata": {
  "kernelspec": {
   "display_name": "Python 3 (ipykernel)",
   "language": "python",
   "name": "python3"
  },
  "language_info": {
   "codemirror_mode": {
    "name": "ipython",
    "version": 3
   },
   "file_extension": ".py",
   "mimetype": "text/x-python",
   "name": "python",
   "nbconvert_exporter": "python",
   "pygments_lexer": "ipython3",
   "version": "3.11.7"
  }
 },
 "nbformat": 4,
 "nbformat_minor": 5
}
