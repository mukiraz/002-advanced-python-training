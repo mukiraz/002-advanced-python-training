{
 "cells": [
  {
   "cell_type": "markdown",
   "id": "d8277702-015a-417d-a722-170ea40d7d2f",
   "metadata": {},
   "source": [
    "## Importing a Module\n",
    "\n",
    "#### Making a Module Usable\n",
    "\n",
    "To utilize a module, you need to import it, similar to taking a book off a shelf. This is done using the `import` statement, which is also a keyword with specific implications.\n",
    "\n",
    "#### The `import` Keyword\n",
    "\n",
    "Consider you want to use two items from the `math` module:\n",
    "\n",
    "- A constant representing the value of π (pi) as precisely as possible using double floating-point arithmetic. Although you can use Greek letters in Python variable names, the constant is named `pi` for convenience, especially for those without Greek keyboards.\n",
    "- A function called `sin()`, which calculates the sine of a number.\n",
    "\n",
    "Both of these items are in the `math` module, but how you can use them depends on how you import the module.\n",
    "\n",
    "#### Importing a Module: Basic Method\n",
    "\n",
    "The simplest way to import a module is by using the `import` statement like this:\n",
    "\n",
    "```python\n",
    "import math\n",
    "```\n",
    "\n",
    "This statement includes:\n",
    "\n",
    "- The `import` keyword.\n",
    "- The name of the module you want to import.\n",
    "\n",
    "You can place the `import` statement anywhere in your code, but it must appear before you use any of the module's features.\n",
    "\n",
    "#### Importing Multiple Modules\n",
    "\n",
    "If you need to import more than one module, you can either:\n",
    "\n",
    "- Use separate `import` statements for each module:\n",
    "\n",
    "```python\n",
    "import math\n",
    "import sys\n",
    "```\n",
    "\n",
    "- List multiple modules in a single `import` statement:\n",
    "\n",
    "```python\n",
    "import math, sys\n",
    "```\n",
    "\n",
    "This single statement imports both the `math` and `sys` modules. You can include as many modules as you need in the list."
   ]
  }
 ],
 "metadata": {
  "kernelspec": {
   "display_name": "Python 3 (ipykernel)",
   "language": "python",
   "name": "python3"
  },
  "language_info": {
   "codemirror_mode": {
    "name": "ipython",
    "version": 3
   },
   "file_extension": ".py",
   "mimetype": "text/x-python",
   "name": "python",
   "nbconvert_exporter": "python",
   "pygments_lexer": "ipython3",
   "version": "3.11.7"
  }
 },
 "nbformat": 4,
 "nbformat_minor": 5
}
