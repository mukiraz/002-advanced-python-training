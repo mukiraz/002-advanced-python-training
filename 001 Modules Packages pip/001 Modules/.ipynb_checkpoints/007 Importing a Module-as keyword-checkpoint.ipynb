{
 "cells": [
  {
   "cell_type": "markdown",
   "id": "44f19549-1ecd-4362-a975-e6d821edefa1",
   "metadata": {},
   "source": [
    "### Importing a module: Utilizing the \"as\" Keyword\n",
    "\n",
    "If you're using the import module variant and find the module's name inconvenient (e.g., it clashes with one of your existing entities, making qualification cumbersome), you have the option to assign it any name you prefer - this is known as aliasing.\n",
    "\n",
    "Aliasing involves identifying the module under a different name than its original one. This can also lead to shorter qualified names.\n",
    "\n",
    "To create an alias, you use the following format of the import statement:\n",
    "\n",
    "```python\n",
    "import module as alias\n",
    "```\n",
    "\n",
    "Here, \"module\" refers to the original module's name, while \"alias\" is the alternative name you wish to assign.\n",
    "\n",
    "Note: \"as\" is a reserved keyword."
   ]
  }
 ],
 "metadata": {
  "kernelspec": {
   "display_name": "Python 3 (ipykernel)",
   "language": "python",
   "name": "python3"
  },
  "language_info": {
   "codemirror_mode": {
    "name": "ipython",
    "version": 3
   },
   "file_extension": ".py",
   "mimetype": "text/x-python",
   "name": "python",
   "nbconvert_exporter": "python",
   "pygments_lexer": "ipython3",
   "version": "3.11.7"
  }
 },
 "nbformat": 4,
 "nbformat_minor": 5
}
