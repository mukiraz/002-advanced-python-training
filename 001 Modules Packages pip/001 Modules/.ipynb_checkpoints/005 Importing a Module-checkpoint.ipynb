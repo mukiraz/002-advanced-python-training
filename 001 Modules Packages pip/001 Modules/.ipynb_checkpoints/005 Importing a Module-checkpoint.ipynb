{
 "cells": [
  {
   "cell_type": "markdown",
   "id": "803cb54c-85a3-45b0-b288-b3260974f368",
   "metadata": {},
   "source": [
    "## Importing a Module\r\n",
    "\r\n",
    "In the code snippet below, observe how we specify the names of `pi` and `sin` using the module they originate from:\r\n",
    "\r\n",
    "```python\r\n",
    "math.pi\r\n",
    "math.sin\r\n",
    "```\r\n",
    "\r\n",
    "It's straightforward: you include:\r\n",
    "\r\n",
    "- The module's name (e.g., math).\r\n",
    "- A dot (i.e., .).\r\n",
    "- The name of the specific entity (e.g., pi).\r\n",
    "\r\n",
    "This format clearly indicates the namespace in which each name exists.\r\n",
    "\r\n",
    "Note: Using this qualification is mandatory when a module has been imported using the `import` instruction. It doesn't matter whether there's a conflict between any names in your code and those in the module's namespace.\r\n",
    "\r\n",
    "Let's start with a simple example: printing the value of sin(½π).\r\n",
    "\r\n",
    "Take a look at the code snippet below. This is how we execute it:\r\n",
    "\r\n",
    "```python\r\n",
    "import math\r\n",
    "print(math.sin(math.pi/2))\r\n",
    "```\r\n",
    "\r\n",
    "The code yields the expected output: 1.0.\r\n",
    "\r\n",
    "Note: Removing either of the two qualifications will result in an error in the code. If you've imported the `math` module as shown below, there's no other way to access its namespace:\r\n",
    "\r\n",
    "```python\r\n",
    "import math\r\n",
    "```"
   ]
  },
  {
   "cell_type": "code",
   "execution_count": 1,
   "id": "af2537cf-54cc-4216-895a-dec5bc67d806",
   "metadata": {},
   "outputs": [
    {
     "name": "stdout",
     "output_type": "stream",
     "text": [
      "1.0\n"
     ]
    }
   ],
   "source": [
    "import math\n",
    "print(math.sin(math.pi/2))"
   ]
  },
  {
   "cell_type": "markdown",
   "id": "9f0aa0ce-7f06-4d3c-858d-95d8a4271a93",
   "metadata": {},
   "source": [
    "Let's explore how your namespace and the module's namespace can coexist seamlessly.\n",
    "\n",
    "Check out the example provided in the editor.\n",
    "\n",
    "Here, we've defined our custom `pi` and `sin` entities.\n",
    "\n",
    "Execute the program. You should see the following output:\n",
    "\n",
    "```\n",
    "0.99999999\n",
    "1.0\n",
    "```\n",
    "\n",
    "As you can observe, these entities do not interfere with each other."
   ]
  },
  {
   "cell_type": "code",
   "execution_count": 2,
   "id": "7291a5a3-2fec-4900-9738-4e1282a9b4dd",
   "metadata": {},
   "outputs": [
    {
     "name": "stdout",
     "output_type": "stream",
     "text": [
      "0.99999999\n",
      "1.0\n"
     ]
    }
   ],
   "source": [
    "import math\n",
    "\n",
    "def sin(x):\n",
    "    if 2 * x == pi:\n",
    "        return 0.99999999\n",
    "    else:\n",
    "        return None\n",
    "\n",
    "pi = 3.14\n",
    "print(sin(pi/2))\n",
    "print(math.sin(math.pi/2))"
   ]
  },
  {
   "cell_type": "markdown",
   "id": "7a90dd38-ca29-4516-8372-d30be3a23fb1",
   "metadata": {},
   "source": [
    "In the second method, the syntax of the import statement precisely indicates which entity or entities from the module are acceptable in the code:\n",
    "\n",
    "```python\n",
    "from math import pi\n",
    "```\n",
    "\n",
    "This statement comprises the following elements:\n",
    "\n",
    "- The `from` keyword.\n",
    "- The name of the module to be selectively imported.\n",
    "- The `import` keyword.\n",
    "- The name or list of names of the entity/entities being imported into the namespace.\n",
    "\n",
    "This instruction has the following effects:\n",
    "\n",
    "- Only the listed entities are imported from the specified module.\n",
    "- The names of the imported entities are accessible without qualification.\n",
    "\n",
    "Note: No other entities are imported. Additionally, you cannot import additional entities using qualification. For example, a line like this:\n",
    "\n",
    "```python\n",
    "print(math.e)\n",
    "```\n",
    "\n",
    "will cause an error (e is Euler's number: 2.71828...).\n",
    "\n",
    "Let's modify the previous script to utilize this new technique.\n",
    "\n",
    "Here's the modified script:"
   ]
  },
  {
   "cell_type": "code",
   "execution_count": 3,
   "id": "1e6c619b-75d6-4a11-ac71-4afbbc260fae",
   "metadata": {},
   "outputs": [
    {
     "name": "stdout",
     "output_type": "stream",
     "text": [
      "1.0\n"
     ]
    }
   ],
   "source": [
    "from math import sin, pi\n",
    "\n",
    "print(sin(pi/2))"
   ]
  },
  {
   "cell_type": "markdown",
   "id": "8cdf1b15-af8e-428d-ae00-1cef55e25811",
   "metadata": {},
   "source": [
    "Let's delve into the code below. Examine it closely:\n",
    "\n",
    "- **Line 1**: Initiates a selective import.\n",
    "- **Line 3**: Utilizes the imported entities to achieve the expected result (1.0).\n",
    "- **Lines 5 through 12**: Redefines the meanings of `pi` and `sin`, effectively overriding the original (imported) definitions within the code's namespace.\n",
    "- **Line 15**: Produces the output 0.99999999, confirming our conclusions.\n"
   ]
  },
  {
   "cell_type": "code",
   "execution_count": 7,
   "id": "3f0fc114-871f-4ae6-976b-2f533fa37e7d",
   "metadata": {},
   "outputs": [
    {
     "name": "stdout",
     "output_type": "stream",
     "text": [
      "1.0\n",
      "0.99999999\n"
     ]
    }
   ],
   "source": [
    "from math import sin, pi #1\n",
    "print(sin(pi / 2))\n",
    "\n",
    "pi = 3.14 #3\n",
    "\n",
    "def sin(x): #5-12\n",
    "    if 2 * x == pi:\n",
    "        return 0.99999999\n",
    "    else:\n",
    "        return None\n",
    "\n",
    "\n",
    "print(sin(pi / 2)) #15"
   ]
  },
  {
   "cell_type": "markdown",
   "id": "ff3bbcf5-026b-4c77-81f9-161efc9bd900",
   "metadata": {},
   "source": [
    "Let's do another test. Look at the code below:"
   ]
  },
  {
   "cell_type": "code",
   "execution_count": 6,
   "id": "17b3569f-cd53-48d5-84b2-7d283442bef0",
   "metadata": {},
   "outputs": [
    {
     "name": "stdout",
     "output_type": "stream",
     "text": [
      "0.99999999\n",
      "1.0\n"
     ]
    }
   ],
   "source": [
    "pi = 3.14\n",
    "def sin(x):\n",
    "    if 2 * x == pi:\n",
    "        return 0.99999999\n",
    "    else:\n",
    "        return None\n",
    "\n",
    "print(sin(pi / 2))\n",
    "\n",
    "from math import sin, pi\n",
    "\n",
    "print(sin(pi / 2))"
   ]
  },
  {
   "cell_type": "markdown",
   "id": "fca41b3f-5332-4a51-958e-f22fbb2dc737",
   "metadata": {},
   "source": [
    "Here, we've altered the sequence of operations in the code:\n",
    "\n",
    "- **Lines 1 through 8**: Define our own `pi` and `sin`.\n",
    "- **Line 11**: Utilizes these custom definitions (0.99999999 is displayed).\n",
    "- **Line 13**: Conducts the import - the imported symbols override their previous definitions within the namespace.\n",
    "- **Line 15**: Yields the result 1.0."
   ]
  }
 ],
 "metadata": {
  "kernelspec": {
   "display_name": "Python 3 (ipykernel)",
   "language": "python",
   "name": "python3"
  },
  "language_info": {
   "codemirror_mode": {
    "name": "ipython",
    "version": 3
   },
   "file_extension": ".py",
   "mimetype": "text/x-python",
   "name": "python",
   "nbconvert_exporter": "python",
   "pygments_lexer": "ipython3",
   "version": "3.11.7"
  }
 },
 "nbformat": 4,
 "nbformat_minor": 5
}
