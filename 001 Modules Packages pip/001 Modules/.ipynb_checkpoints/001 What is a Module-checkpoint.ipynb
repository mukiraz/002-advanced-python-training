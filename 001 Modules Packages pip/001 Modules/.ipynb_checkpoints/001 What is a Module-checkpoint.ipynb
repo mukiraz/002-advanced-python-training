{
 "cells": [
  {
   "cell_type": "markdown",
   "id": "d6cd9982-2cea-456a-9449-66b9f66dd6dc",
   "metadata": {},
   "source": [
    "# What is a Module?"
   ]
  },
  {
   "cell_type": "markdown",
   "id": "b2e3527c-1e6d-4f5d-9205-41159455e37b",
   "metadata": {},
   "source": [
    "Computer code tends to expand over time. Code that remains static is likely either completely useless or abandoned. Active, valuable, and widely utilized code evolves continuously, in tandem with users' growing demands and changing expectations.\r\n",
    "\r\n",
    "Code that fails to meet users' needs will be quickly forgotten and replaced by newer, better, and more adaptable versions. This inevitability means you should never consider any program finished. Completion is a fleeting state that often ends with the first bug report. Python itself is a prime example of this principle in action.\r\n",
    "\r\n",
    "However, as code grows, so do the challenges associated with maintaining it. Larger codebases make bug detection more difficult, just as identifying a mechanical fault is easier in simpler, smaller machinery.\r\n",
    "\r\n",
    "When developing a large codebase (often measured by the total number of source lines, though this metric is imprecise), it's necessary to split the project into multiple parts. These parts can then be developed concurrently by several, or even hundreds, of developers.\r\n",
    "\r\n",
    "This can't be achieved with a single large source file edited by all programmers simultaneously, as this would lead to chaos and likely failure.\r\n",
    "\r\n",
    "To successfully complete such a software project, you need mechanisms to:\r\n",
    "\r\n",
    "- Distribute tasks among developers;\r\n",
    "- Integrate all the created components into a functioning whole.\r\n",
    "\r\n",
    "For instance, a project could be divided into two main sections:\r\n",
    "\r\n",
    "- The user interface (handling communication with the user via widgets and a graphical screen);\r\n",
    "- The logic (processing data and generating results).\r\n",
    "\r\n",
    "Each of these sections can be further subdivided, a process known as decomposition.\r\n",
    "\r\n",
    "Consider the task of organizing a wedding: you wouldn't do everything yourself but would instead delegate various tasks to different professionals.\r\n",
    "\r\n",
    "The question then becomes: how do you divide software into separate but interworking parts? The answer is through modules."
   ]
  }
 ],
 "metadata": {
  "kernelspec": {
   "display_name": "Python 3 (ipykernel)",
   "language": "python",
   "name": "python3"
  },
  "language_info": {
   "codemirror_mode": {
    "name": "ipython",
    "version": 3
   },
   "file_extension": ".py",
   "mimetype": "text/x-python",
   "name": "python",
   "nbconvert_exporter": "python",
   "pygments_lexer": "ipython3",
   "version": "3.11.7"
  }
 },
 "nbformat": 4,
 "nbformat_minor": 5
}
