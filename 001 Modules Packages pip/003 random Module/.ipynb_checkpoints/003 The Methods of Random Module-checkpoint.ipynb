{
 "cells": [
  {
   "cell_type": "markdown",
   "id": "ef7eb3c9-cc70-4f98-ade3-b778d4ce7b04",
   "metadata": {},
   "source": [
    "## Random Methods"
   ]
  },
  {
   "cell_type": "markdown",
   "id": "3797cae3-2a1d-4d80-bde0-781bea7e15d7",
   "metadata": {},
   "source": [
    "#### The randrange and randint Functions\n",
    "\n",
    "For generating integer random values, consider using one of the following functions:\n",
    "\n",
    "- `randrange(end)`\n",
    "- `randrange(beg, end)`\n",
    "- `randrange(beg, end, step)`\n",
    "- `randint(left, right)`\n",
    "\n",
    "The first three functions generate integers pseudorandomly from their respective ranges:\n",
    "\n",
    "- `range(end)`\n",
    "- `range(beg, end)`\n",
    "- `range(beg, end, step)`\n",
    "\n",
    "Keep in mind the implicit exclusion on the right side!\n",
    "\n",
    "The `randint(left, right)` function, on the other hand, is equivalent to `randrange(left, right+1)`. It produces an integer `i` within the inclusive range [left, right].\n",
    "\n",
    "Take a look at the code in the editor. This example program will consistently output a sequence where the first three positions are zeros, and the fourth position alternates between zero and one."
   ]
  },
  {
   "cell_type": "code",
   "execution_count": 2,
   "id": "c358b899-35bd-4a8c-ae83-bcf388d07783",
   "metadata": {},
   "outputs": [
    {
     "name": "stdout",
     "output_type": "stream",
     "text": [
      "0 0 0 0\n"
     ]
    }
   ],
   "source": [
    "from random import randrange, randint\n",
    "\n",
    "print(randrange(1), end=' ')\n",
    "print(randrange(0, 1), end=' ')\n",
    "print(randrange(0, 1, 1), end=' ')\n",
    "print(randint(0, 1))"
   ]
  },
  {
   "cell_type": "markdown",
   "id": "8d1ee8b7-8391-40a8-90af-08520cbe6d2f",
   "metadata": {},
   "source": [
    "Let's break down each line:\n",
    "\n",
    "1. `randrange(1)`:\n",
    "   - `randrange(1)` generates a random integer from the range `[0, 1)`, which means it can only be `0`.\n",
    "   - Therefore, the output of the first `print` statement will always be `0`.\n",
    "\n",
    "2. `randrange(0, 1)`:\n",
    "   - `randrange(0, 1)` generates a random integer from the range `[0, 1)`.\n",
    "   - The only possible value it can return is `0`.\n",
    "   - Thus, the output of the second `print` statement will always be `0`.\n",
    "\n",
    "3. `randrange(0, 1, 1)`:\n",
    "   - `randrange(0, 1, 1)` generates a random integer from the range `[0, 1)` with a step of `1`.\n",
    "   - The range `[0, 1)` includes only `0`.\n",
    "   - So, the output of the third `print` statement will always be `0`.\n",
    "\n",
    "4. `randint(0, 1)`:\n",
    "   - `randint(0, 1)` generates a random integer from the range `[0, 1]`.\n",
    "   - This range includes both `0` and `1`.\n",
    "   - Therefore, the fourth `print` statement will randomly output either `0` or `1`.\n",
    "\n",
    "Given these explanations, the sequence of outputs from the program will consistently be: `0 0 0 <random 0 or 1>`.\n",
    "\n",
    "Thus, the first three positions (`0 0 0`) are always zeros, and the fourth position alternates between `0` and `1` due to the nature of the `randint` function."
   ]
  },
  {
   "cell_type": "markdown",
   "id": "9ef97c10-74f6-418d-976d-6d610a0ef995",
   "metadata": {},
   "source": [
    "\r\n",
    "#### Limitations of Previous Functions\r\n",
    "\r\n",
    "The aforementioned functions have a significant drawback: they can generate duplicate values even if the number of calls doesn't exceed the range's span.\r\n",
    "\r\n",
    "Consider the code snippet below where the program frequently outputs numbers that are not u\n",
    "\n",
    "Here's a sample output from one of the executions: scenarios requiring unique selections such as lottery draws."
   ]
  },
  {
   "cell_type": "code",
   "execution_count": 4,
   "id": "4c71db20-6d76-43a1-87d5-5cfddaebf062",
   "metadata": {},
   "outputs": [
    {
     "name": "stdout",
     "output_type": "stream",
     "text": [
      "9,9,10,10,2,1,9,10,8,7,"
     ]
    }
   ],
   "source": [
    "from random import randint\n",
    "\n",
    "for i in range(10):\n",
    "    print(randint(1, 10), end=',')"
   ]
  },
  {
   "cell_type": "markdown",
   "id": "93c35c18-0390-40c1-bfbd-a9720b0ebbe2",
   "metadata": {},
   "source": [
    "#### The choice and sample Functions\n",
    "\n",
    "As demonstrated, these functions are unsuitable for tasks like lottery number generation. Fortunately, there exists a better alternative than creating custom code to ensure uniqueness of selected numbers.\n",
    "\n",
    "One such function aptly named is `choice`:\n",
    "\n",
    "```python\n",
    "choice(sequence)\n",
    "```\n",
    "\n",
    "And another function `sample`:\n",
    "\n",
    "```python\n",
    "sample(sequence, elements_to_choose)\n",
    "```\n",
    "\n",
    "The first function selects a random element from the input sequence and returns it. Meanwhile, the `sample` function constructs a list (or sample) consisting of `elements_to_choose` elements randomly drawn from the input sequence.\n",
    "\n",
    "In essence, these functions facilitate the selection of elements from a sequence, ensuring the chosen elements are in random order. Note: `elements_to_choose` should not exceed the length of the input sequence.\n",
    "\n",
    "Consider the following code snippet:\n",
    "\n",
    "Once again, the program's output is unpredictable. Here are example results:"
   ]
  },
  {
   "cell_type": "code",
   "execution_count": 5,
   "id": "2693069d-bd00-4260-b6a2-c6e98fe962ec",
   "metadata": {},
   "outputs": [
    {
     "name": "stdout",
     "output_type": "stream",
     "text": [
      "5\n",
      "[10, 4, 5, 8, 7]\n",
      "[2, 6, 4, 5, 8, 10, 7, 3, 9, 1]\n"
     ]
    }
   ],
   "source": [
    "from random import choice, sample\n",
    "\n",
    "my_list = [1, 2, 3, 4, 5, 6, 7, 8, 9, 10]\n",
    "\n",
    "print(choice(my_list))\n",
    "print(sample(my_list, 5))\n",
    "print(sample(my_list, 10))\n"
   ]
  },
  {
   "cell_type": "markdown",
   "id": "df1779e7-90d9-4e8b-b855-d5966d6b996c",
   "metadata": {},
   "source": [
    "These functions ensure randomness and diversity in selecting elements from a sequence, making them ideal for scenarios requiring unique selections such as lottery draws."
   ]
  }
 ],
 "metadata": {
  "kernelspec": {
   "display_name": "Python 3 (ipykernel)",
   "language": "python",
   "name": "python3"
  },
  "language_info": {
   "codemirror_mode": {
    "name": "ipython",
    "version": 3
   },
   "file_extension": ".py",
   "mimetype": "text/x-python",
   "name": "python",
   "nbconvert_exporter": "python",
   "pygments_lexer": "ipython3",
   "version": "3.11.7"
  }
 },
 "nbformat": 4,
 "nbformat_minor": 5
}
