{
 "cells": [
  {
   "cell_type": "markdown",
   "id": "190e6e68-08e5-4b1f-bf80-4aa4680a23e6",
   "metadata": {},
   "source": [
    "## Trigonometric Functions\n",
    "\n",
    "\r\n",
    "Let's begin with a brief overview of some functions provided by the math module.\r\n",
    "\r\n",
    "We've selected these functions arbitrarily, but that doesn't mean the ones we haven't mentioned are any less important. Explore the module's full range yourself - we don't have the space or time to cover everything in detail here.\r\n",
    "\r\n",
    "The first set of math functions is related to trigonometry:\r\n",
    "\r\n",
    "- `sin(x)` → the sine of x;\r\n",
    "- `cos(x)` → the cosine of x;\r\n",
    "- `tan(x)` → the tangent of x.\r\n",
    "\r\n",
    "Each of these functions accepts one argument (an angle measured in radians) and returns the corresponding result (note that not all arguments are valid for `tan()`).\r\n",
    "\r\n",
    "Additionally, there are the inverse trigonometric functions:\r\n",
    "\r\n",
    "- `asin(x)` → the arcsine of x;\r\n",
    "- `acos(x)` → the arccosine of x;\r\n",
    "- `atan(x)` → the arctangent of x.\r\n",
    "\r\n",
    "These functions also take one argument (pay attention to the domains) and return an angle measurement in radians.\r\n",
    "\r\n",
    "To efficiently work with angle measurements, the math module offers the following entities:\r\n",
    "\r\n",
    "- `pi` → a constant representing an approximation of π;\r\n",
    "- `radians(x)` → a function that converts x from degrees to radians;\r\n",
    "- `degrees(x)` → a function that converts x from radians to degrees.\r\n",
    "\r\n",
    "Now, take a look at the code in the editor. The example program is simple, but can you predict its results?\r\n",
    "\r\n",
    "Besides the circular functions listed above, the math module also includes their hyperbolic counterparts:\r\n",
    "\r\n",
    "- `sinh(x)` → the hyperbolic sine;\r\n",
    "- `cosh(x)` → the hyperbolic cosine;\r\n",
    "- `tanh(x)` → the hyperbolic tangent;\r\n",
    "- `asinh(x)` → the hyperbolic arcsine;\r\n",
    "- `acosh(x)` → the hyperbolic arccosine;\r\n",
    "- `atanh(x)` → the hyperbolic arctangent."
   ]
  },
  {
   "cell_type": "code",
   "execution_count": 2,
   "id": "f6d37819-68b5-4bfc-baba-a5554046315f",
   "metadata": {},
   "outputs": [
    {
     "name": "stdout",
     "output_type": "stream",
     "text": [
      "True\n",
      "True\n",
      "True\n",
      "True\n"
     ]
    }
   ],
   "source": [
    "from math import pi, radians, degrees, sin, cos, tan, asin\n",
    "\n",
    "ad = 90\n",
    "ar = radians(ad)\n",
    "ad = degrees(ar)\n",
    "\n",
    "print(ad == 90.)\n",
    "print(ar == pi / 2.)\n",
    "print(sin(ar) / cos(ar) == tan(ar))\n",
    "print(asin(sin(ar)) == ar)\n"
   ]
  },
  {
   "cell_type": "code",
   "execution_count": null,
   "id": "16ccb277-41bf-4ad6-ab48-0f8d19b13cb1",
   "metadata": {},
   "outputs": [],
   "source": []
  }
 ],
 "metadata": {
  "kernelspec": {
   "display_name": "Python 3 (ipykernel)",
   "language": "python",
   "name": "python3"
  },
  "language_info": {
   "codemirror_mode": {
    "name": "ipython",
    "version": 3
   },
   "file_extension": ".py",
   "mimetype": "text/x-python",
   "name": "python",
   "nbconvert_exporter": "python",
   "pygments_lexer": "ipython3",
   "version": "3.11.7"
  }
 },
 "nbformat": 4,
 "nbformat_minor": 5
}
