{
 "cells": [
  {
   "cell_type": "markdown",
   "id": "9e59df00-6779-473a-81a0-9f693ef1605a",
   "metadata": {},
   "source": [
    "## Exponentiation\r\n",
    "\r\n",
    "Another set of functions in the math module relates to exponentiation:\r\n",
    "\r\n",
    "- `e` → a constant representing an approximation of Euler's number (e);\r\n",
    "- `exp(x)` → calculates the value of e^x;\r\n",
    "- `log(x)` → computes the natural logarithm of x;\r\n",
    "- `log(x, b)` → determines the logarithm of x to the base b;\r\n",
    "- `log10(x)` → finds the base-10 logarithm of x (more accurate than log(x, 10));\r\n",
    "- `log2(x)` → finds the base-2 logarithm of x (more accurate than log(x, 2)).\r\n",
    "\r\n",
    "Note the `pow()` function:\r\n",
    "\r\n",
    "- `pow(x, y)` → calculates the value of x^y (pay attention to the domains).\r\n",
    "\r\n",
    "This is a built-in function and does not require an import.\r\n",
    "\r\n",
    "Take a look at the code in the editor. Can you anticipate its output?"
   ]
  },
  {
   "cell_type": "code",
   "execution_count": 1,
   "id": "de69c60c-7663-4cf2-b81e-72310e0a9fa9",
   "metadata": {},
   "outputs": [
    {
     "name": "stdout",
     "output_type": "stream",
     "text": [
      "True\n",
      "True\n",
      "True\n"
     ]
    }
   ],
   "source": [
    "from math import e, exp, log\n",
    "\n",
    "print(pow(e, 1) == exp(log(e)))\n",
    "print(pow(2, 2) == exp(2 * log(2)))\n",
    "print(log(e, e) == exp(0))"
   ]
  },
  {
   "cell_type": "code",
   "execution_count": null,
   "id": "98b49244-2404-46bc-a3af-4705b8976dad",
   "metadata": {},
   "outputs": [],
   "source": []
  }
 ],
 "metadata": {
  "kernelspec": {
   "display_name": "Python 3 (ipykernel)",
   "language": "python",
   "name": "python3"
  },
  "language_info": {
   "codemirror_mode": {
    "name": "ipython",
    "version": 3
   },
   "file_extension": ".py",
   "mimetype": "text/x-python",
   "name": "python",
   "nbconvert_exporter": "python",
   "pygments_lexer": "ipython3",
   "version": "3.11.7"
  }
 },
 "nbformat": 4,
 "nbformat_minor": 5
}
