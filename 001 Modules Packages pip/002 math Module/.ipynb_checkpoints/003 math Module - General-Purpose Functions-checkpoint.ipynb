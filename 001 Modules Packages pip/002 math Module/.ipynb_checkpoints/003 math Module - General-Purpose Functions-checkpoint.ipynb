{
 "cells": [
  {
   "cell_type": "markdown",
   "id": "3930eda2-7d50-4ba2-860b-78c89ede9d4a",
   "metadata": {},
   "source": [
    "### General-Purpose Functions in the Math Module\r\n",
    "\r\n",
    "#### Selected Functions from the Math Module: Continued\r\n",
    "\r\n",
    "The final set includes several general-purpose functions such as:\r\n",
    "\r\n",
    "- `ceil(x)` → returns the ceiling of x (the smallest integer greater than or equal to x);\r\n",
    "- `floor(x)` → returns the floor of x (the largest integer less than or equal to x);\r\n",
    "- `trunc(x)` → truncates x to an integer (note that this is not equivalent to either `ceil` or `floor`);\r\n",
    "- `factorial(x)` → calculates x! (x must be a non-negative integer);\r\n",
    "- `hypot(x, y)` → computes the length of the hypotenuse of a right-angle triangle with legs of lengths x and y (equivalent to `sqrt(pow(x, 2) + pow(y, 2))` but more precise).\r\n",
    "\r\n",
    "Examine the code in the editor and carefully analyze the program.\r\n",
    "\r\n",
    "It illustrates the key differences between `ceil()`, `floor()`, and `trunc()`.\r\n",
    "\r\n",
    "Run the program and observe its output."
   ]
  },
  {
   "cell_type": "code",
   "execution_count": 2,
   "id": "2a05c937-bf81-4dfc-9c89-c687eb142f63",
   "metadata": {},
   "outputs": [
    {
     "name": "stdout",
     "output_type": "stream",
     "text": [
      "1 2\n",
      "-2 -3\n",
      "2 3\n",
      "-1 -2\n",
      "1 2\n",
      "-1 -2\n"
     ]
    }
   ],
   "source": [
    "from math import ceil, floor, trunc\n",
    "\n",
    "x = 1.4\n",
    "y = 2.6\n",
    "\n",
    "print(floor(x), floor(y))\n",
    "print(floor(-x), floor(-y))\n",
    "print(ceil(x), ceil(y))\n",
    "print(ceil(-x), ceil(-y))\n",
    "print(trunc(x), trunc(y))\n",
    "print(trunc(-x), trunc(-y))"
   ]
  },
  {
   "cell_type": "code",
   "execution_count": null,
   "id": "3dc2a78a-10bd-465e-8fa7-b0e88af82789",
   "metadata": {},
   "outputs": [],
   "source": []
  }
 ],
 "metadata": {
  "kernelspec": {
   "display_name": "Python 3 (ipykernel)",
   "language": "python",
   "name": "python3"
  },
  "language_info": {
   "codemirror_mode": {
    "name": "ipython",
    "version": 3
   },
   "file_extension": ".py",
   "mimetype": "text/x-python",
   "name": "python",
   "nbconvert_exporter": "python",
   "pygments_lexer": "ipython3",
   "version": "3.11.7"
  }
 },
 "nbformat": 4,
 "nbformat_minor": 5
}
