{
 "cells": [
  {
   "cell_type": "markdown",
   "id": "bb34114c-6f32-499c-9a11-7ac45c543ceb",
   "metadata": {},
   "source": [
    "### Common Built-in Exceptions\r\n",
    "\r\n",
    "Here's a brief overview of some of the most useful built-in exceptions in Python. Although it might seem odd to call errors \"useful,\" they play a critical role in programming. Mistakes are inevitable, and exceptions help manage them efficiently.\r\n",
    "\r\n",
    "Exceptions are as integral to a programmer's life as any other routine aspect.\r\n",
    "\r\n",
    "For each exception, we will cover:\r\n",
    "\r\n",
    "- Its name\r\n",
    "- Its place in the exception hierarchy\r\n",
    "- A brief description\r\n",
    "- A simple code example illustrating a scenario where the exception might occur\r\n",
    "\r\n",
    "There are many more exceptions available, but we can't cover all of them here.\r\n",
    "\r\n",
    "#### ArithmeticError\r\n",
    "- **Location:** BaseException ← Exception ← ArithmeticError\r\n",
    "- **Description:** An abstract exception encompassing all errors due to arithmetic operations, such as division by zero or invalid argument domains.\r\n",
    "\r\n",
    "#### AssertionError\r\n",
    "- **Location:** BaseException ← Exception ← AssertionError\r\n",
    "- **Description:** A concrete exception raised by the assert statement when its condition evaluates to False, None, 0, or an empty string."
   ]
  },
  {
   "cell_type": "code",
   "execution_count": 3,
   "id": "ec941f03-0aca-4dd7-bac1-62a013e11dd1",
   "metadata": {},
   "outputs": [
    {
     "name": "stdin",
     "output_type": "stream",
     "text": [
      "Enter integral angle in degrees:  90\n"
     ]
    },
    {
     "ename": "AssertionError",
     "evalue": "",
     "output_type": "error",
     "traceback": [
      "\u001b[1;31m---------------------------------------------------------------------------\u001b[0m",
      "\u001b[1;31mAssertionError\u001b[0m                            Traceback (most recent call last)",
      "Cell \u001b[1;32mIn[3], line 5\u001b[0m\n\u001b[0;32m      2\u001b[0m angle \u001b[38;5;241m=\u001b[39m \u001b[38;5;28mint\u001b[39m(\u001b[38;5;28minput\u001b[39m(\u001b[38;5;124m'\u001b[39m\u001b[38;5;124mEnter integral angle in degrees: \u001b[39m\u001b[38;5;124m'\u001b[39m))\n\u001b[0;32m      4\u001b[0m \u001b[38;5;66;03m# We must be sure that angle != 90 + k * 180\u001b[39;00m\n\u001b[1;32m----> 5\u001b[0m \u001b[38;5;28;01massert\u001b[39;00m angle \u001b[38;5;241m%\u001b[39m \u001b[38;5;241m180\u001b[39m \u001b[38;5;241m!=\u001b[39m \u001b[38;5;241m90\u001b[39m\n\u001b[0;32m      6\u001b[0m \u001b[38;5;28mprint\u001b[39m(tan(radians(angle)))\n",
      "\u001b[1;31mAssertionError\u001b[0m: "
     ]
    }
   ],
   "source": [
    "from math import tan, radians\n",
    "angle = int(input('Enter integral angle in degrees: '))\n",
    "\n",
    "# We must be sure that angle != 90 + k * 180\n",
    "assert angle % 180 != 90\n",
    "print(tan(radians(angle)))"
   ]
  },
  {
   "cell_type": "markdown",
   "id": "d8235757-0c98-46a9-8683-630471cb422c",
   "metadata": {},
   "source": [
    "#### BaseException\r\n",
    "- **Location:** BaseException\r\n",
    "- **Description:** The most general (abstract) exception in Python. All other exceptions derive from this one. Thus, the following two except branches are equivalent: `except:` and `except BaseException:`.\r\n",
    "\r\n",
    "#### IndexError\r\n",
    "- **Location:** BaseException ← Exception ← LookupError ← IndexError\r\n",
    "- **Description:** A concrete exception raised when trying to access an element of a sequence (like a list) that doesn't exist.\r\n"
   ]
  },
  {
   "cell_type": "code",
   "execution_count": 4,
   "id": "03fd76d4-933d-4249-b04d-4735ac747cd8",
   "metadata": {},
   "outputs": [
    {
     "name": "stdout",
     "output_type": "stream",
     "text": [
      "1\n",
      "2\n",
      "3\n",
      "4\n",
      "5\n",
      "Done\n"
     ]
    }
   ],
   "source": [
    "# The code shows an extravagant way\n",
    "# of leaving the loop.\n",
    "\n",
    "the_list = [1, 2, 3, 4, 5]\n",
    "ix = 0\n",
    "do_it = True\n",
    "\n",
    "while do_it:\n",
    "    try:\n",
    "        print(the_list[ix])\n",
    "        ix += 1\n",
    "    except IndexError:\n",
    "        do_it = False\n",
    "\n",
    "print('Done')"
   ]
  },
  {
   "cell_type": "markdown",
   "id": "0a9f2ef5-6760-4c9d-af2c-c91241c5a0c7",
   "metadata": {},
   "source": [
    "#### KeyboardInterrupt\n",
    "- **Location:** BaseException ← KeyboardInterrupt\n",
    "- **Description:** A concrete exception raised when the user interrupts the program's execution using a keyboard shortcut (usually Ctrl-C). If this exception is handled without terminating the program, the program continues its execution.\n",
    "\n",
    "**Note:** This exception is not derived from the Exception class. Run the program in IDLE.\n"
   ]
  },
  {
   "cell_type": "markdown",
   "id": "a37fffcc-9e78-4614-8055-3bff791b0fc2",
   "metadata": {},
   "source": [
    "#### LookupError\r\n",
    "- **Location:** BaseException ← Exception ← LookupError\r\n",
    "- **Description:** An abstract exception encompassing all errors resulting from invalid references to collections such as lists, dictionaries, and tuples.\r\n",
    "\r\n",
    "#### MemoryError\r\n",
    "- **Location:** BaseException ← Exception ← MemoryError\r\n",
    "- **Description:** A concrete exception raised when an operation cannot be completed due to insufficient free memory."
   ]
  },
  {
   "cell_type": "code",
   "execution_count": null,
   "id": "5335316c-ce71-4883-a0b4-551af08580a2",
   "metadata": {},
   "outputs": [],
   "source": [
    "# This code causes the MemoryError exception.\n",
    "# Warning: executing this code may affect your OS.\n",
    "# Don't run it in production environments!\n",
    "\n",
    "string = 'x'\n",
    "try:\n",
    "    while True:\n",
    "        string = string + string\n",
    "        print(len(string))\n",
    "except MemoryError:\n",
    "    print('This is not funny!')"
   ]
  },
  {
   "cell_type": "markdown",
   "id": "5e8034ba-f585-47da-9a2b-a7fcd1c959b2",
   "metadata": {},
   "source": [
    "#### OverflowError\n",
    "- **Location:** BaseException ← Exception ← ArithmeticError ← OverflowError\n",
    "- **Description:** A concrete exception raised when an operation results in a number too large to be stored successfully."
   ]
  },
  {
   "cell_type": "code",
   "execution_count": 6,
   "id": "fe833634-b46f-4d51-ae3a-9c9a757226a7",
   "metadata": {},
   "outputs": [
    {
     "name": "stdout",
     "output_type": "stream",
     "text": [
      "2.718281828459045\n",
      "7.38905609893065\n",
      "54.598150033144236\n",
      "2980.9579870417283\n",
      "8886110.520507872\n",
      "78962960182680.69\n",
      "6.235149080811617e+27\n",
      "3.8877084059945954e+55\n",
      "1.5114276650041035e+111\n",
      "2.2844135865397565e+222\n",
      "The number is too big.\n"
     ]
    }
   ],
   "source": [
    "# The code prints subsequent\n",
    "# values of exp(k), k = 1, 2, 4, 8, 16, ...\n",
    "\n",
    "from math import exp\n",
    "\n",
    "ex = 1\n",
    "\n",
    "try:\n",
    "    while True:\n",
    "        print(exp(ex))\n",
    "        ex *= 2\n",
    "except OverflowError:\n",
    "    print('The number is too big.')"
   ]
  },
  {
   "cell_type": "markdown",
   "id": "61663ff4-0f84-4797-94fa-cfa1d10a01a2",
   "metadata": {},
   "source": [
    "#### ImportError\r\n",
    "- **Location:** BaseException ← Exception ← StandardError ← ImportError\r\n",
    "- **Description:** A concrete exception raised when an import operation fails."
   ]
  },
  {
   "cell_type": "code",
   "execution_count": 7,
   "id": "be7b4e0b-74c7-48c1-908b-4ec051de75f2",
   "metadata": {},
   "outputs": [
    {
     "name": "stdout",
     "output_type": "stream",
     "text": [
      "One of your imports has failed.\n"
     ]
    }
   ],
   "source": [
    "# One of these imports will fail - which one?\n",
    "\n",
    "try:\n",
    "    import math\n",
    "    import time\n",
    "    import abracadabra\n",
    "\n",
    "except:\n",
    "    print('One of your imports has failed.')"
   ]
  },
  {
   "cell_type": "markdown",
   "id": "c6fea9f3-d503-473c-8168-b22e67c43491",
   "metadata": {},
   "source": [
    "#### KeyError\n",
    "- **Location:** BaseException ← Exception ← LookupError ← KeyError\n",
    "- **Description:** A concrete exception raised when trying to access a non-existent element in a collection (e.g., a dictionary)."
   ]
  },
  {
   "cell_type": "code",
   "execution_count": 8,
   "id": "b0666341-4e8f-48ce-89f2-727109f1ea8f",
   "metadata": {},
   "outputs": [
    {
     "name": "stdout",
     "output_type": "stream",
     "text": [
      "b\n",
      "c\n",
      "d\n",
      "No such key: d\n"
     ]
    }
   ],
   "source": [
    "# How to abuse the dictionary\n",
    "# and how to deal with it?\n",
    "\n",
    "dictionary = { 'a': 'b', 'b': 'c', 'c': 'd' }\n",
    "ch = 'a'\n",
    "\n",
    "try:\n",
    "    while True:\n",
    "        ch = dictionary[ch]\n",
    "        print(ch)\n",
    "except KeyError:\n",
    "    print('No such key:', ch)"
   ]
  },
  {
   "cell_type": "markdown",
   "id": "01e8ef07-0104-45db-8134-945016dd0ed6",
   "metadata": {},
   "source": [
    "\n",
    "### Conclusion\n",
    "\n",
    "We have covered exceptions for now, but they will reappear when we discuss object-oriented programming in Python. You can use them to safeguard your code from unexpected issues, but it's also important to understand how to analyze the information they provide.\n",
    "\n",
    "Exceptions are actually objects, but we'll delve into that topic when we discuss classes and objects.\n",
    "\n",
    "For further reading about exceptions, you can explore the Standard Python Library at [Python 3.6 Exceptions](https://docs.python.org/3.6/library/exceptions.html)."
   ]
  },
  {
   "cell_type": "code",
   "execution_count": null,
   "id": "ca1d2ed0-11e1-4ac5-8893-1a7811837cff",
   "metadata": {},
   "outputs": [],
   "source": []
  }
 ],
 "metadata": {
  "kernelspec": {
   "display_name": "Python 3 (ipykernel)",
   "language": "python",
   "name": "python3"
  },
  "language_info": {
   "codemirror_mode": {
    "name": "ipython",
    "version": 3
   },
   "file_extension": ".py",
   "mimetype": "text/x-python",
   "name": "python",
   "nbconvert_exporter": "python",
   "pygments_lexer": "ipython3",
   "version": "3.11.7"
  }
 },
 "nbformat": 4,
 "nbformat_minor": 5
}
