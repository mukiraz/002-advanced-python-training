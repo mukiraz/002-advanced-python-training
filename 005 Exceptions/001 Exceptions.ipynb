{
 "cells": [
  {
   "cell_type": "markdown",
   "metadata": {},
   "source": [
    "## More About Exceptions\n",
    "\n",
    "Discussing object-oriented programming provides an excellent opportunity to revisit exceptions. Python's object-oriented nature makes exceptions a highly flexible tool, capable of adapting to specific needs, even those you may not anticipate.\n",
    "\n",
    "Before we delve into the object-oriented aspect of exceptions, let's explore some syntactical and semantic details of how Python handles the try-except block, as it offers more features than we've covered so far.\n",
    "\n",
    "One notable feature is an additional branch that can be added to the try-except block – the else branch. This part of the code starts with else and is executed only if no exception is raised inside the try block. For example:"
   ]
  },
  {
   "cell_type": "code",
   "execution_count": null,
   "metadata": {},
   "outputs": [],
   "source": [
    "def reciprocal(n):\n",
    "    try:\n",
    "        n = 1 / n\n",
    "    except ZeroDivisionError:\n",
    "        print(\"Division failed\")\n",
    "        return None\n",
    "    else:\n",
    "        print(\"Everything went fine\")\n",
    "        return n\n",
    "\n",
    "print(reciprocal(2))\n",
    "print(reciprocal(0))"
   ]
  },
  {
   "cell_type": "markdown",
   "metadata": {},
   "source": [
    "The else block must be placed after the last except block. In this structure, exactly one branch will execute after try: either the except branch (there can be multiple except branches) or the else branch.\n",
    "\n",
    "The example code produces the following output:\n",
    "\n",
    "```\n",
    "Everything went fine\n",
    "0.5\n",
    "Division failed\n",
    "None\n",
    "```"
   ]
  },
  {
   "cell_type": "markdown",
   "metadata": {},
   "source": [
    "## More About Exceptions\n",
    "\n",
    "The try-except block can be extended in another way by adding a part headed by the `finally` keyword (which must be the last branch of the code handling exceptions).\n",
    "\n",
    "Note: The `else` and `finally` blocks are not dependent on each other. They can coexist or be used independently.\n",
    "\n",
    "The `finally` block is always executed (it finalizes the try-except block execution, hence its name), regardless of what happened earlier, even if an exception was raised and whether it was handled or not.\n",
    "\n",
    "Consider the following code:"
   ]
  },
  {
   "cell_type": "code",
   "execution_count": null,
   "metadata": {},
   "outputs": [],
   "source": [
    "def reciprocal(n):\n",
    "    try:\n",
    "        n = 1 / n\n",
    "    except ZeroDivisionError:\n",
    "        print(\"Division failed\")\n",
    "        n = None\n",
    "    else:\n",
    "        print(\"Everything went fine\")\n",
    "    finally:\n",
    "        print(\"It's time to say goodbye\")\n",
    "        return n\n",
    "\n",
    "print(reciprocal(2))\n",
    "print(reciprocal(0))"
   ]
  },
  {
   "cell_type": "markdown",
   "metadata": {},
   "source": [
    "The output of this code is:\n",
    "\n",
    "```\n",
    "Everything went fine\n",
    "It's time to say goodbye\n",
    "0.5\n",
    "Division failed\n",
    "It's time to say goodbye\n",
    "None\n",
    "```"
   ]
  },
  {
   "cell_type": "markdown",
   "metadata": {},
   "source": [
    "## Exceptions are Classes\n",
    "\n",
    "All the previous examples focused on detecting specific types of exceptions and responding to them appropriately. Now, let's delve deeper and look inside the exception itself.\n",
    "\n",
    "You might not be surprised to learn that exceptions are classes. When an exception is raised, an object of the class is instantiated and goes through all levels of program execution, searching for the appropriate except branch to handle it.\n",
    "\n",
    "This object carries useful information that can help you precisely identify the details of the situation. To leverage this, Python offers a special variant of the exception clause. As shown in the example, the except statement is extended with an additional phrase starting with the as keyword, followed by an identifier. This identifier catches the exception object, allowing you to analyze its nature and draw proper conclusions.\n",
    "\n",
    "Note: The identifier's scope is limited to its except branch and does not extend beyond it.\n",
    "\n",
    "Here's a simple example of how to utilize the caught object – just print it out. The output is produced by the object's `__str__()` method, providing a brief message describing the reason for the exception."
   ]
  },
  {
   "cell_type": "code",
   "execution_count": null,
   "metadata": {},
   "outputs": [],
   "source": [
    "try:\n",
    "    i = int(\"Hello!\")\n",
    "except Exception as e:\n",
    "    print(e)\n",
    "    print(e.__str__())"
   ]
  },
  {
   "cell_type": "markdown",
   "metadata": {},
   "source": [
    "The same message will be printed if there is no fitting except block in the code, and Python is forced to handle it alone."
   ]
  },
  {
   "cell_type": "markdown",
   "metadata": {},
   "source": [
    "## Exceptions are Classes\n",
    "\n",
    "All built-in Python exceptions form a hierarchy of classes. You can extend this hierarchy if necessary.\n",
    "\n",
    "Consider the code below:"
   ]
  },
  {
   "cell_type": "code",
   "execution_count": null,
   "metadata": {},
   "outputs": [],
   "source": [
    "def print_exception_tree(thisclass, nest=0):\n",
    "    if nest > 1:\n",
    "        print(\"   |\" * (nest - 1), end=\"\")\n",
    "    if nest > 0:\n",
    "        print(\"   +---\", end=\"\")\n",
    "\n",
    "    print(thisclass.__name__)\n",
    "\n",
    "    for subclass in thisclass.__subclasses__():\n",
    "        print_exception_tree(subclass, nest + 1)\n",
    "\n",
    "print_exception_tree(BaseException)"
   ]
  },
  {
   "cell_type": "markdown",
   "metadata": {},
   "source": [
    "This program prints all predefined exception classes as a tree-like structure.\n",
    "\n",
    "Since a tree is a perfect example of a recursive data structure, recursion is an ideal tool for traversing it. The `print_exception_tree()` function takes two arguments:\n",
    "- A point inside the tree from which we start traversing.\n",
    "- A nesting level to build a simplified drawing of the tree's branches.\n",
    "\n",
    "We start from the root of the tree - the root of Python's exception classes is the `BaseException` class, which is the superclass of all other exceptions.\n",
    "\n",
    "For each encountered class, perform the following:\n",
    "- Print its name, taken from the `__name__` property.\n",
    "- Iterate through the list of subclasses provided by the `__subclasses__()` method, and recursively invoke the `print_exception_tree()` function, incrementing the nesting level accordingly.\n",
    "\n",
    "The branches and forks are drawn, though the printout isn't sorted. You can sort it for a challenge. There are some inaccuracies in how some branches are presented, which can also be fixed if desired.\n",
    "\n",
    "Here’s what the output looks like:\n",
    "\n",
    "```\n",
    "BaseException\n",
    "   +---Exception\n",
    "   |   +---TypeError\n",
    "   |   +---StopAsyncIteration\n",
    "   |   +---StopIteration\n",
    "   |   +---ImportError\n",
    "   |   |   +---ModuleNotFoundError\n",
    "   |   |   +---ZipImportError\n",
    "   |   +---OSError\n",
    "   |   |   +---ConnectionError\n",
    "   |   |   |   +---BrokenPipeError\n",
    "   |   |   |   +---ConnectionAbortedError\n",
    "   |   |   |   +---ConnectionRefusedError\n",
    "   |   |   |   +---ConnectionResetError\n",
    "   |   |   +---BlockingIOError\n",
    "   |   |   +---ChildProcessError\n",
    "   |   |   +---FileExistsError\n",
    "   |   |   +---FileNotFoundError\n",
    "   |   |   +---IsADirectoryError\n",
    "   |   |   +---NotADirectoryError\n",
    "   |   |   +---InterruptedError\n",
    "   |   |   +---PermissionError\n",
    "   |   |   +---ProcessLookupError\n",
    "   |   |   +---TimeoutError\n",
    "   |   |   +---UnsupportedOperation\n",
    "   |   |   +---herror\n",
    "   |   |   +---gaierror\n",
    "   |   |   +---timeout\n",
    "   |   |   +---Error\n",
    "   |   |   |   +---SameFileError\n",
    "   |   |   +---SpecialFileError\n",
    "   |   |   +---ExecError\n",
    "   |   |   +---ReadError\n",
    "   |   +---EOFError\n",
    "   |   +---RuntimeError\n",
    "   |   |   +---RecursionError\n",
    "   |   |   +---NotImplementedError\n",
    "   |   |   +---_DeadlockError\n",
    "   |   |   +---BrokenBarrierError\n",
    "   |   +---NameError\n",
    "   |   |   +---UnboundLocalError\n",
    "   |   +---AttributeError\n",
    "   |   +---SyntaxError\n",
    "   |   |   +---IndentationError\n",
    "   |   |   |   +---TabError\n",
    "   |   +---LookupError\n",
    "   |   |   +---IndexError\n",
    "   |   |   +---KeyError\n",
    "   |   |   +---CodecRegistryError\n",
    "   |   +---ValueError\n",
    "   |   |   +---UnicodeError\n",
    "   |   |   |   +---UnicodeEncodeError\n",
    "   |   |   |   +---UnicodeDecodeError\n",
    "   |   |   |   +---UnicodeTranslateError\n",
    "   |   |   +---UnsupportedOperation\n",
    "   |   +---AssertionError\n",
    "   |   +---ArithmeticError\n",
    "   |   |   +---FloatingPointError\n",
    "   |   |   +---OverflowError\n",
    "   |   |   +---ZeroDivisionError\n",
    "   |   +---SystemError\n",
    "   |   |   +---CodecRegistryError\n",
    "   |   +---ReferenceError\n",
    "   |   +---BufferError\n",
    "   |   +---MemoryError\n",
    "   |   +---Warning\n",
    "   |   |   +---UserWarning\n",
    "   |   |   +---DeprecationWarning\n",
    "   |   |   +---PendingDeprecationWarning\n",
    "   |   |   +---SyntaxWarning\n",
    "   |   |   +---RuntimeWarning\n",
    "   |   |   +---FutureWarning\n",
    "   |   |   +---ImportWarning\n",
    "   |   |   +---UnicodeWarning\n",
    "   |   |   +---BytesWarning\n",
    "   |   |   +---ResourceWarning\n",
    "   |   +---error\n",
    "   |   +---Verbose\n",
    "   |   +---Error\n",
    "   |   +---TokenError\n",
    "   |   +---StopTokenizing\n",
    "   |   +---Empty\n",
    "   |   +---Full\n",
    "   |   +---_OptionError\n",
    "   |   +---TclError\n",
    "   |   +---SubprocessError\n",
    "   |   |   +---CalledProcessError\n",
    "   |   |   +---TimeoutExpired\n",
    "   |   +---Error\n",
    "   |   |   +---NoSectionError\n",
    "   |   |   +---DuplicateSectionError\n",
    "   |   |   +---DuplicateOptionError\n",
    "   |   |   +---NoOptionError\n",
    "   |   |   +---InterpolationError\n",
    "   |   |   |   +---InterpolationMissingOptionError\n",
    "   |   |   |   +---InterpolationSyntaxError\n",
    "   |   |   |   +---InterpolationDepthError\n",
    "   |   |   +---ParsingError\n",
    "   |   |   |   +---MissingSectionHeaderError\n",
    "   |   +---InvalidConfigType\n",
    "   |   +---InvalidConfigSet\n",
    "   |   +---InvalidFgBg\n",
    "   |   +---InvalidTheme\n",
    "   |   +---EndOfBlock\n",
    "   |   +---BdbQuit\n",
    "   |   +---error\n",
    "   |   +---_Stop\n",
    "   |   +---PickleError\n",
    "   |   |   +---PicklingError\n",
    "   |   |   +---UnpicklingError\n",
    "   |   +---_GiveupOnSendfile\n",
    "   |   +---error\n",
    "   |   +---LZMAError\n",
    "   |   +---RegistryError\n",
    "   |   +---ErrorDuringImport\n",
    "   +---GeneratorExit\n",
    "   +---SystemExit\n",
    "   +---KeyboardInterrupt\n",
    "```"
   ]
  },
  {
   "cell_type": "markdown",
   "metadata": {},
   "source": [
    "## Detailed Anatomy of Exceptions\n",
    "\n",
    "Let's take a closer look at exception objects, as they contain some really interesting elements. We'll revisit this topic when we discuss Python's input/output techniques, as their exception subsystem extends these objects a bit.\n",
    "\n",
    "The `BaseException` class introduces a property named `args`. This is a tuple designed to gather all arguments passed to the class constructor. It is empty if the constructor is invoked without any arguments, or contains one element when the constructor gets one argument (excluding the `self` argument), and so on.\n",
    "\n",
    "Here's a simple function to print the `args` property in an elegant way:"
   ]
  },
  {
   "cell_type": "code",
   "execution_count": null,
   "metadata": {},
   "outputs": [],
   "source": [
    "def print_args(args):\n",
    "    lng = len(args)\n",
    "    if lng == 0:\n",
    "        print(\"\")\n",
    "    elif lng == 1:\n",
    "        print(args[0])\n",
    "    else:\n",
    "        print(str(args))\n",
    "\n",
    "try:\n",
    "    raise Exception\n",
    "except Exception as e:\n",
    "    print(e, e.__str__(), sep=' : ' , end=' : ')\n",
    "    print_args(e.args)\n",
    "\n",
    "try:\n",
    "    raise Exception(\"my exception\")\n",
    "except Exception as e:\n",
    "    print(e, e.__str__(), sep=' : ', end=' : ')\n",
    "    print_args(e.args)\n",
    "\n",
    "try:\n",
    "    raise Exception(\"my\", \"exception\")\n",
    "except Exception as e:\n",
    "    print(e, e.__str__(), sep=' : ', end=' : ')\n",
    "    print_args(e.args)\n"
   ]
  },
  {
   "cell_type": "markdown",
   "metadata": {},
   "source": [
    "We've used this function to print the contents of the `args` property in three different cases, where an exception of the `Exception` class is raised in three different ways. To make it more comprehensive, we've also printed the object itself, along with the result of the `__str__()` method.\n",
    "\n",
    "- The first case looks routine - there is just the name `Exception` after the `raise` keyword. This means that the object of this class has been created in the most routine way.\n",
    "- The second and third cases may look a bit unusual at first glance, but they are simply constructor invocations. In the second `raise` statement, the constructor is invoked with one argument, and in the third, with two.\n",
    "\n",
    "As you can see, the program output reflects this, showing the appropriate contents of the `args` property:\n",
    "\n",
    "```\n",
    " :  :\n",
    "my exception : my exception : my exception\n",
    "('my', 'exception') : ('my', 'exception') : ('my', 'exception')\n",
    "```"
   ]
  },
  {
   "cell_type": "markdown",
   "metadata": {},
   "source": [
    "## İstisnaların Detaylı Anatomisi\n",
    "\n",
    "İstisna nesnelerine daha yakından bakalım, çünkü burada gerçekten ilginç unsurlar var. Python'un girdi/çıktı tekniklerini ele aldığımızda, bu konuyu yeniden inceleyeceğiz çünkü onların istisna alt sistemi bu nesneleri biraz genişletir.\n",
    "\n",
    "`BaseException` sınıfı, `args` adlı bir özellik tanıtır. Bu özellik, sınıf yapıcısına iletilen tüm argümanları toplamak için tasarlanmış bir demettir. Yapıcı hiçbir argüman olmadan çağrıldığında boştur, yapıcı bir argüman aldığında bir öğe içerir (burada `self` argümanını saymıyoruz) ve bu şekilde devam eder.\n",
    "\n",
    "İşte `args` özelliğini şık bir şekilde yazdırmak için basit bir fonksiyon:"
   ]
  },
  {
   "cell_type": "code",
   "execution_count": null,
   "metadata": {},
   "outputs": [],
   "source": [
    "def print_args(args):\n",
    "    lng = len(args)\n",
    "    if lng == 0:\n",
    "        print(\"\")\n",
    "    elif lng == 1:\n",
    "        print(args[0])\n",
    "    else:\n",
    "        print(str(args))\n",
    "\n",
    "try:\n",
    "    raise Exception\n",
    "except Exception as e:\n",
    "    print(e, e.__str__(), sep=' : ' , end=' : ')\n",
    "    print_args(e.args)\n",
    "\n",
    "try:\n",
    "    raise Exception(\"my exception\")\n",
    "except Exception as e:\n",
    "    print(e, e.__str__(), sep=' : ', end=' : ')\n",
    "    print_args(e.args)\n",
    "\n",
    "try:\n",
    "    raise Exception(\"my\", \"exception\")\n",
    "except Exception as e:\n",
    "    print(e, e.__str__(), sep=' : ', end=' : ')\n",
    "    print_args(e.args)"
   ]
  },
  {
   "cell_type": "markdown",
   "metadata": {},
   "source": [
    "Bu fonksiyonu, `args` özelliğinin içeriğini üç farklı durumda yazdırmak için kullandık; burada `Exception` sınıfının bir istisnası üç farklı şekilde yükseltilir. Daha anlaşılır hale getirmek için nesnenin kendisini ve `__str__()` yönteminin sonucunu da yazdırdık.\n",
    "\n",
    "- İlk durum rutindir - `raise` anahtar kelimesinden sonra sadece `Exception` adı vardır. Bu, bu sınıfın nesnesinin en rutin şekilde oluşturulduğu anlamına gelir.\n",
    "- İkinci ve üçüncü durumlar ilk bakışta biraz garip görünebilir, ancak burada tuhaf bir şey yok - bunlar sadece yapıcı çağrılarıdır. İkinci `raise` ifadesinde yapıcı bir argümanla, üçüncüde ise iki argümanla çağrılır.\n",
    "\n",
    "Gördüğünüz gibi, program çıktısı bunu yansıtarak `args` özelliğinin uygun içeriğini gösterir:\n",
    "\n",
    "```\n",
    " :  :\n",
    "my exception : my exception : my exception\n",
    "('my', 'exception') : ('my', 'exception') : ('my', 'exception')\n",
    "```"
   ]
  },
  {
   "cell_type": "markdown",
   "metadata": {},
   "source": [
    "## How to Create Your Own Exception\n",
    "\n",
    "The exception hierarchy in Python is neither closed nor fixed, and you can extend it to create your own exceptions as needed.\n",
    "\n",
    "This can be useful when developing a complex module that needs to detect errors and raise exceptions. Custom exceptions can help make your errors easily distinguishable from the built-in Python exceptions.\n",
    "\n",
    "To create your own exceptions, define new subclasses derived from predefined exceptions.\n",
    "\n",
    "Note: If you want your exception to be a specialized case of a built-in exception, derive it from that specific exception. If you want to build your own hierarchy and keep it distinct from Python's exception tree, derive it from one of the top-level exception classes, such as `Exception`.\n",
    "\n",
    "Imagine you’ve developed a new arithmetic system with its own rules and theorems. In this system, division is redefined and behaves differently from the standard division. You want this new division to raise its own exception, distinct from the built-in `ZeroDivisionError`. However, in some cases, you (or users of your arithmetic system) may want to treat all zero division errors in the same way.\n",
    "\n",
    "This can be achieved as shown in the following code:"
   ]
  },
  {
   "cell_type": "code",
   "execution_count": null,
   "metadata": {},
   "outputs": [],
   "source": [
    "class MyZeroDivisionError(ZeroDivisionError):    \n",
    "    pass\n",
    "\n",
    "def do_the_division(mine):\n",
    "    if mine:\n",
    "        raise MyZeroDivisionError(\"some worse news\")\n",
    "    else:        \n",
    "        raise ZeroDivisionError(\"some bad news\")\n",
    "\n",
    "for mode in [False, True]:\n",
    "    try:\n",
    "        do_the_division(mode)\n",
    "    except ZeroDivisionError:\n",
    "        print('Division by zero')\n",
    "\n",
    "for mode in [False, True]:\n",
    "    try:\n",
    "        do_the_division(mode)\n",
    "    except MyZeroDivisionError:\n",
    "        print('My division by zero')\n",
    "    except ZeroDivisionError:\n",
    "        print('Original division by zero')"
   ]
  },
  {
   "cell_type": "markdown",
   "metadata": {},
   "source": [
    "Here’s a breakdown of the code:\n",
    "\n",
    "1. We defined our own exception, `MyZeroDivisionError`, derived from the built-in `ZeroDivisionError`. We didn't add any new components to the class.\n",
    "2. As a result, an exception of this class can be treated as a plain `ZeroDivisionError` or considered separately, depending on the context.\n",
    "3. The `do_the_division()` function raises either a `MyZeroDivisionError` or `ZeroDivisionError` exception based on the argument's value.\n",
    "4. The function is invoked four times in total. The first two invocations are handled using only one `except` branch (the more general one), and the last two are handled with two different branches, which can distinguish between the exceptions (remember: the order of the branches is crucial!)."
   ]
  },
  {
   "cell_type": "markdown",
   "metadata": {},
   "source": [
    "## Creating a Custom Exception Structure\n",
    "\n",
    "When you're creating an entirely new universe with creatures that have nothing in common with familiar concepts, you might want to build your own exception hierarchy.\n",
    "\n",
    "For instance, if you're working on a large simulation system to model the activities of a pizza restaurant, it could be beneficial to establish a separate hierarchy of exceptions.\n",
    "\n",
    "You can start by defining a general exception as a new base class for any other specialized exceptions. Here's how we've done it:"
   ]
  },
  {
   "cell_type": "code",
   "execution_count": null,
   "metadata": {},
   "outputs": [],
   "source": [
    "class PizzaError(Exception):\n",
    "    def __init__(self, pizza, message):\n",
    "        super().__init__(message)\n",
    "        self.pizza = pizza"
   ]
  },
  {
   "cell_type": "markdown",
   "metadata": {},
   "source": [
    "\n",
    "Note: We're gathering more specific information here than a regular `Exception`, so our constructor takes two arguments:\n",
    "- One specifying a pizza as the subject of the process.\n",
    "- One containing a description of the problem.\n",
    "\n",
    "We pass the second parameter to the superclass constructor and save the first in our own property.\n",
    "\n",
    "A more specific problem (like an excess of cheese) might require a more specialized exception. You can derive this new class from the already defined `PizzaError` class, as shown here:\n"
   ]
  },
  {
   "cell_type": "code",
   "execution_count": null,
   "metadata": {},
   "outputs": [],
   "source": [
    "class TooMuchCheeseError(PizzaError):\n",
    "    def __init__(self, pizza, cheese, message):\n",
    "        super().__init__(pizza, message)\n",
    "        self.cheese = cheese"
   ]
  },
  {
   "cell_type": "markdown",
   "metadata": {},
   "source": [
    "The `TooMuchCheeseError` exception requires more information than the regular `PizzaError`, so we add it to the constructor. The `cheese` attribute is then stored for further processing."
   ]
  },
  {
   "cell_type": "markdown",
   "metadata": {},
   "source": [
    "Take a look at the code in the editor. We've integrated the two previously defined exceptions and used them in a small example snippet.\n",
    "\n",
    "One of these exceptions is raised inside the `make_pizza()` function when either of the following erroneous situations is encountered: an incorrect pizza request or a request for too much cheese.\n",
    "\n",
    "Note:\n",
    "\n",
    "- Removing the branch starting with `except TooMuchCheeseError` will cause all exceptions to be classified as `PizzaError`.\n",
    "- Removing the branch starting with `except PizzaError` will leave `TooMuchCheeseError` exceptions unhandled, causing the program to terminate.\n",
    "\n",
    "The previous solution, while elegant and efficient, has one important weakness. Due to the way the constructors are declared, the new exceptions cannot be used without providing a full list of required arguments.\n",
    "\n",
    "We'll address this by setting default values for all constructor parameters. Take a look:"
   ]
  },
  {
   "cell_type": "code",
   "execution_count": null,
   "metadata": {},
   "outputs": [],
   "source": [
    "class PizzaError(Exception):\n",
    "    def __init__(self, pizza='unknown', message=''):\n",
    "        super().__init__(message)\n",
    "        self.pizza = pizza\n",
    "\n",
    "class TooMuchCheeseError(PizzaError):\n",
    "    def __init__(self, pizza='unknown', cheese='>100', message=''):\n",
    "        super().__init__(pizza, message)\n",
    "        self.cheese = cheese\n",
    "\n",
    "def make_pizza(pizza, cheese):\n",
    "    if pizza not in ['margherita', 'capricciosa', 'calzone']:\n",
    "        raise PizzaError\n",
    "    if cheese > 100:\n",
    "        raise TooMuchCheeseError\n",
    "    print(\"Pizza ready!\")\n",
    "\n",
    "for (pz, ch) in [('calzone', 0), ('margherita', 110), ('mafia', 20)]:\n",
    "    try:\n",
    "        make_pizza(pz, ch)\n",
    "    except TooMuchCheeseError as tmce:\n",
    "        print(tmce, ':', tmce.cheese)\n",
    "    except PizzaError as pe:\n",
    "        print(pe, ':', pe.pizza)"
   ]
  },
  {
   "cell_type": "markdown",
   "metadata": {},
   "source": [
    "Now, if circumstances permit, it is possible to use the class names alone."
   ]
  },
  {
   "cell_type": "markdown",
   "metadata": {},
   "source": [
    "## Summary\n",
    "\n",
    "1. The `else` branch of the `try` statement is executed when no exception occurs during the execution of the `try` block.\n",
    "\n",
    "2. The `finally` branch of the `try` statement is always executed.\n",
    "\n",
    "3. The syntax `except Exception_Name as exception_object` allows you to intercept an object that carries information about a pending exception. The object's property named `args` (a tuple) stores all arguments passed to the object's constructor.\n",
    "\n",
    "4. Exception classes can be extended to add new capabilities or to adapt their traits to newly defined exceptions.\n",
    "\n",
    "For example:"
   ]
  },
  {
   "cell_type": "code",
   "execution_count": null,
   "metadata": {},
   "outputs": [],
   "source": [
    "try:\n",
    "    assert __name__ == \"__main__\"\n",
    "except:\n",
    "    print(\"fail\", end=' ')\n",
    "else:\n",
    "    print(\"success\", end=' ')\n",
    "finally:\n",
    "    print(\"done\")"
   ]
  },
  {
   "cell_type": "markdown",
   "metadata": {},
   "source": [
    "The code outputs: `success done`."
   ]
  },
  {
   "cell_type": "markdown",
   "metadata": {},
   "source": []
  }
 ],
 "metadata": {
  "language_info": {
   "name": "python"
  }
 },
 "nbformat": 4,
 "nbformat_minor": 2
}
