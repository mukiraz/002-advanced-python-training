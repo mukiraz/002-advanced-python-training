{
 "cells": [
  {
   "cell_type": "markdown",
   "metadata": {},
   "source": [
    "# Exercises\n",
    "\n",
    "## Exercise 1\n",
    "\n",
    "What is the expected output of the following code?"
   ]
  },
  {
   "cell_type": "code",
   "execution_count": null,
   "metadata": {},
   "outputs": [],
   "source": [
    "import math\n",
    "\n",
    "try:\n",
    "    print(math.sqrt(9))\n",
    "except ValueError:\n",
    "    print(\"inf\")\n",
    "else:\n",
    "    print(\"fine\")"
   ]
  },
  {
   "cell_type": "markdown",
   "metadata": {},
   "source": [
    "## Exercise 2\n",
    "\n",
    "What is the expected output of the following code?"
   ]
  },
  {
   "cell_type": "code",
   "execution_count": null,
   "metadata": {},
   "outputs": [],
   "source": [
    "import math\n",
    "\n",
    "try:\n",
    "    print(math.sqrt(-9))\n",
    "except ValueError:\n",
    "    print(\"inf\")\n",
    "else:\n",
    "    print(\"fine\")\n",
    "finally:\n",
    "    print(\"the end\")\n"
   ]
  },
  {
   "cell_type": "markdown",
   "metadata": {},
   "source": [
    "\n",
    "## Exercise 3\n",
    "\n",
    "What is the expected output of the following code?"
   ]
  },
  {
   "cell_type": "code",
   "execution_count": null,
   "metadata": {},
   "outputs": [],
   "source": [
    "import math\n",
    "\n",
    "class NewValueError(ValueError):\n",
    "    def __init__(self, name, color, state):\n",
    "        self.data = (name, color, state)\n",
    "\n",
    "try:\n",
    "    raise NewValueError(\"Enemy warning\", \"Red alert\", \"High readiness\")\n",
    "except NewValueError as nve:\n",
    "    for arg in nve.args:\n",
    "        print(arg, end='! ')"
   ]
  }
 ],
 "metadata": {
  "language_info": {
   "name": "python"
  }
 },
 "nbformat": 4,
 "nbformat_minor": 2
}
