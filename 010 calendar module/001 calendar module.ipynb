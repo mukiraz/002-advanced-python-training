{
 "cells": [
  {
   "cell_type": "markdown",
   "metadata": {},
   "source": [
    "### Introduction to the `calendar` Module\n",
    "\n",
    "In addition to the `datetime` and `time` modules, the Python standard library provides a module called `calendar` which, as the name suggests, offers calendar-related functions.\n",
    "\n",
    "One of the functions provided by this module is displaying the calendar. It's important to note that the days of the week are displayed from Monday to Sunday, and each day of the week is represented by an integer:\n",
    "\n",
    "| Day of the Week | Integer Value | Constant           |\n",
    "|-----------------|----------------|--------------------|\n",
    "| Monday          | 0              | `calendar.MONDAY`  |\n",
    "| Tuesday         | 1              | `calendar.TUESDAY` |\n",
    "| Wednesday       | 2              | `calendar.WEDNESDAY`|\n",
    "| Thursday        | 3              | `calendar.THURSDAY`|\n",
    "| Friday          | 4              | `calendar.FRIDAY`  |\n",
    "| Saturday        | 5              | `calendar.SATURDAY`|\n",
    "| Sunday          | 6              | `calendar.SUNDAY`  |\n",
    "\n",
    "The table above shows how the days of the week are represented in the `calendar` module. The first day of the week, Monday, is represented by the value 0 and the `calendar.MONDAY` constant, while the last day of the week, Sunday, is represented by the value 6 and the `calendar.SUNDAY` constant.\n",
    "\n",
    "For months, integer values are indexed from 1, i.e., January is represented by 1, and December by 12. Unfortunately, there aren't constants that express the months.\n",
    "\n",
    "The above information will be useful when working with the `calendar` module in this part of the course. First, let's start with some simple calendar examples."
   ]
  },
  {
   "cell_type": "markdown",
   "metadata": {},
   "source": [
    "### Your First Calendar\n",
    "\n",
    "You will start your adventure with the `calendar` module with a simple function called `calendar`, which allows you to display the calendar for the whole year. Let's look at how to use it to display the calendar for 2020. Run the code below and see what happens."
   ]
  },
  {
   "cell_type": "code",
   "execution_count": 1,
   "metadata": {},
   "outputs": [
    {
     "name": "stdout",
     "output_type": "stream",
     "text": [
      "                                  2020\n",
      "\n",
      "      January                   February                   March\n",
      "Mo Tu We Th Fr Sa Su      Mo Tu We Th Fr Sa Su      Mo Tu We Th Fr Sa Su\n",
      "       1  2  3  4  5                      1  2                         1\n",
      " 6  7  8  9 10 11 12       3  4  5  6  7  8  9       2  3  4  5  6  7  8\n",
      "13 14 15 16 17 18 19      10 11 12 13 14 15 16       9 10 11 12 13 14 15\n",
      "20 21 22 23 24 25 26      17 18 19 20 21 22 23      16 17 18 19 20 21 22\n",
      "27 28 29 30 31            24 25 26 27 28 29         23 24 25 26 27 28 29\n",
      "                                                    30 31\n",
      "\n",
      "       April                      May                       June\n",
      "Mo Tu We Th Fr Sa Su      Mo Tu We Th Fr Sa Su      Mo Tu We Th Fr Sa Su\n",
      "       1  2  3  4  5                   1  2  3       1  2  3  4  5  6  7\n",
      " 6  7  8  9 10 11 12       4  5  6  7  8  9 10       8  9 10 11 12 13 14\n",
      "13 14 15 16 17 18 19      11 12 13 14 15 16 17      15 16 17 18 19 20 21\n",
      "20 21 22 23 24 25 26      18 19 20 21 22 23 24      22 23 24 25 26 27 28\n",
      "27 28 29 30               25 26 27 28 29 30 31      29 30\n",
      "\n",
      "        July                     August                  September\n",
      "Mo Tu We Th Fr Sa Su      Mo Tu We Th Fr Sa Su      Mo Tu We Th Fr Sa Su\n",
      "       1  2  3  4  5                      1  2          1  2  3  4  5  6\n",
      " 6  7  8  9 10 11 12       3  4  5  6  7  8  9       7  8  9 10 11 12 13\n",
      "13 14 15 16 17 18 19      10 11 12 13 14 15 16      14 15 16 17 18 19 20\n",
      "20 21 22 23 24 25 26      17 18 19 20 21 22 23      21 22 23 24 25 26 27\n",
      "27 28 29 30 31            24 25 26 27 28 29 30      28 29 30\n",
      "                          31\n",
      "\n",
      "      October                   November                  December\n",
      "Mo Tu We Th Fr Sa Su      Mo Tu We Th Fr Sa Su      Mo Tu We Th Fr Sa Su\n",
      "          1  2  3  4                         1          1  2  3  4  5  6\n",
      " 5  6  7  8  9 10 11       2  3  4  5  6  7  8       7  8  9 10 11 12 13\n",
      "12 13 14 15 16 17 18       9 10 11 12 13 14 15      14 15 16 17 18 19 20\n",
      "19 20 21 22 23 24 25      16 17 18 19 20 21 22      21 22 23 24 25 26 27\n",
      "26 27 28 29 30 31         23 24 25 26 27 28 29      28 29 30 31\n",
      "                          30\n",
      "\n"
     ]
    }
   ],
   "source": [
    "import calendar\n",
    "\n",
    "print(calendar.calendar(2020))"
   ]
  },
  {
   "cell_type": "markdown",
   "metadata": {},
   "source": [
    "The result displayed is similar to the result of the `cal` command available in Unix. If you want to change the default calendar formatting, you can use the following parameters:\n",
    "\n",
    "- `w` – date column width (default is 2)\n",
    "- `l` – number of lines per week (default is 1)\n",
    "- `c` – number of spaces between month columns (default is 6)\n",
    "- `m` – number of columns (default is 3)\n",
    "\n",
    "The `calendar` function requires you to specify the year, while the other parameters responsible for formatting are optional. Try experimenting with these parameters yourself.\n",
    "\n",
    "A good alternative to the above function is `prcal`, which also takes the same parameters as the `calendar` function but doesn't require the use of the `print` function to display the calendar. Its use looks like this:"
   ]
  },
  {
   "cell_type": "code",
   "execution_count": 2,
   "metadata": {},
   "outputs": [
    {
     "name": "stdout",
     "output_type": "stream",
     "text": [
      "                                  2020\n",
      "\n",
      "      January                   February                   March\n",
      "Mo Tu We Th Fr Sa Su      Mo Tu We Th Fr Sa Su      Mo Tu We Th Fr Sa Su\n",
      "       1  2  3  4  5                      1  2                         1\n",
      " 6  7  8  9 10 11 12       3  4  5  6  7  8  9       2  3  4  5  6  7  8\n",
      "13 14 15 16 17 18 19      10 11 12 13 14 15 16       9 10 11 12 13 14 15\n",
      "20 21 22 23 24 25 26      17 18 19 20 21 22 23      16 17 18 19 20 21 22\n",
      "27 28 29 30 31            24 25 26 27 28 29         23 24 25 26 27 28 29\n",
      "                                                    30 31\n",
      "\n",
      "       April                      May                       June\n",
      "Mo Tu We Th Fr Sa Su      Mo Tu We Th Fr Sa Su      Mo Tu We Th Fr Sa Su\n",
      "       1  2  3  4  5                   1  2  3       1  2  3  4  5  6  7\n",
      " 6  7  8  9 10 11 12       4  5  6  7  8  9 10       8  9 10 11 12 13 14\n",
      "13 14 15 16 17 18 19      11 12 13 14 15 16 17      15 16 17 18 19 20 21\n",
      "20 21 22 23 24 25 26      18 19 20 21 22 23 24      22 23 24 25 26 27 28\n",
      "27 28 29 30               25 26 27 28 29 30 31      29 30\n",
      "\n",
      "        July                     August                  September\n",
      "Mo Tu We Th Fr Sa Su      Mo Tu We Th Fr Sa Su      Mo Tu We Th Fr Sa Su\n",
      "       1  2  3  4  5                      1  2          1  2  3  4  5  6\n",
      " 6  7  8  9 10 11 12       3  4  5  6  7  8  9       7  8  9 10 11 12 13\n",
      "13 14 15 16 17 18 19      10 11 12 13 14 15 16      14 15 16 17 18 19 20\n",
      "20 21 22 23 24 25 26      17 18 19 20 21 22 23      21 22 23 24 25 26 27\n",
      "27 28 29 30 31            24 25 26 27 28 29 30      28 29 30\n",
      "                          31\n",
      "\n",
      "      October                   November                  December\n",
      "Mo Tu We Th Fr Sa Su      Mo Tu We Th Fr Sa Su      Mo Tu We Th Fr Sa Su\n",
      "          1  2  3  4                         1          1  2  3  4  5  6\n",
      " 5  6  7  8  9 10 11       2  3  4  5  6  7  8       7  8  9 10 11 12 13\n",
      "12 13 14 15 16 17 18       9 10 11 12 13 14 15      14 15 16 17 18 19 20\n",
      "19 20 21 22 23 24 25      16 17 18 19 20 21 22      21 22 23 24 25 26 27\n",
      "26 27 28 29 30 31         23 24 25 26 27 28 29      28 29 30 31\n",
      "                          30\n"
     ]
    }
   ],
   "source": [
    "import calendar\n",
    "\n",
    "calendar.prcal(2020)"
   ]
  },
  {
   "cell_type": "markdown",
   "metadata": {},
   "source": [
    "This function will directly print the calendar for the year 2020 without needing an additional `print` statement."
   ]
  },
  {
   "cell_type": "markdown",
   "metadata": {},
   "source": [
    "### Calendar for a Specific Month\n",
    "\n",
    "The `calendar` module has a function called `month`, which allows you to display a calendar for a specific month. Its usage is really simple; you just need to specify the year and month. Check out the code below:"
   ]
  },
  {
   "cell_type": "code",
   "execution_count": 3,
   "metadata": {},
   "outputs": [
    {
     "name": "stdout",
     "output_type": "stream",
     "text": [
      "   November 2020\n",
      "Mo Tu We Th Fr Sa Su\n",
      "                   1\n",
      " 2  3  4  5  6  7  8\n",
      " 9 10 11 12 13 14 15\n",
      "16 17 18 19 20 21 22\n",
      "23 24 25 26 27 28 29\n",
      "30\n",
      "\n"
     ]
    }
   ],
   "source": [
    "import calendar\n",
    "\n",
    "print(calendar.month(2020, 11))"
   ]
  },
  {
   "cell_type": "markdown",
   "metadata": {},
   "source": [
    "This example displays the calendar for November 2020. As with the `calendar` function, you can change the default formatting using the following parameters:\n",
    "\n",
    "- `w` – date column width (default is 2)\n",
    "- `l` – number of lines per week (default is 1)\n",
    "\n",
    "Note: You can also use the `prmonth` function, which has the same parameters as the `month` function, but doesn't require you to use the `print` function to display the calendar.\n",
    "\n",
    "This function will print the calendar for the specified month directly without needing an additional `print` statement."
   ]
  },
  {
   "cell_type": "markdown",
   "metadata": {},
   "source": [
    "### The `setfirstweekday()` Function\n",
    "\n",
    "By default, the first day of the week in the calendar module is Monday. However, you can change this using the `setfirstweekday` function.\n",
    "\n",
    "Remember the table showing the days of the week and their integer values? It’s time to use it because the `setfirstweekday` method requires a parameter representing the day of the week as an integer value. Take a look at the example below:"
   ]
  },
  {
   "cell_type": "code",
   "execution_count": 4,
   "metadata": {},
   "outputs": [
    {
     "name": "stdout",
     "output_type": "stream",
     "text": [
      "   December 2020\n",
      "Su Mo Tu We Th Fr Sa\n",
      "       1  2  3  4  5\n",
      " 6  7  8  9 10 11 12\n",
      "13 14 15 16 17 18 19\n",
      "20 21 22 23 24 25 26\n",
      "27 28 29 30 31\n"
     ]
    }
   ],
   "source": [
    "import calendar\n",
    "\n",
    "calendar.setfirstweekday(calendar.SUNDAY)\n",
    "calendar.prmonth(2020, 12)"
   ]
  },
  {
   "cell_type": "markdown",
   "metadata": {},
   "source": [
    "In this example, we use the `calendar.SUNDAY` constant, which has a value of 6. You could pass this value directly to the `setfirstweekday` function, but using the constant is more elegant.\n",
    "\n",
    "As a result, we get a calendar for December 2020, with Sunday as the first day of all the weeks."
   ]
  },
  {
   "cell_type": "markdown",
   "metadata": {},
   "source": [
    "### The `weekday()` Function\n",
    "\n",
    "Another useful function provided by the `calendar` module is the `weekday` function, which returns the day of the week as an integer value for a given year, month, and day. Let's see it in practice.\n",
    "\n",
    "Run the code below to check the day of the week that falls on December 24, 2020:"
   ]
  },
  {
   "cell_type": "code",
   "execution_count": 5,
   "metadata": {},
   "outputs": [
    {
     "name": "stdout",
     "output_type": "stream",
     "text": [
      "3\n"
     ]
    }
   ],
   "source": [
    "import calendar\n",
    "print(calendar.weekday(2020, 12, 24))"
   ]
  },
  {
   "cell_type": "markdown",
   "metadata": {},
   "source": [
    "**Result:**\n",
    "```\n",
    "3\n",
    "```\n",
    "\n",
    "The `weekday` function returns 3, which means that December 24, 2020, is a Thursday.\n",
    "\n",
    "### The `weekheader()` Function\n",
    "\n",
    "You've probably noticed that the calendar contains weekly headers in a shortened form. If needed, you can get short weekday names using the `weekheader` method.\n",
    "\n",
    "The `weekheader` method requires you to specify the width in characters for one day of the week. If the width you provide is greater than 3, you'll still get the abbreviated weekday names consisting of three characters.\n",
    "\n",
    "Let's look at how to get a smaller header. Run the code below:"
   ]
  },
  {
   "cell_type": "code",
   "execution_count": 6,
   "metadata": {},
   "outputs": [
    {
     "name": "stdout",
     "output_type": "stream",
     "text": [
      "Su Mo Tu We Th Fr Sa\n"
     ]
    }
   ],
   "source": [
    "import calendar\n",
    "print(calendar.weekheader(2))"
   ]
  },
  {
   "cell_type": "markdown",
   "metadata": {},
   "source": [
    "**Result:**\n",
    "```\n",
    "Mo Tu We Th Fr Sa Su\n",
    "```\n",
    "\n",
    "**Note:** If you change the first day of the week using the `setfirstweekday` function, it will affect the result of the `weekheader` function.\n",
    "\n",
    "### Checking if a Year is a Leap Year\n",
    "\n",
    "The `calendar` module provides two useful functions to check whether years are leap years.\n",
    "\n",
    "The first function, called `isleap`, returns `True` if the passed year is a leap year, or `False` otherwise. The second function, called `leapdays`, returns the number of leap years in the given range of years.\n",
    "\n",
    "Run the code below:"
   ]
  },
  {
   "cell_type": "code",
   "execution_count": 7,
   "metadata": {},
   "outputs": [
    {
     "name": "stdout",
     "output_type": "stream",
     "text": [
      "True\n",
      "3\n"
     ]
    }
   ],
   "source": [
    "import calendar\n",
    "\n",
    "print(calendar.isleap(2020))\n",
    "print(calendar.leapdays(2010, 2021))  # Up to but not including 2021."
   ]
  },
  {
   "cell_type": "markdown",
   "metadata": {},
   "source": [
    "**Result:**\n",
    "```\n",
    "True\n",
    "3\n",
    "```\n",
    "\n",
    "In the example, the result is 3 because, in the period from 2010 to 2020, there are only three leap years (note: 2021 is not included). They are the years 2012, 2016, and 2020."
   ]
  },
  {
   "cell_type": "markdown",
   "metadata": {},
   "source": [
    "### Classes for Creating Calendars\n",
    "\n",
    "The functions presented so far are not the only features offered by the `calendar` module. You can also use the following classes:\n",
    "\n",
    "- `calendar.Calendar` – Provides methods to prepare calendar data for formatting.\n",
    "- `calendar.TextCalendar` – Used to create regular text calendars.\n",
    "- `calendar.HTMLCalendar` – Used to create HTML calendars.\n",
    "- `calendar.LocalTextCalendar` – A subclass of `calendar.TextCalendar` that takes a `locale` parameter to return the appropriate months and weekday names.\n",
    "- `calendar.LocalHTMLCalendar` – A subclass of `calendar.HTMLCalendar` that takes a `locale` parameter to return the appropriate months and weekday names.\n",
    "\n",
    "You've already created text calendars when discussing the functions of the `calendar` module. Now, let's try something new and look closely at the methods of the `Calendar` class.\n",
    "\n",
    "### Creating a Calendar Object\n",
    "\n",
    "The `Calendar` class constructor takes one optional parameter named `firstweekday`, which defaults to 0 (Monday).\n",
    "\n",
    "The `firstweekday` parameter must be an integer between 0-6. You can use the constants already known. Look at the code:"
   ]
  },
  {
   "cell_type": "code",
   "execution_count": 8,
   "metadata": {},
   "outputs": [
    {
     "name": "stdout",
     "output_type": "stream",
     "text": [
      "6 0 1 2 3 4 5 "
     ]
    }
   ],
   "source": [
    "import calendar  \n",
    "\n",
    "c = calendar.Calendar(calendar.SUNDAY)\n",
    "\n",
    "for weekday in c.iterweekdays():\n",
    "    print(weekday, end=\" \")"
   ]
  },
  {
   "cell_type": "markdown",
   "metadata": {},
   "source": [
    "**Output:**\n",
    "```\n",
    "6 0 1 2 3 4 5\n",
    "```\n",
    "\n",
    "The code example uses the `iterweekdays` method of the `Calendar` class, which returns an iterator for weekday numbers.\n",
    "\n",
    "The first value returned is always equal to the value of the `firstweekday` property. Since the first value returned is 6, it means the week starts on a Sunday.\n",
    "\n",
    "### The `itermonthdates()` Method\n",
    "\n",
    "The `Calendar` class has several methods that return an iterator. One of them is the `itermonthdates` method, which requires specifying the year and month.\n",
    "\n",
    "As a result, it returns all days in the specified month and year, as well as all days before the beginning or after the end of the month necessary to complete a week. Each day is represented by a `datetime.date` object. See the example below:"
   ]
  },
  {
   "cell_type": "code",
   "execution_count": 9,
   "metadata": {},
   "outputs": [
    {
     "name": "stdout",
     "output_type": "stream",
     "text": [
      "2019-10-28 2019-10-29 2019-10-30 2019-10-31 2019-11-01 2019-11-02 2019-11-03 2019-11-04 2019-11-05 2019-11-06 2019-11-07 2019-11-08 2019-11-09 2019-11-10 2019-11-11 2019-11-12 2019-11-13 2019-11-14 2019-11-15 2019-11-16 2019-11-17 2019-11-18 2019-11-19 2019-11-20 2019-11-21 2019-11-22 2019-11-23 2019-11-24 2019-11-25 2019-11-26 2019-11-27 2019-11-28 2019-11-29 2019-11-30 2019-12-01 "
     ]
    }
   ],
   "source": [
    "import calendar  \n",
    "\n",
    "c = calendar.Calendar()\n",
    "\n",
    "for date in c.itermonthdates(2019, 11):\n",
    "    print(date, end=\" \")"
   ]
  },
  {
   "cell_type": "markdown",
   "metadata": {},
   "source": [
    "**Output:**\n",
    "```\n",
    "2019-10-28 2019-10-29 2019-10-30 2019-10-31 2019-11-01 2019-11-02 2019-11-03 2019-11-04 2019-11-05 2019-11-06 2019-11-07 2019-11-08 2019-11-09 2019-11-10 2019-11-11 2019-11-12 2019-11-13 2019-11-14 2019-11-15 2019-11-16 2019-11-17 2019-11-18 2019-11-19 2019-11-20 2019-11-21 2019-11-22 2019-11-23 2019-11-24 2019-11-25 2019-11-26 2019-11-27 2019-11-28 2019-11-29 2019-11-30 2019-12-01 \n",
    "```\n",
    "\n",
    "The code displays all days in November 2019. Since the first day of November 2019 was a Friday, the days before are also returned to complete the week: 10/28/2019 (Monday), 10/29/2019 (Tuesday), 10/30/2019 (Wednesday), and 10/31/2019 (Thursday).\n",
    "\n",
    "The last day of November 2019 was a Saturday, so to complete the week, the next day, 12/01/2019 (Sunday), is also returned.\n",
    "\n",
    "### Other Methods that Return Iterators\n",
    "\n",
    "Another useful method in the `Calendar` class is `itermonthdays`, which takes a year and month as parameters and returns an iterator for the days of the week represented by numbers.\n",
    "\n",
    "Example:"
   ]
  },
  {
   "cell_type": "code",
   "execution_count": 10,
   "metadata": {},
   "outputs": [
    {
     "name": "stdout",
     "output_type": "stream",
     "text": [
      "0 0 0 0 1 2 3 4 5 6 7 8 9 10 11 12 13 14 15 16 17 18 19 20 21 22 23 24 25 26 27 28 29 30 0 "
     ]
    }
   ],
   "source": [
    "import calendar  \n",
    "\n",
    "c = calendar.Calendar()\n",
    "\n",
    "for day in c.itermonthdays(2019, 11):\n",
    "    print(day, end=\" \")\n"
   ]
  },
  {
   "cell_type": "markdown",
   "metadata": {},
   "source": [
    "**Output:**\n",
    "```\n",
    "0 0 0 0 1 2 3 4 5 6 7 8 9 10 11 12 13 14 15 16 17 18 19 20 21 22 23 24 25 26 27 28 29 30 0 \n",
    "```\n",
    "\n",
    "You'll notice many 0s returned by the example code. These represent days outside the specified month range, added to complete the week.\n",
    "\n",
    "The first four zeros represent 10/28/2019 (Monday), 10/29/2019 (Tuesday), 10/30/2019 (Wednesday), and 10/31/2019 (Thursday). The remaining numbers are days in the month, except for the last value of 0, which represents 12/01/2019 (Sunday).\n",
    "\n",
    "There are four other similar methods in the `Calendar` class that differ in the data returned:\n",
    "\n",
    "- `itermonthdays2` – Returns days as tuples consisting of a day of the month number and a weekday number.\n",
    "- `itermonthdays3` – Returns days as tuples consisting of a year, a month, and a day of the month. This method has been available since version 3.7.\n",
    "- `itermonthdays4` – Returns days as tuples consisting of a year, a month, a day of the month, and a weekday number. This method has been available since Python version 3.7.\n",
    "\n",
    "For testing purposes, use the example above and see how the return values of the described methods look in practice."
   ]
  },
  {
   "cell_type": "markdown",
   "metadata": {},
   "source": [
    "### The `monthdays2calendar()` Method\n",
    "\n",
    "The `Calendar` class has several other useful methods that you can learn more about in the [documentation](https://docs.python.org/3/library/calendar.html).\n",
    "\n",
    "One of these methods is `monthdays2calendar`, which takes the year and month and returns a list of weeks in the specified month. Each week is a tuple consisting of day numbers and weekday numbers. Look at the code below:"
   ]
  },
  {
   "cell_type": "code",
   "execution_count": 11,
   "metadata": {},
   "outputs": [
    {
     "name": "stdout",
     "output_type": "stream",
     "text": [
      "[(0, 0), (1, 1), (2, 2), (3, 3), (4, 4), (5, 5), (6, 6)]\n",
      "[(7, 0), (8, 1), (9, 2), (10, 3), (11, 4), (12, 5), (13, 6)]\n",
      "[(14, 0), (15, 1), (16, 2), (17, 3), (18, 4), (19, 5), (20, 6)]\n",
      "[(21, 0), (22, 1), (23, 2), (24, 3), (25, 4), (26, 5), (27, 6)]\n",
      "[(28, 0), (29, 1), (30, 2), (31, 3), (0, 4), (0, 5), (0, 6)]\n"
     ]
    }
   ],
   "source": [
    "import calendar  \n",
    "\n",
    "c = calendar.Calendar()\n",
    "\n",
    "for data in c.monthdays2calendar(2020, 12):\n",
    "    print(data)"
   ]
  },
  {
   "cell_type": "markdown",
   "metadata": {},
   "source": [
    "Note that the day numbers outside the month are represented by 0, while the weekday numbers are from 0-6, where 0 is Monday and 6 is Sunday.\n",
    "\n",
    "This method may be useful for a laboratory task you will have soon. Let's summarize what we have learned.\n",
    "\n",
    "### Summary\n",
    "\n",
    "1. **Days of the Week Representation:**\n",
    "   In the `calendar` module, the days of the week are displayed from Monday to Sunday. Each day is represented by an integer, where Monday is 0 and Sunday is 6.\n",
    "\n",
    "2. **Displaying a Yearly Calendar:**\n",
    "   To display a calendar for any year, call the `calendar` function with the year passed as its argument:\n",
    "\n",
    "   ```python\n",
    "   import calendar\n",
    "   print(calendar.calendar(2020))\n",
    "   ```\n",
    "\n",
    "   Note: An alternative is the `prcal` function, which takes the same parameters but does not require the use of the `print` function.\n",
    "\n",
    "3. **Displaying a Monthly Calendar:**\n",
    "   To display a calendar for any month of the year, call the `month` function, passing the year and month:\n",
    "\n",
    "   ```python\n",
    "   import calendar\n",
    "   print(calendar.month(2020, 9))\n",
    "   ```\n",
    "\n",
    "   Note: You can also use the `prmonth` function, which does not require the use of the `print` function.\n",
    "\n",
    "4. **Changing the First Day of the Week:**\n",
    "   The `setfirstweekday` function allows you to change the first day of the week. It takes a value from 0 to 6, where 0 is Sunday and 6 is Saturday.\n",
    "\n",
    "5. **Getting the Day of the Week:**\n",
    "   The `weekday` function returns the day of the week as an integer for a given year, month, and day:\n",
    "\n",
    "   ```python\n",
    "   import calendar\n",
    "   print(calendar.weekday(2020, 9, 29))  # Displays 1, which means Tuesday.\n",
    "   ```\n",
    "\n",
    "6. **Getting Short Weekday Names:**\n",
    "   The `weekheader` function returns the weekday names in a shortened form. The method requires you to specify the width in characters for one day of the week:\n",
    "\n",
    "   ```python\n",
    "   import calendar\n",
    "   print(calendar.weekheader(2))  # Displays: Mo Tu We Th Fr Sa Su\n",
    "   ```\n",
    "\n",
    "7. **Checking for Leap Years:**\n",
    "   The `isleap` function checks whether a year is a leap year:\n",
    "\n",
    "   ```python\n",
    "   import calendar\n",
    "   print(calendar.isleap(2020))  # Displays: True\n",
    "   ```\n",
    "\n",
    "8. **Creating a Calendar Object:**\n",
    "   You can create a calendar object using the `Calendar` class. The `firstweekday` parameter allows you to change the first day of the week:\n",
    "\n",
    "   ```python\n",
    "   import calendar  \n",
    "\n",
    "   c = calendar.Calendar(2)\n",
    "\n",
    "   for weekday in c.iterweekdays():\n",
    "       print(weekday, end=\" \")\n",
    "   # Result: 2 3 4 5 6 0 1\n",
    "   ```\n",
    "\n",
    "   The `iterweekdays` method returns an iterator for weekday numbers. The first value returned is always equal to the value of the `firstweekday` property."
   ]
  },
  {
   "cell_type": "markdown",
   "metadata": {},
   "source": []
  }
 ],
 "metadata": {
  "kernelspec": {
   "display_name": "Python 3 (ipykernel)",
   "language": "python",
   "name": "python3"
  },
  "language_info": {
   "codemirror_mode": {
    "name": "ipython",
    "version": 3
   },
   "file_extension": ".py",
   "mimetype": "text/x-python",
   "name": "python",
   "nbconvert_exporter": "python",
   "pygments_lexer": "ipython3",
   "version": "3.11.7"
  }
 },
 "nbformat": 4,
 "nbformat_minor": 4
}
