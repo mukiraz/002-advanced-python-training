{
 "cells": [
  {
   "cell_type": "markdown",
   "metadata": {},
   "source": [
    "### Task: Extending the Calendar Class\n",
    "\n",
    "#### Estimated Time\n",
    "30-60 minutes\n",
    "\n",
    "#### Level of Difficulty\n",
    "Easy\n",
    "\n",
    "#### Objectives\n",
    "- Improving skills in using the `Calendar` class.\n",
    "\n",
    "#### Scenario\n",
    "Extend the functionality of the `Calendar` class by adding a new method called `count_weekday_in_year`, which takes a year and a weekday as parameters and returns the number of occurrences of a specific weekday in that year.\n",
    "\n",
    "#### Tips:\n",
    "- Create a class called `MyCalendar` that extends the `Calendar` class.\n",
    "- Create the `count_weekday_in_year` method with the `year` and `weekday` parameters. The `weekday` parameter should be a value between 0-6, where 0 is Monday and 6 is Sunday. The method should return the number of days as an integer.\n",
    "- Use the `monthdays2calendar` method of the `Calendar` class in your implementation."
   ]
  },
  {
   "cell_type": "markdown",
   "metadata": {},
   "source": []
  }
 ],
 "metadata": {
  "language_info": {
   "name": "python"
  }
 },
 "nbformat": 4,
 "nbformat_minor": 2
}
