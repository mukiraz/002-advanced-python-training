{
 "cells": [
  {
   "cell_type": "markdown",
   "metadata": {},
   "source": [
    "### Introduction to the `os` Module\n",
    "\n",
    "In this section, you'll explore the `os` module, which allows you to interact with the operating system using Python.\n",
    "\n",
    "The module offers functions compatible with both Unix and Windows systems. If you're familiar with the command console, you'll notice that some functions yield results similar to the commands available in these operating systems.\n",
    "\n",
    "For instance, the `mkdir` function creates a directory, just like the `mkdir` command in Unix and Windows. If you're not familiar with this command, don't worry.\n",
    "\n",
    "You'll soon learn how to use the functions in the `os` module to perform operations on files and directories, along with the equivalent system commands.\n",
    "\n",
    "Beyond file and directory operations, the `os` module enables you to:\n",
    "\n",
    "- Obtain information about the operating system\n",
    "- Manage processes\n",
    "- Operate on I/O streams using file descriptors\n",
    "\n",
    "### A Penguin, a Snake, and a Window\n",
    "\n",
    "Next, you'll learn how to retrieve basic information about your operating system. However, process management and working with file descriptors will not be covered here, as these advanced topics require a deeper understanding of operating system mechanisms."
   ]
  },
  {
   "cell_type": "markdown",
   "metadata": {},
   "source": [
    "### Getting Information About the Operating System\n",
    "\n",
    "Before creating your first directory structure, let's learn how to gather information about the current operating system. This is quite simple, thanks to the `os` module, which provides a function called `uname`. This function returns an object with the following attributes:\n",
    "\n",
    "- `sysname`: Stores the name of the operating system.\n",
    "- `nodename`: Stores the machine's network name.\n",
    "- `release`: Stores the operating system release.\n",
    "- `version`: Stores the operating system version.\n",
    "- `machine`: Stores the hardware identifier, e.g., x86_64.\n",
    "\n",
    "Here's how you can use it in practice:"
   ]
  },
  {
   "cell_type": "code",
   "execution_count": null,
   "metadata": {},
   "outputs": [],
   "source": [
    "import os\n",
    "print(os.uname())"
   ]
  },
  {
   "cell_type": "markdown",
   "metadata": {},
   "source": [
    "**Result:**\n",
    "\n",
    "```plaintext\n",
    "posix.uname_result(sysname='Linux', nodename='192d19f04766', release='4.4.0-164-generic', version='#192-Ubuntu SMP Fri Sep 13 12:02:50 UTC 2019', machine='x86_64')\n",
    "```\n",
    "\n",
    "As shown, the `uname` function returns an object with information about the operating system. The example code was run on Ubuntu 16.04.6 LTS, so your results might differ based on your operating system.\n",
    "\n",
    "Note that the `uname` function only works on some Unix systems. If you're using Windows, you can use the `uname` function from the `platform` module to get similar information.\n",
    "\n",
    "The `os` module also lets you quickly identify the operating system using the `name` attribute, which can have one of the following values:\n",
    "\n",
    "- `posix`: For Unix systems.\n",
    "- `nt`: For Windows systems.\n",
    "- `java`: If the code is written in Jython.\n",
    "\n",
    "For Ubuntu 16.04.6 LTS, the `name` attribute returns `posix`:"
   ]
  },
  {
   "cell_type": "code",
   "execution_count": null,
   "metadata": {},
   "outputs": [],
   "source": [
    "import os\n",
    "print(os.name)"
   ]
  },
  {
   "cell_type": "markdown",
   "metadata": {},
   "source": [
    "**Result:**\n",
    "\n",
    "```plaintext\n",
    "posix\n",
    "```\n",
    "\n",
    "**NOTE:** On Unix systems, there is a command called `uname` that provides the same information as the `uname` function when run with the `-a` option."
   ]
  },
  {
   "cell_type": "markdown",
   "metadata": {},
   "source": [
    "### Creating Directories in Python\n",
    "\n",
    "The `os` module provides a function called `mkdir`, which allows you to create a directory, similar to the `mkdir` command in Unix and Windows. The `mkdir` function requires a path, which can be either relative or absolute. Let's review what these paths look like in practice:\n",
    "\n",
    "- `my_first_directory`: A relative path that creates the `my_first_directory` directory in the current working directory.\n",
    "- `./my_first_directory`: A relative path that explicitly points to the current working directory, having the same effect as the above path.\n",
    "- `../my_first_directory`: A relative path that creates the `my_first_directory` directory in the parent directory of the current working directory.\n",
    "- `/python/my_first_directory`: An absolute path that creates the `my_first_directory` directory inside the `python` directory located in the root directory.\n",
    "\n",
    "Now, let's look at an example of creating the `my_first_directory` directory using a relative path, which is the simplest form involving just the directory name:"
   ]
  },
  {
   "cell_type": "code",
   "execution_count": null,
   "metadata": {},
   "outputs": [],
   "source": [
    "import os\n",
    "os.mkdir('my_first_directory')\n",
    "print(os.listdir('.'))"
   ]
  },
  {
   "cell_type": "markdown",
   "metadata": {},
   "source": [
    "If you run this code, it will display the newly created `my_first_directory` directory along with the entire contents of the current working directory.\n",
    "\n",
    "The `mkdir` function creates a directory at the specified path. Note that running the program twice will raise a `FileExistsError`, indicating that a directory cannot be created if it already exists. Besides the path argument, the `mkdir` function can optionally take a `mode` argument, which specifies directory permissions. However, this argument is ignored on some systems.\n",
    "\n",
    "To change directory permissions, it's recommended to use the `chmod` function, which works similarly to the `chmod` command on Unix systems. More information about `chmod` can be found in the documentation.\n",
    "\n",
    "In the example above, another function from the `os` module, `listdir`, is used. The `listdir` function returns a list of the names of files and directories in the path provided as an argument. If no argument is provided, the current working directory is used (as shown in the example). The result of `listdir` omits the entries `'.'` and `'..'`, which are displayed when using the `ls -a` command on Unix systems.\n",
    "\n",
    "**NOTE:** Both Windows and Unix have a `mkdir` command that requires a directory path. The equivalent of the above code in the command line is `mkdir my_first_directory`."
   ]
  },
  {
   "cell_type": "markdown",
   "metadata": {},
   "source": [
    "### Recursive Directory Creation\n",
    "\n",
    "The `mkdir` function is very useful, but what if you need to create a directory inside another directory you've just created? While you could navigate to the new directory and create another directory inside it, the `os` module offers a more convenient solution with the `makedirs` function.\n",
    "\n",
    "The `makedirs` function enables recursive directory creation, meaning it will create all necessary directories in the specified path. Let's look at the code below to see how it works in practice."
   ]
  },
  {
   "cell_type": "code",
   "execution_count": null,
   "metadata": {},
   "outputs": [],
   "source": [
    "import os\n",
    "\n",
    "os.makedirs(\"my_first_directory/my_second_directory\")\n",
    "os.chdir(\"my_first_directory\")\n",
    "print(os.listdir())"
   ]
  },
  {
   "cell_type": "markdown",
   "metadata": {},
   "source": [
    "\n",
    "This code should produce the following output:\n",
    "\n",
    "```plaintext\n",
    "['my_second_directory']\n",
    "```\n",
    "\n",
    "The code creates two directories: the first in the current working directory and the second inside `my_first_directory`.\n",
    "\n",
    "You don't need to navigate to `my_first_directory` to create `my_second_directory` because the `makedirs` function does it for you. In the example above, we navigate to `my_first_directory` to show that the `makedirs` command has successfully created the `my_second_directory` subdirectory.\n",
    "\n",
    "To move between directories, you can use the `chdir` function, which changes the current working directory to the specified path. It accepts any relative or absolute path as an argument. In our example, we pass the name of the first directory to it.\n",
    "\n",
    "**NOTE:** The equivalent of the `makedirs` function on Unix systems is the `mkdir` command with the `-p` flag, while on Windows, it is simply the `mkdir` command with the path:\n",
    "\n",
    "Unix-like systems:\n",
    "\n",
    "```sh\n",
    "mkdir -p my_first_directory/my_second_directory\n",
    "```\n",
    "\n",
    "Windows:\n",
    "\n",
    "```sh\n",
    "mkdir my_first_directory/my_second_directory\n",
    "```"
   ]
  },
  {
   "cell_type": "markdown",
   "metadata": {},
   "source": [
    "### Where Am I Now?\n",
    "\n",
    "You already know how to create directories and move between them. Sometimes, when navigating a large directory structure, you might lose track of your current directory.\n",
    "\n",
    "**Lost Programmer**\n",
    "\n",
    "Fortunately, the `os` module provides a function called `getcwd` that returns the current working directory. Here's how you can use it in practice:"
   ]
  },
  {
   "cell_type": "code",
   "execution_count": null,
   "metadata": {},
   "outputs": [],
   "source": [
    "import os\n",
    "\n",
    "os.makedirs(\"my_first_directory/my_second_directory\")\n",
    "os.chdir(\"my_first_directory\")\n",
    "print(os.getcwd())\n",
    "\n",
    "os.chdir(\"my_second_directory\")\n",
    "print(os.getcwd())"
   ]
  },
  {
   "cell_type": "markdown",
   "metadata": {},
   "source": [
    "**Result:**\n",
    "\n",
    "```plaintext\n",
    ".../my_first_directory\n",
    ".../my_first_directory/my_second_directory\n",
    "```\n",
    "\n",
    "In this example, we create the `my_first_directory` directory and the `my_second_directory` directory inside it. Next, we change the current working directory to `my_first_directory` and display the current directory (first line of the result).\n",
    "\n",
    "Then, we navigate to `my_second_directory` and display the current directory again (second line of the result). As shown, the `getcwd` function returns the absolute path to the directories.\n",
    "\n",
    "**NOTE:** On Unix-like systems, the equivalent of the `getcwd` function is the `pwd` command, which prints the name of the current working directory."
   ]
  },
  {
   "cell_type": "markdown",
   "metadata": {},
   "source": [
    "### Deleting Directories in Python\n",
    "\n",
    "The `os` module also allows you to delete directories, providing options for deleting a single directory or a directory along with its subdirectories. To delete a single directory, use the `rmdir` function, which takes the path as its argument. Here's how you can do it:"
   ]
  },
  {
   "cell_type": "code",
   "execution_count": null,
   "metadata": {},
   "outputs": [],
   "source": [
    "import os\n",
    "\n",
    "os.mkdir(\"my_first_directory\")\n",
    "print(os.listdir())\n",
    "os.rmdir(\"my_first_directory\")\n",
    "print(os.listdir())"
   ]
  },
  {
   "cell_type": "markdown",
   "metadata": {},
   "source": [
    "In this simple example, the `my_first_directory` directory is created and then removed using the `rmdir` function. The `listdir` function is used to confirm that the directory has been successfully removed, returning an empty list. When deleting a directory, ensure it exists and is empty; otherwise, an exception will be raised.\n",
    "\n",
    "To remove a directory and its subdirectories, use the `removedirs` function, specifying a path that includes all directories to be removed:"
   ]
  },
  {
   "cell_type": "code",
   "execution_count": null,
   "metadata": {},
   "outputs": [],
   "source": [
    "import os\n",
    "\n",
    "os.makedirs(\"my_first_directory/my_second_directory\")\n",
    "os.removedirs(\"my_first_directory/my_second_directory\")\n",
    "print(os.listdir())"
   ]
  },
  {
   "cell_type": "markdown",
   "metadata": {},
   "source": [
    "As with the `rmdir` function, if any of the directories do not exist or are not empty, an exception will be raised.\n",
    "\n",
    "**NOTE:** Both Windows and Unix have an `rmdir` command that removes directories, similar to the `rmdir` function. Additionally, both systems have commands to delete a directory and its contents. In Unix, this is done using the `rm` command with the `-r` flag."
   ]
  },
  {
   "cell_type": "markdown",
   "metadata": {},
   "source": [
    "### The `system()` Function\n",
    "\n",
    "All functions presented in this part of the course can be replaced by a function called `system`, which executes a command passed to it as a string.\n",
    "\n",
    "The `system` function is available in both Windows and Unix, but it returns different results depending on the system.\n",
    "\n",
    "- In Windows, it returns the value returned by the shell after running the command.\n",
    "- In Unix, it returns the exit status of the process.\n",
    "\n",
    "Let's look at the code below to see how it works in practice:"
   ]
  },
  {
   "cell_type": "code",
   "execution_count": null,
   "metadata": {},
   "outputs": [],
   "source": [
    "import os\n",
    "\n",
    "returned_value = os.system(\"mkdir my_first_directory\")\n",
    "print(returned_value)"
   ]
  },
  {
   "cell_type": "markdown",
   "metadata": {},
   "source": [
    "**Result:**\n",
    "\n",
    "```plaintext\n",
    "0\n",
    "```\n",
    "\n",
    "The above example works in both Windows and Unix. Here, we receive an exit status of 0, which indicates success on Unix systems.\n",
    "\n",
    "This means that the `my_first_directory` directory has been created. As an exercise, try listing the contents of the directory where you created `my_first_directory`."
   ]
  },
  {
   "cell_type": "markdown",
   "metadata": {},
   "source": [
    "### Key Takeaways\n",
    "\n",
    "1. **The `uname` Function**:\n",
    "   The `uname` function returns an object containing information about the current operating system with the following attributes:\n",
    "   - `sysname`: The name of the operating system.\n",
    "   - `nodename`: The machine name on the network.\n",
    "   - `release`: The operating system release.\n",
    "   - `version`: The operating system version.\n",
    "   - `machine`: The hardware identifier, e.g., x86_64.\n",
    "\n",
    "2. **The `name` Attribute**:\n",
    "   The `name` attribute in the `os` module helps distinguish the operating system, returning one of these values:\n",
    "   - `posix`: For Unix systems.\n",
    "   - `nt`: For Windows systems.\n",
    "   - `java`: For code written in something like Jython.\n",
    "\n",
    "3. **The `mkdir` Function**:\n",
    "   The `mkdir` function creates a directory at the specified path, which can be relative or absolute, e.g.:\n",
    "   ```python\n",
    "   import os\n",
    "\n",
    "   os.mkdir(\"hello\") # Relative path\n",
    "   os.mkdir(\"/home/python/hello\") # Absolute path\n",
    "   ```\n",
    "   Note: If the directory exists, a `FileExistsError` will be raised. The `os` module also provides the `makedirs` function for recursively creating directories.\n",
    "\n",
    "4. **The `listdir` Function**:\n",
    "   The `listdir` function returns a list of the names of files and directories in the specified path. It omits the entries `'.'` and `'..'`, commonly shown with the `ls -a` command on Unix systems. If no path is specified, it returns the contents of the current working directory.\n",
    "\n",
    "5. **The `chdir` Function**:\n",
    "   The `chdir` function changes the current working directory to the specified path, which can be relative or absolute. To find out the current working directory, use the `getcwd` function.\n",
    "\n",
    "6. **Removing Directories**:\n",
    "   To remove a directory, use the `rmdir` function. To remove a directory along with its subdirectories, use the `removedirs` function.\n",
    "\n",
    "7. **The `system` Function**:\n",
    "   On both Unix and Windows, the `system` function executes a command passed as a string, e.g.:\n",
    "   ```python\n",
    "   import os\n",
    "\n",
    "   returned_value = os.system(\"mkdir hello\")\n",
    "   ```\n",
    "   - On Windows, it returns the value returned by the shell after running the command.\n",
    "   - On Unix, it returns the exit status of the process."
   ]
  }
 ],
 "metadata": {
  "language_info": {
   "name": "python"
  }
 },
 "nbformat": 4,
 "nbformat_minor": 2
}
