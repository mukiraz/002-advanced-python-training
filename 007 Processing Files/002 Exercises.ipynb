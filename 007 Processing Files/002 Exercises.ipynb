{
 "cells": [
  {
   "cell_type": "markdown",
   "metadata": {},
   "source": [
    "### Exercise 1\n",
    "\n",
    "How do you encode an `open()` function’s mode argument value if you're going to create a new text file to only fill it with an article?\n",
    "\n",
    "### Exercise 2\n",
    "\n",
    "What is the meaning of the value represented by `errno.EACCES`?\n",
    "\n",
    "### Exercise 3\n",
    "\n",
    "What is the expected output of the following code, assuming that the file named `file` does not exist?"
   ]
  },
  {
   "cell_type": "code",
   "execution_count": null,
   "metadata": {},
   "outputs": [],
   "source": [
    "import errno\n",
    "\n",
    "try:\n",
    "    stream = open(\"file\", \"rb\")\n",
    "    print(\"exists\")\n",
    "    stream.close()\n",
    "except IOError as error:\n",
    "    if error.errno == errno.ENOENT:\n",
    "        print(\"absent\")\n",
    "    else:\n",
    "        print(\"unknown\")"
   ]
  }
 ],
 "metadata": {
  "language_info": {
   "name": "python"
  }
 },
 "nbformat": 4,
 "nbformat_minor": 2
}
