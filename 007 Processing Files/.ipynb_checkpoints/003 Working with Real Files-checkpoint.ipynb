{
 "cells": [
  {
   "cell_type": "markdown",
   "metadata": {},
   "source": [
    "### Processing Text Files\n",
    "\n",
    "In this lesson, we're going to create a simple text file with short, straightforward content.\n",
    "\n",
    "We'll demonstrate some basic techniques for reading the file contents to process them.\n",
    "\n",
    "The processing will be simple—you'll copy the file's contents to the console and count all the characters read by the program.\n",
    "\n",
    "Remember, our definition of a text file is very strict. It's a plain text file, meaning it contains only text, without any formatting, different fonts, or other decorations.\n",
    "\n",
    "Therefore, you should avoid creating the file using advanced text processors like MS Word or LibreOffice Writer. Instead, use basic tools your OS offers, such as Notepad, vim, or gedit.\n",
    "\n",
    "If your text files contain some national characters not covered by the standard ASCII charset, you may need an additional step. Your `open()` function invocation may require an argument specifying the text encoding.\n",
    "\n",
    "For example, if you're using a Unix/Linux OS configured to use UTF-8 as a system-wide setting, the `open()` function may look like this:"
   ]
  },
  {
   "cell_type": "code",
   "execution_count": 2,
   "metadata": {},
   "outputs": [
    {
     "name": "stdout",
     "output_type": "stream",
     "text": [
      "1\n",
      "2\n",
      "3\n",
      "4\n",
      "5\n"
     ]
    }
   ],
   "source": [
    "# Opening tzop.txt in read mode, returning it as a file object:\n",
    "stream = open(\"tzop.txt\", \"rt\", encoding=\"utf-8\")\n",
    "\n",
    "print(stream.read()) # printing the content of the file"
   ]
  },
  {
   "cell_type": "markdown",
   "metadata": {},
   "source": [
    "Here, the `encoding` argument is set to a string representing the appropriate text encoding (UTF-8 in this case).\n",
    "\n",
    "Consult your OS documentation to find an encoding name suitable for your environment.\n",
    "\n",
    "**Note**\n",
    "\n",
    "For the purposes of our experiments with file processing in this section, we'll use a pre-uploaded set of files (e.g., tzop.txt or text.txt) which you'll be able to work with. If you'd like to work with your own files locally on your machine, we strongly encourage you to do so, and to use IDLE (or any other IDE you prefer) for your tests."
   ]
  },
  {
   "cell_type": "markdown",
   "metadata": {},
   "source": [
    "### Reading a Text File's Contents\n",
    "\n",
    "Reading a text file's contents can be done using several different methods, none inherently better or worse than the others. The choice of method depends on your preference and the specific situation.\n",
    "\n",
    "Some methods might be more convenient in certain scenarios and less so in others. Be flexible and willing to adjust your approach as needed.\n",
    "\n",
    "One of the most basic methods is using the `read()` function, which we demonstrated in the previous lesson.\n",
    "\n",
    "When applied to a text file, the function can:\n",
    "\n",
    "- Read a specified number of characters (including just one) from the file and return them as a string.\n",
    "- Read all the file contents and return them as a string.\n",
    "- If there is nothing more to read (the virtual reading head reaches the end of the file), the function returns an empty string.\n",
    "\n",
    "We'll start with the simplest variant using a file named `text.txt` with the following contents:\n",
    "\n",
    "```\n",
    "Beautiful is better than ugly.\n",
    "Explicit is better than implicit.\n",
    "Simple is better than complex.\n",
    "Complex is better than complicated.\n",
    "```\n",
    "\n",
    "Now look at the code below and let's analyze it:"
   ]
  },
  {
   "cell_type": "code",
   "execution_count": 3,
   "metadata": {},
   "outputs": [
    {
     "name": "stdout",
     "output_type": "stream",
     "text": [
      "Beautiful is better than ugly.\n",
      "Explicit is better than implicit.\n",
      "Simple is better than complex.\n",
      "Complex is better than complicated.\n",
      "\n",
      "Characters in file: 131\n"
     ]
    }
   ],
   "source": [
    "from os import strerror\n",
    "\n",
    "try:\n",
    "    cnt = 0\n",
    "    s = open('text.txt', \"rt\")\n",
    "    ch = s.read(1)\n",
    "    while ch != '':\n",
    "        print(ch, end='')\n",
    "        cnt += 1\n",
    "        ch = s.read(1)\n",
    "    s.close()\n",
    "    print(\"\\n\\nCharacters in file:\", cnt)\n",
    "except IOError as e:\n",
    "    print(\"I/O error occurred: \", strerror(e.errno))"
   ]
  },
  {
   "cell_type": "markdown",
   "metadata": {},
   "source": [
    "The process is straightforward:\n",
    "\n",
    "1. Use the `try-except` mechanism to open the file with the predetermined name (`text.txt` in this case).\n",
    "2. Try to read the first character from the file (`ch = s.read(1)`).\n",
    "3. If successful (indicated by a positive result of the `while` condition check), output the character (note the `end=''` argument—it prevents skipping to a new line after every character).\n",
    "4. Update the counter (`cnt`).\n",
    "5. Attempt to read the next character, and repeat the process."
   ]
  },
  {
   "cell_type": "markdown",
   "metadata": {},
   "source": [
    "### Reading a File in One Go\n",
    "\n",
    "If you're absolutely sure that the file's length is manageable and you can read the whole file into memory at once, you can do so. The `read()` function, when called without any arguments or with an argument that evaluates to `None`, will read the entire file.\n",
    "\n",
    "Remember, attempting to read a very large file, such as one that is terabytes in size, using this method may crash your OS. Computer memory has its limits.\n",
    "\n",
    "Consider the code below. What do you think?"
   ]
  },
  {
   "cell_type": "code",
   "execution_count": 4,
   "metadata": {},
   "outputs": [
    {
     "name": "stdout",
     "output_type": "stream",
     "text": [
      "Beautiful is better than ugly.\n",
      "Explicit is better than implicit.\n",
      "Simple is better than complex.\n",
      "Complex is better than complicated.\n",
      "\n",
      "Characters in file: 131\n"
     ]
    }
   ],
   "source": [
    "from os import strerror\n",
    "\n",
    "try:\n",
    "    cnt = 0\n",
    "    s = open('text.txt', \"rt\")\n",
    "    content = s.read()\n",
    "    for ch in content:\n",
    "        print(ch, end='')\n",
    "        cnt += 1\n",
    "    s.close()\n",
    "    print(\"\\n\\nCharacters in file:\", cnt)\n",
    "except IOError as e:\n",
    "    print(\"I/O error occurred: \", strerror(e.errno))"
   ]
  },
  {
   "cell_type": "markdown",
   "metadata": {},
   "source": [
    "Let's break it down:\n",
    "\n",
    "1. Open the file as previously.\n",
    "2. Read its entire contents with a single invocation of the `read()` function.\n",
    "3. Process the text by iterating through it with a regular `for` loop, updating the counter value at each iteration.\n",
    "\n",
    "The result will be exactly the same as before."
   ]
  },
  {
   "cell_type": "markdown",
   "metadata": {},
   "source": [
    "### Processing Text Files: `readline()`\n",
    "\n",
    "If you want to handle the file's contents as a set of lines rather than a collection of characters, the `readline()` method is perfect for the task.\n",
    "\n",
    "This method reads a complete line of text from the file and returns it as a string if successful. If not, it returns an empty string.\n",
    "\n",
    "Using this method opens up new possibilities—you can now easily count lines as well as characters.\n",
    "\n",
    "Here's an example of how to use it:"
   ]
  },
  {
   "cell_type": "code",
   "execution_count": 5,
   "metadata": {},
   "outputs": [
    {
     "name": "stdout",
     "output_type": "stream",
     "text": [
      "Beautiful is better than ugly.\n",
      "Explicit is better than implicit.\n",
      "Simple is better than complex.\n",
      "Complex is better than complicated.\n",
      "\n",
      "Characters in file: 131\n",
      "Lines in file:      4\n"
     ]
    }
   ],
   "source": [
    "from os import strerror\n",
    "\n",
    "try:\n",
    "    ccnt = lcnt = 0\n",
    "    s = open('text.txt', 'rt')\n",
    "    line = s.readline()\n",
    "    while line != '':\n",
    "        lcnt += 1\n",
    "        for ch in line:\n",
    "            print(ch, end='')\n",
    "            ccnt += 1\n",
    "        line = s.readline()\n",
    "    s.close()\n",
    "    print(\"\\n\\nCharacters in file:\", ccnt)\n",
    "    print(\"Lines in file:     \", lcnt)\n",
    "except IOError as e:\n",
    "    print(\"I/O error occurred:\", strerror(e.errno))"
   ]
  },
  {
   "cell_type": "markdown",
   "metadata": {},
   "source": [
    "As you can see, the general concept is the same as in the previous examples:\n",
    "\n",
    "1. Open the file.\n",
    "2. Use `readline()` to read the file line by line.\n",
    "3. Count characters and lines by iterating through each line and character.\n",
    "4. Print the results after processing the file."
   ]
  },
  {
   "cell_type": "markdown",
   "metadata": {},
   "source": [
    "### Processing Text Files: `readlines()`\n",
    "\n",
    "Another method that treats a text file as a set of lines, rather than characters, is `readlines()`.\n",
    "\n",
    "The `readlines()` method, when called without arguments, reads the entire file and returns a list of strings, with each element representing a line in the file.\n",
    "\n",
    "If you're unsure whether the file size is small enough and don't want to risk testing the OS limits, you can instruct the `readlines()` method to read no more than a specified number of bytes at once. The return value remains the same—a list of strings.\n",
    "\n",
    "Experiment with the following example code to understand how the `readlines()` method works:"
   ]
  },
  {
   "cell_type": "code",
   "execution_count": 6,
   "metadata": {},
   "outputs": [
    {
     "name": "stdout",
     "output_type": "stream",
     "text": [
      "['Beautiful is better than ugly.\\n']\n",
      "['Explicit is better than implicit.\\n']\n",
      "['Simple is better than complex.\\n']\n",
      "['Complex is better than complicated.']\n"
     ]
    }
   ],
   "source": [
    "s = open(\"text.txt\")\n",
    "print(s.readlines(20))\n",
    "print(s.readlines(20))\n",
    "print(s.readlines(20))\n",
    "print(s.readlines(20))\n",
    "s.close()"
   ]
  },
  {
   "cell_type": "markdown",
   "metadata": {},
   "source": [
    "The maximum accepted input buffer size is passed to the method as its argument.\n",
    "\n",
    "You might expect that `readlines()` can process a file's contents more efficiently than `readline()`, as it may need to be invoked fewer times.\n",
    "\n",
    "**Note:** When there is nothing left to read from the file, the method returns an empty list. Use this to detect the end of the file.\n",
    "\n",
    "Increasing the buffer size might improve input performance to a certain extent, but there is no universal rule for the optimal buffer size—find the best values through experimentation.\n",
    "\n",
    "Look at the code below. We've modified it to show you how to use `readlines()`:"
   ]
  },
  {
   "cell_type": "code",
   "execution_count": 7,
   "metadata": {},
   "outputs": [
    {
     "name": "stdout",
     "output_type": "stream",
     "text": [
      "Beautiful is better than ugly.\n",
      "Explicit is better than implicit.\n",
      "Simple is better than complex.\n",
      "Complex is better than complicated.\n",
      "\n",
      "Characters in file: 131\n",
      "Lines in file:      4\n"
     ]
    }
   ],
   "source": [
    "from os import strerror\n",
    "\n",
    "try:\n",
    "    ccnt = lcnt = 0\n",
    "    s = open('text.txt', 'rt')\n",
    "    lines = s.readlines(20)\n",
    "    while len(lines) != 0:\n",
    "        for line in lines:\n",
    "            lcnt += 1\n",
    "            for ch in line:\n",
    "                print(ch, end='')\n",
    "                ccnt += 1\n",
    "        lines = s.readlines(10)\n",
    "    s.close()\n",
    "    print(\"\\n\\nCharacters in file:\", ccnt)\n",
    "    print(\"Lines in file:     \", lcnt)\n",
    "except IOError as e:\n",
    "    print(\"I/O error occurred:\", strerror(e.errno))"
   ]
  },
  {
   "cell_type": "markdown",
   "metadata": {},
   "source": [
    "We've chosen to use a 20-byte buffer, but this isn't a strict recommendation. We used this value to avoid the situation where the first `readlines()` invocation consumes the entire file. We want the method to demonstrate its capabilities by working harder.\n",
    "\n",
    "There are two nested loops in the code: the outer loop uses the result of `readlines()` to iterate through it, while the inner loop prints the lines character by character."
   ]
  },
  {
   "cell_type": "markdown",
   "metadata": {},
   "source": [
    "### Processing Text Files: Iterable Objects\n",
    "\n",
    "The last example we want to present showcases a very interesting feature of the object returned by the `open()` function in text mode.\n",
    "\n",
    "It may surprise you—the object is an instance of an iterable class.\n",
    "\n",
    "Strange? Not at all. Useful? Yes, absolutely.\n",
    "\n",
    "The iteration protocol defined for the file object is straightforward—its `__next__` method returns the next line read from the file.\n",
    "\n",
    "Moreover, you can expect that the object automatically invokes `close()` when any of the file reads reaches the end of the file.\n",
    "\n",
    "Look at the code below to see how simple and clear it has become:"
   ]
  },
  {
   "cell_type": "code",
   "execution_count": 8,
   "metadata": {},
   "outputs": [
    {
     "name": "stdout",
     "output_type": "stream",
     "text": [
      "Beautiful is better than ugly.\n",
      "Explicit is better than implicit.\n",
      "Simple is better than complex.\n",
      "Complex is better than complicated.\n",
      "\n",
      "Characters in file: 131\n",
      "Lines in file:      4\n"
     ]
    }
   ],
   "source": [
    "from os import strerror\n",
    "\n",
    "try:\n",
    "    ccnt = lcnt = 0\n",
    "    for line in open('text.txt', 'rt'):\n",
    "        lcnt += 1\n",
    "        for ch in line:\n",
    "            print(ch, end='')\n",
    "            ccnt += 1\n",
    "    print(\"\\n\\nCharacters in file:\", ccnt)\n",
    "    print(\"Lines in file:     \", lcnt)\n",
    "except IOError as e:\n",
    "    print(\"I/O error occurred:\", strerror(e.errno))"
   ]
  },
  {
   "cell_type": "markdown",
   "metadata": {},
   "source": [
    "This example demonstrates how iterating over a file object simplifies the process of reading lines and counting characters."
   ]
  },
  {
   "cell_type": "markdown",
   "metadata": {},
   "source": [
    "### Writing to Text Files: `write()`\n",
    "\n",
    "Writing to text files is straightforward, as there is primarily one method used for this task: `write()`. \n",
    "\n",
    "The `write()` method expects a single argument—a string that will be written to an open file. Remember, the open mode should match the intended operation—writing to a file opened in read mode will fail.\n",
    "\n",
    "No newline character is automatically added to the `write()` method's argument, so you need to include it yourself if you want the file to contain multiple lines.\n",
    "\n",
    "The following example demonstrates a simple code that creates a file named `newtext.txt` (note: the `w` mode ensures that the file is created from scratch, even if it already exists and contains data) and writes ten lines to it.\n",
    "\n",
    "The string to be written consists of the word \"line\" followed by the line number. We've chosen to write the string's contents character by character (using the inner `for` loop), but you don't have to do it this way.\n",
    "\n",
    "We wanted to show that `write()` can operate on single characters."
   ]
  },
  {
   "cell_type": "code",
   "execution_count": 9,
   "metadata": {},
   "outputs": [],
   "source": [
    "from os import strerror\n",
    "\n",
    "try:\n",
    "    fo = open('newtext.txt', 'wt') # A new file (newtext.txt) is created.\n",
    "    for i in range(10):\n",
    "        s = \"line #\" + str(i+1) + \"\\n\"\n",
    "        for ch in s:\n",
    "            fo.write(ch)\n",
    "    fo.close()\n",
    "except IOError as e:\n",
    "    print(\"I/O error occurred: \", strerror(e.errno))"
   ]
  },
  {
   "cell_type": "markdown",
   "metadata": {},
   "source": [
    "The code creates a file filled with the following text:\n",
    "\n",
    "```\n",
    "line #1\n",
    "line #2\n",
    "line #3\n",
    "line #4\n",
    "line #5\n",
    "line #6\n",
    "line #7\n",
    "line #8\n",
    "line #9\n",
    "line #10\n",
    "```\n",
    "\n",
    "Can you print the file's contents to the console?\n",
    "\n",
    "We encourage you to test the behavior of the `write()` method locally on your machine."
   ]
  },
  {
   "cell_type": "markdown",
   "metadata": {},
   "source": [
    "### Dealing with Text Files: Continued\n",
    "\n",
    "Look at the example below. We've modified the previous code to write whole lines to the text file."
   ]
  },
  {
   "cell_type": "code",
   "execution_count": 10,
   "metadata": {},
   "outputs": [],
   "source": [
    "from os import strerror\n",
    "\n",
    "try:\n",
    "    fo = open('newtext.txt', 'wt')\n",
    "    for i in range(10):\n",
    "        fo.write(\"line #\" + str(i+1) + \"\\n\")\n",
    "    fo.close()\n",
    "except IOError as e:\n",
    "    print(\"I/O error occurred: \", strerror(e.errno))"
   ]
  },
  {
   "cell_type": "markdown",
   "metadata": {},
   "source": [
    "The contents of the newly created file are the same.\n",
    "\n",
    "**Note:** You can use the same method to write to the `stderr` stream, but you don't need to open it, as it's always open implicitly.\n",
    "\n",
    "For example, if you want to send a message string to `stderr` to distinguish it from normal program output, it may look like this:\n",
    "\n",
    "```python\n",
    "import sys\n",
    "sys.stderr.write(\"Error message\\n\")\n",
    "```\n",
    "\n",
    "This method ensures that error messages are sent to `stderr` and separated from the standard program output."
   ]
  },
  {
   "cell_type": "markdown",
   "metadata": {},
   "source": [
    "### What is a bytearray?\n",
    "\n",
    "Before discussing binary files, we need to introduce you to one of Python's specialized classes used for storing amorphous data.\n",
    "\n",
    "Amorphous data refers to data that lacks a specific shape or form; it is simply a series of bytes.\n",
    "\n",
    "This doesn't mean these bytes lack meaning or can't represent useful objects, like bitmap graphics. The key point is that when dealing with this data, we either cannot or do not want to know its specific nature.\n",
    "\n",
    "Amorphous data cannot be stored using the methods we've discussed previously; they are neither strings nor lists. Therefore, a special container is needed to handle such data.\n",
    "\n",
    "Python provides more than one such container, and one of them is a specialized class named `bytearray`. As the name suggests, it's an array containing (amorphous) bytes.\n",
    "\n",
    "To create such a container, for example, to read a bitmap image and process it, you need to explicitly create it using one of the available constructors.\n",
    "\n",
    "Consider this example:\n"
   ]
  },
  {
   "cell_type": "code",
   "execution_count": 11,
   "metadata": {},
   "outputs": [],
   "source": [
    "data = bytearray(10)"
   ]
  },
  {
   "cell_type": "markdown",
   "metadata": {},
   "source": [
    "\n",
    "This invocation creates a `bytearray` object capable of storing ten bytes.\n",
    "\n",
    "Note: This constructor initializes the entire array with zeros."
   ]
  },
  {
   "cell_type": "markdown",
   "metadata": {},
   "source": [
    "### Bytearrays in Python\n",
    "\n",
    "Bytearrays resemble lists in many respects. For example, they are mutable, can be used with the `len()` function, and you can access any of their elements using conventional indexing.\n",
    "\n",
    "However, there are important limitations:\n",
    "- You cannot set any byte array elements with a value that is not an integer (doing so will cause a `TypeError` exception).\n",
    "- You cannot assign a value outside the range of 0 to 255 inclusive (doing so will provoke a `ValueError` exception).\n",
    "\n",
    "You can treat any byte array elements as integer values, as shown in the example below:"
   ]
  },
  {
   "cell_type": "code",
   "execution_count": 12,
   "metadata": {},
   "outputs": [
    {
     "name": "stdout",
     "output_type": "stream",
     "text": [
      "0xa\n",
      "0x9\n",
      "0x8\n",
      "0x7\n",
      "0x6\n",
      "0x5\n",
      "0x4\n",
      "0x3\n",
      "0x2\n",
      "0x1\n"
     ]
    }
   ],
   "source": [
    "data = bytearray(10)\n",
    "\n",
    "for i in range(len(data)):\n",
    "    data[i] = 10 - i\n",
    "\n",
    "for b in data:\n",
    "    print(hex(b))"
   ]
  },
  {
   "cell_type": "markdown",
   "metadata": {},
   "source": [
    "Note: We've used two methods to iterate over the byte arrays and employed the `hex()` function to print the elements as hexadecimal values.\n",
    "\n",
    "Now, we'll show you how to write a byte array to a binary file. We want to create a one-to-one copy of the physical memory content, byte by byte, rather than saving a readable representation."
   ]
  },
  {
   "cell_type": "code",
   "execution_count": 13,
   "metadata": {},
   "outputs": [],
   "source": [
    "# Example code for writing a byte array to a binary file\n",
    "from os import strerror\n",
    "\n",
    "try:\n",
    "    data = bytearray(10)\n",
    "    for i in range(len(data)):\n",
    "        data[i] = 10 - i\n",
    "\n",
    "    with open('binaryfile.bin', 'wb') as bf:\n",
    "        bf.write(data)\n",
    "except IOError as e:\n",
    "    print(\"I/O error occurred:\", strerror(e.errno))"
   ]
  },
  {
   "cell_type": "markdown",
   "metadata": {},
   "source": [
    "### Writing a Byte Array to a Binary File\n",
    "\n",
    "Let's look at how to write a byte array to a binary file with the following code:"
   ]
  },
  {
   "cell_type": "code",
   "execution_count": 14,
   "metadata": {},
   "outputs": [],
   "source": [
    "from os import strerror\n",
    "\n",
    "try:\n",
    "    # Initialize bytearray with values starting from 10\n",
    "    data = bytearray(10)\n",
    "    for i in range(len(data)):\n",
    "        data[i] = 10 - i\n",
    "\n",
    "    # Create the binary file and write the byte array to it\n",
    "    with open('binaryfile.bin', 'wb') as bf:\n",
    "        bf.write(data)\n",
    "except IOError as e:\n",
    "    print(\"I/O error occurred:\", strerror(e.errno))"
   ]
  },
  {
   "cell_type": "markdown",
   "metadata": {},
   "source": [
    "### Analysis:\n",
    "- **Initialization:** We initialize a `bytearray` with subsequent values starting from 10. If you want the file's contents to be more readable, replace `10` with something like `ord('a')`. This will produce bytes with values corresponding to the alphabetical part of the ASCII code. However, the file remains binary since it's created with the `wb` flag.\n",
    "- **File Creation:** We create the file using the `open()` function with the `wb` (write binary) mode.\n",
    "- **Writing Data:** The `write()` method takes the `bytearray` and writes it to the file as a whole.\n",
    "- **Closing the Stream:** The stream is closed in a routine way.\n",
    "- **Return Value:** The `write()` method returns the number of successfully written bytes. If this differs from the length of the `bytearray`, it indicates a write error.\n",
    "\n",
    "Run the code and analyze the contents of the newly created file. You'll use this file in the next step.\n",
    "\n",
    "### Reading Bytes from a Stream\n",
    "\n",
    "To read from a binary file, use the `readinto()` method. This method fills a pre-existing byte array with values from the binary file, rather than creating a new byte array.\n",
    "\n",
    "**Note:**\n",
    "- The method returns the number of successfully read bytes.\n",
    "- It tries to fill the entire available space in its argument. If there is more data in the file than space in the argument, the read operation stops before the file's end. If the file has less data than the space, the result indicates that the byte array is only partially filled. The unused part of the array remains unchanged.\n",
    "\n",
    "Here's the complete code:"
   ]
  },
  {
   "cell_type": "code",
   "execution_count": 15,
   "metadata": {},
   "outputs": [
    {
     "name": "stdout",
     "output_type": "stream",
     "text": [
      "0xa 0x9 0x8 0x7 0x6 0x5 0x4 0x3 0x2 0x1 "
     ]
    }
   ],
   "source": [
    "from os import strerror\n",
    "\n",
    "data = bytearray(10)\n",
    "\n",
    "try:\n",
    "    # Open the file in read binary mode\n",
    "    bf = open('binaryfile.bin', 'rb')\n",
    "    bf.readinto(data)\n",
    "    bf.close()\n",
    "\n",
    "    # Print the contents of the byte array\n",
    "    for b in data:\n",
    "        print(hex(b), end=' ')\n",
    "except IOError as e:\n",
    "    print(\"I/O error occurred:\", strerror(e.errno))"
   ]
  },
  {
   "cell_type": "markdown",
   "metadata": {},
   "source": [
    "### Analysis:\n",
    "- **Opening the File:** We open the file created in the previous step using `rb` mode.\n",
    "- **Reading Data:** We read the file's contents into the `bytearray` named `data`, which is 10 bytes in size.\n",
    "- **Printing Data:** Finally, we print the contents of the `bytearray`. Check if the contents match your expectations.\n",
    "\n",
    "Run the code to verify if it works as intended."
   ]
  },
  {
   "cell_type": "markdown",
   "metadata": {},
   "source": [
    "### How to Read Bytes from a Stream\n",
    "\n",
    "Another way to read the contents of a binary file is by using the `read()` method.\n",
    "\n",
    "When invoked without arguments, it attempts to read the entire contents of the file into memory, storing them in a newly created object of the `bytes` class.\n",
    "\n",
    "This class is similar to `bytearray`, with one significant difference: it is immutable.\n",
    "\n",
    "Fortunately, you can easily create a `bytearray` from a `bytes` object by using its initial value directly, as shown below:"
   ]
  },
  {
   "cell_type": "code",
   "execution_count": 16,
   "metadata": {},
   "outputs": [
    {
     "name": "stdout",
     "output_type": "stream",
     "text": [
      "I/O error occurred: No such file or directory\n"
     ]
    }
   ],
   "source": [
    "from os import strerror\n",
    "\n",
    "try:\n",
    "    bf = open('file.bin', 'rb')\n",
    "    data = bytearray(bf.read())\n",
    "    bf.close()\n",
    "\n",
    "    for b in data:\n",
    "        print(hex(b), end=' ')\n",
    "\n",
    "except IOError as e:\n",
    "    print(\"I/O error occurred:\", strerror(e.errno))"
   ]
  },
  {
   "cell_type": "markdown",
   "metadata": {},
   "source": [
    "Be careful—don't use this method if you're not sure the file's contents will fit into the available memory."
   ]
  },
  {
   "cell_type": "markdown",
   "metadata": {},
   "source": [
    "### How to Read Bytes from a Stream: Continued\n",
    "\n",
    "If the `read()` method is invoked with an argument, it specifies the maximum number of bytes to be read.\n",
    "\n",
    "The method attempts to read the specified number of bytes from the file, and the length of the returned object indicates the number of bytes actually read.\n",
    "\n",
    "You can use the method as shown here:"
   ]
  },
  {
   "cell_type": "code",
   "execution_count": 17,
   "metadata": {},
   "outputs": [
    {
     "name": "stdout",
     "output_type": "stream",
     "text": [
      "I/O error occurred: No such file or directory\n"
     ]
    }
   ],
   "source": [
    "try:\n",
    "    bf = open('file.bin', 'rb')\n",
    "    data = bytearray(bf.read(5))\n",
    "    bf.close()\n",
    "\n",
    "    for b in data:\n",
    "        print(hex(b), end=' ')\n",
    "\n",
    "except IOError as e:\n",
    "    print(\"I/O error occurred:\", strerror(e.errno))"
   ]
  },
  {
   "cell_type": "markdown",
   "metadata": {},
   "source": [
    "**Note:** The first five bytes of the file have been read by the code; the next five are still waiting to be processed."
   ]
  },
  {
   "cell_type": "code",
   "execution_count": 18,
   "metadata": {},
   "outputs": [],
   "source": [
    "from os import strerror\n",
    "\n",
    "data = bytearray(10)\n",
    "\n",
    "for i in range(len(data)):\n",
    "    data[i] = 10 + i\n",
    "\n",
    "try:\n",
    "    bf = open('file.bin', 'wb')\n",
    "    bf.write(data)\n",
    "    bf.close()\n",
    "except IOError as e:\n",
    "    print(\"I/O error occurred:\", strerror(e.errno))\n",
    "\n",
    "# Your code that reads bytes from the stream should go here.\n"
   ]
  },
  {
   "cell_type": "markdown",
   "metadata": {},
   "source": [
    "### Copying Files - A Simple and Functional Tool\n",
    "\n",
    "Now you'll combine all this new knowledge, add some new elements, and use it to write a real code that can actually copy a file's contents.\n",
    "\n",
    "The goal isn't to replace commands like `copy` (MS Windows) or `cp` (Unix/Linux), but to see one way to create a working tool, even if it's not widely used.\n",
    "\n",
    "Look at the code below and let's analyze it:"
   ]
  },
  {
   "cell_type": "code",
   "execution_count": 19,
   "metadata": {},
   "outputs": [
    {
     "name": "stdin",
     "output_type": "stream",
     "text": [
      "Kaynak dosya adını girin:  text.txt\n",
      "Hedef dosya adını girin:  aaa.txt\n"
     ]
    },
    {
     "name": "stdout",
     "output_type": "stream",
     "text": [
      "134 bayt başarıyla yazıldı\n"
     ]
    }
   ],
   "source": [
    "from os import strerror  # 1\n",
    "\n",
    "srcname = input(\"Kaynak dosya adını girin: \")  # 3\n",
    "try:  # 4\n",
    "    src = open(srcname, 'rb')  # 5\n",
    "except IOError as e:  # 6\n",
    "    print(\"Kaynak dosya açılamıyor: \", strerror(e.errno))  # 7\n",
    "    exit(e.errno)  # 8\n",
    "\n",
    "dstname = input(\"Hedef dosya adını girin: \")  # 10\n",
    "try:  # 11\n",
    "    dst = open(dstname, 'wb')  # 12\n",
    "except Exception as e:  # 13\n",
    "    print(\"Hedef dosya oluşturulamıyor: \", strerror(e.errno))  # 14\n",
    "    src.close()  # 15\n",
    "    exit(e.errno)  # 16\n",
    "\n",
    "buffer = bytearray(65536)  # 18\n",
    "total = 0  # 19\n",
    "try:  # 20\n",
    "    readin = src.readinto(buffer)  # 21\n",
    "    while readin > 0:  # 22\n",
    "        written = dst.write(buffer[:readin])  # 23\n",
    "        total += written  # 24\n",
    "        readin = src.readinto(buffer)  # 25\n",
    "except IOError as e:  # 26\n",
    "    print(\"Hedef dosya oluşturulamıyor: \", strerror(e.errno))  # 27\n",
    "    exit(e.errno)  # 28\n",
    "\n",
    "print(total, 'bayt başarıyla yazıldı')  # 30\n",
    "src.close()  # 31\n",
    "dst.close()  # 32\n"
   ]
  },
  {
   "cell_type": "markdown",
   "metadata": {},
   "source": [
    "### Code Analysis:\n",
    "\n",
    "- **Lines 3-8:** Ask the user for the name of the file to copy and try to open it for reading. If the open fails, terminate the program execution using `exit()`, passing the completion code to the OS. Any code other than 0 indicates an issue. Use the `errno` value to specify the nature of the problem.\n",
    "\n",
    "- **Lines 10-16:** Repeat a similar process for the output file.\n",
    "\n",
    "- **Line 18:** Allocate memory for transferring data from the source file to the target file, referred to as a buffer. Here, the buffer size is 64 kilobytes. A larger buffer typically means faster copying due to fewer I/O operations, but there's a limit where further increases yield no improvements.\n",
    "\n",
    "- **Line 19:** Initialize a counter to track the number of bytes copied.\n",
    "\n",
    "- **Line 21:** Fill the buffer for the first time.\n",
    "\n",
    "- **Line 22:** As long as you read a non-zero number of bytes, continue the loop.\n",
    "\n",
    "- **Line 23:** Write the buffer's contents to the output file. A slice is used to limit the number of bytes being written since `write()` prefers to write the entire buffer.\n",
    "\n",
    "- **Line 24:** Update the counter with the number of bytes written.\n",
    "\n",
    "- **Line 25:** Read the next chunk of the file.\n",
    "\n",
    "- **Lines 30-32:** Perform final cleanup by closing both the source and destination files after the copying is done.\n",
    "\n",
    "This code demonstrates a practical way to copy files using Python, combining knowledge of file handling, exception handling, and memory management."
   ]
  },
  {
   "cell_type": "markdown",
   "metadata": {},
   "source": [
    "### Summary\n",
    "\n",
    "1. **Reading a File's Contents:**\n",
    "   - `read(number)`: Reads the specified number of characters/bytes from the file and returns them as a string. It can read the entire file at once if no number is specified.\n",
    "   - `readline()`: Reads a single line from the text file.\n",
    "   - `readlines(number)`: Reads the specified number of lines from the text file. It can read all lines at once if no number is specified.\n",
    "   - `readinto(bytearray)`: Reads bytes from the file and fills the `bytearray` with them.\n",
    "\n",
    "2. **Writing New Content to a File:**\n",
    "   - `write(string)`: Writes a string to a text file.\n",
    "   - `write(bytearray)`: Writes all the bytes from the `bytearray` to a file.\n",
    "\n",
    "3. **Using the `open()` Method:**\n",
    "   - The `open()` method returns an iterable object that can be used to iterate through all the lines of a file inside a `for` loop. For example:\n"
   ]
  },
  {
   "cell_type": "code",
   "execution_count": null,
   "metadata": {},
   "outputs": [],
   "source": [
    "for line in open(\"file\", \"rt\"):\n",
    "    print(line, end='')"
   ]
  },
  {
   "cell_type": "markdown",
   "metadata": {},
   "source": [
    "This code copies the file's contents to the console, line by line. Note: the stream closes itself automatically when it reaches the end of the file."
   ]
  }
 ],
 "metadata": {
  "kernelspec": {
   "display_name": "Python 3 (ipykernel)",
   "language": "python",
   "name": "python3"
  },
  "language_info": {
   "codemirror_mode": {
    "name": "ipython",
    "version": 3
   },
   "file_extension": ".py",
   "mimetype": "text/x-python",
   "name": "python",
   "nbconvert_exporter": "python",
   "pygments_lexer": "ipython3",
   "version": "3.11.7"
  }
 },
 "nbformat": 4,
 "nbformat_minor": 4
}
