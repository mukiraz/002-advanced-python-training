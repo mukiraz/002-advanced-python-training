{
 "cells": [
  {
   "cell_type": "markdown",
   "id": "e55f51d6-5504-4376-aad4-4ba6916713bd",
   "metadata": {},
   "source": [
    "# Errors\n",
    "\n",
    "**Errors, Failures, and Other Issues**\n",
    "\n",
    "Anything that can go wrong will go wrong.\n",
    "\n",
    "This is Murphy's Law, and it applies everywhere and always. Your code's execution can go wrong too. If it can, it will.\n",
    "\n",
    "Look at the code in the editor. There are at least two possible ways it can \"go wrong\". Can you identify them?\n",
    "\n",
    "1. As a user can enter an arbitrary string of characters, there is no guarantee that the string can be converted into a float value - this is the first vulnerability of the code.\n",
    "2. The second issue is that the `sqrt()` function will fail if it receives a negative argument.\n",
    "\n",
    "You might encounter one of the following error messages:"
   ]
  },
  {
   "cell_type": "code",
   "execution_count": 1,
   "id": "e57bd827-3593-4006-973b-e7603df25e37",
   "metadata": {},
   "outputs": [
    {
     "name": "stdin",
     "output_type": "stream",
     "text": [
      "Enter x:  xxx\n"
     ]
    },
    {
     "ename": "ValueError",
     "evalue": "could not convert string to float: 'xxx'",
     "output_type": "error",
     "traceback": [
      "\u001b[1;31m---------------------------------------------------------------------------\u001b[0m",
      "\u001b[1;31mValueError\u001b[0m                                Traceback (most recent call last)",
      "Cell \u001b[1;32mIn[1], line 3\u001b[0m\n\u001b[0;32m      1\u001b[0m \u001b[38;5;28;01mimport\u001b[39;00m \u001b[38;5;21;01mmath\u001b[39;00m\n\u001b[1;32m----> 3\u001b[0m x \u001b[38;5;241m=\u001b[39m \u001b[38;5;28mfloat\u001b[39m(\u001b[38;5;28minput\u001b[39m(\u001b[38;5;124m\"\u001b[39m\u001b[38;5;124mEnter x: \u001b[39m\u001b[38;5;124m\"\u001b[39m))\n\u001b[0;32m      4\u001b[0m y \u001b[38;5;241m=\u001b[39m math\u001b[38;5;241m.\u001b[39msqrt(x)\n\u001b[0;32m      6\u001b[0m \u001b[38;5;28mprint\u001b[39m(\u001b[38;5;124m\"\u001b[39m\u001b[38;5;124mThe square root of\u001b[39m\u001b[38;5;124m\"\u001b[39m, x, \u001b[38;5;124m\"\u001b[39m\u001b[38;5;124mequals to\u001b[39m\u001b[38;5;124m\"\u001b[39m, y)\n",
      "\u001b[1;31mValueError\u001b[0m: could not convert string to float: 'xxx'"
     ]
    }
   ],
   "source": [
    "import math\n",
    "\n",
    "x = float(input(\"Enter x: \"))\n",
    "y = math.sqrt(x)\n",
    "\n",
    "print(\"The square root of\", x, \"equals to\", y)\n"
   ]
  },
  {
   "cell_type": "markdown",
   "id": "96e900c3-3fd7-43c9-a3fe-6010b2c02f09",
   "metadata": {},
   "source": [
    "Can you protect yourself from such surprises? Of course you can. Moreover, you have to do it in order to be considered a good programmer."
   ]
  },
  {
   "cell_type": "markdown",
   "id": "5ec5c38e-2ad4-4a72-9a27-6db0a72dd879",
   "metadata": {},
   "source": [
    "## **Exceptions**\n",
    "\r\n",
    "Each time your code tries to do something wrong, foolish, irresponsible, crazy, or unenforceable, Python does two things:\r\n",
    "\r\n",
    "1. It stops your program.\r\n",
    "2. It creates a special kind of data called an exception.\r\n",
    "\r\n",
    "Both of these activities are referred to as raising an exception. We can say that Python always raises an exception (or that an exception has been raised) when it has no idea how to proceed with your code.\r\n",
    "\r\n",
    "What happens next?\r\n",
    "\r\n",
    "1. The raised exception expects somebody or something to notice it and take care of it.\r\n",
    "2. If nothing happens to handle the raised exception, the program will be forcibly terminated, and you will see an error message sent to the console by Python.\r\n",
    "3. If the exception is properly handled, the suspended program can be resumed and its execution can continue.\r\n",
    "\r\n",
    "Python provides effective tools that allow you to observe exceptions, identify them, and handle them efficiently. This is possible because all potential exceptions have unique names, so you can categorize and react to them appropriately.\r\n",
    "\r\n",
    "**The Concept of Exceptions**\r\n",
    "\r\n",
    "You already know some exception names. Take a look at the following diagnostic message:\r\n",
    "\r\n",
    "```\r\n",
    "ValueError: math domain error\r\n",
    "```\r\n",
    "Output\r\n",
    "\r\n",
    "The highlighted word above is the exception name. Let's get familiar wi\n",
    "\n",
    "Look at the code in the editor. Run the (obviously incorrect) program.th some other exceptions."
   ]
  },
  {
   "cell_type": "code",
   "execution_count": 2,
   "id": "ea864334-fc3b-4ecd-8f34-f595ee7bac93",
   "metadata": {},
   "outputs": [
    {
     "ename": "ZeroDivisionError",
     "evalue": "division by zero",
     "output_type": "error",
     "traceback": [
      "\u001b[1;31m---------------------------------------------------------------------------\u001b[0m",
      "\u001b[1;31mZeroDivisionError\u001b[0m                         Traceback (most recent call last)",
      "Cell \u001b[1;32mIn[2], line 2\u001b[0m\n\u001b[0;32m      1\u001b[0m value \u001b[38;5;241m=\u001b[39m \u001b[38;5;241m1\u001b[39m\n\u001b[1;32m----> 2\u001b[0m value \u001b[38;5;241m/\u001b[39m\u001b[38;5;241m=\u001b[39m \u001b[38;5;241m0\u001b[39m\n",
      "\u001b[1;31mZeroDivisionError\u001b[0m: division by zero"
     ]
    }
   ],
   "source": [
    "value = 1\n",
    "value /= 0"
   ]
  },
  {
   "cell_type": "code",
   "execution_count": 3,
   "id": "421d56ca-6252-41e1-ade4-b92b1292cd00",
   "metadata": {},
   "outputs": [
    {
     "ename": "IndexError",
     "evalue": "list index out of range",
     "output_type": "error",
     "traceback": [
      "\u001b[1;31m---------------------------------------------------------------------------\u001b[0m",
      "\u001b[1;31mIndexError\u001b[0m                                Traceback (most recent call last)",
      "Cell \u001b[1;32mIn[3], line 2\u001b[0m\n\u001b[0;32m      1\u001b[0m my_list \u001b[38;5;241m=\u001b[39m []\n\u001b[1;32m----> 2\u001b[0m x \u001b[38;5;241m=\u001b[39m my_list[\u001b[38;5;241m0\u001b[39m]\n",
      "\u001b[1;31mIndexError\u001b[0m: list index out of range"
     ]
    }
   ],
   "source": [
    "my_list = []\n",
    "x = my_list[0]"
   ]
  },
  {
   "cell_type": "markdown",
   "id": "8610e739-a4c5-4496-90c5-9daea48371a2",
   "metadata": {},
   "source": [
    "### **How do you handle exceptions?**\r\n",
    "\r\n",
    "The word `try` is key to the solution. What's more, it's a keyword too.\r\n",
    "\r\n",
    "The recipe for success is as follows:\r\n",
    "\r\n",
    "1. First, you have to try to do something.\r\n",
    "2. Next, you have to check whether everything went well.\r\n",
    "\r\n",
    "But wouldn't it be better to check all circumstances first and then do something only if it's safe?\r\n",
    "\r\n",
    "Just like the example in the editor.\r\n",
    "\r\n",
    "Admittedly, this way may seem the most natural and understandable, but in reality, this method doesn't make programming any easier. All these checks can ma**ke your code bloated a**nd illegible.\r\n",
    "\r\n",
    "Python prefers a completely different approach."
   ]
  },
  {
   "cell_type": "code",
   "execution_count": 4,
   "id": "74b9b1b2-a698-4b0e-8fe8-c17e7de103dd",
   "metadata": {},
   "outputs": [
    {
     "name": "stdin",
     "output_type": "stream",
     "text": [
      "Enter the first number:  2\n",
      "Enter the second number:  0\n"
     ]
    },
    {
     "name": "stdout",
     "output_type": "stream",
     "text": [
      "This operation cannot be done.\n",
      "THE END.\n"
     ]
    }
   ],
   "source": [
    "first_number = int(input(\"Enter the first number: \"))\n",
    "second_number = int(input(\"Enter the second number: \"))\n",
    "\n",
    "if second_number != 0:\n",
    "    print(first_number / second_number)\n",
    "else:\n",
    "    print(\"This operation cannot be done.\")\n",
    "\n",
    "print(\"THE END.\")"
   ]
  },
  {
   "cell_type": "markdown",
   "id": "28e37857-43b0-440c-8831-763edcf36306",
   "metadata": {},
   "source": [
    "Look at the code in the editor. This is the preferred Python approach.\r\n",
    "\r\n",
    "**Note:**\r\n",
    "\r\n",
    "- The `try` keyword begins a block of code which may or may not perform correctly.\r\n",
    "- Next, Python attempts to perform the risky action; if it fails, an exception is raised, and Python starts to look for a solution.\r\n",
    "- The `except` keyword begins a block of code that will be executed if anything inside the `try` block goes wrong. If an exception is raised inside the previous `try` block, it will be caught here, and the code after the `except` keyword should provide an adequate reaction to the raised exception.\r\n",
    "- Returning to the previous nesting level ends the `try-except` section.\r\n",
    "\r\n",
    "Run the code and test its behavior.\r\n",
    "\r\n",
    "**Let's summarize this:**\r\n",
    "\r\n",
    "```python\r\n",
    "try:\r\n",
    "    # Code that might cause an exception\r\n",
    "    :\r\n",
    "    :\r\n",
    "except:\r\n",
    "    # Code that handles the exception\r\n",
    "    :\r\n",
    "    :\r\n",
    "```\r\n",
    "\r\n",
    "- In the first step, Python tries to perform all instructions placed between the `try:` and `except:` statements.\r\n",
    "- If nothing goes wrong during execution and all instructions are performed successfully, the execution jumps to the point after the last line of the `except:` block, and the block's execution is considered complete.\r\n",
    "- If anything goes wrong inside the `try:` block, the execution immediately jumps out of the block and into the first instruction located after the `except:` keyword. This means that some of the instructions from the `try:` block may be silently omitted."
   ]
  },
  {
   "cell_type": "code",
   "execution_count": 5,
   "id": "b43eef59-c1e8-493d-9694-705e53fd3281",
   "metadata": {},
   "outputs": [
    {
     "name": "stdin",
     "output_type": "stream",
     "text": [
      "Enter the first number:  2\n",
      "Enter the second number:  0\n"
     ]
    },
    {
     "name": "stdout",
     "output_type": "stream",
     "text": [
      "This operation cannot be done.\n",
      "THE END.\n"
     ]
    }
   ],
   "source": [
    "first_number = int(input(\"Enter the first number: \"))\n",
    "second_number = int(input(\"Enter the second number: \"))\n",
    "\n",
    "try:\n",
    "    print(first_number / second_number)\n",
    "except:\n",
    "    print(\"This operation cannot be done.\")\n",
    "\n",
    "print(\"THE END.\")"
   ]
  },
  {
   "cell_type": "markdown",
   "id": "21e0821d-38a2-4b69-9781-53fc5607ad90",
   "metadata": {},
   "source": [
    "Look at the code in the editor. It will help you understand this mechanism."
   ]
  },
  {
   "cell_type": "code",
   "execution_count": 6,
   "id": "3d2d1004-2528-4fe7-ab2c-82c0dbd9832e",
   "metadata": {},
   "outputs": [
    {
     "name": "stdout",
     "output_type": "stream",
     "text": [
      "1\n",
      "Oh dear, something went wrong...\n",
      "3\n"
     ]
    }
   ],
   "source": [
    "try:\n",
    "    print(\"1\")\n",
    "    x = 1 / 0\n",
    "    print(\"2\")\n",
    "except:\n",
    "    print(\"Oh dear, something went wrong...\")\n",
    "\n",
    "print(\"3\")"
   ]
  },
  {
   "cell_type": "markdown",
   "id": "05e8c9ea-7f3d-450b-9e06-ac10137f6c7b",
   "metadata": {},
   "source": [
    "This approach has one important disadvantage: if more than one type of exception could trigger the `except:` branch, you may have trouble figuring out what actually happened.\r\n",
    "\r\n",
    "For example, consider the code in the editor. Run it and see what happens.\r\n",
    "\r\n",
    "The message \"Oh dear, something went wrong...\" appearing in the console says nothing about the cause, while there are two possible reasons for the exception:\r\n",
    "\r\n",
    "- Non-integer data entered by the user\r\n",
    "- An integer value equal to 0 assigned to the `x` variable\r\n",
    "\r\n",
    "Technically, there are two ways to solve the issue:\r\n",
    "\r\n",
    "1. Build two consecutive `try-except` blocks, one for each possible exception cause (easy, but it will cause unfavorable code growth)\r\n",
    "2. Use a more advanced variant of the instruction.\r\n",
    "\r\n",
    "It looks like this:\r\n",
    "\r\n",
    "```python\r\n",
    "try:\r\n",
    "    # Code that might cause exceptions\r\n",
    "    :\r\n",
    "except exc1:\r\n",
    "    # Handle exc1 exception\r\n",
    "    :\r\n",
    "except exc2:\r\n",
    "    # Handle exc2 exception\r\n",
    "    :\r\n",
    "except:\r\n",
    "    # Handle any other exceptions\r\n",
    "    :\r\n",
    "```\r\n",
    "\r\n",
    "**How it works:**\r\n",
    "\r\n",
    "- If the `try` block raises the `exc1` exception, it will be handled by the `except exc1:` block.\r\n",
    "- Similarly, if the `try` block raises the `exc2` exception, it will be handled by the `except exc2:` block.\r\n",
    "- If the `try` block raises any other exception, it will be handled by the unnamed `except:` block.\r\n",
    "\r\n",
    "Let's move on to the next part of the course and see it in action."
   ]
  },
  {
   "cell_type": "code",
   "execution_count": 7,
   "id": "04832db7-599c-46c4-afe6-c9521a0487f5",
   "metadata": {},
   "outputs": [
    {
     "name": "stdin",
     "output_type": "stream",
     "text": [
      "Enter a number:  0\n"
     ]
    },
    {
     "name": "stdout",
     "output_type": "stream",
     "text": [
      "Oh dear, something went wrong...\n",
      "THE END.\n"
     ]
    }
   ],
   "source": [
    "try:\n",
    "    x = int(input(\"Enter a number: \"))\n",
    "    y = 1 / x\n",
    "except:\n",
    "    print(\"Oh dear, something went wrong...\")\n",
    "\n",
    "print(\"THE END.\")"
   ]
  },
  {
   "cell_type": "code",
   "execution_count": 8,
   "id": "d7544ddf-7daa-463a-8fdc-7fc60e682b98",
   "metadata": {},
   "outputs": [
    {
     "name": "stdin",
     "output_type": "stream",
     "text": [
      "Enter a number:  f\n"
     ]
    },
    {
     "name": "stdout",
     "output_type": "stream",
     "text": [
      "Oh dear, something went wrong...\n",
      "THE END.\n"
     ]
    }
   ],
   "source": [
    "try:\n",
    "    x = int(input(\"Enter a number: \"))\n",
    "    y = 1 / x\n",
    "except:\n",
    "    print(\"Oh dear, something went wrong...\")\n",
    "\n",
    "print(\"THE END.\")"
   ]
  },
  {
   "cell_type": "markdown",
   "id": "2c36d407-f3bd-42b3-bfc7-643c09341982",
   "metadata": {},
   "source": [
    "Look at the code in the editor. Our solution is there.\n",
    "\n",
    "The code, when run, produces one of the following four variants of output:\n",
    "\n",
    "If you enter a valid, non-zero integer value (e.g., 5), it says:\n",
    "\n",
    "```\n",
    "0.2\n",
    "THE END.\n",
    "```\n",
    "\n",
    "If you enter 0, it says:\n",
    "\n",
    "```\n",
    "You cannot divide by zero, sorry.\n",
    "THE END.\n",
    "```\n",
    "\n",
    "If you enter any non-integer string, you see:\n",
    "\n",
    "```\n",
    "You must enter an integer value.\n",
    "THE END.\n",
    "```\n",
    "\n",
    "If you press Ctrl-C while the program is waiting for the user's input (which causes an exception named KeyboardInterrupt), the program says:\n",
    "\n",
    "```\n",
    "Oh dear, something went wrong...\n",
    "THE END.\n",
    "```\n",
    "\n",
    "Here is the example code:"
   ]
  },
  {
   "cell_type": "code",
   "execution_count": 9,
   "id": "a7cfe5f0-ca51-436a-84c1-801a818541cb",
   "metadata": {},
   "outputs": [
    {
     "name": "stdin",
     "output_type": "stream",
     "text": [
      "Enter a number:  0\n"
     ]
    },
    {
     "name": "stdout",
     "output_type": "stream",
     "text": [
      "You cannot divide by zero, sorry.\n",
      "THE END.\n"
     ]
    }
   ],
   "source": [
    "try:\n",
    "    x = int(input(\"Enter a number: \"))\n",
    "    y = 1 / x\n",
    "    print(y)\n",
    "except ZeroDivisionError:\n",
    "    print(\"You cannot divide by zero, sorry.\")\n",
    "except ValueError:\n",
    "    print(\"You must enter an integer value.\")\n",
    "except:\n",
    "    print(\"Oh dear, something went wrong...\")\n",
    "\n",
    "print(\"THE END.\")"
   ]
  },
  {
   "cell_type": "code",
   "execution_count": 10,
   "id": "ee537d63-ef17-4eb3-a299-5eb7b67f8162",
   "metadata": {},
   "outputs": [
    {
     "name": "stdin",
     "output_type": "stream",
     "text": [
      "Enter a number:  dd\n"
     ]
    },
    {
     "name": "stdout",
     "output_type": "stream",
     "text": [
      "You must enter an integer value.\n",
      "THE END.\n"
     ]
    }
   ],
   "source": [
    "try:\n",
    "    x = int(input(\"Enter a number: \"))\n",
    "    y = 1 / x\n",
    "    print(y)\n",
    "except ZeroDivisionError:\n",
    "    print(\"You cannot divide by zero, sorry.\")\n",
    "except ValueError:\n",
    "    print(\"You must enter an integer value.\")\n",
    "except:\n",
    "    print(\"Oh dear, something went wrong...\")\n",
    "\n",
    "print(\"THE END.\")"
   ]
  },
  {
   "cell_type": "markdown",
   "id": "a8f8fbb9-227c-40f6-9f8b-bf54a10178a2",
   "metadata": {},
   "source": [
    "Don't forget that:\n",
    "\n",
    "- The `except` branches are searched in the order in which they appear in the code.\n",
    "- You must not use more than one `except` branch with the same exception name.\n",
    "- The number of different `except` branches is arbitrary; the only condition is that if you use `try`, you must include at least one `except` (named or not) after it.\n",
    "- The `except` keyword must not be used without a preceding `try`.\n",
    "- If any of the `except` branches is executed, no other branches will be visited.\n",
    "- If none of the specified `except` branches matches the raised exception, the exception remains unhandled (we'll discuss this soon).\n",
    "- If an unnamed `except` branch exists (one without an exception name), it has to be specified last.\n",
    "\n",
    "Example structure:\n",
    "\n",
    "```python\n",
    "try:\n",
    "    # Code that might cause exceptions\n",
    "    :\n",
    "except exc1:\n",
    "    # Handle exc1 exception\n",
    "    :\n",
    "except exc2:\n",
    "    # Handle exc2 exception\n",
    "    :\n",
    "except:\n",
    "    # Handle any other exceptions\n",
    "    :\n",
    "```\n",
    "\n",
    "Let's continue with the experiments.\n",
    "\n",
    "Look at the code in the editor. We've modified the previous program - we've removed the `ZeroDivisionError` branch.\n",
    "\n",
    "What happens now if the user enters 0 as input?\n",
    "\n",
    "Since there are no dedicated branches for division by zero, the raised exception falls into the general (unnamed) branch. This means that in this case, the program will say:\n",
    "\n",
    "```\n",
    "Oh dear, something went wrong...\n",
    "THE END.\n",
    "```\n",
    "Output\n",
    "\n",
    "Try it yourself. Run the program.\n",
    "\n",
    "Here is the modified code:"
   ]
  },
  {
   "cell_type": "code",
   "execution_count": 11,
   "id": "7be787e6-ac8c-40a4-8c91-94f3c1360170",
   "metadata": {},
   "outputs": [
    {
     "name": "stdin",
     "output_type": "stream",
     "text": [
      "Enter a number:  0\n"
     ]
    },
    {
     "name": "stdout",
     "output_type": "stream",
     "text": [
      "Oh dear, something went wrong...\n",
      "THE END.\n"
     ]
    }
   ],
   "source": [
    "try:\n",
    "    x = int(input(\"Enter a number: \"))\n",
    "    y = 1 / x\n",
    "    print(y)\n",
    "except ValueError:\n",
    "    print(\"You must enter an integer value.\")\n",
    "except:\n",
    "    print(\"Oh dear, something went wrong...\")\n",
    "\n",
    "print(\"THE END.\")"
   ]
  },
  {
   "cell_type": "markdown",
   "id": "31b525ab-cd78-49c1-9f45-9883887883cd",
   "metadata": {},
   "source": [
    "Let's spoil the code once again.\n",
    "\n",
    "Look at the program in the editor. This time, we've removed the unnamed branch.\n",
    "\n",
    "If the user enters 0 again:\n",
    "\n",
    "- The raised exception won't be handled by `ValueError` - it has nothing to do with it.\n",
    "- Since there's no other branch, you should see this message:\n",
    "\n",
    "```\n",
    "Traceback (most recent call last):\n",
    "File \"exc.py\", line 3, in \n",
    "y = 1 / x\n",
    "ZeroDivisionError: division by zero\n",
    "```\n",
    "Output\n",
    "\n",
    "You've learned a lot about exception handling in Python. In the next section, we will focus on Python's built-in exceptions and their hierarchies.\n",
    "\n",
    "Here is the final version of the code:"
   ]
  },
  {
   "cell_type": "code",
   "execution_count": 12,
   "id": "d59dbfbd-f552-4c2c-8ae3-4d6f5601c2d1",
   "metadata": {},
   "outputs": [
    {
     "name": "stdin",
     "output_type": "stream",
     "text": [
      "Enter a number:  0\n"
     ]
    },
    {
     "ename": "ZeroDivisionError",
     "evalue": "division by zero",
     "output_type": "error",
     "traceback": [
      "\u001b[1;31m---------------------------------------------------------------------------\u001b[0m",
      "\u001b[1;31mZeroDivisionError\u001b[0m                         Traceback (most recent call last)",
      "Cell \u001b[1;32mIn[12], line 3\u001b[0m\n\u001b[0;32m      1\u001b[0m \u001b[38;5;28;01mtry\u001b[39;00m:\n\u001b[0;32m      2\u001b[0m     x \u001b[38;5;241m=\u001b[39m \u001b[38;5;28mint\u001b[39m(\u001b[38;5;28minput\u001b[39m(\u001b[38;5;124m\"\u001b[39m\u001b[38;5;124mEnter a number: \u001b[39m\u001b[38;5;124m\"\u001b[39m))\n\u001b[1;32m----> 3\u001b[0m     y \u001b[38;5;241m=\u001b[39m \u001b[38;5;241m1\u001b[39m \u001b[38;5;241m/\u001b[39m x\n\u001b[0;32m      4\u001b[0m     \u001b[38;5;28mprint\u001b[39m(y)\n\u001b[0;32m      5\u001b[0m \u001b[38;5;28;01mexcept\u001b[39;00m \u001b[38;5;167;01mValueError\u001b[39;00m:\n",
      "\u001b[1;31mZeroDivisionError\u001b[0m: division by zero"
     ]
    }
   ],
   "source": [
    "try:\n",
    "    x = int(input(\"Enter a number: \"))\n",
    "    y = 1 / x\n",
    "    print(y)\n",
    "except ValueError:\n",
    "    print(\"You must enter an integer value.\")\n",
    "\n",
    "print(\"THE END.\")"
   ]
  },
  {
   "cell_type": "markdown",
   "id": "74f9f862-1c4a-4633-b9b0-dc75a975ef6f",
   "metadata": {},
   "source": [
    "### Summary\r\n",
    "\r\n",
    "1. **Exception Handling Basics:**\r\n",
    "   - An exception is an event during program execution caused by an abnormal situation. Exceptions should be handled to avoid the termination of the program. The part of your code that is suspected of being the source of the exception should be placed inside the `try` block.\r\n",
    "   - When an exception occurs, the execution of the code does not terminate but instead jumps into the `except` block. This is where the handling of the exception should take place. The general structure for such a construction looks as follows:\r\n",
    "\r\n",
    "   ```python\r\n",
    "   # The code that always runs smoothly.\r\n",
    "   :\r\n",
    "   try:\r\n",
    "       # Risky code.\r\n",
    "       :\r\n",
    "   except:\r\n",
    "       # Crisis management takes place here.\r\n",
    "       : \r\n",
    "   # Back to normal.\r\n",
    "   :\r\n",
    "   ```\r\n",
    "\r\n",
    "2. **Handling Multiple Exceptions:**\r\n",
    "   - If you need to handle more than one exception coming from the same `try` block, you can add more than one `except` block, but you must label them with different exception names, like this:\r\n",
    "\r\n",
    "   ```python\r\n",
    "   # The code that always runs smoothly.\r\n",
    "   :\r\n",
    "   try:\r\n",
    "       # Risky code.\r\n",
    "       :\r\n",
    "   except Except_1:\r\n",
    "       # Crisis management takes place here.\r\n",
    "       :\r\n",
    "   except Except_2:\r\n",
    "       # We save the world here.\r\n",
    "       :\r\n",
    "   # Back to normal.\r\n",
    "   :\r\n",
    "   ```\r\n",
    "\r\n",
    "   - At most, one of the `except` blocks is executed. None of the blocks are executed if the raised exception doesn't match any of the specified exceptions.\r\n",
    "\r\n",
    "3. **Anonymous Except Branch:**\r\n",
    "   - You cannot add more than one anonymous (unnamed) `except` block after the named ones.\r\n",
    "\r\n",
    "   ```python\r\n",
    "   # The code that always runs smoothly.\r\n",
    "   :\r\n",
    "   try:\r\n",
    "       # Risky code.\r\n",
    "       :\r\n",
    "   except Except_1:\r\n",
    "       # Crisis management takes place here.\r\n",
    "       :\r\n",
    "   except Except_2:\r\n",
    "       # We save the world here.\r\n",
    "       :\r\n",
    "   except:\r\n",
    "       # All other issues fall here.\r\n",
    "       :\r\n",
    "   # Back to normal.\r\n",
    "   :\r\n",
    "   ```"
   ]
  },
  {
   "cell_type": "code",
   "execution_count": null,
   "id": "106f72a6-e681-4ab1-adf8-0c261c967a12",
   "metadata": {},
   "outputs": [],
   "source": []
  }
 ],
 "metadata": {
  "kernelspec": {
   "display_name": "Python 3 (ipykernel)",
   "language": "python",
   "name": "python3"
  },
  "language_info": {
   "codemirror_mode": {
    "name": "ipython",
    "version": 3
   },
   "file_extension": ".py",
   "mimetype": "text/x-python",
   "name": "python",
   "nbconvert_exporter": "python",
   "pygments_lexer": "ipython3",
   "version": "3.11.7"
  }
 },
 "nbformat": 4,
 "nbformat_minor": 5
}
