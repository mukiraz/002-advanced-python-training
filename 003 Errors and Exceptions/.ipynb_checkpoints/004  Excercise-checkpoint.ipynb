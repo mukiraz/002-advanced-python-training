{
 "cells": [
  {
   "cell_type": "markdown",
   "id": "da607884-ce72-4863-8636-46a029543ced",
   "metadata": {},
   "source": [
    "## Excercise 1\n",
    "\n",
    "### Estimated Time\n",
    "15-25 minutes\n",
    "\n",
    "### Level of Difficulty\n",
    "Medium\n",
    "\n",
    "### Objectives\n",
    "- Enhance the student's ability to define functions\n",
    "- Use exceptions to ensure safe input handling\n",
    "\n",
    "### Scenario\n",
    "Your task is to create a function that inputs integer values and checks if they fall within a specified range.\n",
    "\n",
    "### Function Requirements\n",
    "- The function should accept three arguments: a prompt, a lower limit, and an upper limit.\n",
    "- If the user enters a non-integer value, the function should display the message `Error: wrong input` and prompt the user to input the value again.\n",
    "- If the user enters a number outside the specified range, the function should display the message `Error: the value is not within the permitted range (min..max)` and prompt the user to input the value again.\n",
    "- If the input value is valid, the function should return it.\n",
    "\n",
    "### Test Data\n",
    "Ensure to test your code thoroughly.\n",
    "\n",
    "### Expected Function Behavior\n",
    "Here is how the function should respond to user inputs:\n",
    "\n",
    "1. **Valid Input**:\n",
    "   - Prompt: \"Enter a number: \"\n",
    "   - Lower limit: 1\n",
    "   - Upper limit: 10\n",
    "   - User enters: 5\n",
    "   - Output: 5 (Valid input within range)\n",
    "\n",
    "2. **Invalid Input (non-integer)**:\n",
    "   - Prompt: \"Enter a number: \"\n",
    "   - Lower limit: 1\n",
    "   - Upper limit: 10\n",
    "   - User enters: \"abc\"\n",
    "   - Output: `Error: wrong input` (Prompts user to try again)\n",
    "\n",
    "3. **Invalid Input (out of range)**:\n",
    "   - Prompt: \"Enter a number: \"\n",
    "   - Lower limit: 1\n",
    "   - Upper limit: 10\n",
    "   - User enters: 15\n",
    "   - Output: `Error: the value is not within the permitted range (1..10)` (Prompts user to try again)\n",
    "  \n",
    "Example output:"
   ]
  },
  {
   "cell_type": "raw",
   "id": "beaf4627-b5e5-4b0c-9172-0ee4588a845b",
   "metadata": {},
   "source": [
    "Enter a number from -10 to 10: 100\n",
    "Error: the value is not within permitted range (-10..10)\n",
    "Enter a number from -10 to 10: asd\n",
    "Error: wrong input\n",
    "Enter number from -10 to 10: 1\n",
    "The number is: 1"
   ]
  },
  {
   "cell_type": "code",
   "execution_count": null,
   "id": "6015dee2-9d20-418a-ae73-590d6d63a527",
   "metadata": {},
   "outputs": [],
   "source": [
    "def read_int(prompt, min, max):\n",
    "    #\n",
    "    # Write your code here.\n",
    "    #\n",
    "\n",
    "\n",
    "v = read_int(\"Enter a number from -10 to 10: \", -10, 10)\n",
    "\n",
    "print(\"The number is:\", v)"
   ]
  }
 ],
 "metadata": {
  "kernelspec": {
   "display_name": "Python 3 (ipykernel)",
   "language": "python",
   "name": "python3"
  },
  "language_info": {
   "codemirror_mode": {
    "name": "ipython",
    "version": 3
   },
   "file_extension": ".py",
   "mimetype": "text/x-python",
   "name": "python",
   "nbconvert_exporter": "python",
   "pygments_lexer": "ipython3",
   "version": "3.11.7"
  }
 },
 "nbformat": 4,
 "nbformat_minor": 5
}
